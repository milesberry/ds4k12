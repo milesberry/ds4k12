{
  "cells": [
    {
      "cell_type": "markdown",
      "metadata": {
        "slideshow": {
          "slide_type": "slide"
        }
      },
      "source": [
        "# Teaching Data Science\n",
        "\n",
        "## Some preliminary coding questions\n",
        "\n",
        "Miles Berry\n",
        "\n",
        "University of Roehampton\n",
        "\n",
        "7 April 2021\n",
        "\n",
        "CTM at ATM2021\n",
        "\n",
        "[![Open In Colab](https://colab.research.google.com/assets/colab-badge.svg)]()\n",
        "\n",
        "Click in a box to edit, shift-enter to run."
      ]
    },
    {
      "cell_type": "markdown",
      "metadata": {
        "slideshow": {
          "slide_type": "slide"
        }
      },
      "source": [
        "# Foundations of data science\n",
        "\n",
        "## Introducing probability and statistics: \n",
        "## dice rolling\n",
        "\n",
        "Many of you are likely to have covered some of the ideas of probability and statistics through having pupils roll and record the scores from dice. We can take the noise and drudgery out of this by getting a computer to roll the dice for us.\n",
        "\n",
        "There are some interesting philosophical (and technical) issues here about how truly random these scores can be? What sort of evidence would convince you that these were not genuinely random numbers? How can deterministicly generated numbers look random? Are dice themselves truly random?"
      ]
    },
    {
      "cell_type": "markdown",
      "metadata": {
        "slideshow": {
          "slide_type": "slide"
        }
      },
      "source": [
        "We'll start by loading a few standard libraries"
      ]
    },
    {
      "cell_type": "code",
      "execution_count": 4,
      "metadata": {
        "colab": {},
        "colab_type": "code",
        "execution": {
          "iopub.execute_input": "2021-03-16T12:26:48.425Z",
          "iopub.status.busy": "2021-03-16T12:26:48.408Z",
          "iopub.status.idle": "2021-03-16T12:26:48.454Z",
          "shell.execute_reply": "2021-03-16T12:26:48.470Z"
        },
        "id": "ihIWciEmFL1G",
        "rise": {
          "theme": "sky"
        },
        "slideshow": {
          "slide_type": "-"
        }
      },
      "outputs": [],
      "source": [
        "from random import randint  # pseudorandom whole numbers\n",
        "from math import sqrt       # squareroots\n",
        "\n",
        "import matplotlib.pyplot as plt # basic graphics library\n",
        "%matplotlib inline\n",
        "                            # have Jupyter display static graphics inline\n",
        "plt.style.use('ggplot')     # ggplot style graphics\n",
        "plt.rcParams['figure.figsize'] = [10, 6] # make the graphs a bit bigger\n",
        "\n",
        "import warnings             # how should we deal with Python warnings?\n",
        "warnings.filterwarnings('ignore') # just ignore them. This is a good rule for life. "
      ]
    },
    {
      "cell_type": "markdown",
      "metadata": {
        "slideshow": {
          "slide_type": "slide"
        }
      },
      "source": [
        "Let's start by creating a function to roll a dice, and then rolling lots of dice lots of times. The code here does two, six sided dice, ('2d6' as we called it back in my Dungeon and Dragons days) 100 times. Can you modify the code to get 1000 rolls? Or what about eight sided dice?"
      ]
    },
    {
      "cell_type": "code",
      "execution_count": 2,
      "metadata": {
        "colab": {},
        "colab_type": "code",
        "execution": {
          "iopub.execute_input": "2020-07-08T10:20:39.547Z",
          "iopub.status.busy": "2020-07-08T10:20:39.510Z",
          "iopub.status.idle": "2020-07-08T10:20:39.610Z",
          "shell.execute_reply": "2020-07-08T10:20:39.635Z"
        },
        "id": "7ozChYSyBLap",
        "slideshow": {
          "slide_type": "-"
        }
      },
      "outputs": [
        {
          "data": {
            "text/plain": "[5, 5, 7, 5, 12, 8, 6, 8, 7, 11, 7, 4, 12, 7, 8, 4, 7, 3, 7, 8]"
          },
          "execution_count": 2,
          "metadata": {},
          "output_type": "execute_result"
        }
      ],
      "source": [
        "def roll(dice=1,sides=6):\n",
        "  score = 0\n",
        "  for i in range(dice):\n",
        "    score += randint(1,sides)\n",
        "  return score\n",
        "\n",
        "def rolls(dice=1,sides=6,times=1):\n",
        "  scores = []\n",
        "  for i in range(times):\n",
        "    scores.append(roll(dice,sides))\n",
        "  return scores\n",
        "\n",
        "example = rolls(2,6,100) # roll two, 6-sided dice, 100 times.\n",
        "\n",
        "example[:20]\n"
      ]
    },
    {
      "cell_type": "markdown",
      "metadata": {
        "slideshow": {
          "slide_type": "slide"
        }
      },
      "source": [
        "Can we work out the relative frequency (observed probability) of particular scores? "
      ]
    },
    {
      "cell_type": "code",
      "execution_count": 6,
      "metadata": {
        "slideshow": {
          "slide_type": "-"
        }
      },
      "outputs": [
        {
          "data": {
            "text/plain": "0.25"
          },
          "execution_count": 6,
          "metadata": {},
          "output_type": "execute_result"
        }
      ],
      "source": [
        "def relativeFrequency(x, data):\n",
        "    return(data.count(x) / len(data))\n",
        "\n",
        "relativeFrequency(7, example)"
      ]
    },
    {
      "cell_type": "markdown",
      "metadata": {
        "slideshow": {
          "slide_type": "slide"
        }
      },
      "source": [
        "Can we get the relative frequencies for all the possible scores?\n",
        "\n",
        "Could we see that on a bar chart?\n",
        "\n",
        "*Note that Python's syntax for range is from the first number, up to but **not** including the second*\n",
        "\n",
        "*If you changed the example to show something other than '2d6', you might need to modify the range parameters here to include all the data.*"
      ]
    },
    {
      "cell_type": "code",
      "execution_count": 9,
      "metadata": {},
      "outputs": [
        {
          "data": {
            "text/plain": "<BarContainer object of 11 artists>"
          },
          "execution_count": 9,
          "metadata": {},
          "output_type": "execute_result"
        },
        {
          "data": {
            "image/png": "[encoded data removed]",
            "text/plain": "<Figure size 720x432 with 1 Axes>"
          },
          "metadata": {},
          "output_type": "display_data"
        }
      ],
      "source": [
        "relativeFrequencies = []\n",
        "for i in range(2, 13):\n",
        "    relativeFrequencies.append(relativeFrequency(i, example))\n",
        "\n",
        "relativeFrequencies\n",
        "\n",
        "plt.bar(range(2, 13), relativeFrequencies) "
      ]
    },
    {
      "cell_type": "markdown",
      "metadata": {
        "slideshow": {
          "slide_type": "slide"
        }
      },
      "source": [
        "## Finding the mean\n",
        "\n",
        "At the moment, the cell below crashes fairly dramatically (0 / 0 is Not a Number). Can you replace my two comments (the lines with the # in front) so that the total and count gets updated as we go through all the items in the data list?"
      ]
    },
    {
      "cell_type": "code",
      "execution_count": 10,
      "metadata": {
        "execution": {
          "iopub.execute_input": "2020-07-08T10:16:56.824Z",
          "iopub.status.busy": "2020-07-08T10:16:56.797Z",
          "iopub.status.idle": "2020-07-08T10:16:56.887Z",
          "shell.execute_reply": "2020-07-08T10:16:56.922Z"
        },
        "slideshow": {
          "slide_type": "-"
        }
      },
      "outputs": [
        {
          "ename": "IndentationError",
          "evalue": "expected an indented block (<ipython-input-10-335ec7f879e3>, line 7)",
          "output_type": "error",
          "traceback": [
            "\u001b[0;36m  File \u001b[0;32m\"<ipython-input-10-335ec7f879e3>\"\u001b[0;36m, line \u001b[0;32m7\u001b[0m\n\u001b[0;31m    return total/count\u001b[0m\n\u001b[0m         ^\u001b[0m\n\u001b[0;31mIndentationError\u001b[0m\u001b[0;31m:\u001b[0m expected an indented block\n"
          ]
        }
      ],
      "source": [
        "def mymean(data):\n",
        "    total = 0\n",
        "    count = 0\n",
        "    for i in data:\n",
        "        # update total\n",
        "        # update count\n",
        "    return total/count\n",
        "\n",
        "mymean(example)"
      ]
    },
    {
      "cell_type": "markdown",
      "metadata": {
        "slideshow": {
          "slide_type": "slide"
        }
      },
      "source": [
        "## Finding the mode\n",
        "\n",
        "To work out the mode of our data, we need to know which item came up with the greatest frequency, so we may as well work out a frequency table...\n",
        "\n",
        "Note that this uses Python's 'dict' datastructure which stores data as key, value pairs. "
      ]
    },
    {
      "cell_type": "code",
      "execution_count": 6,
      "metadata": {
        "execution": {
          "iopub.execute_input": "2020-07-08T10:20:49.100Z",
          "iopub.status.busy": "2020-07-08T10:20:49.072Z",
          "iopub.status.idle": "2020-07-08T10:20:49.157Z",
          "shell.execute_reply": "2020-07-08T10:20:49.181Z"
        },
        "slideshow": {
          "slide_type": "-"
        }
      },
      "outputs": [
        {
          "data": {
            "text/plain": "[(2, 4),\n (3, 7),\n (4, 9),\n (5, 8),\n (6, 17),\n (7, 14),\n (8, 15),\n (9, 11),\n (10, 4),\n (11, 9),\n (12, 2)]"
          },
          "execution_count": 6,
          "metadata": {},
          "output_type": "execute_result"
        }
      ],
      "source": [
        "def freqtable(data):\n",
        "    freqtable = {}\n",
        "    for i in data:\n",
        "        if i in freqtable.keys():\n",
        "            freqtable[i] += 1\n",
        "        else:\n",
        "            freqtable[i] = 1\n",
        "    return(freqtable)\n",
        "\n",
        "freqtable(example)\n",
        "\n",
        "sorted(freqtable(example).items()) "
      ]
    },
    {
      "cell_type": "markdown",
      "metadata": {},
      "source": [
        "Can you predict what the function below would do for bi- (or multi-) modal data? Try editing the way the example data is generated to test this."
      ]
    },
    {
      "cell_type": "code",
      "execution_count": 8,
      "metadata": {
        "execution": {
          "iopub.execute_input": "2020-07-08T10:20:56.999Z",
          "iopub.status.busy": "2020-07-08T10:20:56.970Z",
          "iopub.status.idle": "2020-07-08T10:20:57.060Z",
          "shell.execute_reply": "2020-07-08T10:20:57.085Z"
        },
        "slideshow": {
          "slide_type": "slide"
        }
      },
      "outputs": [
        {
          "data": {
            "text/plain": "6"
          },
          "execution_count": 8,
          "metadata": {},
          "output_type": "execute_result"
        }
      ],
      "source": [
        "def mymode(data):\n",
        "    mode = 0\n",
        "    max = 0\n",
        "    freqs = freqtable(data)\n",
        "    for i in freqs.keys():\n",
        "        if freqs[i]>max:\n",
        "            max=freqs[i]\n",
        "            mode = i\n",
        "    return mode\n",
        "\n",
        "mymode(example)"
      ]
    },
    {
      "cell_type": "markdown",
      "metadata": {
        "slideshow": {
          "slide_type": "slide"
        }
      },
      "source": [
        "## Finding the median\n",
        "\n",
        "The usual approach to finding the median is to put the data into order and then pick the middle item, so we need to sort the data first. There are *lots* of algorithms for doing this, and you might think about how your pupils do this in class. Here, I'm using [Tony Hoare's Quicksort algorithm](http://rabbit.eng.miami.edu/class/een511/quicksort.pdf), which is one of the fastest (hence, I guess, the name). Notice the recursive definition here. Can you work out from the code how this works? \n",
        "\n",
        "It's worth noting the meta strategy here of reducing a big problem into simpler, but structurally identical problems and solving these. This 'divide and conquer' strategy is a common pattern in programming and maths. Can you think of some other examples?"
      ]
    },
    {
      "cell_type": "code",
      "execution_count": 9,
      "metadata": {
        "execution": {
          "iopub.execute_input": "2020-07-08T10:20:59.754Z",
          "iopub.status.busy": "2020-07-08T10:20:59.726Z",
          "iopub.status.idle": "2020-07-08T10:20:59.803Z",
          "shell.execute_reply": "2020-07-08T10:20:59.823Z"
        }
      },
      "outputs": [
        {
          "data": {
            "text/plain": "7"
          },
          "execution_count": 9,
          "metadata": {},
          "output_type": "execute_result"
        }
      ],
      "source": [
        "def quicksort(data):\n",
        "    if len(data)==0:\n",
        "        return data\n",
        "    else:\n",
        "        lower = [x for x in data[1:] if x < data[0]]\n",
        "        upper = [x for x in data[1:] if x >= data[0]]\n",
        "        return quicksort(lower) + [data[0]] + quicksort(upper)\n",
        "\n"
      ]
    },
    {
      "cell_type": "markdown",
      "metadata": {},
      "source": [
        "Now add in a function to work out the median by calling this quicksort function. Does it matter if you've an odd or even number of data? `len(data) % 2` is 0 for even, 1 for odd."
      ]
    },
    {
      "cell_type": "code",
      "execution_count": null,
      "metadata": {},
      "outputs": [],
      "source": [
        "def mymedian(data):\n",
        "    # your code goes here...\n",
        "    \n",
        "mymedian(example)"
      ]
    },
    {
      "cell_type": "markdown",
      "metadata": {
        "slideshow": {
          "slide_type": "notes"
        }
      },
      "source": [
        "Is it *absolutely* necessary to sort the data to find the median? The above algorithm is O(n log n). I can think of an O(n + k log k) algorithm, where k is the number of distinct values...\n",
        "\n",
        "What algorithm do you teach in class?"
      ]
    },
    {
      "cell_type": "markdown",
      "metadata": {
        "slideshow": {
          "slide_type": "slide"
        }
      },
      "source": [
        "## Finding the range\n",
        "\n",
        "Finding the minimum and maximum of data is a nice programming challenge for KS3. I've missed out a couple of lines from the function here. Can you fill them in?\n",
        "\n",
        "Also, do notice that Python copes perfectly well with the idea of infinity, although you should pause to wonder how this would be represented internally."
      ]
    },
    {
      "cell_type": "code",
      "execution_count": 10,
      "metadata": {
        "slideshow": {
          "slide_type": "-"
        }
      },
      "outputs": [
        {
          "data": {
            "text/plain": "10"
          },
          "execution_count": 10,
          "metadata": {},
          "output_type": "execute_result"
        }
      ],
      "source": [
        "def myrange(data):\n",
        "    minimum = float('inf')\n",
        "    maximum = float('-inf')\n",
        "    for i in data:\n",
        "        if i < minimum:\n",
        "            # What goes here?\n",
        "        if i > maximum:\n",
        "            # What does here?\n",
        "    return (maximum - minimum)\n",
        "\n",
        "\n",
        "myrange(example)"
      ]
    },
    {
      "cell_type": "markdown",
      "metadata": {
        "slideshow": {
          "slide_type": "slide"
        }
      },
      "source": [
        "## Finding the standard deviation. \n",
        "\n",
        "Which algorthm do you like best, the square root of the mean squared deviation, or the square root of the difference between the mean of squares and the square of the means. Do these always give the same answer? How could you (or your pupils) be sure?"
      ]
    },
    {
      "cell_type": "code",
      "execution_count": 11,
      "metadata": {
        "execution": {
          "iopub.execute_input": "2020-07-08T10:21:02.654Z",
          "iopub.status.busy": "2020-07-08T10:21:02.626Z",
          "iopub.status.idle": "2020-07-08T10:21:02.705Z",
          "shell.execute_reply": "2020-07-08T10:21:02.728Z"
        },
        "slideshow": {
          "slide_type": "-"
        },
        "tags": []
      },
      "outputs": [
        {
          "name": "stdout",
          "output_type": "stream",
          "text": [
            "method 1 2.508605190140529\n",
            "method 2 2.5086051901405297\n"
          ]
        }
      ],
      "source": [
        "def mysd1(data):\n",
        "    '''sqrt of mean squared deviations'''\n",
        "    m = mymean(data)\n",
        "    squaredDeviations = map(lambda x: (x-m)**2, data)\n",
        "    return sqrt(mymean(squaredDeviations))\n",
        "\n",
        "def mysd2(data):\n",
        "    '''sqrt of (mean of squares - square of means)'''\n",
        "    return ## can you add something here?\n",
        "\n",
        "print('method 1',mysd1(example))\n",
        "print('method 2',mysd2(example))"
      ]
    }
  ],
  "metadata": {
    "celltoolbar": "Slideshow",
    "colab": {
      "name": "dicerolling.ipynb",
      "provenance": []
    },
    "kernelspec": {
      "display_name": "Python 3",
      "language": "python",
      "name": "python3"
    },
    "language_info": {
      "codemirror_mode": {
        "name": "ipython",
        "version": 3
      },
      "file_extension": ".py",
      "mimetype": "text/x-python",
      "name": "python",
      "nbconvert_exporter": "python",
      "pygments_lexer": "ipython3",
      "version": "3.6.10"
    },
    "livereveal": {
      "autolaunch": true
    },
    "nteract": {
      "version": "0.28.0"
    },
    "rise": {
      "autolaunch": true,
      "scroll": true,
      "theme": "simple"
    }
  },
  "nbformat": 4,
  "nbformat_minor": 2
}