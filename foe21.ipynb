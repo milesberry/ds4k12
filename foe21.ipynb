{
 "cells": [
  {
   "cell_type": "markdown",
   "metadata": {
    "slideshow": {
     "slide_type": "slide"
    }
   },
   "source": [
    "# Teaching Data Science\n",
    "\n",
    "Miles Berry\n",
    "\n",
    "University of Roehampton\n",
    "\n",
    "Festival of Education   \n",
    "Friday Fest\n",
    "\n",
    "25 June 2021\n",
    "\n",
    "[![Open In Colab](https://colab.research.google.com/assets/colab-badge.svg)](http://bit.ly/atmconf2021)\n",
    "\n",
    "This notebook: [bit.ly/atmconf2021](http://bit.ly/atmconf2021)\n",
    "\n",
    "Press space to move on, click in a box to edit, shift-enter to run."
   ]
  },
  {
   "cell_type": "markdown",
   "metadata": {
    "slideshow": {
     "slide_type": "slide"
    }
   },
   "source": [
    "# Find motivating contexts for teaching computer science"
   ]
  },
  {
   "cell_type": "markdown",
   "metadata": {
    "slideshow": {
     "slide_type": "fragment"
    }
   },
   "source": [
    "* Animation\n",
    "* Games\n",
    "* Robotics\n",
    "* Art\n",
    "* Music"
   ]
  },
  {
   "cell_type": "markdown",
   "metadata": {
    "slideshow": {
     "slide_type": "fragment"
    }
   },
   "source": [
    "* Statistics"
   ]
  },
  {
   "cell_type": "markdown",
   "metadata": {
    "slideshow": {
     "slide_type": "slide"
    }
   },
   "source": [
    "# Emphasise the relevance of statistics\n",
    "\n",
    "* Work with big(ish) data\n",
    "* Explore real world problems\n",
    "* Use their coding skills"
   ]
  },
  {
   "cell_type": "markdown",
   "metadata": {
    "slideshow": {
     "slide_type": "slide"
    }
   },
   "source": [
    "> Foundational training in data skills begins\n",
    "at school, and there is an opportunity\n",
    "and a need to consult broadly on a future\n",
    "curriculum that addresses the breadth of data\n",
    "skills across mathematics and science, the\n",
    "arts and humanities. Students need to be well\n",
    "informed about the ever-widening range of\n",
    "opportunities working with data. \n",
    "\n",
    "[Royal Society, 2019](https://royalsociety.org/-/media/policy/projects/dynamics-of-data-science/dynamics-of-data-science-skills-report.pdf)"
   ]
  },
  {
   "cell_type": "markdown",
   "metadata": {
    "slideshow": {
     "slide_type": "slide"
    }
   },
   "source": [
    "## Curriculum design - computing\n",
    "\n",
    "* Foundations - computer science\n",
    "* Applications - information technology\n",
    "* Implications - digital literacy"
   ]
  },
  {
   "cell_type": "markdown",
   "metadata": {
    "slideshow": {
     "slide_type": "subslide"
    }
   },
   "source": [
    "## Curriculum design - data science\n",
    "\n",
    "* Foundations - probability and statistics\n",
    "* Applications - using software and writing code\n",
    "* Implications - question everything; trust no one"
   ]
  },
  {
   "cell_type": "markdown",
   "metadata": {
    "nteract": {
     "transient": {
      "deleting": false
     }
    },
    "slideshow": {
     "slide_type": "slide"
    }
   },
   "source": [
    "## Data science in the computing curriculum\n",
    "\n",
    "**Key Stage 1**: use technology purposefully to create, organise, store, manipulate and retrieve digital content; recognise common uses of information technology beyond school\n",
    "\n",
    "**Key Stage 2**: select, use and combine a variety of software (including internet services) on a range of digital devices to design and create a range of programs, systems and content that accomplish given goals, including collecting, analysing, evaluating and presenting data\n",
    "\n",
    "**Key Stage 3**: undertake creative projects that involve selecting, using, and combining multiple applications, preferably across a range of devices, to achieve challenging goals, including collecting and analysing data\n",
    "\n",
    "**Key Stage 4**: develop and apply their analytic, problem-solving, design, and computational thinking skills\n"
   ]
  },
  {
   "cell_type": "markdown",
   "metadata": {
    "nteract": {
     "transient": {
      "deleting": false
     }
    },
    "slideshow": {
     "slide_type": "subslide"
    }
   },
   "source": [
    "## Data science in the mathematics curriculum\n",
    "\n",
    "**Year 2** interpret and construct simple pictograms, tally charts, block diagrams and tables; ask and answer simple questions by counting the number of objects in each category and sorting the categories by quantity; ask-and-answer questions about totalling and comparing categorical data"
   ]
  },
  {
   "cell_type": "markdown",
   "metadata": {
    "nteract": {
     "transient": {
      "deleting": false
     }
    },
    "slideshow": {
     "slide_type": "subslide"
    }
   },
   "source": [
    "## Data science in the mathematics curriculum\n",
    "\n",
    "**Year 3** interpret and present data using bar charts, pictograms and tables; solve one-step and two-step questions using information presented in scaled bar charts and pictograms and tables\n",
    "\n",
    "**Year 4** interpret and present discrete and continuous data using appropriate graphical methods, including bar charts and time graphs; solve comparison, sum and difference problems using information presented in bar charts, pictograms, tables and other graphs\n",
    "\n",
    "**Year 5** solve comparison, sum and difference problems using information presented in a line graph; complete, read and interpret information in tables, including timetables\n",
    "\n",
    "**Year 6** interpret and construct pie charts and line graphs and use these to solve problems; calculate and interpret the mean as an average"
   ]
  },
  {
   "cell_type": "markdown",
   "metadata": {
    "nteract": {
     "transient": {
      "deleting": false
     }
    },
    "slideshow": {
     "slide_type": "subslide"
    }
   },
   "source": [
    "## Data science in the mathematics curriculum\n",
    "\n",
    "**Key Stage 3** \n",
    "\n",
    "* distributions of single variables\n",
    "  * averages and spread\n",
    "* visualisation\n",
    "* relationships between two variables"
   ]
  },
  {
   "cell_type": "markdown",
   "metadata": {
    "nteract": {
     "transient": {
      "deleting": false
     }
    },
    "slideshow": {
     "slide_type": "subslide"
    }
   },
   "source": [
    "## Data science in the mathematics curriculum\n",
    "\n",
    "**Key Stage 4** \n",
    "\n",
    "* sampling\n",
    "* time series\n",
    "* visualisation\n",
    "* empirical distribututions: visualisation, averages and spread\n",
    "* describing a population\n",
    "* correlation, regression, predictions, limitations"
   ]
  },
  {
   "cell_type": "markdown",
   "metadata": {
    "slideshow": {
     "slide_type": "subslide"
    }
   },
   "source": [
    "## Other curricula are available...\n",
    "\n",
    "* The [large dataset question](https://mei.org.uk/large-data-sets) in A Level maths\n",
    "* MEI's [data science unit](https://mei.org.uk/data-science) for A Level maths\n",
    "* SQA [National Progression Award in Data Science](https://www.sqa.org.uk/sqa/91458.html)\n",
    "* Data science in [CSTA's Standards](https://drive.google.com/open?id=1-dPTAI1yk2HYPKUWZ6DqaM6aVUDa9iby)\n",
    "* Bootstrap World [Data Science](https://www.bootstrapworld.org/blog/curriculum/Data-Science-Is-Coming.shtml)\n",
    "* IDSSP's [Curriculum frameworks for introductory data science](http://www.idssp.org/files/IDSSP_Frameworks_1.0.pdf) \n",
    "* Grillenberger and Romeike's (2018) [Data literacy competency model](https://computingeducation.de/pub/2018_Grillenberger-Romeike_WiPSCE2018.pdf). "
   ]
  },
  {
   "cell_type": "markdown",
   "metadata": {
    "slideshow": {
     "slide_type": "subslide"
    }
   },
   "source": [
    "# Which tools?\n",
    "\n",
    "* Excel or Google Sheets, [Tableau Public](https://www.tableau.com/en-gb/products/public), [Orange](https://orangedatamining.com/), **Python** (with [Pandas](https://pandas.pydata.org/) and [Seaborn](https://seaborn.pydata.org/)), R, Julia\n",
    "* IDLE, Visual Studio Code, **[Jupyter](https://jupyter.org/)**\n",
    "* **[Google Colab](https://colab.research.google.com/)**, [Kaggle](https://www.kaggle.com/kernels), [Binder](https://mybinder.readthedocs.io/en/latest/introduction.html) with [Rise](https://rise.readthedocs.io/en/stable/)\n",
    "\n",
    "*Other tools are available!*"
   ]
  },
  {
   "cell_type": "markdown",
   "metadata": {
    "slideshow": {
     "slide_type": "slide"
    }
   },
   "source": [
    "# Foundations\n",
    "\n",
    "## Introducing probability and statistics: \n",
    "## dice rolling"
   ]
  },
  {
   "cell_type": "markdown",
   "metadata": {
    "slideshow": {
     "slide_type": "slide"
    }
   },
   "source": [
    "We'll start by loading a few standard libraries"
   ]
  },
  {
   "cell_type": "code",
   "execution_count": 1,
   "metadata": {
    "colab": {},
    "colab_type": "code",
    "execution": {
     "iopub.execute_input": "2021-03-16T12:26:48.425Z",
     "iopub.status.busy": "2021-03-16T12:26:48.408Z",
     "iopub.status.idle": "2021-03-16T12:26:48.454Z",
     "shell.execute_reply": "2021-03-16T12:26:48.470Z"
    },
    "id": "ihIWciEmFL1G",
    "rise": {
     "theme": "sky"
    },
    "slideshow": {
     "slide_type": "-"
    }
   },
   "outputs": [],
   "source": [
    "from random import randint  # pseudorandom whole numbers\n",
    "from math import sqrt      # squareroots\n",
    "\n",
    "import matplotlib.pyplot as plt  # basic graphics library\n",
    "%matplotlib inline\n",
    "                            # have Jupyter display static graphics inline\n",
    "plt.style.use('ggplot')    # ggplot style graphics\n",
    "plt.rcParams['figure.figsize'] = [10, 6]  # make the graphs a bit bigger\n",
    "\n",
    "import warnings             # how should we deal with Python warnings?\n",
    "                            # just ignore them. This is a good rule for life.\n",
    "warnings.filterwarnings('ignore')"
   ]
  },
  {
   "cell_type": "markdown",
   "metadata": {
    "slideshow": {
     "slide_type": "slide"
    }
   },
   "source": [
    "Let's start by creating a function to roll a die,  \n",
    "and then rolling lots of dice lots of times."
   ]
  },
  {
   "cell_type": "code",
   "execution_count": 2,
   "metadata": {
    "colab": {},
    "colab_type": "code",
    "execution": {
     "iopub.execute_input": "2020-07-08T10:20:39.547Z",
     "iopub.status.busy": "2020-07-08T10:20:39.510Z",
     "iopub.status.idle": "2020-07-08T10:20:39.610Z",
     "shell.execute_reply": "2020-07-08T10:20:39.635Z"
    },
    "id": "7ozChYSyBLap",
    "slideshow": {
     "slide_type": "-"
    }
   },
   "outputs": [
    {
     "data": {
      "text/plain": [
       "[8, 5, 10, 7, 9, 8, 7, 5, 6, 6, 9, 7, 4, 11, 10, 9, 6, 10, 11, 7]"
      ]
     },
     "execution_count": 2,
     "metadata": {},
     "output_type": "execute_result"
    }
   ],
   "source": [
    "def roll(dice=1, sides=6):\n",
    "    score = 0\n",
    "    for i in range(dice):\n",
    "        score += randint(1, sides)\n",
    "    return score\n",
    "\n",
    "\n",
    "def rolls(dice=1, sides=6, times=1):\n",
    "    scores = []\n",
    "    for i in range(times):\n",
    "        scores.append(roll(dice, sides))\n",
    "    return scores\n",
    "\n",
    "\n",
    "example = rolls(2, 6, 100)  # roll two, 6-sided dice, 100 times.\n",
    "\n",
    "example[:20]"
   ]
  },
  {
   "cell_type": "markdown",
   "metadata": {
    "slideshow": {
     "slide_type": "slide"
    }
   },
   "source": [
    "Can we work out the relative frequency (observed probability) of particular scores? "
   ]
  },
  {
   "cell_type": "code",
   "execution_count": 3,
   "metadata": {
    "slideshow": {
     "slide_type": "-"
    }
   },
   "outputs": [
    {
     "data": {
      "text/plain": [
       "0.12"
      ]
     },
     "execution_count": 3,
     "metadata": {},
     "output_type": "execute_result"
    }
   ],
   "source": [
    "def relativeFrequency(x, data):\n",
    "    return(data.count(x) / len(data))\n",
    "\n",
    "relativeFrequency(7, example)"
   ]
  },
  {
   "cell_type": "markdown",
   "metadata": {
    "slideshow": {
     "slide_type": "slide"
    }
   },
   "source": [
    "Can we get the relative frequencies for all the possible scores?"
   ]
  },
  {
   "cell_type": "code",
   "execution_count": 4,
   "metadata": {},
   "outputs": [
    {
     "data": {
      "text/plain": [
       "[0.01, 0.05, 0.13, 0.1, 0.14, 0.12, 0.12, 0.15, 0.1, 0.07, 0.01]"
      ]
     },
     "execution_count": 4,
     "metadata": {},
     "output_type": "execute_result"
    }
   ],
   "source": [
    "relativeFrequencies = []\n",
    "for i in range(2, 13):\n",
    "    relativeFrequencies.append(relativeFrequency(i, example))\n",
    "\n",
    "relativeFrequencies"
   ]
  },
  {
   "cell_type": "markdown",
   "metadata": {
    "slideshow": {
     "slide_type": "slide"
    }
   },
   "source": [
    "## Computing statistics\n",
    "\n",
    "* Mean\n",
    "* Mode\n",
    "* Median\n",
    "* Range\n",
    "* Standard deviation"
   ]
  },
  {
   "cell_type": "markdown",
   "metadata": {
    "slideshow": {
     "slide_type": "slide"
    }
   },
   "source": [
    "Finding the mean"
   ]
  },
  {
   "cell_type": "code",
   "execution_count": 5,
   "metadata": {
    "execution": {
     "iopub.execute_input": "2020-07-08T10:16:56.824Z",
     "iopub.status.busy": "2020-07-08T10:16:56.797Z",
     "iopub.status.idle": "2020-07-08T10:16:56.887Z",
     "shell.execute_reply": "2020-07-08T10:16:56.922Z"
    },
    "slideshow": {
     "slide_type": "-"
    }
   },
   "outputs": [
    {
     "data": {
      "text/plain": [
       "7.07"
      ]
     },
     "execution_count": 5,
     "metadata": {},
     "output_type": "execute_result"
    }
   ],
   "source": [
    "def mymean(data):\n",
    "    total = 0\n",
    "    count = 0\n",
    "    for i in data:\n",
    "        total += i\n",
    "        count += 1\n",
    "    return total/count\n",
    "\n",
    "mymean(example)"
   ]
  },
  {
   "cell_type": "markdown",
   "metadata": {
    "slideshow": {
     "slide_type": "subslide"
    }
   },
   "source": [
    "Other approaches to calculating the mean:\n",
    "\n",
    "Using sum:\n",
    "```python\n",
    "def mymean(data):\n",
    "    return sum(data)/len(data)\n",
    "```\n",
    "Using higher order functions:\n",
    "```python\n",
    "from functools import reduce\n",
    "\n",
    "def mymean(data):\n",
    "  return((reduce(lambda total, item: total+item, data, 0)) / \n",
    "         (reduce(lambda count, item: count+1, data, 0)))\n",
    "\n",
    "```\n",
    "Using the mean function!\n",
    "```python\n",
    "from statistics import mean\n",
    "```\n"
   ]
  },
  {
   "cell_type": "markdown",
   "metadata": {
    "slideshow": {
     "slide_type": "slide"
    }
   },
   "source": [
    "To work out the mode of our data, we need to know which item came up with the greatest frequency, so we may as well work out a frequency table..."
   ]
  },
  {
   "cell_type": "code",
   "execution_count": 6,
   "metadata": {
    "execution": {
     "iopub.execute_input": "2020-07-08T10:20:49.100Z",
     "iopub.status.busy": "2020-07-08T10:20:49.072Z",
     "iopub.status.idle": "2020-07-08T10:20:49.157Z",
     "shell.execute_reply": "2020-07-08T10:20:49.181Z"
    },
    "slideshow": {
     "slide_type": "-"
    }
   },
   "outputs": [
    {
     "data": {
      "text/plain": [
       "[(2, 1),\n",
       " (3, 5),\n",
       " (4, 13),\n",
       " (5, 10),\n",
       " (6, 14),\n",
       " (7, 12),\n",
       " (8, 12),\n",
       " (9, 15),\n",
       " (10, 10),\n",
       " (11, 7),\n",
       " (12, 1)]"
      ]
     },
     "execution_count": 6,
     "metadata": {},
     "output_type": "execute_result"
    }
   ],
   "source": [
    "def freqtable(data):\n",
    "    freqtable = {}\n",
    "    for i in data:\n",
    "        if i in freqtable.keys():\n",
    "            freqtable[i] += 1\n",
    "        else:\n",
    "            freqtable[i] = 1\n",
    "    return(freqtable)\n",
    "\n",
    "\n",
    "freqtable(example)\n",
    "\n",
    "sorted(freqtable(example).items())"
   ]
  },
  {
   "cell_type": "markdown",
   "metadata": {
    "slideshow": {
     "slide_type": "slide"
    }
   },
   "source": [
    "If we've got a frequency table, we may as well plot a bar chart..."
   ]
  },
  {
   "cell_type": "code",
   "execution_count": 7,
   "metadata": {
    "execution": {
     "iopub.execute_input": "2020-07-08T10:20:52.731Z",
     "iopub.status.busy": "2020-07-08T10:20:52.692Z",
     "iopub.status.idle": "2020-07-08T10:20:53.063Z",
     "shell.execute_reply": "2020-07-08T10:20:53.130Z"
    },
    "slideshow": {
     "slide_type": "-"
    }
   },
   "outputs": [
    {
     "data": {
      "text/plain": [
       "<BarContainer object of 11 artists>"
      ]
     },
     "execution_count": 7,
     "metadata": {},
     "output_type": "execute_result"
    },
    {
     "data": {
      "image/png": "[encoded data removed]",
      "text/plain": [
       "<Figure size 720x432 with 1 Axes>"
      ]
     },
     "metadata": {},
     "output_type": "display_data"
    }
   ],
   "source": [
    "plt.bar(freqtable(example).keys(), freqtable(example).values()) "
   ]
  },
  {
   "cell_type": "code",
   "execution_count": 8,
   "metadata": {
    "execution": {
     "iopub.execute_input": "2020-07-08T10:20:56.999Z",
     "iopub.status.busy": "2020-07-08T10:20:56.970Z",
     "iopub.status.idle": "2020-07-08T10:20:57.060Z",
     "shell.execute_reply": "2020-07-08T10:20:57.085Z"
    },
    "slideshow": {
     "slide_type": "slide"
    }
   },
   "outputs": [
    {
     "data": {
      "text/plain": [
       "9"
      ]
     },
     "execution_count": 8,
     "metadata": {},
     "output_type": "execute_result"
    }
   ],
   "source": [
    "def mymode(data):\n",
    "    mode = 0\n",
    "    max = 0\n",
    "    freqs = freqtable(data)\n",
    "    for i in freqs.keys():\n",
    "        if freqs[i] > max:\n",
    "            max = freqs[i]\n",
    "            mode = i\n",
    "    return mode\n",
    "\n",
    "\n",
    "mymode(example)"
   ]
  },
  {
   "cell_type": "markdown",
   "metadata": {
    "slideshow": {
     "slide_type": "slide"
    }
   },
   "source": [
    "Finding the median"
   ]
  },
  {
   "cell_type": "code",
   "execution_count": 9,
   "metadata": {
    "execution": {
     "iopub.execute_input": "2020-07-08T10:20:59.754Z",
     "iopub.status.busy": "2020-07-08T10:20:59.726Z",
     "iopub.status.idle": "2020-07-08T10:20:59.803Z",
     "shell.execute_reply": "2020-07-08T10:20:59.823Z"
    }
   },
   "outputs": [
    {
     "data": {
      "text/plain": [
       "7"
      ]
     },
     "execution_count": 9,
     "metadata": {},
     "output_type": "execute_result"
    }
   ],
   "source": [
    "def quicksort(data):\n",
    "    if len(data) == 0:\n",
    "        return data\n",
    "    else:\n",
    "        lower = [x for x in data[1:] if x < data[0]]\n",
    "        upper = [x for x in data[1:] if x >= data[0]]\n",
    "        return quicksort(lower) + [data[0]] + quicksort(upper)\n",
    "\n",
    "\n",
    "def mymedian(data):\n",
    "    l = len(data)\n",
    "    if l % 2 == 1:\n",
    "        return quicksort(data)[l // 2]\n",
    "    else:\n",
    "        return quicksort(data)[(l + 1) // 2]\n",
    "\n",
    "\n",
    "mymedian(example)"
   ]
  },
  {
   "cell_type": "markdown",
   "metadata": {
    "slideshow": {
     "slide_type": "notes"
    }
   },
   "source": [
    "Is it *absolutely* necessary to sort the data to find the median? The above algorithm is O(n log n). I can think of an O(n + k log k) algorithm, where k is the number of distinct values..."
   ]
  },
  {
   "cell_type": "markdown",
   "metadata": {
    "slideshow": {
     "slide_type": "slide"
    }
   },
   "source": [
    "Finding the range"
   ]
  },
  {
   "cell_type": "code",
   "execution_count": 10,
   "metadata": {
    "slideshow": {
     "slide_type": "-"
    }
   },
   "outputs": [
    {
     "data": {
      "text/plain": [
       "10"
      ]
     },
     "execution_count": 10,
     "metadata": {},
     "output_type": "execute_result"
    }
   ],
   "source": [
    "def myrange(data):\n",
    "    minimum = float('inf')\n",
    "    maximum = float('-inf')\n",
    "    for i in data:\n",
    "        if i < minimum:\n",
    "            minimum = i\n",
    "        if i > maximum:\n",
    "            maximum = i\n",
    "    return (maximum - minimum)\n",
    "\n",
    "\n",
    "myrange(example)"
   ]
  },
  {
   "cell_type": "markdown",
   "metadata": {
    "slideshow": {
     "slide_type": "slide"
    }
   },
   "source": [
    "Finding the standard deviation. Which algorthm do you like best?"
   ]
  },
  {
   "cell_type": "code",
   "execution_count": 11,
   "metadata": {
    "execution": {
     "iopub.execute_input": "2020-07-08T10:21:02.654Z",
     "iopub.status.busy": "2020-07-08T10:21:02.626Z",
     "iopub.status.idle": "2020-07-08T10:21:02.705Z",
     "shell.execute_reply": "2020-07-08T10:21:02.728Z"
    },
    "slideshow": {
     "slide_type": "-"
    },
    "tags": []
   },
   "outputs": [
    {
     "name": "stdout",
     "output_type": "stream",
     "text": [
      "method 1 2.3968938232637673\n",
      "method 2 2.396893823263766\n"
     ]
    }
   ],
   "source": [
    "def mysd1(data):\n",
    "    '''sqrt of mean squared deviations'''\n",
    "    m = mymean(data)\n",
    "    squaredDeviations = map(lambda x: (x - m)**2, data)\n",
    "    return sqrt(mymean(squaredDeviations))\n",
    "\n",
    "\n",
    "def mysd2(data):\n",
    "    '''sqrt of (mean of squares - square of means)'''\n",
    "    return sqrt((mymean(map(lambda x: x**2, data)) - mymean(data)**2))\n",
    "\n",
    "\n",
    "print('method 1', mysd1(example))\n",
    "print('method 2', mysd2(example))"
   ]
  },
  {
   "cell_type": "markdown",
   "metadata": {
    "slideshow": {
     "slide_type": "slide"
    }
   },
   "source": [
    "# Applications\n",
    "\n",
    "## Data analysis in Python: \n",
    "## Working with historical weather data"
   ]
  },
  {
   "cell_type": "markdown",
   "metadata": {
    "slideshow": {
     "slide_type": "slide"
    }
   },
   "source": [
    "<img src=\"./tree.jpg\">\n",
    "\n",
    "Temperatures in Godalming, 2020"
   ]
  },
  {
   "cell_type": "markdown",
   "metadata": {
    "slideshow": {
     "slide_type": "slide"
    }
   },
   "source": [
    "![New Zealand Census Bureau](https://i0.wp.com/new.censusatschool.org.nz/wp-content/uploads/2012/11/data-detective.png?resize=800%2C600&ssl=1)\n",
    "\n",
    "[New Zealand Census at School](https://new.censusatschool.org.nz/)"
   ]
  },
  {
   "cell_type": "markdown",
   "metadata": {
    "slideshow": {
     "slide_type": "slide"
    }
   },
   "source": [
    "## Start with interesting questions\n",
    "\n",
    "* Is winter wetter than summer?\n",
    "* Is spring hotter than autumn?\n",
    "* Has the climate changed?"
   ]
  },
  {
   "cell_type": "markdown",
   "metadata": {
    "slideshow": {
     "slide_type": "slide"
    }
   },
   "source": [
    "For this, we'll import some of Python's libraries rather than creating all this ourselves!"
   ]
  },
  {
   "cell_type": "code",
   "execution_count": 12,
   "metadata": {
    "colab": {},
    "colab_type": "code",
    "execution": {
     "iopub.execute_input": "2021-03-16T12:22:12.963Z",
     "iopub.status.busy": "2021-03-16T12:22:12.939Z",
     "iopub.status.idle": "2021-03-16T12:22:35.981Z",
     "shell.execute_reply": "2021-03-16T12:22:36.003Z"
    },
    "id": "cOOYUkFgB6Hp",
    "slideshow": {
     "slide_type": "-"
    }
   },
   "outputs": [],
   "source": [
    "import pandas as pd # data handling toolbox\n",
    "import requests     # tool to download data off the web\n",
    "import datetime     # dates and times are horrible. This makes things a little easier.\n",
    "import seaborn as sns # nice graphics toolbox, built on, and transforming matplotlib\n",
    "sns.set()           # ggplot style graphs\n",
    "import scipy.stats as stats # statistical testing\n"
   ]
  },
  {
   "cell_type": "markdown",
   "metadata": {
    "slideshow": {
     "slide_type": "subslide"
    }
   },
   "source": [
    "We'll also download the historical (month by month) weather data for the Heathrow weather station from the [UK Met Office](https://www.metoffice.gov.uk/research/climate/maps-and-data/historic-station-data) website. \n",
    "\n",
    "If you're going to try this in school, use something more local?"
   ]
  },
  {
   "cell_type": "code",
   "execution_count": 13,
   "metadata": {
    "execution": {
     "iopub.execute_input": "2021-03-16T12:22:42.200Z",
     "iopub.status.busy": "2021-03-16T12:22:42.181Z",
     "iopub.status.idle": "2021-03-16T12:22:42.309Z",
     "shell.execute_reply": "2021-03-16T12:22:42.345Z"
    },
    "jupyter": {
     "outputs_hidden": false,
     "source_hidden": false
    },
    "nteract": {
     "transient": {
      "deleting": false
     }
    }
   },
   "outputs": [
    {
     "data": {
      "text/plain": [
       "46406"
      ]
     },
     "execution_count": 13,
     "metadata": {},
     "output_type": "execute_result"
    }
   ],
   "source": [
    "url = 'https://www.metoffice.gov.uk/pub/data/weather/uk/climate/stationdata/heathrowdata.txt'\n",
    "raw = requests.get(url, allow_redirects=True)\n",
    "open('data.txt', 'wb').write(raw.content)"
   ]
  },
  {
   "cell_type": "markdown",
   "metadata": {
    "slideshow": {
     "slide_type": "slide"
    }
   },
   "source": [
    "What follows is unpleasant.\n",
    "\n",
    "Transforming the data into a usable format is non-trivial, requires attention to detail and is specific to the particular use case.\n",
    "\n",
    "In general, do this for pupils, or have them do this in Excel where they can see what they're doing."
   ]
  },
  {
   "cell_type": "code",
   "execution_count": 14,
   "metadata": {
    "execution": {
     "iopub.execute_input": "2021-03-16T12:22:47.417Z",
     "iopub.status.busy": "2021-03-16T12:22:47.401Z",
     "iopub.status.idle": "2021-03-16T12:22:47.455Z",
     "shell.execute_reply": "2021-03-16T12:22:47.469Z"
    },
    "slideshow": {
     "slide_type": "subslide"
    }
   },
   "outputs": [
    {
     "data": {
      "text/html": [
       "<div>\n",
       "<style scoped>\n",
       "    .dataframe tbody tr th:only-of-type {\n",
       "        vertical-align: middle;\n",
       "    }\n",
       "\n",
       "    .dataframe tbody tr th {\n",
       "        vertical-align: top;\n",
       "    }\n",
       "\n",
       "    .dataframe thead th {\n",
       "        text-align: right;\n",
       "    }\n",
       "</style>\n",
       "<table border=\"1\" class=\"dataframe\">\n",
       "  <thead>\n",
       "    <tr style=\"text-align: right;\">\n",
       "      <th></th>\n",
       "      <th>yyyy</th>\n",
       "      <th>mm</th>\n",
       "      <th>tmin</th>\n",
       "      <th>tmax</th>\n",
       "      <th>temp</th>\n",
       "      <th>af</th>\n",
       "      <th>rain</th>\n",
       "      <th>sun</th>\n",
       "    </tr>\n",
       "    <tr>\n",
       "      <th>date</th>\n",
       "      <th></th>\n",
       "      <th></th>\n",
       "      <th></th>\n",
       "      <th></th>\n",
       "      <th></th>\n",
       "      <th></th>\n",
       "      <th></th>\n",
       "      <th></th>\n",
       "    </tr>\n",
       "  </thead>\n",
       "  <tbody>\n",
       "    <tr>\n",
       "      <td>2021-03</td>\n",
       "      <td>2021</td>\n",
       "      <td>3</td>\n",
       "      <td>4.1</td>\n",
       "      <td>12.1</td>\n",
       "      <td>8.1</td>\n",
       "      <td>1.0</td>\n",
       "      <td>24.6</td>\n",
       "      <td>91.4</td>\n",
       "    </tr>\n",
       "    <tr>\n",
       "      <td>2021-04</td>\n",
       "      <td>2021</td>\n",
       "      <td>4</td>\n",
       "      <td>2.9</td>\n",
       "      <td>13.1</td>\n",
       "      <td>8.0</td>\n",
       "      <td>5.0</td>\n",
       "      <td>7.2</td>\n",
       "      <td>202.6</td>\n",
       "    </tr>\n",
       "    <tr>\n",
       "      <td>2021-05</td>\n",
       "      <td>2021</td>\n",
       "      <td>5</td>\n",
       "      <td>7.2</td>\n",
       "      <td>16.5</td>\n",
       "      <td>11.8</td>\n",
       "      <td>0.0</td>\n",
       "      <td>84.6</td>\n",
       "      <td>131.9</td>\n",
       "    </tr>\n",
       "  </tbody>\n",
       "</table>\n",
       "</div>"
      ],
      "text/plain": [
       "         yyyy  mm  tmin  tmax  temp   af  rain    sun\n",
       "date                                                 \n",
       "2021-03  2021   3   4.1  12.1   8.1  1.0  24.6   91.4\n",
       "2021-04  2021   4   2.9  13.1   8.0  5.0   7.2  202.6\n",
       "2021-05  2021   5   7.2  16.5  11.8  0.0  84.6  131.9"
      ]
     },
     "execution_count": 14,
     "metadata": {},
     "output_type": "execute_result"
    }
   ],
   "source": [
    "dataset = pd.read_csv(\"data.txt\", skiprows=[0,1,2,3,4,5],\n",
    "                      names=['yyyy', 'mm', 'tmax', 'tmin', 'af', 'rain', 'sun', 'notes'],\n",
    "                      delim_whitespace=True, warn_bad_lines=True, error_bad_lines=False, na_values='---')\n",
    "dataset['sun'] = dataset['sun'].str.replace(r'#', '')\n",
    "dataset = dataset.drop([0])\n",
    "dataset['date'] = dataset.apply(lambda x: datetime.date(int(x['yyyy']), int(x['mm']), 1), axis=1)\n",
    "dataset.index = dataset['date']\n",
    "dataset.index = pd.to_datetime(dataset.index)\n",
    "dataset.index = dataset.index.to_period('M')\n",
    "dataset = dataset.drop(['date'], axis=1)\n",
    "dataset = dataset.drop(['notes'], axis=1)\n",
    "dataset['mm'] = dataset['mm'].astype('int')\n",
    "dataset['tmax'] = dataset['tmax'].astype('float')\n",
    "dataset['tmin'] = dataset['tmin'].astype('float')\n",
    "dataset['temp'] = (dataset['tmax']+dataset['tmin'])/2\n",
    "dataset['af'] = dataset['af'].astype('float', errors='ignore')\n",
    "dataset['rain'] = dataset['rain'].astype('float')\n",
    "dataset['sun'] = dataset['sun'].astype('float', errors='ignore')\n",
    "dataset = dataset[['yyyy','mm','tmin','tmax','temp','af','rain','sun']]\n",
    "dataset[-3:].round(1)"
   ]
  },
  {
   "cell_type": "markdown",
   "metadata": {
    "slideshow": {
     "slide_type": "subslide"
    }
   },
   "source": [
    "Adding columns to identify seasons and decades"
   ]
  },
  {
   "cell_type": "code",
   "execution_count": 15,
   "metadata": {
    "execution": {
     "iopub.execute_input": "2021-03-16T12:25:41.666Z",
     "iopub.status.busy": "2021-03-16T12:25:41.654Z",
     "iopub.status.idle": "2021-03-16T12:25:41.699Z",
     "shell.execute_reply": "2021-03-16T12:25:41.711Z"
    },
    "jupyter": {
     "outputs_hidden": false,
     "source_hidden": false
    },
    "nteract": {
     "transient": {
      "deleting": false
     }
    }
   },
   "outputs": [
    {
     "data": {
      "text/html": [
       "<div>\n",
       "<style scoped>\n",
       "    .dataframe tbody tr th:only-of-type {\n",
       "        vertical-align: middle;\n",
       "    }\n",
       "\n",
       "    .dataframe tbody tr th {\n",
       "        vertical-align: top;\n",
       "    }\n",
       "\n",
       "    .dataframe thead th {\n",
       "        text-align: right;\n",
       "    }\n",
       "</style>\n",
       "<table border=\"1\" class=\"dataframe\">\n",
       "  <thead>\n",
       "    <tr style=\"text-align: right;\">\n",
       "      <th></th>\n",
       "      <th>yyyy</th>\n",
       "      <th>mm</th>\n",
       "      <th>tmin</th>\n",
       "      <th>tmax</th>\n",
       "      <th>temp</th>\n",
       "      <th>af</th>\n",
       "      <th>rain</th>\n",
       "      <th>sun</th>\n",
       "      <th>season</th>\n",
       "      <th>decade</th>\n",
       "    </tr>\n",
       "    <tr>\n",
       "      <th>date</th>\n",
       "      <th></th>\n",
       "      <th></th>\n",
       "      <th></th>\n",
       "      <th></th>\n",
       "      <th></th>\n",
       "      <th></th>\n",
       "      <th></th>\n",
       "      <th></th>\n",
       "      <th></th>\n",
       "      <th></th>\n",
       "    </tr>\n",
       "  </thead>\n",
       "  <tbody>\n",
       "    <tr>\n",
       "      <td>2021-01</td>\n",
       "      <td>2021</td>\n",
       "      <td>1</td>\n",
       "      <td>1.3</td>\n",
       "      <td>7.0</td>\n",
       "      <td>4.15</td>\n",
       "      <td>12.0</td>\n",
       "      <td>91.6</td>\n",
       "      <td>29.4</td>\n",
       "      <td>winter</td>\n",
       "      <td>2020s</td>\n",
       "    </tr>\n",
       "    <tr>\n",
       "      <td>2021-02</td>\n",
       "      <td>2021</td>\n",
       "      <td>2</td>\n",
       "      <td>3.1</td>\n",
       "      <td>9.1</td>\n",
       "      <td>6.10</td>\n",
       "      <td>7.0</td>\n",
       "      <td>32.4</td>\n",
       "      <td>57.9</td>\n",
       "      <td>winter</td>\n",
       "      <td>2020s</td>\n",
       "    </tr>\n",
       "    <tr>\n",
       "      <td>2021-03</td>\n",
       "      <td>2021</td>\n",
       "      <td>3</td>\n",
       "      <td>4.1</td>\n",
       "      <td>12.1</td>\n",
       "      <td>8.10</td>\n",
       "      <td>1.0</td>\n",
       "      <td>24.6</td>\n",
       "      <td>91.4</td>\n",
       "      <td>spring</td>\n",
       "      <td>2020s</td>\n",
       "    </tr>\n",
       "    <tr>\n",
       "      <td>2021-04</td>\n",
       "      <td>2021</td>\n",
       "      <td>4</td>\n",
       "      <td>2.9</td>\n",
       "      <td>13.1</td>\n",
       "      <td>8.00</td>\n",
       "      <td>5.0</td>\n",
       "      <td>7.2</td>\n",
       "      <td>202.6</td>\n",
       "      <td>spring</td>\n",
       "      <td>2020s</td>\n",
       "    </tr>\n",
       "    <tr>\n",
       "      <td>2021-05</td>\n",
       "      <td>2021</td>\n",
       "      <td>5</td>\n",
       "      <td>7.2</td>\n",
       "      <td>16.5</td>\n",
       "      <td>11.85</td>\n",
       "      <td>0.0</td>\n",
       "      <td>84.6</td>\n",
       "      <td>131.9</td>\n",
       "      <td>spring</td>\n",
       "      <td>2020s</td>\n",
       "    </tr>\n",
       "  </tbody>\n",
       "</table>\n",
       "</div>"
      ],
      "text/plain": [
       "         yyyy  mm  tmin  tmax   temp    af  rain    sun  season decade\n",
       "date                                                                  \n",
       "2021-01  2021   1   1.3   7.0   4.15  12.0  91.6   29.4  winter  2020s\n",
       "2021-02  2021   2   3.1   9.1   6.10   7.0  32.4   57.9  winter  2020s\n",
       "2021-03  2021   3   4.1  12.1   8.10   1.0  24.6   91.4  spring  2020s\n",
       "2021-04  2021   4   2.9  13.1   8.00   5.0   7.2  202.6  spring  2020s\n",
       "2021-05  2021   5   7.2  16.5  11.85   0.0  84.6  131.9  spring  2020s"
      ]
     },
     "execution_count": 15,
     "metadata": {},
     "output_type": "execute_result"
    }
   ],
   "source": [
    "seasons = {12: 'winter', 1: 'winter', 2: 'winter',\n",
    "           3: 'spring', 4: 'spring', 5: 'spring',\n",
    "           6: 'summer', 7: 'summer', 8: 'summer',\n",
    "           9: 'autumn', 10: 'autumn', 11: 'autumn'}\n",
    "\n",
    "dataset['season'] = ((dataset.index.month).map(seasons))\n",
    "dataset['decade'] = ((dataset.index.year).map(lambda y: str(y // 10) + '0s'))\n",
    "\n",
    "dataset[-5:]"
   ]
  },
  {
   "cell_type": "markdown",
   "metadata": {
    "slideshow": {
     "slide_type": "subslide"
    }
   },
   "source": [
    "So what have we got here?"
   ]
  },
  {
   "cell_type": "code",
   "execution_count": 16,
   "metadata": {
    "execution": {
     "iopub.execute_input": "2021-03-16T12:23:18.469Z",
     "iopub.status.busy": "2021-03-16T12:23:18.450Z",
     "iopub.status.idle": "2021-03-16T12:23:18.504Z",
     "shell.execute_reply": "2021-03-16T12:23:18.518Z"
    },
    "slideshow": {
     "slide_type": "-"
    }
   },
   "outputs": [
    {
     "data": {
      "text/html": [
       "<div>\n",
       "<style scoped>\n",
       "    .dataframe tbody tr th:only-of-type {\n",
       "        vertical-align: middle;\n",
       "    }\n",
       "\n",
       "    .dataframe tbody tr th {\n",
       "        vertical-align: top;\n",
       "    }\n",
       "\n",
       "    .dataframe thead th {\n",
       "        text-align: right;\n",
       "    }\n",
       "</style>\n",
       "<table border=\"1\" class=\"dataframe\">\n",
       "  <thead>\n",
       "    <tr style=\"text-align: right;\">\n",
       "      <th></th>\n",
       "      <th>mm</th>\n",
       "      <th>tmin</th>\n",
       "      <th>tmax</th>\n",
       "      <th>temp</th>\n",
       "      <th>af</th>\n",
       "      <th>rain</th>\n",
       "      <th>sun</th>\n",
       "    </tr>\n",
       "  </thead>\n",
       "  <tbody>\n",
       "    <tr>\n",
       "      <td>count</td>\n",
       "      <td>881.0</td>\n",
       "      <td>881.0</td>\n",
       "      <td>881.0</td>\n",
       "      <td>881.0</td>\n",
       "      <td>869.0</td>\n",
       "      <td>881.0</td>\n",
       "      <td>773.0</td>\n",
       "    </tr>\n",
       "    <tr>\n",
       "      <td>mean</td>\n",
       "      <td>6.5</td>\n",
       "      <td>7.1</td>\n",
       "      <td>14.9</td>\n",
       "      <td>11.0</td>\n",
       "      <td>3.0</td>\n",
       "      <td>50.5</td>\n",
       "      <td>129.1</td>\n",
       "    </tr>\n",
       "    <tr>\n",
       "      <td>std</td>\n",
       "      <td>3.5</td>\n",
       "      <td>4.5</td>\n",
       "      <td>5.8</td>\n",
       "      <td>5.1</td>\n",
       "      <td>4.7</td>\n",
       "      <td>29.8</td>\n",
       "      <td>65.0</td>\n",
       "    </tr>\n",
       "    <tr>\n",
       "      <td>min</td>\n",
       "      <td>1.0</td>\n",
       "      <td>-4.6</td>\n",
       "      <td>0.8</td>\n",
       "      <td>-1.9</td>\n",
       "      <td>0.0</td>\n",
       "      <td>0.3</td>\n",
       "      <td>18.5</td>\n",
       "    </tr>\n",
       "    <tr>\n",
       "      <td>25%</td>\n",
       "      <td>3.0</td>\n",
       "      <td>3.3</td>\n",
       "      <td>9.8</td>\n",
       "      <td>6.6</td>\n",
       "      <td>0.0</td>\n",
       "      <td>27.8</td>\n",
       "      <td>68.4</td>\n",
       "    </tr>\n",
       "    <tr>\n",
       "      <td>50%</td>\n",
       "      <td>6.0</td>\n",
       "      <td>6.5</td>\n",
       "      <td>14.7</td>\n",
       "      <td>10.7</td>\n",
       "      <td>0.0</td>\n",
       "      <td>46.7</td>\n",
       "      <td>126.1</td>\n",
       "    </tr>\n",
       "    <tr>\n",
       "      <td>75%</td>\n",
       "      <td>9.0</td>\n",
       "      <td>11.2</td>\n",
       "      <td>20.1</td>\n",
       "      <td>15.6</td>\n",
       "      <td>5.0</td>\n",
       "      <td>68.8</td>\n",
       "      <td>176.6</td>\n",
       "    </tr>\n",
       "    <tr>\n",
       "      <td>max</td>\n",
       "      <td>12.0</td>\n",
       "      <td>16.7</td>\n",
       "      <td>28.3</td>\n",
       "      <td>22.4</td>\n",
       "      <td>28.0</td>\n",
       "      <td>174.8</td>\n",
       "      <td>310.1</td>\n",
       "    </tr>\n",
       "  </tbody>\n",
       "</table>\n",
       "</div>"
      ],
      "text/plain": [
       "          mm   tmin   tmax   temp     af   rain    sun\n",
       "count  881.0  881.0  881.0  881.0  869.0  881.0  773.0\n",
       "mean     6.5    7.1   14.9   11.0    3.0   50.5  129.1\n",
       "std      3.5    4.5    5.8    5.1    4.7   29.8   65.0\n",
       "min      1.0   -4.6    0.8   -1.9    0.0    0.3   18.5\n",
       "25%      3.0    3.3    9.8    6.6    0.0   27.8   68.4\n",
       "50%      6.0    6.5   14.7   10.7    0.0   46.7  126.1\n",
       "75%      9.0   11.2   20.1   15.6    5.0   68.8  176.6\n",
       "max     12.0   16.7   28.3   22.4   28.0  174.8  310.1"
      ]
     },
     "execution_count": 16,
     "metadata": {},
     "output_type": "execute_result"
    }
   ],
   "source": [
    "dataset.describe().round(1)"
   ]
  },
  {
   "cell_type": "markdown",
   "metadata": {
    "slideshow": {
     "slide_type": "slide"
    }
   },
   "source": [
    "## We might start by just exploring the data we have.\n",
    "\n",
    "We hardly had any rain last May here. How unusual was that?"
   ]
  },
  {
   "cell_type": "code",
   "execution_count": 17,
   "metadata": {
    "execution": {
     "iopub.execute_input": "2021-03-16T12:25:55.941Z",
     "iopub.status.busy": "2021-03-16T12:25:55.927Z",
     "iopub.status.idle": "2021-03-16T12:25:55.973Z",
     "shell.execute_reply": "2021-03-16T12:25:55.989Z"
    },
    "slideshow": {
     "slide_type": "-"
    }
   },
   "outputs": [
    {
     "data": {
      "text/html": [
       "<div>\n",
       "<style scoped>\n",
       "    .dataframe tbody tr th:only-of-type {\n",
       "        vertical-align: middle;\n",
       "    }\n",
       "\n",
       "    .dataframe tbody tr th {\n",
       "        vertical-align: top;\n",
       "    }\n",
       "\n",
       "    .dataframe thead th {\n",
       "        text-align: right;\n",
       "    }\n",
       "</style>\n",
       "<table border=\"1\" class=\"dataframe\">\n",
       "  <thead>\n",
       "    <tr style=\"text-align: right;\">\n",
       "      <th></th>\n",
       "      <th>yyyy</th>\n",
       "      <th>mm</th>\n",
       "      <th>tmin</th>\n",
       "      <th>tmax</th>\n",
       "      <th>temp</th>\n",
       "      <th>af</th>\n",
       "      <th>rain</th>\n",
       "      <th>sun</th>\n",
       "      <th>season</th>\n",
       "      <th>decade</th>\n",
       "    </tr>\n",
       "    <tr>\n",
       "      <th>date</th>\n",
       "      <th></th>\n",
       "      <th></th>\n",
       "      <th></th>\n",
       "      <th></th>\n",
       "      <th></th>\n",
       "      <th></th>\n",
       "      <th></th>\n",
       "      <th></th>\n",
       "      <th></th>\n",
       "      <th></th>\n",
       "    </tr>\n",
       "  </thead>\n",
       "  <tbody>\n",
       "    <tr>\n",
       "      <td>1995-08</td>\n",
       "      <td>1995</td>\n",
       "      <td>8</td>\n",
       "      <td>15.6</td>\n",
       "      <td>27.0</td>\n",
       "      <td>21.30</td>\n",
       "      <td>0.0</td>\n",
       "      <td>0.3</td>\n",
       "      <td>295.3</td>\n",
       "      <td>summer</td>\n",
       "      <td>1990s</td>\n",
       "    </tr>\n",
       "    <tr>\n",
       "      <td>2018-06</td>\n",
       "      <td>2018</td>\n",
       "      <td>6</td>\n",
       "      <td>13.1</td>\n",
       "      <td>24.2</td>\n",
       "      <td>18.65</td>\n",
       "      <td>0.0</td>\n",
       "      <td>0.4</td>\n",
       "      <td>234.5</td>\n",
       "      <td>summer</td>\n",
       "      <td>2010s</td>\n",
       "    </tr>\n",
       "    <tr>\n",
       "      <td>1978-10</td>\n",
       "      <td>1978</td>\n",
       "      <td>10</td>\n",
       "      <td>8.4</td>\n",
       "      <td>17.1</td>\n",
       "      <td>12.75</td>\n",
       "      <td>0.0</td>\n",
       "      <td>1.6</td>\n",
       "      <td>98.4</td>\n",
       "      <td>autumn</td>\n",
       "      <td>1970s</td>\n",
       "    </tr>\n",
       "    <tr>\n",
       "      <td>2020-05</td>\n",
       "      <td>2020</td>\n",
       "      <td>5</td>\n",
       "      <td>9.1</td>\n",
       "      <td>21.1</td>\n",
       "      <td>15.10</td>\n",
       "      <td>0.0</td>\n",
       "      <td>2.0</td>\n",
       "      <td>308.6</td>\n",
       "      <td>spring</td>\n",
       "      <td>2020s</td>\n",
       "    </tr>\n",
       "    <tr>\n",
       "      <td>1956-02</td>\n",
       "      <td>1956</td>\n",
       "      <td>2</td>\n",
       "      <td>-3.6</td>\n",
       "      <td>2.9</td>\n",
       "      <td>-0.35</td>\n",
       "      <td>22.0</td>\n",
       "      <td>2.3</td>\n",
       "      <td>NaN</td>\n",
       "      <td>winter</td>\n",
       "      <td>1950s</td>\n",
       "    </tr>\n",
       "    <tr>\n",
       "      <td>1959-02</td>\n",
       "      <td>1959</td>\n",
       "      <td>2</td>\n",
       "      <td>1.2</td>\n",
       "      <td>7.4</td>\n",
       "      <td>4.30</td>\n",
       "      <td>7.0</td>\n",
       "      <td>2.4</td>\n",
       "      <td>54.8</td>\n",
       "      <td>winter</td>\n",
       "      <td>1950s</td>\n",
       "    </tr>\n",
       "    <tr>\n",
       "      <td>1993-02</td>\n",
       "      <td>1993</td>\n",
       "      <td>2</td>\n",
       "      <td>2.5</td>\n",
       "      <td>7.2</td>\n",
       "      <td>4.85</td>\n",
       "      <td>2.0</td>\n",
       "      <td>2.4</td>\n",
       "      <td>51.0</td>\n",
       "      <td>winter</td>\n",
       "      <td>1990s</td>\n",
       "    </tr>\n",
       "    <tr>\n",
       "      <td>2011-04</td>\n",
       "      <td>2011</td>\n",
       "      <td>4</td>\n",
       "      <td>8.6</td>\n",
       "      <td>19.7</td>\n",
       "      <td>14.15</td>\n",
       "      <td>0.0</td>\n",
       "      <td>2.4</td>\n",
       "      <td>218.0</td>\n",
       "      <td>spring</td>\n",
       "      <td>2010s</td>\n",
       "    </tr>\n",
       "  </tbody>\n",
       "</table>\n",
       "</div>"
      ],
      "text/plain": [
       "         yyyy  mm  tmin  tmax   temp    af  rain    sun  season decade\n",
       "date                                                                  \n",
       "1995-08  1995   8  15.6  27.0  21.30   0.0   0.3  295.3  summer  1990s\n",
       "2018-06  2018   6  13.1  24.2  18.65   0.0   0.4  234.5  summer  2010s\n",
       "1978-10  1978  10   8.4  17.1  12.75   0.0   1.6   98.4  autumn  1970s\n",
       "2020-05  2020   5   9.1  21.1  15.10   0.0   2.0  308.6  spring  2020s\n",
       "1956-02  1956   2  -3.6   2.9  -0.35  22.0   2.3    NaN  winter  1950s\n",
       "1959-02  1959   2   1.2   7.4   4.30   7.0   2.4   54.8  winter  1950s\n",
       "1993-02  1993   2   2.5   7.2   4.85   2.0   2.4   51.0  winter  1990s\n",
       "2011-04  2011   4   8.6  19.7  14.15   0.0   2.4  218.0  spring  2010s"
      ]
     },
     "execution_count": 17,
     "metadata": {},
     "output_type": "execute_result"
    }
   ],
   "source": [
    "dataset[dataset.rain <= 3].sort_values(by='rain')"
   ]
  },
  {
   "cell_type": "markdown",
   "metadata": {
    "slideshow": {
     "slide_type": "subslide"
    }
   },
   "source": [
    "We can easily summarise the data. \n",
    "\n",
    "What's the average temperature for each month of the year?"
   ]
  },
  {
   "cell_type": "code",
   "execution_count": 18,
   "metadata": {
    "execution": {
     "iopub.execute_input": "2021-03-16T12:24:33.800Z",
     "iopub.status.busy": "2021-03-16T12:24:33.782Z",
     "iopub.status.idle": "2021-03-16T12:24:33.911Z",
     "shell.execute_reply": "2021-03-16T12:24:33.929Z"
    },
    "jupyter": {
     "outputs_hidden": false,
     "source_hidden": false
    },
    "nteract": {
     "transient": {
      "deleting": false
     }
    }
   },
   "outputs": [
    {
     "data": {
      "text/plain": [
       "date\n",
       "1      4.7\n",
       "2      5.0\n",
       "3      7.2\n",
       "4      9.6\n",
       "5     13.0\n",
       "6     16.2\n",
       "7     18.2\n",
       "8     17.9\n",
       "9     15.4\n",
       "10    11.8\n",
       "11     7.7\n",
       "12     5.5\n",
       "Name: temp, dtype: float64"
      ]
     },
     "execution_count": 18,
     "metadata": {},
     "output_type": "execute_result"
    }
   ],
   "source": [
    "dataset.groupby(dataset.index.month).temp.mean().round(1) "
   ]
  },
  {
   "cell_type": "markdown",
   "metadata": {
    "slideshow": {
     "slide_type": "subslide"
    }
   },
   "source": [
    "OK, but what does that look like on a graph?"
   ]
  },
  {
   "cell_type": "code",
   "execution_count": 19,
   "metadata": {
    "execution": {
     "iopub.execute_input": "2021-03-16T12:24:38.037Z",
     "iopub.status.busy": "2021-03-16T12:24:38.020Z",
     "iopub.status.idle": "2021-03-16T12:24:38.382Z",
     "shell.execute_reply": "2021-03-16T12:24:38.407Z"
    }
   },
   "outputs": [
    {
     "data": {
      "text/plain": [
       "<matplotlib.axes._subplots.AxesSubplot at 0x7fba300b7da0>"
      ]
     },
     "execution_count": 19,
     "metadata": {},
     "output_type": "execute_result"
    },
    {
     "data": {
      "image/png": "[encoded data removed]",
      "text/plain": [
       "<Figure size 720x432 with 1 Axes>"
      ]
     },
     "metadata": {},
     "output_type": "display_data"
    }
   ],
   "source": [
    "sns.lineplot(dataset.index.month,dataset.temp)"
   ]
  },
  {
   "cell_type": "markdown",
   "metadata": {
    "slideshow": {
     "slide_type": "slide"
    }
   },
   "source": [
    "## Can we have a look at those season questions now?\n",
    "\n",
    "* Is winter wetter than summer?\n",
    "* Is spring hotter than autumn?"
   ]
  },
  {
   "cell_type": "code",
   "execution_count": 20,
   "metadata": {
    "execution": {
     "iopub.execute_input": "2021-03-16T12:26:25.189Z",
     "iopub.status.busy": "2021-03-16T12:26:25.168Z",
     "iopub.status.idle": "2021-03-16T12:26:25.229Z",
     "shell.execute_reply": "2021-03-16T12:26:25.246Z"
    },
    "slideshow": {
     "slide_type": "subslide"
    }
   },
   "outputs": [
    {
     "data": {
      "text/html": [
       "<div>\n",
       "<style scoped>\n",
       "    .dataframe tbody tr th:only-of-type {\n",
       "        vertical-align: middle;\n",
       "    }\n",
       "\n",
       "    .dataframe tbody tr th {\n",
       "        vertical-align: top;\n",
       "    }\n",
       "\n",
       "    .dataframe thead th {\n",
       "        text-align: right;\n",
       "    }\n",
       "</style>\n",
       "<table border=\"1\" class=\"dataframe\">\n",
       "  <thead>\n",
       "    <tr style=\"text-align: right;\">\n",
       "      <th></th>\n",
       "      <th>tmin</th>\n",
       "      <th>tmax</th>\n",
       "      <th>temp</th>\n",
       "      <th>af</th>\n",
       "      <th>rain</th>\n",
       "      <th>sun</th>\n",
       "    </tr>\n",
       "    <tr>\n",
       "      <th>season</th>\n",
       "      <th></th>\n",
       "      <th></th>\n",
       "      <th></th>\n",
       "      <th></th>\n",
       "      <th></th>\n",
       "      <th></th>\n",
       "    </tr>\n",
       "  </thead>\n",
       "  <tbody>\n",
       "    <tr>\n",
       "      <td>winter</td>\n",
       "      <td>2.1</td>\n",
       "      <td>8.0</td>\n",
       "      <td>5.1</td>\n",
       "      <td>8.3</td>\n",
       "      <td>50.4</td>\n",
       "      <td>58.1</td>\n",
       "    </tr>\n",
       "    <tr>\n",
       "      <td>spring</td>\n",
       "      <td>5.6</td>\n",
       "      <td>14.2</td>\n",
       "      <td>9.9</td>\n",
       "      <td>2.0</td>\n",
       "      <td>43.5</td>\n",
       "      <td>155.4</td>\n",
       "    </tr>\n",
       "    <tr>\n",
       "      <td>summer</td>\n",
       "      <td>12.7</td>\n",
       "      <td>22.2</td>\n",
       "      <td>17.4</td>\n",
       "      <td>0.0</td>\n",
       "      <td>50.3</td>\n",
       "      <td>195.6</td>\n",
       "    </tr>\n",
       "    <tr>\n",
       "      <td>autumn</td>\n",
       "      <td>7.9</td>\n",
       "      <td>15.3</td>\n",
       "      <td>11.6</td>\n",
       "      <td>1.4</td>\n",
       "      <td>58.0</td>\n",
       "      <td>107.6</td>\n",
       "    </tr>\n",
       "  </tbody>\n",
       "</table>\n",
       "</div>"
      ],
      "text/plain": [
       "        tmin  tmax  temp   af  rain    sun\n",
       "season                                    \n",
       "winter   2.1   8.0   5.1  8.3  50.4   58.1\n",
       "spring   5.6  14.2   9.9  2.0  43.5  155.4\n",
       "summer  12.7  22.2  17.4  0.0  50.3  195.6\n",
       "autumn   7.9  15.3  11.6  1.4  58.0  107.6"
      ]
     },
     "execution_count": 20,
     "metadata": {},
     "output_type": "execute_result"
    }
   ],
   "source": [
    "dataset.groupby(dataset.season,sort=False).mean().drop(columns=['mm']).round(1)"
   ]
  },
  {
   "cell_type": "markdown",
   "metadata": {
    "slideshow": {
     "slide_type": "subslide"
    }
   },
   "source": [
    "Comparing rainfall by season:"
   ]
  },
  {
   "cell_type": "code",
   "execution_count": 21,
   "metadata": {
    "execution": {
     "iopub.execute_input": "2021-03-16T12:27:30.234Z",
     "iopub.status.busy": "2021-03-16T12:27:30.211Z",
     "iopub.status.idle": "2021-03-16T12:27:30.285Z",
     "shell.execute_reply": "2021-03-16T12:27:30.312Z"
    }
   },
   "outputs": [
    {
     "data": {
      "text/plain": [
       "<matplotlib.axes._subplots.AxesSubplot at 0x7fba40219898>"
      ]
     },
     "execution_count": 21,
     "metadata": {},
     "output_type": "execute_result"
    },
    {
     "data": {
      "image/png": "[encoded data removed]",
      "text/plain": [
       "<Figure size 720x432 with 1 Axes>"
      ]
     },
     "metadata": {},
     "output_type": "display_data"
    }
   ],
   "source": [
    "sns.boxplot('rain','season',data=dataset)"
   ]
  },
  {
   "cell_type": "markdown",
   "metadata": {
    "slideshow": {
     "slide_type": "subslide"
    }
   },
   "source": [
    "OK, so there's a tiny difference between winter and summer, but is that significant?"
   ]
  },
  {
   "cell_type": "code",
   "execution_count": 22,
   "metadata": {
    "execution": {
     "iopub.execute_input": "2021-03-16T12:27:47.745Z",
     "iopub.status.busy": "2021-03-16T12:27:47.726Z",
     "iopub.status.idle": "2021-03-16T12:27:47.785Z",
     "shell.execute_reply": "2021-03-16T12:27:47.800Z"
    },
    "jupyter": {
     "outputs_hidden": false,
     "source_hidden": false
    },
    "nteract": {
     "transient": {
      "deleting": false
     }
    }
   },
   "outputs": [
    {
     "data": {
      "text/plain": [
       "Ttest_indResult(statistic=0.041429265382103224, pvalue=0.9669725606281587)"
      ]
     },
     "execution_count": 22,
     "metadata": {},
     "output_type": "execute_result"
    }
   ],
   "source": [
    "stats.ttest_ind(dataset[dataset['season'] == 'winter'].rain,\n",
    "                dataset[dataset['season'] == 'summer'].rain)"
   ]
  },
  {
   "cell_type": "markdown",
   "metadata": {
    "slideshow": {
     "slide_type": "slide"
    }
   },
   "source": [
    "What about the temperatures?"
   ]
  },
  {
   "cell_type": "code",
   "execution_count": 23,
   "metadata": {
    "slideshow": {
     "slide_type": "-"
    }
   },
   "outputs": [
    {
     "data": {
      "text/plain": [
       "<matplotlib.axes._subplots.AxesSubplot at 0x7fba4025ec88>"
      ]
     },
     "execution_count": 23,
     "metadata": {},
     "output_type": "execute_result"
    },
    {
     "data": {
      "image/png": "[encoded data removed]",
      "text/plain": [
       "<Figure size 720x432 with 1 Axes>"
      ]
     },
     "metadata": {},
     "output_type": "display_data"
    }
   ],
   "source": [
    "sns.boxplot('temp','season',data=dataset)"
   ]
  },
  {
   "cell_type": "markdown",
   "metadata": {
    "slideshow": {
     "slide_type": "subslide"
    }
   },
   "source": [
    "There's a difference between spring and autumn, but is *this* significant?"
   ]
  },
  {
   "cell_type": "code",
   "execution_count": 24,
   "metadata": {
    "execution": {
     "iopub.execute_input": "2021-03-16T12:28:21.124Z",
     "iopub.status.busy": "2021-03-16T12:28:21.105Z",
     "iopub.status.idle": "2021-03-16T12:28:21.158Z",
     "shell.execute_reply": "2021-03-16T12:28:21.170Z"
    }
   },
   "outputs": [
    {
     "data": {
      "text/plain": [
       "Ttest_indResult(statistic=-5.734659066832859, pvalue=1.8207493789243043e-08)"
      ]
     },
     "execution_count": 24,
     "metadata": {},
     "output_type": "execute_result"
    }
   ],
   "source": [
    "stats.ttest_ind(dataset[dataset['season'] == 'spring'].temp,\n",
    "                dataset[dataset['season'] == 'autumn'].temp)"
   ]
  },
  {
   "cell_type": "markdown",
   "metadata": {
    "slideshow": {
     "slide_type": "slide"
    }
   },
   "source": [
    "## Are these measurements related? \n",
    "\n",
    "Is there a link between temperature and rainfall?"
   ]
  },
  {
   "cell_type": "code",
   "execution_count": 25,
   "metadata": {
    "execution": {
     "iopub.execute_input": "2021-03-16T12:28:51.013Z",
     "iopub.status.busy": "2021-03-16T12:28:50.988Z",
     "iopub.status.idle": "2021-03-16T12:28:51.151Z",
     "shell.execute_reply": "2021-03-16T12:28:51.181Z"
    },
    "slideshow": {
     "slide_type": "-"
    }
   },
   "outputs": [
    {
     "data": {
      "text/plain": [
       "<matplotlib.axes._subplots.AxesSubplot at 0x7fba503e3908>"
      ]
     },
     "execution_count": 25,
     "metadata": {},
     "output_type": "execute_result"
    },
    {
     "data": {
      "image/png": "[encoded data removed]",
      "text/plain": [
       "<Figure size 720x432 with 1 Axes>"
      ]
     },
     "metadata": {},
     "output_type": "display_data"
    }
   ],
   "source": [
    "sns.regplot('rain','temp',data=dataset)"
   ]
  },
  {
   "cell_type": "code",
   "execution_count": 26,
   "metadata": {
    "slideshow": {
     "slide_type": "fragment"
    }
   },
   "outputs": [
    {
     "data": {
      "text/plain": [
       "LinregressResult(slope=-0.0018020090090750352, intercept=11.092300966904176, rvalue=-0.010564801058563191, pvalue=0.7541711155191807, stderr=0.00575276930724277)"
      ]
     },
     "execution_count": 26,
     "metadata": {},
     "output_type": "execute_result"
    }
   ],
   "source": [
    "stats.linregress(dataset.rain,dataset.temp)\n"
   ]
  },
  {
   "cell_type": "markdown",
   "metadata": {
    "slideshow": {
     "slide_type": "slide"
    }
   },
   "source": [
    "What about between sunshine and temperature?"
   ]
  },
  {
   "cell_type": "code",
   "execution_count": 27,
   "metadata": {},
   "outputs": [
    {
     "data": {
      "text/plain": [
       "<matplotlib.axes._subplots.AxesSubplot at 0x7fba60f8b9e8>"
      ]
     },
     "execution_count": 27,
     "metadata": {},
     "output_type": "execute_result"
    },
    {
     "data": {
      "image/png": "[encoded data removed]",
      "text/plain": [
       "<Figure size 720x432 with 1 Axes>"
      ]
     },
     "metadata": {},
     "output_type": "display_data"
    }
   ],
   "source": [
    "sns.regplot('sun','temp',data=dataset)"
   ]
  },
  {
   "cell_type": "code",
   "execution_count": 28,
   "metadata": {
    "slideshow": {
     "slide_type": "fragment"
    }
   },
   "outputs": [
    {
     "data": {
      "text/plain": [
       "LinregressResult(slope=0.061922093226792374, intercept=3.1064342936479505, rvalue=0.791061298856011, pvalue=1.002506732366532e-166, stderr=0.0017245388085363924)"
      ]
     },
     "execution_count": 28,
     "metadata": {},
     "output_type": "execute_result"
    }
   ],
   "source": [
    "stats.linregress(dataset.dropna().sun,dataset.dropna().temp)\n"
   ]
  },
  {
   "cell_type": "markdown",
   "metadata": {
    "slideshow": {
     "slide_type": "slide"
    }
   },
   "source": [
    "## Does this data have anything to say about climate change?\n",
    "\n",
    "How has the temperature varied over the years the data has been collected?"
   ]
  },
  {
   "cell_type": "code",
   "execution_count": 29,
   "metadata": {
    "execution": {
     "iopub.execute_input": "2021-03-16T12:29:12.819Z",
     "iopub.status.busy": "2021-03-16T12:29:12.740Z",
     "iopub.status.idle": "2021-03-16T12:29:12.928Z",
     "shell.execute_reply": "2021-03-16T12:29:12.952Z"
    },
    "jupyter": {
     "outputs_hidden": false,
     "source_hidden": false
    },
    "nteract": {
     "transient": {
      "deleting": false
     }
    },
    "slideshow": {
     "slide_type": "-"
    }
   },
   "outputs": [
    {
     "data": {
      "text/plain": [
       "<matplotlib.axes._subplots.AxesSubplot at 0x7fba503fa0f0>"
      ]
     },
     "execution_count": 29,
     "metadata": {},
     "output_type": "execute_result"
    },
    {
     "data": {
      "image/png": "[encoded data removed]",
      "text/plain": [
       "<Figure size 720x432 with 1 Axes>"
      ]
     },
     "metadata": {},
     "output_type": "display_data"
    }
   ],
   "source": [
    "sns.lineplot(dataset.index.end_time,dataset.temp)"
   ]
  },
  {
   "cell_type": "markdown",
   "metadata": {
    "slideshow": {
     "slide_type": "fragment"
    }
   },
   "source": [
    "So there's a periodic pattern - summers *are* warmer than winters, but is there any overall trend?"
   ]
  },
  {
   "cell_type": "code",
   "execution_count": 30,
   "metadata": {
    "execution": {
     "iopub.execute_input": "2021-03-16T12:33:48.350Z",
     "iopub.status.busy": "2021-03-16T12:33:48.330Z",
     "iopub.status.idle": "2021-03-16T12:33:49.431Z",
     "shell.execute_reply": "2021-03-16T12:33:49.459Z"
    },
    "slideshow": {
     "slide_type": "subslide"
    }
   },
   "outputs": [
    {
     "data": {
      "text/plain": [
       "<matplotlib.axes._subplots.AxesSubplot at 0x7fba40299ac8>"
      ]
     },
     "execution_count": 30,
     "metadata": {},
     "output_type": "execute_result"
    },
    {
     "data": {
      "image/png": "[encoded data removed]",
      "text/plain": [
       "<Figure size 720x432 with 1 Axes>"
      ]
     },
     "metadata": {},
     "output_type": "display_data"
    }
   ],
   "source": [
    "dataset1=dataset[dataset.index<2021]\n",
    "sns.lineplot(dataset1.index.year,dataset1.temp)"
   ]
  },
  {
   "cell_type": "markdown",
   "metadata": {
    "slideshow": {
     "slide_type": "fragment"
    }
   },
   "source": [
    "Well, it seems to be sloping up a bit, but it's a bit hard to see.\n",
    "\n",
    "Are there any other ways to visualise this?"
   ]
  },
  {
   "cell_type": "code",
   "execution_count": 31,
   "metadata": {
    "execution": {
     "iopub.execute_input": "2021-03-16T12:33:56.550Z",
     "iopub.status.busy": "2021-03-16T12:33:56.536Z",
     "iopub.status.idle": "2021-03-16T12:33:56.587Z",
     "shell.execute_reply": "2021-03-16T12:33:56.599Z"
    },
    "slideshow": {
     "slide_type": "subslide"
    }
   },
   "outputs": [
    {
     "data": {
      "text/plain": [
       "<matplotlib.axes._subplots.AxesSubplot at 0x7fba739929e8>"
      ]
     },
     "execution_count": 31,
     "metadata": {},
     "output_type": "execute_result"
    },
    {
     "data": {
      "image/png": "[encoded data removed]",
      "text/plain": [
       "<Figure size 720x432 with 1 Axes>"
      ]
     },
     "metadata": {},
     "output_type": "display_data"
    }
   ],
   "source": [
    "annual = dataset1.resample('A').mean()\n",
    "sns.heatmap([annual['temp']],\n",
    "            cbar=False, xticklabels=False, yticklabels=False, cmap='coolwarm')"
   ]
  },
  {
   "cell_type": "markdown",
   "metadata": {
    "slideshow": {
     "slide_type": "subslide"
    }
   },
   "source": [
    "Hey, that looks great. Could we get that on flipflops maybe? \n",
    "More details [here](https://en.wikipedia.org/wiki/Warming_stripes). \n",
    "\n",
    "![Warming Stripes](https://cdn.vox-cdn.com/uploads/chorus_asset/file/15274135/Screen_Shot_2019_03_04_at_12.05.58_PM.png)"
   ]
  },
  {
   "cell_type": "markdown",
   "metadata": {
    "slideshow": {
     "slide_type": "subslide"
    }
   },
   "source": [
    "OK, so that's year by year. What about over the decades?"
   ]
  },
  {
   "cell_type": "code",
   "execution_count": 32,
   "metadata": {
    "execution": {
     "iopub.execute_input": "2021-03-16T12:34:14.514Z",
     "iopub.status.busy": "2021-03-16T12:34:14.495Z",
     "iopub.status.idle": "2021-03-16T12:34:14.668Z",
     "shell.execute_reply": "2021-03-16T12:34:14.702Z"
    },
    "slideshow": {
     "slide_type": "-"
    }
   },
   "outputs": [
    {
     "data": {
      "text/plain": [
       "<matplotlib.axes._subplots.AxesSubplot at 0x7fba2009aba8>"
      ]
     },
     "execution_count": 32,
     "metadata": {},
     "output_type": "execute_result"
    },
    {
     "data": {
      "image/png": "[encoded data removed]",
      "text/plain": [
       "<Figure size 720x432 with 1 Axes>"
      ]
     },
     "metadata": {},
     "output_type": "display_data"
    }
   ],
   "source": [
    "sns.lineplot(dataset.decade,dataset.temp)"
   ]
  },
  {
   "cell_type": "markdown",
   "metadata": {
    "slideshow": {
     "slide_type": "fragment"
    }
   },
   "source": [
    "But you've only got a year and a bit of data from the 1940s, and just 17 months from the 2020s. \n",
    "\n",
    "Can't we get rid of those years?"
   ]
  },
  {
   "cell_type": "code",
   "execution_count": 33,
   "metadata": {
    "execution": {
     "iopub.execute_input": "2021-03-16T12:34:49.858Z",
     "iopub.status.busy": "2021-03-16T12:34:49.839Z",
     "iopub.status.idle": "2021-03-16T12:34:49.998Z",
     "shell.execute_reply": "2021-03-16T12:34:50.018Z"
    },
    "jupyter": {
     "outputs_hidden": false,
     "source_hidden": false
    },
    "nteract": {
     "transient": {
      "deleting": false
     }
    },
    "slideshow": {
     "slide_type": "subslide"
    }
   },
   "outputs": [
    {
     "data": {
      "text/plain": [
       "<matplotlib.axes._subplots.AxesSubplot at 0x7fba60ff2fd0>"
      ]
     },
     "execution_count": 33,
     "metadata": {},
     "output_type": "execute_result"
    },
    {
     "data": {
      "image/png": "[encoded data removed]",
      "text/plain": [
       "<Figure size 720x432 with 1 Axes>"
      ]
     },
     "metadata": {},
     "output_type": "display_data"
    }
   ],
   "source": [
    "dataset2 = dataset[(dataset.index.year > 1949) & (dataset.index.year < 2020)]\n",
    "sns.lineplot(dataset2.decade, dataset2.temp)"
   ]
  },
  {
   "cell_type": "markdown",
   "metadata": {
    "slideshow": {
     "slide_type": "subslide"
    }
   },
   "source": [
    "What about a five year, rolling average?"
   ]
  },
  {
   "cell_type": "code",
   "execution_count": 34,
   "metadata": {
    "execution": {
     "iopub.execute_input": "2021-03-16T12:34:56.718Z",
     "iopub.status.busy": "2021-03-16T12:34:56.701Z",
     "iopub.status.idle": "2021-03-16T12:34:56.885Z",
     "shell.execute_reply": "2021-03-16T12:34:56.911Z"
    },
    "jupyter": {
     "outputs_hidden": false,
     "source_hidden": false
    },
    "nteract": {
     "transient": {
      "deleting": false
     }
    },
    "slideshow": {
     "slide_type": "-"
    }
   },
   "outputs": [
    {
     "data": {
      "text/plain": [
       "<matplotlib.axes._subplots.AxesSubplot at 0x7fba739670f0>"
      ]
     },
     "execution_count": 34,
     "metadata": {},
     "output_type": "execute_result"
    },
    {
     "data": {
      "image/png": "[encoded data removed]",
      "text/plain": [
       "<Figure size 720x432 with 1 Axes>"
      ]
     },
     "metadata": {},
     "output_type": "display_data"
    }
   ],
   "source": [
    "dataset['temps'] = dataset.temp.rolling(window=60).mean()\n",
    "sns.lineplot(dataset.index.end_time, dataset.temps)"
   ]
  },
  {
   "cell_type": "markdown",
   "metadata": {
    "collapsed": true,
    "jupyter": {
     "outputs_hidden": false,
     "source_hidden": false
    },
    "nteract": {
     "transient": {
      "deleting": false
     }
    },
    "slideshow": {
     "slide_type": "slide"
    }
   },
   "source": [
    "# Implications\n",
    "\n",
    "## Ethics in the time of coronavirus\n",
    "\n",
    "Cynicism and skepticism"
   ]
  },
  {
   "cell_type": "markdown",
   "metadata": {
    "slideshow": {
     "slide_type": "slide"
    }
   },
   "source": [
    "# Trust no one"
   ]
  },
  {
   "cell_type": "markdown",
   "metadata": {
    "slideshow": {
     "slide_type": "subslide"
    }
   },
   "source": [
    "# DO NOT TRY THIS AT HOME!\n",
    "\n",
    "The following three slides are intended to illustrate some mistakes and dangers in conducting online surveys, particularly with young people. "
   ]
  },
  {
   "cell_type": "markdown",
   "metadata": {
    "slideshow": {
     "slide_type": "subslide"
    }
   },
   "source": [
    "## Take my survey!\n",
    "\n",
    "![Covid survey part 1](covidsurvey1.png)"
   ]
  },
  {
   "cell_type": "markdown",
   "metadata": {
    "slideshow": {
     "slide_type": "subslide"
    }
   },
   "source": [
    "## Take my survey!\n",
    "\n",
    "![Covid survey part 2](covidsurvey2.png)"
   ]
  },
  {
   "cell_type": "markdown",
   "metadata": {
    "slideshow": {
     "slide_type": "subslide"
    }
   },
   "source": [
    "## Take my survey!\n",
    "\n",
    "![Covid survey part 3](covidsurvey3.png)"
   ]
  },
  {
   "cell_type": "markdown",
   "metadata": {
    "slideshow": {
     "slide_type": "slide"
    }
   },
   "source": [
    "## London, 1854\n",
    "\n",
    "![John Snow's map of cholera cases](snow.jpg)"
   ]
  },
  {
   "cell_type": "markdown",
   "metadata": {
    "slideshow": {
     "slide_type": "subslide"
    }
   },
   "source": [
    "## Individual consent vs the public good?\n",
    "\n",
    ">Because they work with whole populations, epidemiologists can see what is dangerous and what isn’t, whether particular illnesses are becoming more or less common, what treatment works and what doesn’t, and – in the case of surgeons – who is dangerous and who isn’t. **Epidemiology has helped save more lives than any of the other more glamorous branches of medicine.**\n",
    "\n",
    "[Traynor, 2001](https://www.theguardian.com/society/2001/apr/12/3)"
   ]
  },
  {
   "cell_type": "markdown",
   "metadata": {
    "slideshow": {
     "slide_type": "slide"
    }
   },
   "source": [
    "## Mobility trends\n",
    "\n",
    "![Mobility trends](mobility.png)\n",
    "\n",
    "[Apple](https://covid19.apple.com/mobility)"
   ]
  },
  {
   "cell_type": "markdown",
   "metadata": {
    "slideshow": {
     "slide_type": "subslide"
    }
   },
   "source": [
    "## Phone locations\n",
    "\n",
    "![Google Mobility report](googlemobility.png)\n",
    "\n",
    "[Google](https://www.google.com/covid19/mobility/)"
   ]
  },
  {
   "cell_type": "markdown",
   "metadata": {
    "slideshow": {
     "slide_type": "subslide"
    }
   },
   "source": [
    "## TraceTogether\n",
    "\n",
    "![TraceTogether](tracetogether.jpg)\n",
    "\n",
    "> “Data will only be used for Covid-19 contact tracing.”\n",
    "\n",
    "...\n",
    "\n",
    "> \"Also, we want to be transparent with you. TraceTogether data may be used in circumstances where citizen safety and security is or has been affected ... The Singapore Police Force is empowered under the CPC to obtain any data, including TraceTogether data, for criminal investigations.”"
   ]
  },
  {
   "cell_type": "markdown",
   "metadata": {
    "slideshow": {
     "slide_type": "subslide"
    }
   },
   "source": [
    "## NHS COVID-19\n",
    "\n",
    "![NHS COVID-19](nhscovid19.png)\n",
    "\n",
    "> Apple and Google have insisted that rules are rules. What this underlines is that governments around the world have been forced to frame part of their response to the global pandemic according to rules set down by giant unelected corporations. At a time when the power of the tech giants is under the microscope as never before, that will leave many people feeling uncomfortable.\n",
    "\n",
    "[Rory Cellan-Jones, 2021](https://www.bbc.co.uk/news/technology-56713017)\n",
    "\n",
    "> What was strange about the UK is that we seemed to trust our government with our secrets less than we trusted Apple and Google.\n",
    "\n",
    "[Rory Cellan-Jones, 2021](https://www.bloomsbury.com/uk/always-on-9781472981196/)"
   ]
  },
  {
   "cell_type": "markdown",
   "metadata": {
    "slideshow": {
     "slide_type": "subslide"
    }
   },
   "source": [
    "## Asymptomatic testing\n",
    "\n",
    "> You will need to satisfy yourself that you have a lawful basis for processing the personal data. You might want to consider whether the duties prescribed in education legislation on schools ... to make arrangements to safeguard and promote the welfare of pupils provide sufficient legal basis without having to rely on consent.\n",
    "\n",
    "[DfE, 2020](https://assets.publishing.service.gov.uk/government/uploads/system/uploads/attachment_data/file/950515/Schools_Colleges_Testing_Handbook_revised_04012021.pdf)"
   ]
  },
  {
   "cell_type": "markdown",
   "metadata": {
    "slideshow": {
     "slide_type": "slide"
    }
   },
   "source": [
    "## Question everything"
   ]
  },
  {
   "cell_type": "markdown",
   "metadata": {
    "slideshow": {
     "slide_type": "slide"
    }
   },
   "source": [
    "## Visualising the pandemic\n",
    "\n",
    "![England heatmap](heatmap.png)\n",
    "\n",
    "[UK Governmentm 25/6/21](https://coronavirus.data.gov.uk/details/cases?areaType=nation%26areaName=England#card-cases_by_specimen_date_age_demographics)"
   ]
  },
  {
   "cell_type": "markdown",
   "metadata": {
    "slideshow": {
     "slide_type": "slide"
    }
   },
   "source": [
    "## 100,000 tests a day, by the end of April!\n",
    "\n",
    "![tests on 30 April](covidtests.jpeg)"
   ]
  },
  {
   "cell_type": "markdown",
   "metadata": {
    "slideshow": {
     "slide_type": "subslide"
    }
   },
   "source": [
    "## ... and then what?\n",
    "\n",
    "![daily tests, 30 April](dailytests.png)\n",
    "\n",
    "[UK Government, May 9 2020](https://assets.publishing.service.gov.uk/government/uploads/system/uploads/attachment_data/file/884010/2020-05-09_COVID-19_Press_Conference_Slides__7_.pdf)"
   ]
  },
  {
   "cell_type": "markdown",
   "metadata": {
    "slideshow": {
     "slide_type": "subslide"
    }
   },
   "source": [
    "## But actually...\n",
    "\n",
    "![Testing figures](testing.png)"
   ]
  },
  {
   "cell_type": "markdown",
   "metadata": {
    "slideshow": {
     "slide_type": "slide"
    }
   },
   "source": [
    "## On easing lockdown 1.0\n",
    "\n",
    "![R and lockdown](rgraph.png)\n",
    "\n",
    "[Boris Johnson, May 10 2020](https://www.youtube.com/watch?&v=bjvRhrJqNHI)"
   ]
  },
  {
   "cell_type": "markdown",
   "metadata": {
    "slideshow": {
     "slide_type": "slide"
    }
   },
   "source": [
    "## COVID Alert\n",
    "\n",
    "![Alert status](alerts.png)\n",
    "\n",
    "[Boris Johnson, May 10 2020](https://www.youtube.com/watch?&v=bjvRhrJqNHI)"
   ]
  },
  {
   "cell_type": "markdown",
   "metadata": {
    "slideshow": {
     "slide_type": "subslide"
    }
   },
   "source": [
    "## Calculating the alert level\n",
    "\n",
    "![Equation](equation.png)\n",
    "\n",
    "[Boris Johnson, May 10 2020](https://www.youtube.com/watch?&v=bjvRhrJqNHI)"
   ]
  },
  {
   "cell_type": "markdown",
   "metadata": {
    "slideshow": {
     "slide_type": "fragment"
    }
   },
   "source": [
    "On current figures, the alert level is 4,684,573.2 to 4,684,573.4"
   ]
  },
  {
   "cell_type": "markdown",
   "metadata": {
    "slideshow": {
     "slide_type": "slide"
    }
   },
   "source": [
    "# Questions?\n",
    "\n",
    "These slides: [bit.ly/atmconf2021](http://bit.ly/atmconf2021)\n",
    "\n",
    "m.berry@roehampton.ac.uk\n",
    "\n",
    "[milesberry.net](http://milesberry.net)\n",
    "\n",
    "[@mberry](http://twitter.com/mberry)\n"
   ]
  }
 ],
 "metadata": {
  "celltoolbar": "Slideshow",
  "colab": {
   "name": "dicerolling.ipynb",
   "provenance": []
  },
  "kernelspec": {
   "display_name": "Python 3.6.10 64-bit ('base': conda)",
   "language": "python",
   "name": "python3610jvsc74a57bd0e44d74ac281a506745e756c545c434c4862fdd6500bfe8c900f4eb2e9fdf6727"
  },
  "language_info": {
   "codemirror_mode": {
    "name": "ipython",
    "version": 3
   },
   "file_extension": ".py",
   "mimetype": "text/x-python",
   "name": "python",
   "nbconvert_exporter": "python",
   "pygments_lexer": "ipython3",
   "version": "3.6.10"
  },
  "livereveal": {
   "autolaunch": true
  },
  "metadata": {
   "interpreter": {
    "hash": "e44d74ac281a506745e756c545c434c4862fdd6500bfe8c900f4eb2e9fdf6727"
   }
  },
  "nteract": {
   "version": "0.25.0"
  },
  "rise": {
   "autolaunch": true,
   "scroll": true,
   "theme": "simple"
  }
 },
 "nbformat": 4,
 "nbformat_minor": 2
}
