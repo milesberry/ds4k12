{
 "cells": [
  {
   "cell_type": "markdown",
   "id": "5ac98c65",
   "metadata": {
    "slideshow": {
     "slide_type": "slide"
    }
   },
   "source": [
    "# 20 things to do with a computer: lessons from Papert\n",
    "\n",
    "ATM Conference  \n",
    "12 April 2022\n",
    "\n",
    "Prof Miles Berry  \n",
    "University of Roehampton  \n",
    "m.berry@roehampton.ac.uk\n",
    "\n",
    "This notebook: [bit.ly/atmconf22](http://bit.ly/atmconf22)\n"
   ]
  },
  {
   "cell_type": "markdown",
   "id": "85b086ee",
   "metadata": {
    "slideshow": {
     "slide_type": "slide"
    }
   },
   "source": [
    "## Outline\n",
    "\n",
    "* Papert's contribution\n",
    "* Pen mode in Scratch - geometric figures\n",
    "* The Turtle module in Python - fractals\n",
    "* Making a turtle in P5.js - modelling\n",
    "* Turtles in the curriculum?\n",
    "\n"
   ]
  },
  {
   "cell_type": "markdown",
   "id": "d71a875c",
   "metadata": {
    "slideshow": {
     "slide_type": "slide"
    }
   },
   "source": [
    "### Twenty Things to do with a Computer (1971)\n",
    "\n",
    "> When people talk about computers in education they do not all have the same image in mind. Some think of using the computer to program the kid; others think of using the kid to program the computer. But most of them have at least this in common: the transaction between the computer and the kid will be some kind of 'conversation' or 'questions and answers' in words and numbers.\n",
    "\n",
    "([Papert and Solomon, 1971](http://www.stager.org/articles/twentythings.pdf))"
   ]
  },
  {
   "cell_type": "markdown",
   "id": "8d353cf4",
   "metadata": {
    "slideshow": {
     "slide_type": "subslide"
    }
   },
   "source": [
    "1. **Make a turtle**\n",
    "2. Draw a person\n",
    "3. Turtle biology\n",
    "4. Make a display turtle\n",
    "5. Play Spacewar\n",
    "6. **Differential geometry**\n",
    "7. **Draw spirals**\n",
    "8. Learn to debug\n",
    "9. **Grow flowers**\n",
    "10. Make a movie\n",
    "11. Program a tune\n",
    "12. Play with semi-random musical effects\n",
    "13. Control a crane\n",
    "14. Make a super light show\n",
    "15. Write concrete poetry\n",
    "16. Try computer aided instruction\n",
    "17. Physics in the fingertips\n",
    "18. Explain yourself\n",
    "19. Puppets\n",
    "20. Think up twenty more things to do\n",
    "\n",
    "([Papert and Solomon, 1971](http://www.stager.org/articles/twentythings.pdf))"
   ]
  },
  {
   "cell_type": "markdown",
   "id": "3090877a",
   "metadata": {
    "slideshow": {
     "slide_type": "slide"
    }
   },
   "source": [
    "### Mindstorms (1980)\n",
    "\n",
    "> In many schools today, the phrase \"computer-aided instruction\" means making the computer teach the child. One might say the computer is being used to program the child. In my vision, the child programs the computer and, in doing so, both acquires a sense of mastery over a piece of the most modern and powerful technology and establishes an intimate contact with some of the deepest ideas\n",
    "\n",
    "([Papert 1980](http://worrydream.com/refs/Papert%20-%20Mindstorms%201st%20ed.pdf))"
   ]
  },
  {
   "cell_type": "markdown",
   "id": "efd14c42",
   "metadata": {
    "slideshow": {
     "slide_type": "subslide"
    }
   },
   "source": [
    "![The turtles](images/theturtles.png)"
   ]
  },
  {
   "cell_type": "markdown",
   "id": "5036bc8f",
   "metadata": {
    "slideshow": {
     "slide_type": "subslide"
    }
   },
   "source": [
    "### Turtle as manipulative?\n",
    "\n",
    ">To make the Turtle trace a square you walk in square yourself and describe what you are doing in TURTLE TALK. And so, working with the Turtle mobilizes the child's expertise and pleasure in motion. It draws on the child's well-established knowledge of 'body geometry' as a starting point for the development of bridges into formal geometry.\n",
    "\n",
    "([Papert 1980](http://worrydream.com/refs/Papert%20-%20Mindstorms%201st%20ed.pdf))"
   ]
  },
  {
   "cell_type": "markdown",
   "id": "e1b110b4",
   "metadata": {
    "slideshow": {
     "slide_type": "subslide"
    }
   },
   "source": [
    "### Does programming develop *thinking*?\n",
    "\n",
    "> I began to see how children who had learned to program computers could use very concrete computer models to think about thinking and to learn about learning and in doing so, enhance their powers as psychologists and as epistemologists.\n",
    "\n",
    "([Papert 1980](http://worrydream.com/refs/Papert%20-%20Mindstorms%201st%20ed.pdf))"
   ]
  },
  {
   "cell_type": "markdown",
   "id": "c9401b66",
   "metadata": {
    "slideshow": {
     "slide_type": "subslide"
    }
   },
   "source": [
    "### But teach thinking too\n",
    "\n",
    ">We find that the entry level of Logo does not present conceptual problems for the school-aged child... With accompanying instruction in thinking skills, developments in planning skill may in fact be achieved.\n",
    "\n",
    "([Pea 1983](http://web.stanford.edu/~roypea/.../A39_Pea_87d_CCT_TR_MS.pdf))"
   ]
  },
  {
   "cell_type": "markdown",
   "id": "3d8eb506",
   "metadata": {
    "slideshow": {
     "slide_type": "subslide"
    }
   },
   "source": [
    "### It depends what you mean by thinking...\n",
    "\n",
    ">We found evidence for a moderate, overall transfer effect... Positive transfer to situations that required creative thinking, mathematical skills, and metacognition, followed by spatial skills and reasoning existed. School achievement and literacy, however, benefited the least from learning to program.\n",
    "\n",
    "([Scherer, Siddiq & Sánchez Viveros, 2019](https://nifu.brage.unit.no/nifu-xmlui/bitstream/handle/11250/2639856/SiddiqF_2019_The_cognitive.pdf?sequence=1))"
   ]
  },
  {
   "cell_type": "markdown",
   "id": "bd09b70f",
   "metadata": {
    "slideshow": {
     "slide_type": "subslide"
    }
   },
   "source": [
    "### Can we fix it?\n",
    "\n",
    ">Children are held back in their learning because they have a model of learning in which you have either 'got it' or 'got it wrong'... The question to ask about the program is not whether it is right or wrong, but if it is fixable… Thinking about learning by analogy with developing a program is a powerful and accessible way to get started on becoming more articulate about one's debugging strategies and more deliberate about improving them.\n",
    "\n",
    "([Papert 1980](http://worrydream.com/refs/Papert%20-%20Mindstorms%201st%20ed.pdf))\n"
   ]
  },
  {
   "cell_type": "markdown",
   "id": "6b43b41f",
   "metadata": {
    "slideshow": {
     "slide_type": "slide"
    }
   },
   "source": [
    "### Constructionism (1991)\n",
    "\n",
    "> Constructionism shares constructivism's connotation of learning as \"building knowledge structures\"... It then adds the idea that this happens especially felicitously in a context where the learner is consciously engaged in constructing a public entity\n",
    "\n",
    "([Papert and Harel, 1991](http://www.papert.org/articles/SituatingConstructionism.html))\n"
   ]
  },
  {
   "cell_type": "markdown",
   "id": "13cbe596",
   "metadata": {
    "slideshow": {
     "slide_type": "slide"
    }
   },
   "source": [
    "### The Children's Machine (1993)\n",
    "\n",
    ">Using speech, touch or gesture, she would steer the machine to the topic of interest, quickly navigating through a knowledge space much broader than the contents of any printed encyclopedia.  \n",
    "Children who grow up with the opportunity to explore the jungles and the cities and the deep oceans and ancient myths and outer space will be even less likely to sit quietly through anything even vaguely resembling the elementary school curriculum as we have known it up to now.\n",
    "\n",
    "([Papert, 1993](https://lcl.media.mit.edu/resources/readings/childrens-machine.pdf))\n"
   ]
  },
  {
   "cell_type": "markdown",
   "id": "a14aa594",
   "metadata": {
    "slideshow": {
     "slide_type": "slide"
    }
   },
   "source": [
    "### OLPC (c. 2005)\n",
    "\n",
    "![OLPC](images/olpc.jpeg)"
   ]
  },
  {
   "cell_type": "markdown",
   "id": "efca5a68",
   "metadata": {
    "slideshow": {
     "slide_type": "slide"
    }
   },
   "source": [
    "### Scratch (2007)\n",
    "\n",
    "> When you make something in the world, it becomes an external representation of ideas in your head. It enables you to play with your ideas and to gain a better understanding of the possibilities and limitations of your ideas. By giving an external form and shape to your ideas, you also provide opportunities for other people to play with your ideas and give suggestions on your ideas. There is a constant interplay between making new things in the world and making new ideas in your head.\n",
    "\n",
    "([Resnick 2013](https://web.media.mit.edu/~mres/papers/CulturesCreativityEssay.pdf))\n",
    "\n"
   ]
  },
  {
   "cell_type": "markdown",
   "id": "299d9536",
   "metadata": {
    "slideshow": {
     "slide_type": "slide"
    }
   },
   "source": [
    "## Turtle graphics in Scratch"
   ]
  },
  {
   "cell_type": "markdown",
   "id": "d83c2785",
   "metadata": {
    "slideshow": {
     "slide_type": "slide"
    }
   },
   "source": [
    "### Pros and cons\n",
    "\n",
    "#### Pros\n",
    "\n",
    "* It's Scratch!\n",
    "* No syntax to learn\n",
    "* Multilingual\n",
    "* The Scratch community\n",
    "* Integration with other tools\n",
    "\n",
    "#### Cons\n",
    "\n",
    "* It's an extension\n",
    "* No turtle sprite\n",
    "* Sprites move instantly"
   ]
  },
  {
   "cell_type": "markdown",
   "id": "2cb3eae4",
   "metadata": {
    "slideshow": {
     "slide_type": "subslide"
    }
   },
   "source": [
    "### Movement in Scratch\n",
    "\n",
    "![Scratch movement](images/scratchmove.png)"
   ]
  },
  {
   "cell_type": "markdown",
   "id": "007d6498",
   "metadata": {
    "slideshow": {
     "slide_type": "subslide"
    }
   },
   "source": [
    "### The pen in Scratch\n",
    "\n",
    "![Scratch pen](images/scratchpen.png)\n",
    "\n",
    "So let's [try this now](https://scratch.mit.edu/projects/674316470/editor/)..."
   ]
  },
  {
   "cell_type": "markdown",
   "id": "e3f5cd99",
   "metadata": {
    "slideshow": {
     "slide_type": "subslide"
    }
   },
   "source": [
    "### Some challenges...\n",
    "\n",
    "![Scratch turtle challenges](images/scratchchallenge.png)"
   ]
  },
  {
   "cell_type": "markdown",
   "id": "a75b2e18",
   "metadata": {
    "slideshow": {
     "slide_type": "slide"
    }
   },
   "source": [
    "### 'Differential geometry'\n",
    "\n",
    "The \"turtle language\" provides a very remarkable formal system for describing many geometric objects; we think vastly superior to Cartesian coordinates as an introductory path into geometry. To see this let's study a very simple procedure known in our fifth grade class as POLY. In its simplest form `POLY` has two inputs called `STEP` and `ANGLE`. In LOGO it is written:\n",
    "\n",
    "```\n",
    "TO POLY :STEP :ANGLE  \n",
    "    FORWARD : STEP  \n",
    "    LEFT :ANGLE  \n",
    "    POLY :STEP :ANGLE  \n",
    "END\n",
    "```\n",
    "\n",
    "The following pictures show the effect of invoking this procedure with different inputs: (the first input is the side size, the second is the angle)\n",
    "\n",
    "([Papert and Solomon, 1971](http://www.stager.org/articles/twentythings.pdf))\n"
   ]
  },
  {
   "cell_type": "markdown",
   "id": "f3bd11b4",
   "metadata": {
    "slideshow": {
     "slide_type": "subslide"
    }
   },
   "source": [
    "![Poly output in Logo](images/20thingspoly.png)"
   ]
  },
  {
   "cell_type": "markdown",
   "id": "b427cb54",
   "metadata": {
    "slideshow": {
     "slide_type": "subslide"
    }
   },
   "source": [
    "### Draw Spirals\n",
    "\n",
    "To change the procedure called `POLY` so as to draw spirals we make a very small addition to line 3. We also change the name but that is of course unnecessary.\n",
    "```\n",
    "TO POLYSPI :STEP :ANGLE\n",
    "    FORWARD :STEP\n",
    "    LEFT :ANGLE\n",
    "    POLYSPI :STEP+S :ANGLE\n",
    "END\n",
    "```\n",
    "\n",
    "\n"
   ]
  },
  {
   "cell_type": "markdown",
   "id": "154b43e9",
   "metadata": {
    "slideshow": {
     "slide_type": "subslide"
    }
   },
   "source": [
    "![polyspi output](images/polyspi.png)"
   ]
  },
  {
   "cell_type": "markdown",
   "id": "6051d7f6",
   "metadata": {
    "slideshow": {
     "slide_type": "subslide"
    }
   },
   "source": [
    "### So what could possibly go wrong?\n",
    "\n",
    "![polyspi in Scratch](images/scratchpolyspi.png)\n",
    "\n",
    "Try [here...](https://scratch.mit.edu/projects/674371325/editor/)"
   ]
  },
  {
   "cell_type": "markdown",
   "id": "011c66a3",
   "metadata": {
    "slideshow": {
     "slide_type": "slide"
    }
   },
   "source": [
    "## Fractals in Python"
   ]
  },
  {
   "cell_type": "markdown",
   "id": "163301c2",
   "metadata": {
    "slideshow": {
     "slide_type": "slide"
    }
   },
   "source": [
    "### Reading code comes before writing code\n",
    "\n",
    "PRIMM:\n",
    "\n",
    "* Predict\n",
    "* Run \n",
    "* Investigate\n",
    "* Modify\n",
    "* Make\n",
    "\n",
    "See, e.g. [Sentance, Waite & Kallia (2019)](https://doi.org/10.1080/08993408.2019.1608781)"
   ]
  },
  {
   "cell_type": "markdown",
   "id": "c5b5d183",
   "metadata": {
    "slideshow": {
     "slide_type": "slide"
    }
   },
   "source": [
    "We need to install a version of Python Turtle that works in Jupyter / Colab. I'm using ColabTurtlePlus. You can read [the documentation](https://larryriddle.agnesscott.org/ColabTurtlePlus/documentation2.html)."
   ]
  },
  {
   "cell_type": "code",
   "execution_count": 40,
   "id": "273e82f8",
   "metadata": {
    "slideshow": {
     "slide_type": "-"
    }
   },
   "outputs": [
    {
     "name": "stdout",
     "output_type": "stream",
     "text": [
      "Requirement already satisfied: ColabTurtlePlus in /Users/m.berry/opt/anaconda3/lib/python3.9/site-packages (2.0.1)\r\n"
     ]
    }
   ],
   "source": [
    "!pip3 install ColabTurtlePlus\n",
    "from ColabTurtlePlus.Turtle import *"
   ]
  },
  {
   "cell_type": "markdown",
   "id": "986a22b5",
   "metadata": {
    "slideshow": {
     "slide_type": "slide"
    }
   },
   "source": [
    "So what will this do?"
   ]
  },
  {
   "cell_type": "code",
   "execution_count": null,
   "id": "cd360c37",
   "metadata": {
    "slideshow": {
     "slide_type": "-"
    }
   },
   "outputs": [],
   "source": [
    "setup(800, 600)\n",
    "clearscreen()\n",
    "bgcolor(\"#eee\")\n",
    "speed(12)\n",
    "\n",
    "for j in range(12):\n",
    "    for i in range(5):\n",
    "        forward(100)\n",
    "        right(72)\n",
    "    left(30)\n",
    "\n",
    "done()\n"
   ]
  },
  {
   "cell_type": "markdown",
   "id": "19e4d2b9",
   "metadata": {
    "slideshow": {
     "slide_type": "subslide"
    }
   },
   "source": [
    "But what about this?"
   ]
  },
  {
   "cell_type": "code",
   "execution_count": null,
   "id": "d56e228f-abf7-45a1-bf31-0aa17e8ec800",
   "metadata": {
    "slideshow": {
     "slide_type": "-"
    }
   },
   "outputs": [],
   "source": [
    "def tree(size):\n",
    "    if size > 5:\n",
    "        forward(size)\n",
    "        left(15)\n",
    "        tree(size * 0.6)\n",
    "        right(35)\n",
    "        tree(size * 0.75)\n",
    "        left(20)\n",
    "        backward(size)\n",
    "    else:\n",
    "        return\n",
    "\n",
    "\n",
    "clearscreen()\n",
    "goto(0, -200)\n",
    "clear()\n",
    "face(90)\n",
    "speed(13)\n",
    "\n",
    "tree(100)\n",
    "done()\n"
   ]
  },
  {
   "cell_type": "markdown",
   "id": "7560abc3",
   "metadata": {
    "slideshow": {
     "slide_type": "slide"
    }
   },
   "source": [
    "### Now investigate and modify my code. Make something beautiful. Make something interesting."
   ]
  },
  {
   "cell_type": "markdown",
   "id": "da40b62a",
   "metadata": {
    "slideshow": {
     "slide_type": "slide"
    }
   },
   "source": [
    "### OK, so try *making* some fractals. Here are two that you could try...\n",
    "\n",
    "![two fractals](images/fractals.png)"
   ]
  },
  {
   "cell_type": "markdown",
   "id": "49194164",
   "metadata": {
    "slideshow": {
     "slide_type": "slide"
    }
   },
   "source": [
    "### One more - random fractals"
   ]
  },
  {
   "cell_type": "code",
   "execution_count": null,
   "id": "5ae4a1a9",
   "metadata": {
    "slideshow": {
     "slide_type": "-"
    }
   },
   "outputs": [],
   "source": [
    "from random import choice\n",
    "\n",
    "\n",
    "def tri():\n",
    "    for i in range(3):\n",
    "        forward(15)\n",
    "        right(120)\n",
    "\n",
    "\n",
    "def quad():\n",
    "    for i in range(4):\n",
    "        forward(15)\n",
    "        right(90)\n",
    "\n",
    "\n",
    "def pent():\n",
    "    for i in range(5):\n",
    "        forward(15)\n",
    "        right(72)\n",
    "\n",
    "\n",
    "def vee():\n",
    "    shapes = [tri, quad, pent, vee, vee]\n",
    "    left(20)\n",
    "    forward(25)\n",
    "    choice(shapes)()\n",
    "    backward(25)\n",
    "    right(40)\n",
    "    forward(25)\n",
    "    choice(shapes)()\n",
    "    backward(25)\n",
    "    left(20)\n",
    "    return()\n",
    "\n",
    "\n",
    "clearscreen()\n",
    "clear()\n",
    "face(90)\n",
    "speed(13)\n",
    "\n",
    "vee()\n",
    "done()\n"
   ]
  },
  {
   "cell_type": "markdown",
   "id": "f2a8b57c",
   "metadata": {
    "slideshow": {
     "slide_type": "slide"
    }
   },
   "source": [
    "### Cultural literacy / SMSC\n",
    "\n",
    "What fractals are in nature?\n",
    "\n",
    "Why is so much of the natural world fractal?"
   ]
  },
  {
   "cell_type": "markdown",
   "id": "2034bfa0",
   "metadata": {
    "slideshow": {
     "slide_type": "slide"
    }
   },
   "source": [
    "### How many rectangles are there on an m x n grid?"
   ]
  },
  {
   "cell_type": "code",
   "execution_count": 47,
   "id": "0ef965b2",
   "metadata": {},
   "outputs": [
    {
     "data": {
      "text/html": [
       "\n",
       "      <svg width=\"800\" height=\"600\">  \n",
       "        <rect width=\"100%\" height=\"100%\" style=\"fill:white;stroke:;stroke-width:1\"/>\n",
       "        \n",
       "        \n",
       "        <line x1=\"400.0\" y1=\"300.0\" x2=\"400.0\" y2=\"300.0\" stroke-linecap=\"round\" style=\"stroke:rgb(5,63,174);stroke-width:1\" /><line x1=\"400.0\" y1=\"300.0\" x2=\"430.0\" y2=\"300.0\" stroke-linecap=\"round\" style=\"stroke:rgb(5,63,174);stroke-width:1\" /><line x1=\"430.0\" y1=\"300.0\" x2=\"430.0\" y2=\"270.0\" stroke-linecap=\"round\" style=\"stroke:rgb(5,63,174);stroke-width:1\" /><line x1=\"430.0\" y1=\"270.0\" x2=\"400.0\" y2=\"270.0\" stroke-linecap=\"round\" style=\"stroke:rgb(5,63,174);stroke-width:1\" /><line x1=\"400.0\" y1=\"270.0\" x2=\"400.0\" y2=\"300.0\" stroke-linecap=\"round\" style=\"stroke:rgb(5,63,174);stroke-width:1\" /><line x1=\"400.0\" y1=\"270.0\" x2=\"430.0\" y2=\"270.0\" stroke-linecap=\"round\" style=\"stroke:rgb(5,63,174);stroke-width:1\" /><line x1=\"430.0\" y1=\"270.0\" x2=\"430.0\" y2=\"240.0\" stroke-linecap=\"round\" style=\"stroke:rgb(5,63,174);stroke-width:1\" /><line x1=\"430.0\" y1=\"240.0\" x2=\"400.0\" y2=\"240.0\" stroke-linecap=\"round\" style=\"stroke:rgb(5,63,174);stroke-width:1\" /><line x1=\"400.0\" y1=\"240.0\" x2=\"400.0\" y2=\"270.0\" stroke-linecap=\"round\" style=\"stroke:rgb(5,63,174);stroke-width:1\" /><line x1=\"400.0\" y1=\"240.0\" x2=\"430.0\" y2=\"240.0\" stroke-linecap=\"round\" style=\"stroke:rgb(5,63,174);stroke-width:1\" /><line x1=\"430.0\" y1=\"240.0\" x2=\"430.0\" y2=\"210.0\" stroke-linecap=\"round\" style=\"stroke:rgb(5,63,174);stroke-width:1\" /><line x1=\"430.0\" y1=\"210.0\" x2=\"400.0\" y2=\"210.0\" stroke-linecap=\"round\" style=\"stroke:rgb(5,63,174);stroke-width:1\" /><line x1=\"400.0\" y1=\"210.0\" x2=\"400.0\" y2=\"240.0\" stroke-linecap=\"round\" style=\"stroke:rgb(5,63,174);stroke-width:1\" /><line x1=\"400.0\" y1=\"210.0\" x2=\"430.0\" y2=\"210.0\" stroke-linecap=\"round\" style=\"stroke:rgb(5,63,174);stroke-width:1\" /><line x1=\"430.0\" y1=\"210.0\" x2=\"430.0\" y2=\"180.0\" stroke-linecap=\"round\" style=\"stroke:rgb(5,63,174);stroke-width:1\" /><line x1=\"430.0\" y1=\"180.0\" x2=\"400.0\" y2=\"180.0\" stroke-linecap=\"round\" style=\"stroke:rgb(5,63,174);stroke-width:1\" /><line x1=\"400.0\" y1=\"180.0\" x2=\"400.0\" y2=\"210.0\" stroke-linecap=\"round\" style=\"stroke:rgb(5,63,174);stroke-width:1\" /><line x1=\"430.0\" y1=\"300.0\" x2=\"460.0\" y2=\"300.0\" stroke-linecap=\"round\" style=\"stroke:rgb(5,63,174);stroke-width:1\" /><line x1=\"460.0\" y1=\"300.0\" x2=\"460.0\" y2=\"270.0\" stroke-linecap=\"round\" style=\"stroke:rgb(5,63,174);stroke-width:1\" /><line x1=\"460.0\" y1=\"270.0\" x2=\"430.0\" y2=\"270.0\" stroke-linecap=\"round\" style=\"stroke:rgb(5,63,174);stroke-width:1\" /><line x1=\"430.0\" y1=\"270.0\" x2=\"430.0\" y2=\"300.0\" stroke-linecap=\"round\" style=\"stroke:rgb(5,63,174);stroke-width:1\" /><line x1=\"430.0\" y1=\"270.0\" x2=\"460.0\" y2=\"270.0\" stroke-linecap=\"round\" style=\"stroke:rgb(5,63,174);stroke-width:1\" /><line x1=\"460.0\" y1=\"270.0\" x2=\"460.0\" y2=\"240.0\" stroke-linecap=\"round\" style=\"stroke:rgb(5,63,174);stroke-width:1\" /><line x1=\"460.0\" y1=\"240.0\" x2=\"430.0\" y2=\"240.0\" stroke-linecap=\"round\" style=\"stroke:rgb(5,63,174);stroke-width:1\" /><line x1=\"430.0\" y1=\"240.0\" x2=\"430.0\" y2=\"270.0\" stroke-linecap=\"round\" style=\"stroke:rgb(5,63,174);stroke-width:1\" /><line x1=\"430.0\" y1=\"240.0\" x2=\"460.0\" y2=\"240.0\" stroke-linecap=\"round\" style=\"stroke:rgb(5,63,174);stroke-width:1\" /><line x1=\"460.0\" y1=\"240.0\" x2=\"460.0\" y2=\"210.0\" stroke-linecap=\"round\" style=\"stroke:rgb(5,63,174);stroke-width:1\" /><line x1=\"460.0\" y1=\"210.0\" x2=\"430.0\" y2=\"210.0\" stroke-linecap=\"round\" style=\"stroke:rgb(5,63,174);stroke-width:1\" /><line x1=\"430.0\" y1=\"210.0\" x2=\"430.0\" y2=\"240.0\" stroke-linecap=\"round\" style=\"stroke:rgb(5,63,174);stroke-width:1\" /><line x1=\"430.0\" y1=\"210.0\" x2=\"460.0\" y2=\"210.0\" stroke-linecap=\"round\" style=\"stroke:rgb(5,63,174);stroke-width:1\" /><line x1=\"460.0\" y1=\"210.0\" x2=\"460.0\" y2=\"180.0\" stroke-linecap=\"round\" style=\"stroke:rgb(5,63,174);stroke-width:1\" /><line x1=\"460.0\" y1=\"180.0\" x2=\"430.0\" y2=\"180.0\" stroke-linecap=\"round\" style=\"stroke:rgb(5,63,174);stroke-width:1\" /><line x1=\"430.0\" y1=\"180.0\" x2=\"430.0\" y2=\"210.0\" stroke-linecap=\"round\" style=\"stroke:rgb(5,63,174);stroke-width:1\" /><line x1=\"460.0\" y1=\"300.0\" x2=\"490.0\" y2=\"300.0\" stroke-linecap=\"round\" style=\"stroke:rgb(5,63,174);stroke-width:1\" /><line x1=\"490.0\" y1=\"300.0\" x2=\"490.0\" y2=\"270.0\" stroke-linecap=\"round\" style=\"stroke:rgb(5,63,174);stroke-width:1\" /><line x1=\"490.0\" y1=\"270.0\" x2=\"460.0\" y2=\"270.0\" stroke-linecap=\"round\" style=\"stroke:rgb(5,63,174);stroke-width:1\" /><line x1=\"460.0\" y1=\"270.0\" x2=\"460.0\" y2=\"300.0\" stroke-linecap=\"round\" style=\"stroke:rgb(5,63,174);stroke-width:1\" /><line x1=\"460.0\" y1=\"270.0\" x2=\"490.0\" y2=\"270.0\" stroke-linecap=\"round\" style=\"stroke:rgb(5,63,174);stroke-width:1\" /><line x1=\"490.0\" y1=\"270.0\" x2=\"490.0\" y2=\"240.0\" stroke-linecap=\"round\" style=\"stroke:rgb(5,63,174);stroke-width:1\" /><line x1=\"490.0\" y1=\"240.0\" x2=\"460.0\" y2=\"240.0\" stroke-linecap=\"round\" style=\"stroke:rgb(5,63,174);stroke-width:1\" /><line x1=\"460.0\" y1=\"240.0\" x2=\"460.0\" y2=\"270.0\" stroke-linecap=\"round\" style=\"stroke:rgb(5,63,174);stroke-width:1\" /><line x1=\"460.0\" y1=\"240.0\" x2=\"490.0\" y2=\"240.0\" stroke-linecap=\"round\" style=\"stroke:rgb(5,63,174);stroke-width:1\" /><line x1=\"490.0\" y1=\"240.0\" x2=\"490.0\" y2=\"210.0\" stroke-linecap=\"round\" style=\"stroke:rgb(5,63,174);stroke-width:1\" /><line x1=\"490.0\" y1=\"210.0\" x2=\"460.0\" y2=\"210.0\" stroke-linecap=\"round\" style=\"stroke:rgb(5,63,174);stroke-width:1\" /><line x1=\"460.0\" y1=\"210.0\" x2=\"460.0\" y2=\"240.0\" stroke-linecap=\"round\" style=\"stroke:rgb(5,63,174);stroke-width:1\" /><line x1=\"460.0\" y1=\"210.0\" x2=\"490.0\" y2=\"210.0\" stroke-linecap=\"round\" style=\"stroke:rgb(5,63,174);stroke-width:1\" /><line x1=\"490.0\" y1=\"210.0\" x2=\"490.0\" y2=\"180.0\" stroke-linecap=\"round\" style=\"stroke:rgb(5,63,174);stroke-width:1\" /><line x1=\"490.0\" y1=\"180.0\" x2=\"460.0\" y2=\"180.0\" stroke-linecap=\"round\" style=\"stroke:rgb(5,63,174);stroke-width:1\" /><line x1=\"460.0\" y1=\"180.0\" x2=\"460.0\" y2=\"210.0\" stroke-linecap=\"round\" style=\"stroke:rgb(5,63,174);stroke-width:1\" /><line x1=\"490.0\" y1=\"300.0\" x2=\"520.0\" y2=\"300.0\" stroke-linecap=\"round\" style=\"stroke:rgb(5,63,174);stroke-width:1\" /><line x1=\"520.0\" y1=\"300.0\" x2=\"520.0\" y2=\"270.0\" stroke-linecap=\"round\" style=\"stroke:rgb(5,63,174);stroke-width:1\" /><line x1=\"520.0\" y1=\"270.0\" x2=\"490.0\" y2=\"270.0\" stroke-linecap=\"round\" style=\"stroke:rgb(5,63,174);stroke-width:1\" /><line x1=\"490.0\" y1=\"270.0\" x2=\"490.0\" y2=\"300.0\" stroke-linecap=\"round\" style=\"stroke:rgb(5,63,174);stroke-width:1\" /><line x1=\"490.0\" y1=\"270.0\" x2=\"520.0\" y2=\"270.0\" stroke-linecap=\"round\" style=\"stroke:rgb(5,63,174);stroke-width:1\" /><line x1=\"520.0\" y1=\"270.0\" x2=\"520.0\" y2=\"240.0\" stroke-linecap=\"round\" style=\"stroke:rgb(5,63,174);stroke-width:1\" /><line x1=\"520.0\" y1=\"240.0\" x2=\"490.0\" y2=\"240.0\" stroke-linecap=\"round\" style=\"stroke:rgb(5,63,174);stroke-width:1\" /><line x1=\"490.0\" y1=\"240.0\" x2=\"490.0\" y2=\"270.0\" stroke-linecap=\"round\" style=\"stroke:rgb(5,63,174);stroke-width:1\" /><line x1=\"490.0\" y1=\"240.0\" x2=\"520.0\" y2=\"240.0\" stroke-linecap=\"round\" style=\"stroke:rgb(5,63,174);stroke-width:1\" /><line x1=\"520.0\" y1=\"240.0\" x2=\"520.0\" y2=\"210.0\" stroke-linecap=\"round\" style=\"stroke:rgb(5,63,174);stroke-width:1\" /><line x1=\"520.0\" y1=\"210.0\" x2=\"490.0\" y2=\"210.0\" stroke-linecap=\"round\" style=\"stroke:rgb(5,63,174);stroke-width:1\" /><line x1=\"490.0\" y1=\"210.0\" x2=\"490.0\" y2=\"240.0\" stroke-linecap=\"round\" style=\"stroke:rgb(5,63,174);stroke-width:1\" /><line x1=\"490.0\" y1=\"210.0\" x2=\"520.0\" y2=\"210.0\" stroke-linecap=\"round\" style=\"stroke:rgb(5,63,174);stroke-width:1\" /><line x1=\"520.0\" y1=\"210.0\" x2=\"520.0\" y2=\"180.0\" stroke-linecap=\"round\" style=\"stroke:rgb(5,63,174);stroke-width:1\" /><line x1=\"520.0\" y1=\"180.0\" x2=\"490.0\" y2=\"180.0\" stroke-linecap=\"round\" style=\"stroke:rgb(5,63,174);stroke-width:1\" /><line x1=\"490.0\" y1=\"180.0\" x2=\"490.0\" y2=\"210.0\" stroke-linecap=\"round\" style=\"stroke:rgb(5,63,174);stroke-width:1\" /><line x1=\"520.0\" y1=\"300.0\" x2=\"550.0\" y2=\"300.0\" stroke-linecap=\"round\" style=\"stroke:rgb(5,63,174);stroke-width:1\" /><line x1=\"550.0\" y1=\"300.0\" x2=\"550.0\" y2=\"270.0\" stroke-linecap=\"round\" style=\"stroke:rgb(5,63,174);stroke-width:1\" /><line x1=\"550.0\" y1=\"270.0\" x2=\"520.0\" y2=\"270.0\" stroke-linecap=\"round\" style=\"stroke:rgb(5,63,174);stroke-width:1\" /><line x1=\"520.0\" y1=\"270.0\" x2=\"520.0\" y2=\"300.0\" stroke-linecap=\"round\" style=\"stroke:rgb(5,63,174);stroke-width:1\" /><line x1=\"520.0\" y1=\"270.0\" x2=\"550.0\" y2=\"270.0\" stroke-linecap=\"round\" style=\"stroke:rgb(5,63,174);stroke-width:1\" /><line x1=\"550.0\" y1=\"270.0\" x2=\"550.0\" y2=\"240.0\" stroke-linecap=\"round\" style=\"stroke:rgb(5,63,174);stroke-width:1\" /><line x1=\"550.0\" y1=\"240.0\" x2=\"520.0\" y2=\"240.0\" stroke-linecap=\"round\" style=\"stroke:rgb(5,63,174);stroke-width:1\" /><line x1=\"520.0\" y1=\"240.0\" x2=\"520.0\" y2=\"270.0\" stroke-linecap=\"round\" style=\"stroke:rgb(5,63,174);stroke-width:1\" /><line x1=\"520.0\" y1=\"240.0\" x2=\"550.0\" y2=\"240.0\" stroke-linecap=\"round\" style=\"stroke:rgb(5,63,174);stroke-width:1\" /><line x1=\"550.0\" y1=\"240.0\" x2=\"550.0\" y2=\"210.0\" stroke-linecap=\"round\" style=\"stroke:rgb(5,63,174);stroke-width:1\" /><line x1=\"550.0\" y1=\"210.0\" x2=\"520.0\" y2=\"210.0\" stroke-linecap=\"round\" style=\"stroke:rgb(5,63,174);stroke-width:1\" /><line x1=\"520.0\" y1=\"210.0\" x2=\"520.0\" y2=\"240.0\" stroke-linecap=\"round\" style=\"stroke:rgb(5,63,174);stroke-width:1\" /><line x1=\"520.0\" y1=\"210.0\" x2=\"550.0\" y2=\"210.0\" stroke-linecap=\"round\" style=\"stroke:rgb(5,63,174);stroke-width:1\" /><line x1=\"550.0\" y1=\"210.0\" x2=\"550.0\" y2=\"180.0\" stroke-linecap=\"round\" style=\"stroke:rgb(5,63,174);stroke-width:1\" /><line x1=\"550.0\" y1=\"180.0\" x2=\"520.0\" y2=\"180.0\" stroke-linecap=\"round\" style=\"stroke:rgb(5,63,174);stroke-width:1\" /><line x1=\"520.0\" y1=\"180.0\" x2=\"520.0\" y2=\"210.0\" stroke-linecap=\"round\" style=\"stroke:rgb(5,63,174);stroke-width:1\" /><line x1=\"400.0\" y1=\"300.0\" x2=\"430.0\" y2=\"300.0\" stroke-linecap=\"round\" style=\"stroke:rgb(12,3,211);stroke-width:1\" /><line x1=\"430.0\" y1=\"300.0\" x2=\"430.0\" y2=\"240.0\" stroke-linecap=\"round\" style=\"stroke:rgb(12,3,211);stroke-width:1\" /><line x1=\"430.0\" y1=\"240.0\" x2=\"400.0\" y2=\"240.0\" stroke-linecap=\"round\" style=\"stroke:rgb(12,3,211);stroke-width:1\" /><line x1=\"400.0\" y1=\"240.0\" x2=\"400.0\" y2=\"300.0\" stroke-linecap=\"round\" style=\"stroke:rgb(12,3,211);stroke-width:1\" /><line x1=\"400.0\" y1=\"270.0\" x2=\"430.0\" y2=\"270.0\" stroke-linecap=\"round\" style=\"stroke:rgb(12,3,211);stroke-width:1\" /><line x1=\"430.0\" y1=\"270.0\" x2=\"430.0\" y2=\"210.0\" stroke-linecap=\"round\" style=\"stroke:rgb(12,3,211);stroke-width:1\" /><line x1=\"430.0\" y1=\"210.0\" x2=\"400.0\" y2=\"210.0\" stroke-linecap=\"round\" style=\"stroke:rgb(12,3,211);stroke-width:1\" /><line x1=\"400.0\" y1=\"210.0\" x2=\"400.0\" y2=\"270.0\" stroke-linecap=\"round\" style=\"stroke:rgb(12,3,211);stroke-width:1\" /><line x1=\"400.0\" y1=\"240.0\" x2=\"430.0\" y2=\"240.0\" stroke-linecap=\"round\" style=\"stroke:rgb(12,3,211);stroke-width:1\" /><line x1=\"430.0\" y1=\"240.0\" x2=\"430.0\" y2=\"180.0\" stroke-linecap=\"round\" style=\"stroke:rgb(12,3,211);stroke-width:1\" /><line x1=\"430.0\" y1=\"180.0\" x2=\"400.0\" y2=\"180.0\" stroke-linecap=\"round\" style=\"stroke:rgb(12,3,211);stroke-width:1\" /><line x1=\"400.0\" y1=\"180.0\" x2=\"400.0\" y2=\"240.0\" stroke-linecap=\"round\" style=\"stroke:rgb(12,3,211);stroke-width:1\" /><line x1=\"430.0\" y1=\"300.0\" x2=\"460.0\" y2=\"300.0\" stroke-linecap=\"round\" style=\"stroke:rgb(12,3,211);stroke-width:1\" /><line x1=\"460.0\" y1=\"300.0\" x2=\"460.0\" y2=\"240.0\" stroke-linecap=\"round\" style=\"stroke:rgb(12,3,211);stroke-width:1\" /><line x1=\"460.0\" y1=\"240.0\" x2=\"430.0\" y2=\"240.0\" stroke-linecap=\"round\" style=\"stroke:rgb(12,3,211);stroke-width:1\" /><line x1=\"430.0\" y1=\"240.0\" x2=\"430.0\" y2=\"300.0\" stroke-linecap=\"round\" style=\"stroke:rgb(12,3,211);stroke-width:1\" /><line x1=\"430.0\" y1=\"270.0\" x2=\"460.0\" y2=\"270.0\" stroke-linecap=\"round\" style=\"stroke:rgb(12,3,211);stroke-width:1\" /><line x1=\"460.0\" y1=\"270.0\" x2=\"460.0\" y2=\"210.0\" stroke-linecap=\"round\" style=\"stroke:rgb(12,3,211);stroke-width:1\" /><line x1=\"460.0\" y1=\"210.0\" x2=\"430.0\" y2=\"210.0\" stroke-linecap=\"round\" style=\"stroke:rgb(12,3,211);stroke-width:1\" /><line x1=\"430.0\" y1=\"210.0\" x2=\"430.0\" y2=\"270.0\" stroke-linecap=\"round\" style=\"stroke:rgb(12,3,211);stroke-width:1\" /><line x1=\"430.0\" y1=\"240.0\" x2=\"460.0\" y2=\"240.0\" stroke-linecap=\"round\" style=\"stroke:rgb(12,3,211);stroke-width:1\" /><line x1=\"460.0\" y1=\"240.0\" x2=\"460.0\" y2=\"180.0\" stroke-linecap=\"round\" style=\"stroke:rgb(12,3,211);stroke-width:1\" /><line x1=\"460.0\" y1=\"180.0\" x2=\"430.0\" y2=\"180.0\" stroke-linecap=\"round\" style=\"stroke:rgb(12,3,211);stroke-width:1\" /><line x1=\"430.0\" y1=\"180.0\" x2=\"430.0\" y2=\"240.0\" stroke-linecap=\"round\" style=\"stroke:rgb(12,3,211);stroke-width:1\" /><line x1=\"460.0\" y1=\"300.0\" x2=\"490.0\" y2=\"300.0\" stroke-linecap=\"round\" style=\"stroke:rgb(12,3,211);stroke-width:1\" /><line x1=\"490.0\" y1=\"300.0\" x2=\"490.0\" y2=\"240.0\" stroke-linecap=\"round\" style=\"stroke:rgb(12,3,211);stroke-width:1\" /><line x1=\"490.0\" y1=\"240.0\" x2=\"460.0\" y2=\"240.0\" stroke-linecap=\"round\" style=\"stroke:rgb(12,3,211);stroke-width:1\" /><line x1=\"460.0\" y1=\"240.0\" x2=\"460.0\" y2=\"300.0\" stroke-linecap=\"round\" style=\"stroke:rgb(12,3,211);stroke-width:1\" /><line x1=\"460.0\" y1=\"270.0\" x2=\"490.0\" y2=\"270.0\" stroke-linecap=\"round\" style=\"stroke:rgb(12,3,211);stroke-width:1\" /><line x1=\"490.0\" y1=\"270.0\" x2=\"490.0\" y2=\"210.0\" stroke-linecap=\"round\" style=\"stroke:rgb(12,3,211);stroke-width:1\" /><line x1=\"490.0\" y1=\"210.0\" x2=\"460.0\" y2=\"210.0\" stroke-linecap=\"round\" style=\"stroke:rgb(12,3,211);stroke-width:1\" /><line x1=\"460.0\" y1=\"210.0\" x2=\"460.0\" y2=\"270.0\" stroke-linecap=\"round\" style=\"stroke:rgb(12,3,211);stroke-width:1\" /><line x1=\"460.0\" y1=\"240.0\" x2=\"490.0\" y2=\"240.0\" stroke-linecap=\"round\" style=\"stroke:rgb(12,3,211);stroke-width:1\" /><line x1=\"490.0\" y1=\"240.0\" x2=\"490.0\" y2=\"180.0\" stroke-linecap=\"round\" style=\"stroke:rgb(12,3,211);stroke-width:1\" /><line x1=\"490.0\" y1=\"180.0\" x2=\"460.0\" y2=\"180.0\" stroke-linecap=\"round\" style=\"stroke:rgb(12,3,211);stroke-width:1\" /><line x1=\"460.0\" y1=\"180.0\" x2=\"460.0\" y2=\"240.0\" stroke-linecap=\"round\" style=\"stroke:rgb(12,3,211);stroke-width:1\" /><line x1=\"490.0\" y1=\"300.0\" x2=\"520.0\" y2=\"300.0\" stroke-linecap=\"round\" style=\"stroke:rgb(12,3,211);stroke-width:1\" /><line x1=\"520.0\" y1=\"300.0\" x2=\"520.0\" y2=\"240.0\" stroke-linecap=\"round\" style=\"stroke:rgb(12,3,211);stroke-width:1\" /><line x1=\"520.0\" y1=\"240.0\" x2=\"490.0\" y2=\"240.0\" stroke-linecap=\"round\" style=\"stroke:rgb(12,3,211);stroke-width:1\" /><line x1=\"490.0\" y1=\"240.0\" x2=\"490.0\" y2=\"300.0\" stroke-linecap=\"round\" style=\"stroke:rgb(12,3,211);stroke-width:1\" /><line x1=\"490.0\" y1=\"270.0\" x2=\"520.0\" y2=\"270.0\" stroke-linecap=\"round\" style=\"stroke:rgb(12,3,211);stroke-width:1\" /><line x1=\"520.0\" y1=\"270.0\" x2=\"520.0\" y2=\"210.0\" stroke-linecap=\"round\" style=\"stroke:rgb(12,3,211);stroke-width:1\" /><line x1=\"520.0\" y1=\"210.0\" x2=\"490.0\" y2=\"210.0\" stroke-linecap=\"round\" style=\"stroke:rgb(12,3,211);stroke-width:1\" /><line x1=\"490.0\" y1=\"210.0\" x2=\"490.0\" y2=\"270.0\" stroke-linecap=\"round\" style=\"stroke:rgb(12,3,211);stroke-width:1\" /><line x1=\"490.0\" y1=\"240.0\" x2=\"520.0\" y2=\"240.0\" stroke-linecap=\"round\" style=\"stroke:rgb(12,3,211);stroke-width:1\" /><line x1=\"520.0\" y1=\"240.0\" x2=\"520.0\" y2=\"180.0\" stroke-linecap=\"round\" style=\"stroke:rgb(12,3,211);stroke-width:1\" /><line x1=\"520.0\" y1=\"180.0\" x2=\"490.0\" y2=\"180.0\" stroke-linecap=\"round\" style=\"stroke:rgb(12,3,211);stroke-width:1\" /><line x1=\"490.0\" y1=\"180.0\" x2=\"490.0\" y2=\"240.0\" stroke-linecap=\"round\" style=\"stroke:rgb(12,3,211);stroke-width:1\" /><line x1=\"520.0\" y1=\"300.0\" x2=\"550.0\" y2=\"300.0\" stroke-linecap=\"round\" style=\"stroke:rgb(12,3,211);stroke-width:1\" /><line x1=\"550.0\" y1=\"300.0\" x2=\"550.0\" y2=\"240.0\" stroke-linecap=\"round\" style=\"stroke:rgb(12,3,211);stroke-width:1\" /><line x1=\"550.0\" y1=\"240.0\" x2=\"520.0\" y2=\"240.0\" stroke-linecap=\"round\" style=\"stroke:rgb(12,3,211);stroke-width:1\" /><line x1=\"520.0\" y1=\"240.0\" x2=\"520.0\" y2=\"300.0\" stroke-linecap=\"round\" style=\"stroke:rgb(12,3,211);stroke-width:1\" /><line x1=\"520.0\" y1=\"270.0\" x2=\"550.0\" y2=\"270.0\" stroke-linecap=\"round\" style=\"stroke:rgb(12,3,211);stroke-width:1\" /><line x1=\"550.0\" y1=\"270.0\" x2=\"550.0\" y2=\"210.0\" stroke-linecap=\"round\" style=\"stroke:rgb(12,3,211);stroke-width:1\" /><line x1=\"550.0\" y1=\"210.0\" x2=\"520.0\" y2=\"210.0\" stroke-linecap=\"round\" style=\"stroke:rgb(12,3,211);stroke-width:1\" /><line x1=\"520.0\" y1=\"210.0\" x2=\"520.0\" y2=\"270.0\" stroke-linecap=\"round\" style=\"stroke:rgb(12,3,211);stroke-width:1\" /><line x1=\"520.0\" y1=\"240.0\" x2=\"550.0\" y2=\"240.0\" stroke-linecap=\"round\" style=\"stroke:rgb(12,3,211);stroke-width:1\" /><line x1=\"550.0\" y1=\"240.0\" x2=\"550.0\" y2=\"180.0\" stroke-linecap=\"round\" style=\"stroke:rgb(12,3,211);stroke-width:1\" /><line x1=\"550.0\" y1=\"180.0\" x2=\"520.0\" y2=\"180.0\" stroke-linecap=\"round\" style=\"stroke:rgb(12,3,211);stroke-width:1\" /><line x1=\"520.0\" y1=\"180.0\" x2=\"520.0\" y2=\"240.0\" stroke-linecap=\"round\" style=\"stroke:rgb(12,3,211);stroke-width:1\" /><line x1=\"400.0\" y1=\"300.0\" x2=\"430.0\" y2=\"300.0\" stroke-linecap=\"round\" style=\"stroke:rgb(86,243,112);stroke-width:1\" /><line x1=\"430.0\" y1=\"300.0\" x2=\"430.0\" y2=\"210.0\" stroke-linecap=\"round\" style=\"stroke:rgb(86,243,112);stroke-width:1\" /><line x1=\"430.0\" y1=\"210.0\" x2=\"400.0\" y2=\"210.0\" stroke-linecap=\"round\" style=\"stroke:rgb(86,243,112);stroke-width:1\" /><line x1=\"400.0\" y1=\"210.0\" x2=\"400.0\" y2=\"300.0\" stroke-linecap=\"round\" style=\"stroke:rgb(86,243,112);stroke-width:1\" /><line x1=\"400.0\" y1=\"270.0\" x2=\"430.0\" y2=\"270.0\" stroke-linecap=\"round\" style=\"stroke:rgb(86,243,112);stroke-width:1\" /><line x1=\"430.0\" y1=\"270.0\" x2=\"430.0\" y2=\"180.0\" stroke-linecap=\"round\" style=\"stroke:rgb(86,243,112);stroke-width:1\" /><line x1=\"430.0\" y1=\"180.0\" x2=\"400.0\" y2=\"180.0\" stroke-linecap=\"round\" style=\"stroke:rgb(86,243,112);stroke-width:1\" /><line x1=\"400.0\" y1=\"180.0\" x2=\"400.0\" y2=\"270.0\" stroke-linecap=\"round\" style=\"stroke:rgb(86,243,112);stroke-width:1\" /><line x1=\"430.0\" y1=\"300.0\" x2=\"460.0\" y2=\"300.0\" stroke-linecap=\"round\" style=\"stroke:rgb(86,243,112);stroke-width:1\" /><line x1=\"460.0\" y1=\"300.0\" x2=\"460.0\" y2=\"210.0\" stroke-linecap=\"round\" style=\"stroke:rgb(86,243,112);stroke-width:1\" /><line x1=\"460.0\" y1=\"210.0\" x2=\"430.0\" y2=\"210.0\" stroke-linecap=\"round\" style=\"stroke:rgb(86,243,112);stroke-width:1\" /><line x1=\"430.0\" y1=\"210.0\" x2=\"430.0\" y2=\"300.0\" stroke-linecap=\"round\" style=\"stroke:rgb(86,243,112);stroke-width:1\" /><line x1=\"430.0\" y1=\"270.0\" x2=\"460.0\" y2=\"270.0\" stroke-linecap=\"round\" style=\"stroke:rgb(86,243,112);stroke-width:1\" /><line x1=\"460.0\" y1=\"270.0\" x2=\"460.0\" y2=\"180.0\" stroke-linecap=\"round\" style=\"stroke:rgb(86,243,112);stroke-width:1\" /><line x1=\"460.0\" y1=\"180.0\" x2=\"430.0\" y2=\"180.0\" stroke-linecap=\"round\" style=\"stroke:rgb(86,243,112);stroke-width:1\" /><line x1=\"430.0\" y1=\"180.0\" x2=\"430.0\" y2=\"270.0\" stroke-linecap=\"round\" style=\"stroke:rgb(86,243,112);stroke-width:1\" /><line x1=\"460.0\" y1=\"300.0\" x2=\"490.0\" y2=\"300.0\" stroke-linecap=\"round\" style=\"stroke:rgb(86,243,112);stroke-width:1\" /><line x1=\"490.0\" y1=\"300.0\" x2=\"490.0\" y2=\"210.0\" stroke-linecap=\"round\" style=\"stroke:rgb(86,243,112);stroke-width:1\" /><line x1=\"490.0\" y1=\"210.0\" x2=\"460.0\" y2=\"210.0\" stroke-linecap=\"round\" style=\"stroke:rgb(86,243,112);stroke-width:1\" /><line x1=\"460.0\" y1=\"210.0\" x2=\"460.0\" y2=\"300.0\" stroke-linecap=\"round\" style=\"stroke:rgb(86,243,112);stroke-width:1\" /><line x1=\"460.0\" y1=\"270.0\" x2=\"490.0\" y2=\"270.0\" stroke-linecap=\"round\" style=\"stroke:rgb(86,243,112);stroke-width:1\" /><line x1=\"490.0\" y1=\"270.0\" x2=\"490.0\" y2=\"180.0\" stroke-linecap=\"round\" style=\"stroke:rgb(86,243,112);stroke-width:1\" /><line x1=\"490.0\" y1=\"180.0\" x2=\"460.0\" y2=\"180.0\" stroke-linecap=\"round\" style=\"stroke:rgb(86,243,112);stroke-width:1\" /><line x1=\"460.0\" y1=\"180.0\" x2=\"460.0\" y2=\"270.0\" stroke-linecap=\"round\" style=\"stroke:rgb(86,243,112);stroke-width:1\" /><line x1=\"490.0\" y1=\"300.0\" x2=\"520.0\" y2=\"300.0\" stroke-linecap=\"round\" style=\"stroke:rgb(86,243,112);stroke-width:1\" /><line x1=\"520.0\" y1=\"300.0\" x2=\"520.0\" y2=\"210.0\" stroke-linecap=\"round\" style=\"stroke:rgb(86,243,112);stroke-width:1\" /><line x1=\"520.0\" y1=\"210.0\" x2=\"490.0\" y2=\"210.0\" stroke-linecap=\"round\" style=\"stroke:rgb(86,243,112);stroke-width:1\" /><line x1=\"490.0\" y1=\"210.0\" x2=\"490.0\" y2=\"300.0\" stroke-linecap=\"round\" style=\"stroke:rgb(86,243,112);stroke-width:1\" /><line x1=\"490.0\" y1=\"270.0\" x2=\"520.0\" y2=\"270.0\" stroke-linecap=\"round\" style=\"stroke:rgb(86,243,112);stroke-width:1\" /><line x1=\"520.0\" y1=\"270.0\" x2=\"520.0\" y2=\"180.0\" stroke-linecap=\"round\" style=\"stroke:rgb(86,243,112);stroke-width:1\" /><line x1=\"520.0\" y1=\"180.0\" x2=\"490.0\" y2=\"180.0\" stroke-linecap=\"round\" style=\"stroke:rgb(86,243,112);stroke-width:1\" /><line x1=\"490.0\" y1=\"180.0\" x2=\"490.0\" y2=\"270.0\" stroke-linecap=\"round\" style=\"stroke:rgb(86,243,112);stroke-width:1\" /><line x1=\"520.0\" y1=\"300.0\" x2=\"550.0\" y2=\"300.0\" stroke-linecap=\"round\" style=\"stroke:rgb(86,243,112);stroke-width:1\" /><line x1=\"550.0\" y1=\"300.0\" x2=\"550.0\" y2=\"210.0\" stroke-linecap=\"round\" style=\"stroke:rgb(86,243,112);stroke-width:1\" /><line x1=\"550.0\" y1=\"210.0\" x2=\"520.0\" y2=\"210.0\" stroke-linecap=\"round\" style=\"stroke:rgb(86,243,112);stroke-width:1\" /><line x1=\"520.0\" y1=\"210.0\" x2=\"520.0\" y2=\"300.0\" stroke-linecap=\"round\" style=\"stroke:rgb(86,243,112);stroke-width:1\" /><line x1=\"520.0\" y1=\"270.0\" x2=\"550.0\" y2=\"270.0\" stroke-linecap=\"round\" style=\"stroke:rgb(86,243,112);stroke-width:1\" /><line x1=\"550.0\" y1=\"270.0\" x2=\"550.0\" y2=\"180.0\" stroke-linecap=\"round\" style=\"stroke:rgb(86,243,112);stroke-width:1\" /><line x1=\"550.0\" y1=\"180.0\" x2=\"520.0\" y2=\"180.0\" stroke-linecap=\"round\" style=\"stroke:rgb(86,243,112);stroke-width:1\" /><line x1=\"520.0\" y1=\"180.0\" x2=\"520.0\" y2=\"270.0\" stroke-linecap=\"round\" style=\"stroke:rgb(86,243,112);stroke-width:1\" /><line x1=\"400.0\" y1=\"300.0\" x2=\"430.0\" y2=\"300.0\" stroke-linecap=\"round\" style=\"stroke:rgb(193,202,146);stroke-width:1\" /><line x1=\"430.0\" y1=\"300.0\" x2=\"430.0\" y2=\"180.0\" stroke-linecap=\"round\" style=\"stroke:rgb(193,202,146);stroke-width:1\" /><line x1=\"430.0\" y1=\"180.0\" x2=\"400.0\" y2=\"180.0\" stroke-linecap=\"round\" style=\"stroke:rgb(193,202,146);stroke-width:1\" /><line x1=\"400.0\" y1=\"180.0\" x2=\"400.0\" y2=\"300.0\" stroke-linecap=\"round\" style=\"stroke:rgb(193,202,146);stroke-width:1\" /><line x1=\"430.0\" y1=\"300.0\" x2=\"460.0\" y2=\"300.0\" stroke-linecap=\"round\" style=\"stroke:rgb(193,202,146);stroke-width:1\" /><line x1=\"460.0\" y1=\"300.0\" x2=\"460.0\" y2=\"180.0\" stroke-linecap=\"round\" style=\"stroke:rgb(193,202,146);stroke-width:1\" /><line x1=\"460.0\" y1=\"180.0\" x2=\"430.0\" y2=\"180.0\" stroke-linecap=\"round\" style=\"stroke:rgb(193,202,146);stroke-width:1\" /><line x1=\"430.0\" y1=\"180.0\" x2=\"430.0\" y2=\"300.0\" stroke-linecap=\"round\" style=\"stroke:rgb(193,202,146);stroke-width:1\" /><line x1=\"460.0\" y1=\"300.0\" x2=\"490.0\" y2=\"300.0\" stroke-linecap=\"round\" style=\"stroke:rgb(193,202,146);stroke-width:1\" /><line x1=\"490.0\" y1=\"300.0\" x2=\"490.0\" y2=\"180.0\" stroke-linecap=\"round\" style=\"stroke:rgb(193,202,146);stroke-width:1\" /><line x1=\"490.0\" y1=\"180.0\" x2=\"460.0\" y2=\"180.0\" stroke-linecap=\"round\" style=\"stroke:rgb(193,202,146);stroke-width:1\" /><line x1=\"460.0\" y1=\"180.0\" x2=\"460.0\" y2=\"300.0\" stroke-linecap=\"round\" style=\"stroke:rgb(193,202,146);stroke-width:1\" /><line x1=\"490.0\" y1=\"300.0\" x2=\"520.0\" y2=\"300.0\" stroke-linecap=\"round\" style=\"stroke:rgb(193,202,146);stroke-width:1\" /><line x1=\"520.0\" y1=\"300.0\" x2=\"520.0\" y2=\"180.0\" stroke-linecap=\"round\" style=\"stroke:rgb(193,202,146);stroke-width:1\" /><line x1=\"520.0\" y1=\"180.0\" x2=\"490.0\" y2=\"180.0\" stroke-linecap=\"round\" style=\"stroke:rgb(193,202,146);stroke-width:1\" /><line x1=\"490.0\" y1=\"180.0\" x2=\"490.0\" y2=\"300.0\" stroke-linecap=\"round\" style=\"stroke:rgb(193,202,146);stroke-width:1\" /><line x1=\"520.0\" y1=\"300.0\" x2=\"550.0\" y2=\"300.0\" stroke-linecap=\"round\" style=\"stroke:rgb(193,202,146);stroke-width:1\" /><line x1=\"550.0\" y1=\"300.0\" x2=\"550.0\" y2=\"180.0\" stroke-linecap=\"round\" style=\"stroke:rgb(193,202,146);stroke-width:1\" /><line x1=\"550.0\" y1=\"180.0\" x2=\"520.0\" y2=\"180.0\" stroke-linecap=\"round\" style=\"stroke:rgb(193,202,146);stroke-width:1\" /><line x1=\"520.0\" y1=\"180.0\" x2=\"520.0\" y2=\"300.0\" stroke-linecap=\"round\" style=\"stroke:rgb(193,202,146);stroke-width:1\" /><line x1=\"400.0\" y1=\"300.0\" x2=\"460.0\" y2=\"300.0\" stroke-linecap=\"round\" style=\"stroke:rgb(76,205,74);stroke-width:1\" /><line x1=\"460.0\" y1=\"300.0\" x2=\"460.0\" y2=\"270.0\" stroke-linecap=\"round\" style=\"stroke:rgb(76,205,74);stroke-width:1\" /><line x1=\"460.0\" y1=\"270.0\" x2=\"400.0\" y2=\"270.0\" stroke-linecap=\"round\" style=\"stroke:rgb(76,205,74);stroke-width:1\" /><line x1=\"400.0\" y1=\"270.0\" x2=\"400.0\" y2=\"300.0\" stroke-linecap=\"round\" style=\"stroke:rgb(76,205,74);stroke-width:1\" /><line x1=\"400.0\" y1=\"270.0\" x2=\"460.0\" y2=\"270.0\" stroke-linecap=\"round\" style=\"stroke:rgb(76,205,74);stroke-width:1\" /><line x1=\"460.0\" y1=\"270.0\" x2=\"460.0\" y2=\"240.0\" stroke-linecap=\"round\" style=\"stroke:rgb(76,205,74);stroke-width:1\" /><line x1=\"460.0\" y1=\"240.0\" x2=\"400.0\" y2=\"240.0\" stroke-linecap=\"round\" style=\"stroke:rgb(76,205,74);stroke-width:1\" /><line x1=\"400.0\" y1=\"240.0\" x2=\"400.0\" y2=\"270.0\" stroke-linecap=\"round\" style=\"stroke:rgb(76,205,74);stroke-width:1\" /><line x1=\"400.0\" y1=\"240.0\" x2=\"460.0\" y2=\"240.0\" stroke-linecap=\"round\" style=\"stroke:rgb(76,205,74);stroke-width:1\" /><line x1=\"460.0\" y1=\"240.0\" x2=\"460.0\" y2=\"210.0\" stroke-linecap=\"round\" style=\"stroke:rgb(76,205,74);stroke-width:1\" /><line x1=\"460.0\" y1=\"210.0\" x2=\"400.0\" y2=\"210.0\" stroke-linecap=\"round\" style=\"stroke:rgb(76,205,74);stroke-width:1\" /><line x1=\"400.0\" y1=\"210.0\" x2=\"400.0\" y2=\"240.0\" stroke-linecap=\"round\" style=\"stroke:rgb(76,205,74);stroke-width:1\" /><line x1=\"400.0\" y1=\"210.0\" x2=\"460.0\" y2=\"210.0\" stroke-linecap=\"round\" style=\"stroke:rgb(76,205,74);stroke-width:1\" /><line x1=\"460.0\" y1=\"210.0\" x2=\"460.0\" y2=\"180.0\" stroke-linecap=\"round\" style=\"stroke:rgb(76,205,74);stroke-width:1\" /><line x1=\"460.0\" y1=\"180.0\" x2=\"400.0\" y2=\"180.0\" stroke-linecap=\"round\" style=\"stroke:rgb(76,205,74);stroke-width:1\" /><line x1=\"400.0\" y1=\"180.0\" x2=\"400.0\" y2=\"210.0\" stroke-linecap=\"round\" style=\"stroke:rgb(76,205,74);stroke-width:1\" /><line x1=\"430.0\" y1=\"300.0\" x2=\"490.0\" y2=\"300.0\" stroke-linecap=\"round\" style=\"stroke:rgb(76,205,74);stroke-width:1\" /><line x1=\"490.0\" y1=\"300.0\" x2=\"490.0\" y2=\"270.0\" stroke-linecap=\"round\" style=\"stroke:rgb(76,205,74);stroke-width:1\" /><line x1=\"490.0\" y1=\"270.0\" x2=\"430.0\" y2=\"270.0\" stroke-linecap=\"round\" style=\"stroke:rgb(76,205,74);stroke-width:1\" /><line x1=\"430.0\" y1=\"270.0\" x2=\"430.0\" y2=\"300.0\" stroke-linecap=\"round\" style=\"stroke:rgb(76,205,74);stroke-width:1\" /><line x1=\"430.0\" y1=\"270.0\" x2=\"490.0\" y2=\"270.0\" stroke-linecap=\"round\" style=\"stroke:rgb(76,205,74);stroke-width:1\" /><line x1=\"490.0\" y1=\"270.0\" x2=\"490.0\" y2=\"240.0\" stroke-linecap=\"round\" style=\"stroke:rgb(76,205,74);stroke-width:1\" /><line x1=\"490.0\" y1=\"240.0\" x2=\"430.0\" y2=\"240.0\" stroke-linecap=\"round\" style=\"stroke:rgb(76,205,74);stroke-width:1\" /><line x1=\"430.0\" y1=\"240.0\" x2=\"430.0\" y2=\"270.0\" stroke-linecap=\"round\" style=\"stroke:rgb(76,205,74);stroke-width:1\" /><line x1=\"430.0\" y1=\"240.0\" x2=\"490.0\" y2=\"240.0\" stroke-linecap=\"round\" style=\"stroke:rgb(76,205,74);stroke-width:1\" /><line x1=\"490.0\" y1=\"240.0\" x2=\"490.0\" y2=\"210.0\" stroke-linecap=\"round\" style=\"stroke:rgb(76,205,74);stroke-width:1\" /><line x1=\"490.0\" y1=\"210.0\" x2=\"430.0\" y2=\"210.0\" stroke-linecap=\"round\" style=\"stroke:rgb(76,205,74);stroke-width:1\" /><line x1=\"430.0\" y1=\"210.0\" x2=\"430.0\" y2=\"240.0\" stroke-linecap=\"round\" style=\"stroke:rgb(76,205,74);stroke-width:1\" /><line x1=\"430.0\" y1=\"210.0\" x2=\"490.0\" y2=\"210.0\" stroke-linecap=\"round\" style=\"stroke:rgb(76,205,74);stroke-width:1\" /><line x1=\"490.0\" y1=\"210.0\" x2=\"490.0\" y2=\"180.0\" stroke-linecap=\"round\" style=\"stroke:rgb(76,205,74);stroke-width:1\" /><line x1=\"490.0\" y1=\"180.0\" x2=\"430.0\" y2=\"180.0\" stroke-linecap=\"round\" style=\"stroke:rgb(76,205,74);stroke-width:1\" /><line x1=\"430.0\" y1=\"180.0\" x2=\"430.0\" y2=\"210.0\" stroke-linecap=\"round\" style=\"stroke:rgb(76,205,74);stroke-width:1\" /><line x1=\"460.0\" y1=\"300.0\" x2=\"520.0\" y2=\"300.0\" stroke-linecap=\"round\" style=\"stroke:rgb(76,205,74);stroke-width:1\" /><line x1=\"520.0\" y1=\"300.0\" x2=\"520.0\" y2=\"270.0\" stroke-linecap=\"round\" style=\"stroke:rgb(76,205,74);stroke-width:1\" /><line x1=\"520.0\" y1=\"270.0\" x2=\"460.0\" y2=\"270.0\" stroke-linecap=\"round\" style=\"stroke:rgb(76,205,74);stroke-width:1\" /><line x1=\"460.0\" y1=\"270.0\" x2=\"460.0\" y2=\"300.0\" stroke-linecap=\"round\" style=\"stroke:rgb(76,205,74);stroke-width:1\" /><line x1=\"460.0\" y1=\"270.0\" x2=\"520.0\" y2=\"270.0\" stroke-linecap=\"round\" style=\"stroke:rgb(76,205,74);stroke-width:1\" /><line x1=\"520.0\" y1=\"270.0\" x2=\"520.0\" y2=\"240.0\" stroke-linecap=\"round\" style=\"stroke:rgb(76,205,74);stroke-width:1\" /><line x1=\"520.0\" y1=\"240.0\" x2=\"460.0\" y2=\"240.0\" stroke-linecap=\"round\" style=\"stroke:rgb(76,205,74);stroke-width:1\" /><line x1=\"460.0\" y1=\"240.0\" x2=\"460.0\" y2=\"270.0\" stroke-linecap=\"round\" style=\"stroke:rgb(76,205,74);stroke-width:1\" /><line x1=\"460.0\" y1=\"240.0\" x2=\"520.0\" y2=\"240.0\" stroke-linecap=\"round\" style=\"stroke:rgb(76,205,74);stroke-width:1\" /><line x1=\"520.0\" y1=\"240.0\" x2=\"520.0\" y2=\"210.0\" stroke-linecap=\"round\" style=\"stroke:rgb(76,205,74);stroke-width:1\" /><line x1=\"520.0\" y1=\"210.0\" x2=\"460.0\" y2=\"210.0\" stroke-linecap=\"round\" style=\"stroke:rgb(76,205,74);stroke-width:1\" /><line x1=\"460.0\" y1=\"210.0\" x2=\"460.0\" y2=\"240.0\" stroke-linecap=\"round\" style=\"stroke:rgb(76,205,74);stroke-width:1\" /><line x1=\"460.0\" y1=\"210.0\" x2=\"520.0\" y2=\"210.0\" stroke-linecap=\"round\" style=\"stroke:rgb(76,205,74);stroke-width:1\" /><line x1=\"520.0\" y1=\"210.0\" x2=\"520.0\" y2=\"180.0\" stroke-linecap=\"round\" style=\"stroke:rgb(76,205,74);stroke-width:1\" /><line x1=\"520.0\" y1=\"180.0\" x2=\"460.0\" y2=\"180.0\" stroke-linecap=\"round\" style=\"stroke:rgb(76,205,74);stroke-width:1\" /><line x1=\"460.0\" y1=\"180.0\" x2=\"460.0\" y2=\"210.0\" stroke-linecap=\"round\" style=\"stroke:rgb(76,205,74);stroke-width:1\" /><line x1=\"490.0\" y1=\"300.0\" x2=\"550.0\" y2=\"300.0\" stroke-linecap=\"round\" style=\"stroke:rgb(76,205,74);stroke-width:1\" /><line x1=\"550.0\" y1=\"300.0\" x2=\"550.0\" y2=\"270.0\" stroke-linecap=\"round\" style=\"stroke:rgb(76,205,74);stroke-width:1\" /><line x1=\"550.0\" y1=\"270.0\" x2=\"490.0\" y2=\"270.0\" stroke-linecap=\"round\" style=\"stroke:rgb(76,205,74);stroke-width:1\" /><line x1=\"490.0\" y1=\"270.0\" x2=\"490.0\" y2=\"300.0\" stroke-linecap=\"round\" style=\"stroke:rgb(76,205,74);stroke-width:1\" /><line x1=\"490.0\" y1=\"270.0\" x2=\"550.0\" y2=\"270.0\" stroke-linecap=\"round\" style=\"stroke:rgb(76,205,74);stroke-width:1\" /><line x1=\"550.0\" y1=\"270.0\" x2=\"550.0\" y2=\"240.0\" stroke-linecap=\"round\" style=\"stroke:rgb(76,205,74);stroke-width:1\" /><line x1=\"550.0\" y1=\"240.0\" x2=\"490.0\" y2=\"240.0\" stroke-linecap=\"round\" style=\"stroke:rgb(76,205,74);stroke-width:1\" /><line x1=\"490.0\" y1=\"240.0\" x2=\"490.0\" y2=\"270.0\" stroke-linecap=\"round\" style=\"stroke:rgb(76,205,74);stroke-width:1\" /><line x1=\"490.0\" y1=\"240.0\" x2=\"550.0\" y2=\"240.0\" stroke-linecap=\"round\" style=\"stroke:rgb(76,205,74);stroke-width:1\" /><line x1=\"550.0\" y1=\"240.0\" x2=\"550.0\" y2=\"210.0\" stroke-linecap=\"round\" style=\"stroke:rgb(76,205,74);stroke-width:1\" /><line x1=\"550.0\" y1=\"210.0\" x2=\"490.0\" y2=\"210.0\" stroke-linecap=\"round\" style=\"stroke:rgb(76,205,74);stroke-width:1\" /><line x1=\"490.0\" y1=\"210.0\" x2=\"490.0\" y2=\"240.0\" stroke-linecap=\"round\" style=\"stroke:rgb(76,205,74);stroke-width:1\" /><line x1=\"490.0\" y1=\"210.0\" x2=\"550.0\" y2=\"210.0\" stroke-linecap=\"round\" style=\"stroke:rgb(76,205,74);stroke-width:1\" /><line x1=\"550.0\" y1=\"210.0\" x2=\"550.0\" y2=\"180.0\" stroke-linecap=\"round\" style=\"stroke:rgb(76,205,74);stroke-width:1\" /><line x1=\"550.0\" y1=\"180.0\" x2=\"490.0\" y2=\"180.0\" stroke-linecap=\"round\" style=\"stroke:rgb(76,205,74);stroke-width:1\" /><line x1=\"490.0\" y1=\"180.0\" x2=\"490.0\" y2=\"210.0\" stroke-linecap=\"round\" style=\"stroke:rgb(76,205,74);stroke-width:1\" /><line x1=\"400.0\" y1=\"300.0\" x2=\"460.0\" y2=\"300.0\" stroke-linecap=\"round\" style=\"stroke:rgb(204,97,239);stroke-width:1\" /><line x1=\"460.0\" y1=\"300.0\" x2=\"460.0\" y2=\"240.0\" stroke-linecap=\"round\" style=\"stroke:rgb(204,97,239);stroke-width:1\" /><line x1=\"460.0\" y1=\"240.0\" x2=\"400.0\" y2=\"240.0\" stroke-linecap=\"round\" style=\"stroke:rgb(204,97,239);stroke-width:1\" /><line x1=\"400.0\" y1=\"240.0\" x2=\"400.0\" y2=\"300.0\" stroke-linecap=\"round\" style=\"stroke:rgb(204,97,239);stroke-width:1\" /><line x1=\"400.0\" y1=\"270.0\" x2=\"460.0\" y2=\"270.0\" stroke-linecap=\"round\" style=\"stroke:rgb(204,97,239);stroke-width:1\" /><line x1=\"460.0\" y1=\"270.0\" x2=\"460.0\" y2=\"210.0\" stroke-linecap=\"round\" style=\"stroke:rgb(204,97,239);stroke-width:1\" /><line x1=\"460.0\" y1=\"210.0\" x2=\"400.0\" y2=\"210.0\" stroke-linecap=\"round\" style=\"stroke:rgb(204,97,239);stroke-width:1\" /><line x1=\"400.0\" y1=\"210.0\" x2=\"400.0\" y2=\"270.0\" stroke-linecap=\"round\" style=\"stroke:rgb(204,97,239);stroke-width:1\" /><line x1=\"400.0\" y1=\"240.0\" x2=\"460.0\" y2=\"240.0\" stroke-linecap=\"round\" style=\"stroke:rgb(204,97,239);stroke-width:1\" /><line x1=\"460.0\" y1=\"240.0\" x2=\"460.0\" y2=\"180.0\" stroke-linecap=\"round\" style=\"stroke:rgb(204,97,239);stroke-width:1\" /><line x1=\"460.0\" y1=\"180.0\" x2=\"400.0\" y2=\"180.0\" stroke-linecap=\"round\" style=\"stroke:rgb(204,97,239);stroke-width:1\" /><line x1=\"400.0\" y1=\"180.0\" x2=\"400.0\" y2=\"240.0\" stroke-linecap=\"round\" style=\"stroke:rgb(204,97,239);stroke-width:1\" /><line x1=\"430.0\" y1=\"300.0\" x2=\"490.0\" y2=\"300.0\" stroke-linecap=\"round\" style=\"stroke:rgb(204,97,239);stroke-width:1\" /><line x1=\"490.0\" y1=\"300.0\" x2=\"490.0\" y2=\"240.0\" stroke-linecap=\"round\" style=\"stroke:rgb(204,97,239);stroke-width:1\" /><line x1=\"490.0\" y1=\"240.0\" x2=\"430.0\" y2=\"240.0\" stroke-linecap=\"round\" style=\"stroke:rgb(204,97,239);stroke-width:1\" /><line x1=\"430.0\" y1=\"240.0\" x2=\"430.0\" y2=\"300.0\" stroke-linecap=\"round\" style=\"stroke:rgb(204,97,239);stroke-width:1\" /><line x1=\"430.0\" y1=\"270.0\" x2=\"490.0\" y2=\"270.0\" stroke-linecap=\"round\" style=\"stroke:rgb(204,97,239);stroke-width:1\" /><line x1=\"490.0\" y1=\"270.0\" x2=\"490.0\" y2=\"210.0\" stroke-linecap=\"round\" style=\"stroke:rgb(204,97,239);stroke-width:1\" /><line x1=\"490.0\" y1=\"210.0\" x2=\"430.0\" y2=\"210.0\" stroke-linecap=\"round\" style=\"stroke:rgb(204,97,239);stroke-width:1\" /><line x1=\"430.0\" y1=\"210.0\" x2=\"430.0\" y2=\"270.0\" stroke-linecap=\"round\" style=\"stroke:rgb(204,97,239);stroke-width:1\" /><line x1=\"430.0\" y1=\"240.0\" x2=\"490.0\" y2=\"240.0\" stroke-linecap=\"round\" style=\"stroke:rgb(204,97,239);stroke-width:1\" /><line x1=\"490.0\" y1=\"240.0\" x2=\"490.0\" y2=\"180.0\" stroke-linecap=\"round\" style=\"stroke:rgb(204,97,239);stroke-width:1\" /><line x1=\"490.0\" y1=\"180.0\" x2=\"430.0\" y2=\"180.0\" stroke-linecap=\"round\" style=\"stroke:rgb(204,97,239);stroke-width:1\" /><line x1=\"430.0\" y1=\"180.0\" x2=\"430.0\" y2=\"240.0\" stroke-linecap=\"round\" style=\"stroke:rgb(204,97,239);stroke-width:1\" /><line x1=\"460.0\" y1=\"300.0\" x2=\"520.0\" y2=\"300.0\" stroke-linecap=\"round\" style=\"stroke:rgb(204,97,239);stroke-width:1\" /><line x1=\"520.0\" y1=\"300.0\" x2=\"520.0\" y2=\"240.0\" stroke-linecap=\"round\" style=\"stroke:rgb(204,97,239);stroke-width:1\" /><line x1=\"520.0\" y1=\"240.0\" x2=\"460.0\" y2=\"240.0\" stroke-linecap=\"round\" style=\"stroke:rgb(204,97,239);stroke-width:1\" /><line x1=\"460.0\" y1=\"240.0\" x2=\"460.0\" y2=\"300.0\" stroke-linecap=\"round\" style=\"stroke:rgb(204,97,239);stroke-width:1\" /><line x1=\"460.0\" y1=\"270.0\" x2=\"520.0\" y2=\"270.0\" stroke-linecap=\"round\" style=\"stroke:rgb(204,97,239);stroke-width:1\" /><line x1=\"520.0\" y1=\"270.0\" x2=\"520.0\" y2=\"210.0\" stroke-linecap=\"round\" style=\"stroke:rgb(204,97,239);stroke-width:1\" /><line x1=\"520.0\" y1=\"210.0\" x2=\"460.0\" y2=\"210.0\" stroke-linecap=\"round\" style=\"stroke:rgb(204,97,239);stroke-width:1\" /><line x1=\"460.0\" y1=\"210.0\" x2=\"460.0\" y2=\"270.0\" stroke-linecap=\"round\" style=\"stroke:rgb(204,97,239);stroke-width:1\" /><line x1=\"460.0\" y1=\"240.0\" x2=\"520.0\" y2=\"240.0\" stroke-linecap=\"round\" style=\"stroke:rgb(204,97,239);stroke-width:1\" /><line x1=\"520.0\" y1=\"240.0\" x2=\"520.0\" y2=\"180.0\" stroke-linecap=\"round\" style=\"stroke:rgb(204,97,239);stroke-width:1\" /><line x1=\"520.0\" y1=\"180.0\" x2=\"460.0\" y2=\"180.0\" stroke-linecap=\"round\" style=\"stroke:rgb(204,97,239);stroke-width:1\" /><line x1=\"460.0\" y1=\"180.0\" x2=\"460.0\" y2=\"240.0\" stroke-linecap=\"round\" style=\"stroke:rgb(204,97,239);stroke-width:1\" /><line x1=\"490.0\" y1=\"300.0\" x2=\"550.0\" y2=\"300.0\" stroke-linecap=\"round\" style=\"stroke:rgb(204,97,239);stroke-width:1\" /><line x1=\"550.0\" y1=\"300.0\" x2=\"550.0\" y2=\"240.0\" stroke-linecap=\"round\" style=\"stroke:rgb(204,97,239);stroke-width:1\" /><line x1=\"550.0\" y1=\"240.0\" x2=\"490.0\" y2=\"240.0\" stroke-linecap=\"round\" style=\"stroke:rgb(204,97,239);stroke-width:1\" /><line x1=\"490.0\" y1=\"240.0\" x2=\"490.0\" y2=\"300.0\" stroke-linecap=\"round\" style=\"stroke:rgb(204,97,239);stroke-width:1\" /><line x1=\"490.0\" y1=\"270.0\" x2=\"550.0\" y2=\"270.0\" stroke-linecap=\"round\" style=\"stroke:rgb(204,97,239);stroke-width:1\" /><line x1=\"550.0\" y1=\"270.0\" x2=\"550.0\" y2=\"210.0\" stroke-linecap=\"round\" style=\"stroke:rgb(204,97,239);stroke-width:1\" /><line x1=\"550.0\" y1=\"210.0\" x2=\"490.0\" y2=\"210.0\" stroke-linecap=\"round\" style=\"stroke:rgb(204,97,239);stroke-width:1\" /><line x1=\"490.0\" y1=\"210.0\" x2=\"490.0\" y2=\"270.0\" stroke-linecap=\"round\" style=\"stroke:rgb(204,97,239);stroke-width:1\" /><line x1=\"490.0\" y1=\"240.0\" x2=\"550.0\" y2=\"240.0\" stroke-linecap=\"round\" style=\"stroke:rgb(204,97,239);stroke-width:1\" /><line x1=\"550.0\" y1=\"240.0\" x2=\"550.0\" y2=\"180.0\" stroke-linecap=\"round\" style=\"stroke:rgb(204,97,239);stroke-width:1\" /><line x1=\"550.0\" y1=\"180.0\" x2=\"490.0\" y2=\"180.0\" stroke-linecap=\"round\" style=\"stroke:rgb(204,97,239);stroke-width:1\" /><line x1=\"490.0\" y1=\"180.0\" x2=\"490.0\" y2=\"240.0\" stroke-linecap=\"round\" style=\"stroke:rgb(204,97,239);stroke-width:1\" /><line x1=\"400.0\" y1=\"300.0\" x2=\"460.0\" y2=\"300.0\" stroke-linecap=\"round\" style=\"stroke:rgb(46,137,4);stroke-width:1\" /><line x1=\"460.0\" y1=\"300.0\" x2=\"460.0\" y2=\"210.0\" stroke-linecap=\"round\" style=\"stroke:rgb(46,137,4);stroke-width:1\" /><line x1=\"460.0\" y1=\"210.0\" x2=\"400.0\" y2=\"210.0\" stroke-linecap=\"round\" style=\"stroke:rgb(46,137,4);stroke-width:1\" /><line x1=\"400.0\" y1=\"210.0\" x2=\"400.0\" y2=\"300.0\" stroke-linecap=\"round\" style=\"stroke:rgb(46,137,4);stroke-width:1\" /><line x1=\"400.0\" y1=\"270.0\" x2=\"460.0\" y2=\"270.0\" stroke-linecap=\"round\" style=\"stroke:rgb(46,137,4);stroke-width:1\" /><line x1=\"460.0\" y1=\"270.0\" x2=\"460.0\" y2=\"180.0\" stroke-linecap=\"round\" style=\"stroke:rgb(46,137,4);stroke-width:1\" /><line x1=\"460.0\" y1=\"180.0\" x2=\"400.0\" y2=\"180.0\" stroke-linecap=\"round\" style=\"stroke:rgb(46,137,4);stroke-width:1\" /><line x1=\"400.0\" y1=\"180.0\" x2=\"400.0\" y2=\"270.0\" stroke-linecap=\"round\" style=\"stroke:rgb(46,137,4);stroke-width:1\" /><line x1=\"430.0\" y1=\"300.0\" x2=\"490.0\" y2=\"300.0\" stroke-linecap=\"round\" style=\"stroke:rgb(46,137,4);stroke-width:1\" /><line x1=\"490.0\" y1=\"300.0\" x2=\"490.0\" y2=\"210.0\" stroke-linecap=\"round\" style=\"stroke:rgb(46,137,4);stroke-width:1\" /><line x1=\"490.0\" y1=\"210.0\" x2=\"430.0\" y2=\"210.0\" stroke-linecap=\"round\" style=\"stroke:rgb(46,137,4);stroke-width:1\" /><line x1=\"430.0\" y1=\"210.0\" x2=\"430.0\" y2=\"300.0\" stroke-linecap=\"round\" style=\"stroke:rgb(46,137,4);stroke-width:1\" /><line x1=\"430.0\" y1=\"270.0\" x2=\"490.0\" y2=\"270.0\" stroke-linecap=\"round\" style=\"stroke:rgb(46,137,4);stroke-width:1\" /><line x1=\"490.0\" y1=\"270.0\" x2=\"490.0\" y2=\"180.0\" stroke-linecap=\"round\" style=\"stroke:rgb(46,137,4);stroke-width:1\" /><line x1=\"490.0\" y1=\"180.0\" x2=\"430.0\" y2=\"180.0\" stroke-linecap=\"round\" style=\"stroke:rgb(46,137,4);stroke-width:1\" /><line x1=\"430.0\" y1=\"180.0\" x2=\"430.0\" y2=\"270.0\" stroke-linecap=\"round\" style=\"stroke:rgb(46,137,4);stroke-width:1\" /><line x1=\"460.0\" y1=\"300.0\" x2=\"520.0\" y2=\"300.0\" stroke-linecap=\"round\" style=\"stroke:rgb(46,137,4);stroke-width:1\" /><line x1=\"520.0\" y1=\"300.0\" x2=\"520.0\" y2=\"210.0\" stroke-linecap=\"round\" style=\"stroke:rgb(46,137,4);stroke-width:1\" /><line x1=\"520.0\" y1=\"210.0\" x2=\"460.0\" y2=\"210.0\" stroke-linecap=\"round\" style=\"stroke:rgb(46,137,4);stroke-width:1\" /><line x1=\"460.0\" y1=\"210.0\" x2=\"460.0\" y2=\"300.0\" stroke-linecap=\"round\" style=\"stroke:rgb(46,137,4);stroke-width:1\" /><line x1=\"460.0\" y1=\"270.0\" x2=\"520.0\" y2=\"270.0\" stroke-linecap=\"round\" style=\"stroke:rgb(46,137,4);stroke-width:1\" /><line x1=\"520.0\" y1=\"270.0\" x2=\"520.0\" y2=\"180.0\" stroke-linecap=\"round\" style=\"stroke:rgb(46,137,4);stroke-width:1\" /><line x1=\"520.0\" y1=\"180.0\" x2=\"460.0\" y2=\"180.0\" stroke-linecap=\"round\" style=\"stroke:rgb(46,137,4);stroke-width:1\" /><line x1=\"460.0\" y1=\"180.0\" x2=\"460.0\" y2=\"270.0\" stroke-linecap=\"round\" style=\"stroke:rgb(46,137,4);stroke-width:1\" /><line x1=\"490.0\" y1=\"300.0\" x2=\"550.0\" y2=\"300.0\" stroke-linecap=\"round\" style=\"stroke:rgb(46,137,4);stroke-width:1\" /><line x1=\"550.0\" y1=\"300.0\" x2=\"550.0\" y2=\"210.0\" stroke-linecap=\"round\" style=\"stroke:rgb(46,137,4);stroke-width:1\" /><line x1=\"550.0\" y1=\"210.0\" x2=\"490.0\" y2=\"210.0\" stroke-linecap=\"round\" style=\"stroke:rgb(46,137,4);stroke-width:1\" /><line x1=\"490.0\" y1=\"210.0\" x2=\"490.0\" y2=\"300.0\" stroke-linecap=\"round\" style=\"stroke:rgb(46,137,4);stroke-width:1\" /><line x1=\"490.0\" y1=\"270.0\" x2=\"550.0\" y2=\"270.0\" stroke-linecap=\"round\" style=\"stroke:rgb(46,137,4);stroke-width:1\" /><line x1=\"550.0\" y1=\"270.0\" x2=\"550.0\" y2=\"180.0\" stroke-linecap=\"round\" style=\"stroke:rgb(46,137,4);stroke-width:1\" /><line x1=\"550.0\" y1=\"180.0\" x2=\"490.0\" y2=\"180.0\" stroke-linecap=\"round\" style=\"stroke:rgb(46,137,4);stroke-width:1\" /><line x1=\"490.0\" y1=\"180.0\" x2=\"490.0\" y2=\"270.0\" stroke-linecap=\"round\" style=\"stroke:rgb(46,137,4);stroke-width:1\" /><line x1=\"400.0\" y1=\"300.0\" x2=\"460.0\" y2=\"300.0\" stroke-linecap=\"round\" style=\"stroke:rgb(240,148,145);stroke-width:1\" /><line x1=\"460.0\" y1=\"300.0\" x2=\"460.0\" y2=\"180.0\" stroke-linecap=\"round\" style=\"stroke:rgb(240,148,145);stroke-width:1\" /><line x1=\"460.0\" y1=\"180.0\" x2=\"400.0\" y2=\"180.0\" stroke-linecap=\"round\" style=\"stroke:rgb(240,148,145);stroke-width:1\" /><line x1=\"400.0\" y1=\"180.0\" x2=\"400.0\" y2=\"300.0\" stroke-linecap=\"round\" style=\"stroke:rgb(240,148,145);stroke-width:1\" /><line x1=\"430.0\" y1=\"300.0\" x2=\"490.0\" y2=\"300.0\" stroke-linecap=\"round\" style=\"stroke:rgb(240,148,145);stroke-width:1\" /><line x1=\"490.0\" y1=\"300.0\" x2=\"490.0\" y2=\"180.0\" stroke-linecap=\"round\" style=\"stroke:rgb(240,148,145);stroke-width:1\" /><line x1=\"490.0\" y1=\"180.0\" x2=\"430.0\" y2=\"180.0\" stroke-linecap=\"round\" style=\"stroke:rgb(240,148,145);stroke-width:1\" /><line x1=\"430.0\" y1=\"180.0\" x2=\"430.0\" y2=\"300.0\" stroke-linecap=\"round\" style=\"stroke:rgb(240,148,145);stroke-width:1\" /><line x1=\"460.0\" y1=\"300.0\" x2=\"520.0\" y2=\"300.0\" stroke-linecap=\"round\" style=\"stroke:rgb(240,148,145);stroke-width:1\" /><line x1=\"520.0\" y1=\"300.0\" x2=\"520.0\" y2=\"180.0\" stroke-linecap=\"round\" style=\"stroke:rgb(240,148,145);stroke-width:1\" /><line x1=\"520.0\" y1=\"180.0\" x2=\"460.0\" y2=\"180.0\" stroke-linecap=\"round\" style=\"stroke:rgb(240,148,145);stroke-width:1\" /><line x1=\"460.0\" y1=\"180.0\" x2=\"460.0\" y2=\"300.0\" stroke-linecap=\"round\" style=\"stroke:rgb(240,148,145);stroke-width:1\" /><line x1=\"490.0\" y1=\"300.0\" x2=\"550.0\" y2=\"300.0\" stroke-linecap=\"round\" style=\"stroke:rgb(240,148,145);stroke-width:1\" /><line x1=\"550.0\" y1=\"300.0\" x2=\"550.0\" y2=\"180.0\" stroke-linecap=\"round\" style=\"stroke:rgb(240,148,145);stroke-width:1\" /><line x1=\"550.0\" y1=\"180.0\" x2=\"490.0\" y2=\"180.0\" stroke-linecap=\"round\" style=\"stroke:rgb(240,148,145);stroke-width:1\" /><line x1=\"490.0\" y1=\"180.0\" x2=\"490.0\" y2=\"300.0\" stroke-linecap=\"round\" style=\"stroke:rgb(240,148,145);stroke-width:1\" /><line x1=\"400.0\" y1=\"300.0\" x2=\"490.0\" y2=\"300.0\" stroke-linecap=\"round\" style=\"stroke:rgb(198,231,181);stroke-width:1\" /><line x1=\"490.0\" y1=\"300.0\" x2=\"490.0\" y2=\"270.0\" stroke-linecap=\"round\" style=\"stroke:rgb(198,231,181);stroke-width:1\" /><line x1=\"490.0\" y1=\"270.0\" x2=\"400.0\" y2=\"270.0\" stroke-linecap=\"round\" style=\"stroke:rgb(198,231,181);stroke-width:1\" /><line x1=\"400.0\" y1=\"270.0\" x2=\"400.0\" y2=\"300.0\" stroke-linecap=\"round\" style=\"stroke:rgb(198,231,181);stroke-width:1\" /><line x1=\"400.0\" y1=\"270.0\" x2=\"490.0\" y2=\"270.0\" stroke-linecap=\"round\" style=\"stroke:rgb(198,231,181);stroke-width:1\" /><line x1=\"490.0\" y1=\"270.0\" x2=\"490.0\" y2=\"240.0\" stroke-linecap=\"round\" style=\"stroke:rgb(198,231,181);stroke-width:1\" /><line x1=\"490.0\" y1=\"240.0\" x2=\"400.0\" y2=\"240.0\" stroke-linecap=\"round\" style=\"stroke:rgb(198,231,181);stroke-width:1\" /><line x1=\"400.0\" y1=\"240.0\" x2=\"400.0\" y2=\"270.0\" stroke-linecap=\"round\" style=\"stroke:rgb(198,231,181);stroke-width:1\" /><line x1=\"400.0\" y1=\"240.0\" x2=\"490.0\" y2=\"240.0\" stroke-linecap=\"round\" style=\"stroke:rgb(198,231,181);stroke-width:1\" /><line x1=\"490.0\" y1=\"240.0\" x2=\"490.0\" y2=\"210.0\" stroke-linecap=\"round\" style=\"stroke:rgb(198,231,181);stroke-width:1\" /><line x1=\"490.0\" y1=\"210.0\" x2=\"400.0\" y2=\"210.0\" stroke-linecap=\"round\" style=\"stroke:rgb(198,231,181);stroke-width:1\" /><line x1=\"400.0\" y1=\"210.0\" x2=\"400.0\" y2=\"240.0\" stroke-linecap=\"round\" style=\"stroke:rgb(198,231,181);stroke-width:1\" /><line x1=\"400.0\" y1=\"210.0\" x2=\"490.0\" y2=\"210.0\" stroke-linecap=\"round\" style=\"stroke:rgb(198,231,181);stroke-width:1\" /><line x1=\"490.0\" y1=\"210.0\" x2=\"490.0\" y2=\"180.0\" stroke-linecap=\"round\" style=\"stroke:rgb(198,231,181);stroke-width:1\" /><line x1=\"490.0\" y1=\"180.0\" x2=\"400.0\" y2=\"180.0\" stroke-linecap=\"round\" style=\"stroke:rgb(198,231,181);stroke-width:1\" /><line x1=\"400.0\" y1=\"180.0\" x2=\"400.0\" y2=\"210.0\" stroke-linecap=\"round\" style=\"stroke:rgb(198,231,181);stroke-width:1\" /><line x1=\"430.0\" y1=\"300.0\" x2=\"520.0\" y2=\"300.0\" stroke-linecap=\"round\" style=\"stroke:rgb(198,231,181);stroke-width:1\" /><line x1=\"520.0\" y1=\"300.0\" x2=\"520.0\" y2=\"270.0\" stroke-linecap=\"round\" style=\"stroke:rgb(198,231,181);stroke-width:1\" /><line x1=\"520.0\" y1=\"270.0\" x2=\"430.0\" y2=\"270.0\" stroke-linecap=\"round\" style=\"stroke:rgb(198,231,181);stroke-width:1\" /><line x1=\"430.0\" y1=\"270.0\" x2=\"430.0\" y2=\"300.0\" stroke-linecap=\"round\" style=\"stroke:rgb(198,231,181);stroke-width:1\" /><line x1=\"430.0\" y1=\"270.0\" x2=\"520.0\" y2=\"270.0\" stroke-linecap=\"round\" style=\"stroke:rgb(198,231,181);stroke-width:1\" /><line x1=\"520.0\" y1=\"270.0\" x2=\"520.0\" y2=\"240.0\" stroke-linecap=\"round\" style=\"stroke:rgb(198,231,181);stroke-width:1\" /><line x1=\"520.0\" y1=\"240.0\" x2=\"430.0\" y2=\"240.0\" stroke-linecap=\"round\" style=\"stroke:rgb(198,231,181);stroke-width:1\" /><line x1=\"430.0\" y1=\"240.0\" x2=\"430.0\" y2=\"270.0\" stroke-linecap=\"round\" style=\"stroke:rgb(198,231,181);stroke-width:1\" /><line x1=\"430.0\" y1=\"240.0\" x2=\"520.0\" y2=\"240.0\" stroke-linecap=\"round\" style=\"stroke:rgb(198,231,181);stroke-width:1\" /><line x1=\"520.0\" y1=\"240.0\" x2=\"520.0\" y2=\"210.0\" stroke-linecap=\"round\" style=\"stroke:rgb(198,231,181);stroke-width:1\" /><line x1=\"520.0\" y1=\"210.0\" x2=\"430.0\" y2=\"210.0\" stroke-linecap=\"round\" style=\"stroke:rgb(198,231,181);stroke-width:1\" /><line x1=\"430.0\" y1=\"210.0\" x2=\"430.0\" y2=\"240.0\" stroke-linecap=\"round\" style=\"stroke:rgb(198,231,181);stroke-width:1\" /><line x1=\"430.0\" y1=\"210.0\" x2=\"520.0\" y2=\"210.0\" stroke-linecap=\"round\" style=\"stroke:rgb(198,231,181);stroke-width:1\" /><line x1=\"520.0\" y1=\"210.0\" x2=\"520.0\" y2=\"180.0\" stroke-linecap=\"round\" style=\"stroke:rgb(198,231,181);stroke-width:1\" /><line x1=\"520.0\" y1=\"180.0\" x2=\"430.0\" y2=\"180.0\" stroke-linecap=\"round\" style=\"stroke:rgb(198,231,181);stroke-width:1\" /><line x1=\"430.0\" y1=\"180.0\" x2=\"430.0\" y2=\"210.0\" stroke-linecap=\"round\" style=\"stroke:rgb(198,231,181);stroke-width:1\" /><line x1=\"460.0\" y1=\"300.0\" x2=\"550.0\" y2=\"300.0\" stroke-linecap=\"round\" style=\"stroke:rgb(198,231,181);stroke-width:1\" /><line x1=\"550.0\" y1=\"300.0\" x2=\"550.0\" y2=\"270.0\" stroke-linecap=\"round\" style=\"stroke:rgb(198,231,181);stroke-width:1\" /><line x1=\"550.0\" y1=\"270.0\" x2=\"460.0\" y2=\"270.0\" stroke-linecap=\"round\" style=\"stroke:rgb(198,231,181);stroke-width:1\" /><line x1=\"460.0\" y1=\"270.0\" x2=\"460.0\" y2=\"300.0\" stroke-linecap=\"round\" style=\"stroke:rgb(198,231,181);stroke-width:1\" /><line x1=\"460.0\" y1=\"270.0\" x2=\"550.0\" y2=\"270.0\" stroke-linecap=\"round\" style=\"stroke:rgb(198,231,181);stroke-width:1\" /><line x1=\"550.0\" y1=\"270.0\" x2=\"550.0\" y2=\"240.0\" stroke-linecap=\"round\" style=\"stroke:rgb(198,231,181);stroke-width:1\" /><line x1=\"550.0\" y1=\"240.0\" x2=\"460.0\" y2=\"240.0\" stroke-linecap=\"round\" style=\"stroke:rgb(198,231,181);stroke-width:1\" /><line x1=\"460.0\" y1=\"240.0\" x2=\"460.0\" y2=\"270.0\" stroke-linecap=\"round\" style=\"stroke:rgb(198,231,181);stroke-width:1\" /><line x1=\"460.0\" y1=\"240.0\" x2=\"550.0\" y2=\"240.0\" stroke-linecap=\"round\" style=\"stroke:rgb(198,231,181);stroke-width:1\" /><line x1=\"550.0\" y1=\"240.0\" x2=\"550.0\" y2=\"210.0\" stroke-linecap=\"round\" style=\"stroke:rgb(198,231,181);stroke-width:1\" /><line x1=\"550.0\" y1=\"210.0\" x2=\"460.0\" y2=\"210.0\" stroke-linecap=\"round\" style=\"stroke:rgb(198,231,181);stroke-width:1\" /><line x1=\"460.0\" y1=\"210.0\" x2=\"460.0\" y2=\"240.0\" stroke-linecap=\"round\" style=\"stroke:rgb(198,231,181);stroke-width:1\" /><line x1=\"460.0\" y1=\"210.0\" x2=\"550.0\" y2=\"210.0\" stroke-linecap=\"round\" style=\"stroke:rgb(198,231,181);stroke-width:1\" /><line x1=\"550.0\" y1=\"210.0\" x2=\"550.0\" y2=\"180.0\" stroke-linecap=\"round\" style=\"stroke:rgb(198,231,181);stroke-width:1\" /><line x1=\"550.0\" y1=\"180.0\" x2=\"460.0\" y2=\"180.0\" stroke-linecap=\"round\" style=\"stroke:rgb(198,231,181);stroke-width:1\" /><line x1=\"460.0\" y1=\"180.0\" x2=\"460.0\" y2=\"210.0\" stroke-linecap=\"round\" style=\"stroke:rgb(198,231,181);stroke-width:1\" /><line x1=\"400.0\" y1=\"300.0\" x2=\"490.0\" y2=\"300.0\" stroke-linecap=\"round\" style=\"stroke:rgb(112,171,179);stroke-width:1\" /><line x1=\"490.0\" y1=\"300.0\" x2=\"490.0\" y2=\"240.0\" stroke-linecap=\"round\" style=\"stroke:rgb(112,171,179);stroke-width:1\" /><line x1=\"490.0\" y1=\"240.0\" x2=\"400.0\" y2=\"240.0\" stroke-linecap=\"round\" style=\"stroke:rgb(112,171,179);stroke-width:1\" /><line x1=\"400.0\" y1=\"240.0\" x2=\"400.0\" y2=\"300.0\" stroke-linecap=\"round\" style=\"stroke:rgb(112,171,179);stroke-width:1\" /><line x1=\"400.0\" y1=\"270.0\" x2=\"490.0\" y2=\"270.0\" stroke-linecap=\"round\" style=\"stroke:rgb(112,171,179);stroke-width:1\" /><line x1=\"490.0\" y1=\"270.0\" x2=\"490.0\" y2=\"210.0\" stroke-linecap=\"round\" style=\"stroke:rgb(112,171,179);stroke-width:1\" /><line x1=\"490.0\" y1=\"210.0\" x2=\"400.0\" y2=\"210.0\" stroke-linecap=\"round\" style=\"stroke:rgb(112,171,179);stroke-width:1\" /><line x1=\"400.0\" y1=\"210.0\" x2=\"400.0\" y2=\"270.0\" stroke-linecap=\"round\" style=\"stroke:rgb(112,171,179);stroke-width:1\" /><line x1=\"400.0\" y1=\"240.0\" x2=\"490.0\" y2=\"240.0\" stroke-linecap=\"round\" style=\"stroke:rgb(112,171,179);stroke-width:1\" /><line x1=\"490.0\" y1=\"240.0\" x2=\"490.0\" y2=\"180.0\" stroke-linecap=\"round\" style=\"stroke:rgb(112,171,179);stroke-width:1\" /><line x1=\"490.0\" y1=\"180.0\" x2=\"400.0\" y2=\"180.0\" stroke-linecap=\"round\" style=\"stroke:rgb(112,171,179);stroke-width:1\" /><line x1=\"400.0\" y1=\"180.0\" x2=\"400.0\" y2=\"240.0\" stroke-linecap=\"round\" style=\"stroke:rgb(112,171,179);stroke-width:1\" /><line x1=\"430.0\" y1=\"300.0\" x2=\"520.0\" y2=\"300.0\" stroke-linecap=\"round\" style=\"stroke:rgb(112,171,179);stroke-width:1\" /><line x1=\"520.0\" y1=\"300.0\" x2=\"520.0\" y2=\"240.0\" stroke-linecap=\"round\" style=\"stroke:rgb(112,171,179);stroke-width:1\" /><line x1=\"520.0\" y1=\"240.0\" x2=\"430.0\" y2=\"240.0\" stroke-linecap=\"round\" style=\"stroke:rgb(112,171,179);stroke-width:1\" /><line x1=\"430.0\" y1=\"240.0\" x2=\"430.0\" y2=\"300.0\" stroke-linecap=\"round\" style=\"stroke:rgb(112,171,179);stroke-width:1\" /><line x1=\"430.0\" y1=\"270.0\" x2=\"520.0\" y2=\"270.0\" stroke-linecap=\"round\" style=\"stroke:rgb(112,171,179);stroke-width:1\" /><line x1=\"520.0\" y1=\"270.0\" x2=\"520.0\" y2=\"210.0\" stroke-linecap=\"round\" style=\"stroke:rgb(112,171,179);stroke-width:1\" /><line x1=\"520.0\" y1=\"210.0\" x2=\"430.0\" y2=\"210.0\" stroke-linecap=\"round\" style=\"stroke:rgb(112,171,179);stroke-width:1\" /><line x1=\"430.0\" y1=\"210.0\" x2=\"430.0\" y2=\"270.0\" stroke-linecap=\"round\" style=\"stroke:rgb(112,171,179);stroke-width:1\" /><line x1=\"430.0\" y1=\"240.0\" x2=\"520.0\" y2=\"240.0\" stroke-linecap=\"round\" style=\"stroke:rgb(112,171,179);stroke-width:1\" /><line x1=\"520.0\" y1=\"240.0\" x2=\"520.0\" y2=\"180.0\" stroke-linecap=\"round\" style=\"stroke:rgb(112,171,179);stroke-width:1\" /><line x1=\"520.0\" y1=\"180.0\" x2=\"430.0\" y2=\"180.0\" stroke-linecap=\"round\" style=\"stroke:rgb(112,171,179);stroke-width:1\" /><line x1=\"430.0\" y1=\"180.0\" x2=\"430.0\" y2=\"240.0\" stroke-linecap=\"round\" style=\"stroke:rgb(112,171,179);stroke-width:1\" /><line x1=\"460.0\" y1=\"300.0\" x2=\"550.0\" y2=\"300.0\" stroke-linecap=\"round\" style=\"stroke:rgb(112,171,179);stroke-width:1\" /><line x1=\"550.0\" y1=\"300.0\" x2=\"550.0\" y2=\"240.0\" stroke-linecap=\"round\" style=\"stroke:rgb(112,171,179);stroke-width:1\" /><line x1=\"550.0\" y1=\"240.0\" x2=\"460.0\" y2=\"240.0\" stroke-linecap=\"round\" style=\"stroke:rgb(112,171,179);stroke-width:1\" /><line x1=\"460.0\" y1=\"240.0\" x2=\"460.0\" y2=\"300.0\" stroke-linecap=\"round\" style=\"stroke:rgb(112,171,179);stroke-width:1\" /><line x1=\"460.0\" y1=\"270.0\" x2=\"550.0\" y2=\"270.0\" stroke-linecap=\"round\" style=\"stroke:rgb(112,171,179);stroke-width:1\" /><line x1=\"550.0\" y1=\"270.0\" x2=\"550.0\" y2=\"210.0\" stroke-linecap=\"round\" style=\"stroke:rgb(112,171,179);stroke-width:1\" /><line x1=\"550.0\" y1=\"210.0\" x2=\"460.0\" y2=\"210.0\" stroke-linecap=\"round\" style=\"stroke:rgb(112,171,179);stroke-width:1\" /><line x1=\"460.0\" y1=\"210.0\" x2=\"460.0\" y2=\"270.0\" stroke-linecap=\"round\" style=\"stroke:rgb(112,171,179);stroke-width:1\" /><line x1=\"460.0\" y1=\"240.0\" x2=\"550.0\" y2=\"240.0\" stroke-linecap=\"round\" style=\"stroke:rgb(112,171,179);stroke-width:1\" /><line x1=\"550.0\" y1=\"240.0\" x2=\"550.0\" y2=\"180.0\" stroke-linecap=\"round\" style=\"stroke:rgb(112,171,179);stroke-width:1\" /><line x1=\"550.0\" y1=\"180.0\" x2=\"460.0\" y2=\"180.0\" stroke-linecap=\"round\" style=\"stroke:rgb(112,171,179);stroke-width:1\" /><line x1=\"460.0\" y1=\"180.0\" x2=\"460.0\" y2=\"240.0\" stroke-linecap=\"round\" style=\"stroke:rgb(112,171,179);stroke-width:1\" /><line x1=\"400.0\" y1=\"300.0\" x2=\"490.0\" y2=\"300.0\" stroke-linecap=\"round\" style=\"stroke:rgb(189,203,181);stroke-width:1\" /><line x1=\"490.0\" y1=\"300.0\" x2=\"490.0\" y2=\"210.0\" stroke-linecap=\"round\" style=\"stroke:rgb(189,203,181);stroke-width:1\" /><line x1=\"490.0\" y1=\"210.0\" x2=\"400.0\" y2=\"210.0\" stroke-linecap=\"round\" style=\"stroke:rgb(189,203,181);stroke-width:1\" /><line x1=\"400.0\" y1=\"210.0\" x2=\"400.0\" y2=\"300.0\" stroke-linecap=\"round\" style=\"stroke:rgb(189,203,181);stroke-width:1\" /><line x1=\"400.0\" y1=\"270.0\" x2=\"490.0\" y2=\"270.0\" stroke-linecap=\"round\" style=\"stroke:rgb(189,203,181);stroke-width:1\" /><line x1=\"490.0\" y1=\"270.0\" x2=\"490.0\" y2=\"180.0\" stroke-linecap=\"round\" style=\"stroke:rgb(189,203,181);stroke-width:1\" /><line x1=\"490.0\" y1=\"180.0\" x2=\"400.0\" y2=\"180.0\" stroke-linecap=\"round\" style=\"stroke:rgb(189,203,181);stroke-width:1\" /><line x1=\"400.0\" y1=\"180.0\" x2=\"400.0\" y2=\"270.0\" stroke-linecap=\"round\" style=\"stroke:rgb(189,203,181);stroke-width:1\" /><line x1=\"430.0\" y1=\"300.0\" x2=\"520.0\" y2=\"300.0\" stroke-linecap=\"round\" style=\"stroke:rgb(189,203,181);stroke-width:1\" /><line x1=\"520.0\" y1=\"300.0\" x2=\"520.0\" y2=\"210.0\" stroke-linecap=\"round\" style=\"stroke:rgb(189,203,181);stroke-width:1\" /><line x1=\"520.0\" y1=\"210.0\" x2=\"430.0\" y2=\"210.0\" stroke-linecap=\"round\" style=\"stroke:rgb(189,203,181);stroke-width:1\" /><line x1=\"430.0\" y1=\"210.0\" x2=\"430.0\" y2=\"300.0\" stroke-linecap=\"round\" style=\"stroke:rgb(189,203,181);stroke-width:1\" /><line x1=\"430.0\" y1=\"270.0\" x2=\"520.0\" y2=\"270.0\" stroke-linecap=\"round\" style=\"stroke:rgb(189,203,181);stroke-width:1\" /><line x1=\"520.0\" y1=\"270.0\" x2=\"520.0\" y2=\"180.0\" stroke-linecap=\"round\" style=\"stroke:rgb(189,203,181);stroke-width:1\" /><line x1=\"520.0\" y1=\"180.0\" x2=\"430.0\" y2=\"180.0\" stroke-linecap=\"round\" style=\"stroke:rgb(189,203,181);stroke-width:1\" /><line x1=\"430.0\" y1=\"180.0\" x2=\"430.0\" y2=\"270.0\" stroke-linecap=\"round\" style=\"stroke:rgb(189,203,181);stroke-width:1\" /><line x1=\"460.0\" y1=\"300.0\" x2=\"550.0\" y2=\"300.0\" stroke-linecap=\"round\" style=\"stroke:rgb(189,203,181);stroke-width:1\" /><line x1=\"550.0\" y1=\"300.0\" x2=\"550.0\" y2=\"210.0\" stroke-linecap=\"round\" style=\"stroke:rgb(189,203,181);stroke-width:1\" /><line x1=\"550.0\" y1=\"210.0\" x2=\"460.0\" y2=\"210.0\" stroke-linecap=\"round\" style=\"stroke:rgb(189,203,181);stroke-width:1\" /><line x1=\"460.0\" y1=\"210.0\" x2=\"460.0\" y2=\"300.0\" stroke-linecap=\"round\" style=\"stroke:rgb(189,203,181);stroke-width:1\" /><line x1=\"460.0\" y1=\"270.0\" x2=\"550.0\" y2=\"270.0\" stroke-linecap=\"round\" style=\"stroke:rgb(189,203,181);stroke-width:1\" /><line x1=\"550.0\" y1=\"270.0\" x2=\"550.0\" y2=\"180.0\" stroke-linecap=\"round\" style=\"stroke:rgb(189,203,181);stroke-width:1\" /><line x1=\"550.0\" y1=\"180.0\" x2=\"460.0\" y2=\"180.0\" stroke-linecap=\"round\" style=\"stroke:rgb(189,203,181);stroke-width:1\" /><line x1=\"460.0\" y1=\"180.0\" x2=\"460.0\" y2=\"270.0\" stroke-linecap=\"round\" style=\"stroke:rgb(189,203,181);stroke-width:1\" /><line x1=\"400.0\" y1=\"300.0\" x2=\"490.0\" y2=\"300.0\" stroke-linecap=\"round\" style=\"stroke:rgb(6,187,54);stroke-width:1\" /><line x1=\"490.0\" y1=\"300.0\" x2=\"490.0\" y2=\"180.0\" stroke-linecap=\"round\" style=\"stroke:rgb(6,187,54);stroke-width:1\" /><line x1=\"490.0\" y1=\"180.0\" x2=\"400.0\" y2=\"180.0\" stroke-linecap=\"round\" style=\"stroke:rgb(6,187,54);stroke-width:1\" /><line x1=\"400.0\" y1=\"180.0\" x2=\"400.0\" y2=\"300.0\" stroke-linecap=\"round\" style=\"stroke:rgb(6,187,54);stroke-width:1\" /><line x1=\"430.0\" y1=\"300.0\" x2=\"520.0\" y2=\"300.0\" stroke-linecap=\"round\" style=\"stroke:rgb(6,187,54);stroke-width:1\" /><line x1=\"520.0\" y1=\"300.0\" x2=\"520.0\" y2=\"180.0\" stroke-linecap=\"round\" style=\"stroke:rgb(6,187,54);stroke-width:1\" /><line x1=\"520.0\" y1=\"180.0\" x2=\"430.0\" y2=\"180.0\" stroke-linecap=\"round\" style=\"stroke:rgb(6,187,54);stroke-width:1\" /><line x1=\"430.0\" y1=\"180.0\" x2=\"430.0\" y2=\"300.0\" stroke-linecap=\"round\" style=\"stroke:rgb(6,187,54);stroke-width:1\" /><line x1=\"460.0\" y1=\"300.0\" x2=\"550.0\" y2=\"300.0\" stroke-linecap=\"round\" style=\"stroke:rgb(6,187,54);stroke-width:1\" /><line x1=\"550.0\" y1=\"300.0\" x2=\"550.0\" y2=\"180.0\" stroke-linecap=\"round\" style=\"stroke:rgb(6,187,54);stroke-width:1\" /><line x1=\"550.0\" y1=\"180.0\" x2=\"460.0\" y2=\"180.0\" stroke-linecap=\"round\" style=\"stroke:rgb(6,187,54);stroke-width:1\" /><line x1=\"460.0\" y1=\"180.0\" x2=\"460.0\" y2=\"300.0\" stroke-linecap=\"round\" style=\"stroke:rgb(6,187,54);stroke-width:1\" /><line x1=\"400.0\" y1=\"300.0\" x2=\"520.0\" y2=\"300.0\" stroke-linecap=\"round\" style=\"stroke:rgb(66,191,166);stroke-width:1\" /><line x1=\"520.0\" y1=\"300.0\" x2=\"520.0\" y2=\"270.0\" stroke-linecap=\"round\" style=\"stroke:rgb(66,191,166);stroke-width:1\" /><line x1=\"520.0\" y1=\"270.0\" x2=\"400.0\" y2=\"270.0\" stroke-linecap=\"round\" style=\"stroke:rgb(66,191,166);stroke-width:1\" /><line x1=\"400.0\" y1=\"270.0\" x2=\"400.0\" y2=\"300.0\" stroke-linecap=\"round\" style=\"stroke:rgb(66,191,166);stroke-width:1\" /><line x1=\"400.0\" y1=\"270.0\" x2=\"520.0\" y2=\"270.0\" stroke-linecap=\"round\" style=\"stroke:rgb(66,191,166);stroke-width:1\" /><line x1=\"520.0\" y1=\"270.0\" x2=\"520.0\" y2=\"240.0\" stroke-linecap=\"round\" style=\"stroke:rgb(66,191,166);stroke-width:1\" /><line x1=\"520.0\" y1=\"240.0\" x2=\"400.0\" y2=\"240.0\" stroke-linecap=\"round\" style=\"stroke:rgb(66,191,166);stroke-width:1\" /><line x1=\"400.0\" y1=\"240.0\" x2=\"400.0\" y2=\"270.0\" stroke-linecap=\"round\" style=\"stroke:rgb(66,191,166);stroke-width:1\" /><line x1=\"400.0\" y1=\"240.0\" x2=\"520.0\" y2=\"240.0\" stroke-linecap=\"round\" style=\"stroke:rgb(66,191,166);stroke-width:1\" /><line x1=\"520.0\" y1=\"240.0\" x2=\"520.0\" y2=\"210.0\" stroke-linecap=\"round\" style=\"stroke:rgb(66,191,166);stroke-width:1\" /><line x1=\"520.0\" y1=\"210.0\" x2=\"400.0\" y2=\"210.0\" stroke-linecap=\"round\" style=\"stroke:rgb(66,191,166);stroke-width:1\" /><line x1=\"400.0\" y1=\"210.0\" x2=\"400.0\" y2=\"240.0\" stroke-linecap=\"round\" style=\"stroke:rgb(66,191,166);stroke-width:1\" /><line x1=\"400.0\" y1=\"210.0\" x2=\"520.0\" y2=\"210.0\" stroke-linecap=\"round\" style=\"stroke:rgb(66,191,166);stroke-width:1\" /><line x1=\"520.0\" y1=\"210.0\" x2=\"520.0\" y2=\"180.0\" stroke-linecap=\"round\" style=\"stroke:rgb(66,191,166);stroke-width:1\" /><line x1=\"520.0\" y1=\"180.0\" x2=\"400.0\" y2=\"180.0\" stroke-linecap=\"round\" style=\"stroke:rgb(66,191,166);stroke-width:1\" /><line x1=\"400.0\" y1=\"180.0\" x2=\"400.0\" y2=\"210.0\" stroke-linecap=\"round\" style=\"stroke:rgb(66,191,166);stroke-width:1\" /><line x1=\"430.0\" y1=\"300.0\" x2=\"550.0\" y2=\"300.0\" stroke-linecap=\"round\" style=\"stroke:rgb(66,191,166);stroke-width:1\" /><line x1=\"550.0\" y1=\"300.0\" x2=\"550.0\" y2=\"270.0\" stroke-linecap=\"round\" style=\"stroke:rgb(66,191,166);stroke-width:1\" /><line x1=\"550.0\" y1=\"270.0\" x2=\"430.0\" y2=\"270.0\" stroke-linecap=\"round\" style=\"stroke:rgb(66,191,166);stroke-width:1\" /><line x1=\"430.0\" y1=\"270.0\" x2=\"430.0\" y2=\"300.0\" stroke-linecap=\"round\" style=\"stroke:rgb(66,191,166);stroke-width:1\" /><line x1=\"430.0\" y1=\"270.0\" x2=\"550.0\" y2=\"270.0\" stroke-linecap=\"round\" style=\"stroke:rgb(66,191,166);stroke-width:1\" /><line x1=\"550.0\" y1=\"270.0\" x2=\"550.0\" y2=\"240.0\" stroke-linecap=\"round\" style=\"stroke:rgb(66,191,166);stroke-width:1\" /><line x1=\"550.0\" y1=\"240.0\" x2=\"430.0\" y2=\"240.0\" stroke-linecap=\"round\" style=\"stroke:rgb(66,191,166);stroke-width:1\" /><line x1=\"430.0\" y1=\"240.0\" x2=\"430.0\" y2=\"270.0\" stroke-linecap=\"round\" style=\"stroke:rgb(66,191,166);stroke-width:1\" /><line x1=\"430.0\" y1=\"240.0\" x2=\"550.0\" y2=\"240.0\" stroke-linecap=\"round\" style=\"stroke:rgb(66,191,166);stroke-width:1\" /><line x1=\"550.0\" y1=\"240.0\" x2=\"550.0\" y2=\"210.0\" stroke-linecap=\"round\" style=\"stroke:rgb(66,191,166);stroke-width:1\" /><line x1=\"550.0\" y1=\"210.0\" x2=\"430.0\" y2=\"210.0\" stroke-linecap=\"round\" style=\"stroke:rgb(66,191,166);stroke-width:1\" /><line x1=\"430.0\" y1=\"210.0\" x2=\"430.0\" y2=\"240.0\" stroke-linecap=\"round\" style=\"stroke:rgb(66,191,166);stroke-width:1\" /><line x1=\"430.0\" y1=\"210.0\" x2=\"550.0\" y2=\"210.0\" stroke-linecap=\"round\" style=\"stroke:rgb(66,191,166);stroke-width:1\" /><line x1=\"550.0\" y1=\"210.0\" x2=\"550.0\" y2=\"180.0\" stroke-linecap=\"round\" style=\"stroke:rgb(66,191,166);stroke-width:1\" /><line x1=\"550.0\" y1=\"180.0\" x2=\"430.0\" y2=\"180.0\" stroke-linecap=\"round\" style=\"stroke:rgb(66,191,166);stroke-width:1\" /><line x1=\"430.0\" y1=\"180.0\" x2=\"430.0\" y2=\"210.0\" stroke-linecap=\"round\" style=\"stroke:rgb(66,191,166);stroke-width:1\" /><line x1=\"400.0\" y1=\"300.0\" x2=\"520.0\" y2=\"300.0\" stroke-linecap=\"round\" style=\"stroke:rgb(165,228,2);stroke-width:1\" /><line x1=\"520.0\" y1=\"300.0\" x2=\"520.0\" y2=\"240.0\" stroke-linecap=\"round\" style=\"stroke:rgb(165,228,2);stroke-width:1\" /><line x1=\"520.0\" y1=\"240.0\" x2=\"400.0\" y2=\"240.0\" stroke-linecap=\"round\" style=\"stroke:rgb(165,228,2);stroke-width:1\" /><line x1=\"400.0\" y1=\"240.0\" x2=\"400.0\" y2=\"300.0\" stroke-linecap=\"round\" style=\"stroke:rgb(165,228,2);stroke-width:1\" /><line x1=\"400.0\" y1=\"270.0\" x2=\"520.0\" y2=\"270.0\" stroke-linecap=\"round\" style=\"stroke:rgb(165,228,2);stroke-width:1\" /><line x1=\"520.0\" y1=\"270.0\" x2=\"520.0\" y2=\"210.0\" stroke-linecap=\"round\" style=\"stroke:rgb(165,228,2);stroke-width:1\" /><line x1=\"520.0\" y1=\"210.0\" x2=\"400.0\" y2=\"210.0\" stroke-linecap=\"round\" style=\"stroke:rgb(165,228,2);stroke-width:1\" /><line x1=\"400.0\" y1=\"210.0\" x2=\"400.0\" y2=\"270.0\" stroke-linecap=\"round\" style=\"stroke:rgb(165,228,2);stroke-width:1\" /><line x1=\"400.0\" y1=\"240.0\" x2=\"520.0\" y2=\"240.0\" stroke-linecap=\"round\" style=\"stroke:rgb(165,228,2);stroke-width:1\" /><line x1=\"520.0\" y1=\"240.0\" x2=\"520.0\" y2=\"180.0\" stroke-linecap=\"round\" style=\"stroke:rgb(165,228,2);stroke-width:1\" /><line x1=\"520.0\" y1=\"180.0\" x2=\"400.0\" y2=\"180.0\" stroke-linecap=\"round\" style=\"stroke:rgb(165,228,2);stroke-width:1\" /><line x1=\"400.0\" y1=\"180.0\" x2=\"400.0\" y2=\"240.0\" stroke-linecap=\"round\" style=\"stroke:rgb(165,228,2);stroke-width:1\" /><line x1=\"430.0\" y1=\"300.0\" x2=\"550.0\" y2=\"300.0\" stroke-linecap=\"round\" style=\"stroke:rgb(165,228,2);stroke-width:1\" /><line x1=\"550.0\" y1=\"300.0\" x2=\"550.0\" y2=\"240.0\" stroke-linecap=\"round\" style=\"stroke:rgb(165,228,2);stroke-width:1\" /><line x1=\"550.0\" y1=\"240.0\" x2=\"430.0\" y2=\"240.0\" stroke-linecap=\"round\" style=\"stroke:rgb(165,228,2);stroke-width:1\" /><line x1=\"430.0\" y1=\"240.0\" x2=\"430.0\" y2=\"300.0\" stroke-linecap=\"round\" style=\"stroke:rgb(165,228,2);stroke-width:1\" /><line x1=\"430.0\" y1=\"270.0\" x2=\"550.0\" y2=\"270.0\" stroke-linecap=\"round\" style=\"stroke:rgb(165,228,2);stroke-width:1\" /><line x1=\"550.0\" y1=\"270.0\" x2=\"550.0\" y2=\"210.0\" stroke-linecap=\"round\" style=\"stroke:rgb(165,228,2);stroke-width:1\" /><line x1=\"550.0\" y1=\"210.0\" x2=\"430.0\" y2=\"210.0\" stroke-linecap=\"round\" style=\"stroke:rgb(165,228,2);stroke-width:1\" /><line x1=\"430.0\" y1=\"210.0\" x2=\"430.0\" y2=\"270.0\" stroke-linecap=\"round\" style=\"stroke:rgb(165,228,2);stroke-width:1\" /><line x1=\"430.0\" y1=\"240.0\" x2=\"550.0\" y2=\"240.0\" stroke-linecap=\"round\" style=\"stroke:rgb(165,228,2);stroke-width:1\" /><line x1=\"550.0\" y1=\"240.0\" x2=\"550.0\" y2=\"180.0\" stroke-linecap=\"round\" style=\"stroke:rgb(165,228,2);stroke-width:1\" /><line x1=\"550.0\" y1=\"180.0\" x2=\"430.0\" y2=\"180.0\" stroke-linecap=\"round\" style=\"stroke:rgb(165,228,2);stroke-width:1\" /><line x1=\"430.0\" y1=\"180.0\" x2=\"430.0\" y2=\"240.0\" stroke-linecap=\"round\" style=\"stroke:rgb(165,228,2);stroke-width:1\" /><line x1=\"400.0\" y1=\"300.0\" x2=\"520.0\" y2=\"300.0\" stroke-linecap=\"round\" style=\"stroke:rgb(238,99,44);stroke-width:1\" /><line x1=\"520.0\" y1=\"300.0\" x2=\"520.0\" y2=\"210.0\" stroke-linecap=\"round\" style=\"stroke:rgb(238,99,44);stroke-width:1\" /><line x1=\"520.0\" y1=\"210.0\" x2=\"400.0\" y2=\"210.0\" stroke-linecap=\"round\" style=\"stroke:rgb(238,99,44);stroke-width:1\" /><line x1=\"400.0\" y1=\"210.0\" x2=\"400.0\" y2=\"300.0\" stroke-linecap=\"round\" style=\"stroke:rgb(238,99,44);stroke-width:1\" /><line x1=\"400.0\" y1=\"270.0\" x2=\"520.0\" y2=\"270.0\" stroke-linecap=\"round\" style=\"stroke:rgb(238,99,44);stroke-width:1\" /><line x1=\"520.0\" y1=\"270.0\" x2=\"520.0\" y2=\"180.0\" stroke-linecap=\"round\" style=\"stroke:rgb(238,99,44);stroke-width:1\" /><line x1=\"520.0\" y1=\"180.0\" x2=\"400.0\" y2=\"180.0\" stroke-linecap=\"round\" style=\"stroke:rgb(238,99,44);stroke-width:1\" /><line x1=\"400.0\" y1=\"180.0\" x2=\"400.0\" y2=\"270.0\" stroke-linecap=\"round\" style=\"stroke:rgb(238,99,44);stroke-width:1\" /><line x1=\"430.0\" y1=\"300.0\" x2=\"550.0\" y2=\"300.0\" stroke-linecap=\"round\" style=\"stroke:rgb(238,99,44);stroke-width:1\" /><line x1=\"550.0\" y1=\"300.0\" x2=\"550.0\" y2=\"210.0\" stroke-linecap=\"round\" style=\"stroke:rgb(238,99,44);stroke-width:1\" /><line x1=\"550.0\" y1=\"210.0\" x2=\"430.0\" y2=\"210.0\" stroke-linecap=\"round\" style=\"stroke:rgb(238,99,44);stroke-width:1\" /><line x1=\"430.0\" y1=\"210.0\" x2=\"430.0\" y2=\"300.0\" stroke-linecap=\"round\" style=\"stroke:rgb(238,99,44);stroke-width:1\" /><line x1=\"430.0\" y1=\"270.0\" x2=\"550.0\" y2=\"270.0\" stroke-linecap=\"round\" style=\"stroke:rgb(238,99,44);stroke-width:1\" /><line x1=\"550.0\" y1=\"270.0\" x2=\"550.0\" y2=\"180.0\" stroke-linecap=\"round\" style=\"stroke:rgb(238,99,44);stroke-width:1\" /><line x1=\"550.0\" y1=\"180.0\" x2=\"430.0\" y2=\"180.0\" stroke-linecap=\"round\" style=\"stroke:rgb(238,99,44);stroke-width:1\" /><line x1=\"430.0\" y1=\"180.0\" x2=\"430.0\" y2=\"270.0\" stroke-linecap=\"round\" style=\"stroke:rgb(238,99,44);stroke-width:1\" /><line x1=\"400.0\" y1=\"300.0\" x2=\"520.0\" y2=\"300.0\" stroke-linecap=\"round\" style=\"stroke:rgb(248,238,119);stroke-width:1\" /><line x1=\"520.0\" y1=\"300.0\" x2=\"520.0\" y2=\"180.0\" stroke-linecap=\"round\" style=\"stroke:rgb(248,238,119);stroke-width:1\" /><line x1=\"520.0\" y1=\"180.0\" x2=\"400.0\" y2=\"180.0\" stroke-linecap=\"round\" style=\"stroke:rgb(248,238,119);stroke-width:1\" /><line x1=\"400.0\" y1=\"180.0\" x2=\"400.0\" y2=\"300.0\" stroke-linecap=\"round\" style=\"stroke:rgb(248,238,119);stroke-width:1\" /><line x1=\"430.0\" y1=\"300.0\" x2=\"550.0\" y2=\"300.0\" stroke-linecap=\"round\" style=\"stroke:rgb(248,238,119);stroke-width:1\" /><line x1=\"550.0\" y1=\"300.0\" x2=\"550.0\" y2=\"180.0\" stroke-linecap=\"round\" style=\"stroke:rgb(248,238,119);stroke-width:1\" /><line x1=\"550.0\" y1=\"180.0\" x2=\"430.0\" y2=\"180.0\" stroke-linecap=\"round\" style=\"stroke:rgb(248,238,119);stroke-width:1\" /><line x1=\"430.0\" y1=\"180.0\" x2=\"430.0\" y2=\"300.0\" stroke-linecap=\"round\" style=\"stroke:rgb(248,238,119);stroke-width:1\" /><line x1=\"400.0\" y1=\"300.0\" x2=\"550.0\" y2=\"300.0\" stroke-linecap=\"round\" style=\"stroke:rgb(14,158,53);stroke-width:1\" /><line x1=\"550.0\" y1=\"300.0\" x2=\"550.0\" y2=\"270.0\" stroke-linecap=\"round\" style=\"stroke:rgb(14,158,53);stroke-width:1\" /><line x1=\"550.0\" y1=\"270.0\" x2=\"400.0\" y2=\"270.0\" stroke-linecap=\"round\" style=\"stroke:rgb(14,158,53);stroke-width:1\" /><line x1=\"400.0\" y1=\"270.0\" x2=\"400.0\" y2=\"300.0\" stroke-linecap=\"round\" style=\"stroke:rgb(14,158,53);stroke-width:1\" /><line x1=\"400.0\" y1=\"270.0\" x2=\"550.0\" y2=\"270.0\" stroke-linecap=\"round\" style=\"stroke:rgb(14,158,53);stroke-width:1\" /><line x1=\"550.0\" y1=\"270.0\" x2=\"550.0\" y2=\"240.0\" stroke-linecap=\"round\" style=\"stroke:rgb(14,158,53);stroke-width:1\" /><line x1=\"550.0\" y1=\"240.0\" x2=\"400.0\" y2=\"240.0\" stroke-linecap=\"round\" style=\"stroke:rgb(14,158,53);stroke-width:1\" /><line x1=\"400.0\" y1=\"240.0\" x2=\"400.0\" y2=\"270.0\" stroke-linecap=\"round\" style=\"stroke:rgb(14,158,53);stroke-width:1\" /><line x1=\"400.0\" y1=\"240.0\" x2=\"550.0\" y2=\"240.0\" stroke-linecap=\"round\" style=\"stroke:rgb(14,158,53);stroke-width:1\" /><line x1=\"550.0\" y1=\"240.0\" x2=\"550.0\" y2=\"210.0\" stroke-linecap=\"round\" style=\"stroke:rgb(14,158,53);stroke-width:1\" /><line x1=\"550.0\" y1=\"210.0\" x2=\"400.0\" y2=\"210.0\" stroke-linecap=\"round\" style=\"stroke:rgb(14,158,53);stroke-width:1\" /><line x1=\"400.0\" y1=\"210.0\" x2=\"400.0\" y2=\"240.0\" stroke-linecap=\"round\" style=\"stroke:rgb(14,158,53);stroke-width:1\" /><line x1=\"400.0\" y1=\"210.0\" x2=\"550.0\" y2=\"210.0\" stroke-linecap=\"round\" style=\"stroke:rgb(14,158,53);stroke-width:1\" /><line x1=\"550.0\" y1=\"210.0\" x2=\"550.0\" y2=\"180.0\" stroke-linecap=\"round\" style=\"stroke:rgb(14,158,53);stroke-width:1\" /><line x1=\"550.0\" y1=\"180.0\" x2=\"400.0\" y2=\"180.0\" stroke-linecap=\"round\" style=\"stroke:rgb(14,158,53);stroke-width:1\" /><line x1=\"400.0\" y1=\"180.0\" x2=\"400.0\" y2=\"210.0\" stroke-linecap=\"round\" style=\"stroke:rgb(14,158,53);stroke-width:1\" /><line x1=\"400.0\" y1=\"300.0\" x2=\"550.0\" y2=\"300.0\" stroke-linecap=\"round\" style=\"stroke:rgb(128,98,180);stroke-width:1\" /><line x1=\"550.0\" y1=\"300.0\" x2=\"550.0\" y2=\"240.0\" stroke-linecap=\"round\" style=\"stroke:rgb(128,98,180);stroke-width:1\" /><line x1=\"550.0\" y1=\"240.0\" x2=\"400.0\" y2=\"240.0\" stroke-linecap=\"round\" style=\"stroke:rgb(128,98,180);stroke-width:1\" /><line x1=\"400.0\" y1=\"240.0\" x2=\"400.0\" y2=\"300.0\" stroke-linecap=\"round\" style=\"stroke:rgb(128,98,180);stroke-width:1\" /><line x1=\"400.0\" y1=\"270.0\" x2=\"550.0\" y2=\"270.0\" stroke-linecap=\"round\" style=\"stroke:rgb(128,98,180);stroke-width:1\" /><line x1=\"550.0\" y1=\"270.0\" x2=\"550.0\" y2=\"210.0\" stroke-linecap=\"round\" style=\"stroke:rgb(128,98,180);stroke-width:1\" /><line x1=\"550.0\" y1=\"210.0\" x2=\"400.0\" y2=\"210.0\" stroke-linecap=\"round\" style=\"stroke:rgb(128,98,180);stroke-width:1\" /><line x1=\"400.0\" y1=\"210.0\" x2=\"400.0\" y2=\"270.0\" stroke-linecap=\"round\" style=\"stroke:rgb(128,98,180);stroke-width:1\" /><line x1=\"400.0\" y1=\"240.0\" x2=\"550.0\" y2=\"240.0\" stroke-linecap=\"round\" style=\"stroke:rgb(128,98,180);stroke-width:1\" /><line x1=\"550.0\" y1=\"240.0\" x2=\"550.0\" y2=\"180.0\" stroke-linecap=\"round\" style=\"stroke:rgb(128,98,180);stroke-width:1\" /><line x1=\"550.0\" y1=\"180.0\" x2=\"400.0\" y2=\"180.0\" stroke-linecap=\"round\" style=\"stroke:rgb(128,98,180);stroke-width:1\" /><line x1=\"400.0\" y1=\"180.0\" x2=\"400.0\" y2=\"240.0\" stroke-linecap=\"round\" style=\"stroke:rgb(128,98,180);stroke-width:1\" /><line x1=\"400.0\" y1=\"300.0\" x2=\"550.0\" y2=\"300.0\" stroke-linecap=\"round\" style=\"stroke:rgb(207,130,4);stroke-width:1\" /><line x1=\"550.0\" y1=\"300.0\" x2=\"550.0\" y2=\"210.0\" stroke-linecap=\"round\" style=\"stroke:rgb(207,130,4);stroke-width:1\" /><line x1=\"550.0\" y1=\"210.0\" x2=\"400.0\" y2=\"210.0\" stroke-linecap=\"round\" style=\"stroke:rgb(207,130,4);stroke-width:1\" /><line x1=\"400.0\" y1=\"210.0\" x2=\"400.0\" y2=\"300.0\" stroke-linecap=\"round\" style=\"stroke:rgb(207,130,4);stroke-width:1\" /><line x1=\"400.0\" y1=\"270.0\" x2=\"550.0\" y2=\"270.0\" stroke-linecap=\"round\" style=\"stroke:rgb(207,130,4);stroke-width:1\" /><line x1=\"550.0\" y1=\"270.0\" x2=\"550.0\" y2=\"180.0\" stroke-linecap=\"round\" style=\"stroke:rgb(207,130,4);stroke-width:1\" /><line x1=\"550.0\" y1=\"180.0\" x2=\"400.0\" y2=\"180.0\" stroke-linecap=\"round\" style=\"stroke:rgb(207,130,4);stroke-width:1\" /><line x1=\"400.0\" y1=\"180.0\" x2=\"400.0\" y2=\"270.0\" stroke-linecap=\"round\" style=\"stroke:rgb(207,130,4);stroke-width:1\" /><line x1=\"400.0\" y1=\"300.0\" x2=\"550.0\" y2=\"300.0\" stroke-linecap=\"round\" style=\"stroke:rgb(229,165,159);stroke-width:1\" /><line x1=\"550.0\" y1=\"300.0\" x2=\"550.0\" y2=\"180.0\" stroke-linecap=\"round\" style=\"stroke:rgb(229,165,159);stroke-width:1\" /><line x1=\"550.0\" y1=\"180.0\" x2=\"400.0\" y2=\"180.0\" stroke-linecap=\"round\" style=\"stroke:rgb(229,165,159);stroke-width:1\" /><line x1=\"400.0\" y1=\"180.0\" x2=\"400.0\" y2=\"300.0\" stroke-linecap=\"round\" style=\"stroke:rgb(229,165,159);stroke-width:1\" />\n",
       "        \n",
       "        \n",
       "        <g id=\"classic\" visibility=\"visible\" transform=\"rotate(-90,400.0,300.0) translate(400.0, 300.0)\">\n",
       "<polygon points=\"-5,-4.5 0,-2.5 5,-4.5 0,4.5\" transform=\"skewX(0) scale(1,1)\" style=\"stroke:rgb(229,165,159);fill:rgb(229,165,159);stroke-width:1\" />\n",
       "</g>\n",
       "      </svg>\n",
       "    "
      ],
      "text/plain": [
       "<IPython.core.display.HTML object>"
      ]
     },
     "metadata": {},
     "output_type": "display_data"
    },
    {
     "name": "stdout",
     "output_type": "stream",
     "text": [
      "1 1 20\n",
      "1 2 15\n",
      "1 3 10\n",
      "1 4 5\n",
      "2 1 16\n",
      "2 2 12\n",
      "2 3 8\n",
      "2 4 4\n",
      "3 1 12\n",
      "3 2 9\n",
      "3 3 6\n",
      "3 4 3\n",
      "4 1 8\n",
      "4 2 6\n",
      "4 3 4\n",
      "4 4 2\n",
      "5 1 4\n",
      "5 2 3\n",
      "5 3 2\n",
      "5 4 1\n",
      "150\n"
     ]
    }
   ],
   "source": [
    "from random import randint\n",
    "\n",
    "gridsize = 30\n",
    "across = 5\n",
    "up = 4\n",
    "\n",
    "def plotRectangle(x, y, w, h):\n",
    "    setpos(x*gridsize, y*gridsize)\n",
    "    pendown()\n",
    "    forward(w*gridsize)\n",
    "    left(90)\n",
    "    forward(h*gridsize)\n",
    "    left(90)\n",
    "    forward(w*gridsize)\n",
    "    left(90)\n",
    "    forward(h*gridsize)\n",
    "    left(90)\n",
    "    penup()\n",
    "    return\n",
    "\n",
    "clearscreen()\n",
    "clear()\n",
    "face(0)\n",
    "speed(13)\n",
    "\n",
    "allsorts = 0\n",
    "for w in range(1, across+1):\n",
    "    for h in range(1, up+1):\n",
    "        thissort = 0\n",
    "        color(randint(0, 255), randint(0, 255), randint(0, 255))\n",
    "        for x in range(0, across-w+1):\n",
    "            for y in range(0, up-h+1):\n",
    "                plotRectangle(x, y, w, h)\n",
    "                thissort += 1\n",
    "        print(w, h, thissort)\n",
    "        allsorts += thissort\n",
    "done()\n",
    "\n",
    "print(allsorts)\n"
   ]
  },
  {
   "cell_type": "code",
   "execution_count": 48,
   "id": "16cc79ea",
   "metadata": {
    "slideshow": {
     "slide_type": "subslide"
    }
   },
   "outputs": [
    {
     "data": {
      "text/plain": [
       "150.0"
      ]
     },
     "execution_count": 48,
     "metadata": {},
     "output_type": "execute_result"
    }
   ],
   "source": [
    "def rects(n,m):\n",
    "    return n*(n+1)*m*(m+1)/4\n",
    "\n",
    "rects(5,4)"
   ]
  },
  {
   "cell_type": "markdown",
   "id": "3c97cf4c",
   "metadata": {
    "slideshow": {
     "slide_type": "slide"
    }
   },
   "source": [
    "## Making turtles"
   ]
  },
  {
   "cell_type": "markdown",
   "id": "36d5cb55",
   "metadata": {
    "slideshow": {
     "slide_type": "subslide"
    }
   },
   "source": [
    "![4tronix micro:bit turtle](images/4tronix.png)"
   ]
  },
  {
   "cell_type": "markdown",
   "id": "1a6cc855",
   "metadata": {
    "slideshow": {
     "slide_type": "subslide"
    }
   },
   "source": [
    "![Arduino turtle kit](images/arduino.png)"
   ]
  },
  {
   "cell_type": "markdown",
   "id": "73716509",
   "metadata": {
    "slideshow": {
     "slide_type": "subslide"
    }
   },
   "source": [
    "![Completed arduino turtle](images/arduinocomplete.png)"
   ]
  },
  {
   "cell_type": "markdown",
   "id": "92f3b9ce",
   "metadata": {
    "slideshow": {
     "slide_type": "slide"
    }
   },
   "source": [
    "### p5.js\n",
    "\n",
    ">p5.js is a JavaScript library for creative coding, with a focus on making coding accessible and inclusive for artists, designers, educators, beginners, and anyone else! p5.js is free and open-source because we believe software, and the tools to learn it, should be accessible to everyone. Using the metaphor of a sketch, p5.js has a full set of drawing functionality.\n",
    "\n",
    "[Introduction](https://p5js.org/get-started/), [documentation](https://p5js.org/reference/) and [web-based editor](https://editor.p5js.org/)..."
   ]
  },
  {
   "cell_type": "markdown",
   "id": "75acd4f3",
   "metadata": {
    "slideshow": {
     "slide_type": "subslide"
    }
   },
   "source": [
    "### But it has no turtle...\n",
    "\n",
    "So you have to make one! Here's [one I made earlier](https://editor.p5js.org/mberry/sketches/ljDOtmbzD)."
   ]
  },
  {
   "cell_type": "markdown",
   "id": "04e1bdf6",
   "metadata": {
    "slideshow": {
     "slide_type": "-"
    }
   },
   "source": [
    "```js\n",
    "class Turtle {\n",
    "  constructor(\n",
    "    x_ = width / 2,\n",
    "    y_ = height / 2,\n",
    "    direction_ = -90,\n",
    "    penDown_ = true,\n",
    "    penColor_ = color(0)\n",
    "  ) {\n",
    "    this.x = x_;\n",
    "    this.y = y_;\n",
    "    this.direction = direction_;\n",
    "    this.penDown = penDown_;\n",
    "    this.penColor = penColor_;\n",
    "  }\n",
    "\n",
    "  forward(d) {\n",
    "    let oldX = this.x;\n",
    "    let oldY = this.y;\n",
    "    this.x += d * cos(this.direction);\n",
    "    this.y += d * sin(this.direction);\n",
    "    if (this.penDown) {\n",
    "      stroke(this.penColor);\n",
    "      line(oldX, oldY, this.x, this.y);\n",
    "    }\n",
    "  }\n",
    "\n",
    "  backward(d) {\n",
    "    this.forward(-d);\n",
    "  }\n",
    "\n",
    "  right(a) {\n",
    "    this.direction += a;\n",
    "  }\n",
    "\n",
    "  left(a) {\n",
    "    this.direction -= a;\n",
    "  }\n",
    "\n",
    "  setpos(newx, newy) {\n",
    "    let oldX = this.x;\n",
    "    let oldY = this.y;\n",
    "    this.x = newx;\n",
    "    this.y = newy;\n",
    "    if (this.penDown) {\n",
    "      stroke(this.penColor);\n",
    "      line(oldX, oldY, this.x, this.y);\n",
    "    }\n",
    "  }\n",
    "\n",
    "  home() {\n",
    "    this.x = width / 2;\n",
    "    this.y = height / 2;\n",
    "    this.direction = -90;\n",
    "  }\n",
    "\n",
    "  setheading(a) {\n",
    "    this.direction = a;\n",
    "  }\n",
    "\n",
    "  pendown() {\n",
    "    this.penDown = true;\n",
    "  }\n",
    "\n",
    "  penup() {\n",
    "    this.penDown = false;\n",
    "  }\n",
    "\n",
    "  pencolor(c) {\n",
    "    this.penColor = c;\n",
    "  }\n",
    "\n",
    "  clean() {\n",
    "    background(240);\n",
    "  }\n",
    "\n",
    "  clearscreen() {\n",
    "    this.home();\n",
    "    this.clean();\n",
    "  }\n",
    "}\n",
    "```"
   ]
  },
  {
   "cell_type": "markdown",
   "id": "f238aee1",
   "metadata": {
    "slideshow": {
     "slide_type": "slide"
    }
   },
   "source": [
    "### A couple of p5.js turtle programs.\n",
    "\n",
    "```js\n",
    "function polyspi(t, step, angle) {\n",
    "  if (t.x > 0 && t.x < width && t.y > 0 && t.y < height) {\n",
    "    t.forward(step);\n",
    "    t.left(angle);\n",
    "    polyspi(t, step + 5, angle);\n",
    "  } else {\n",
    "    return;\n",
    "  }\n",
    "}\n",
    "```\n",
    "\n",
    "```js\n",
    "function tree(t, size) {\n",
    "  if (size>5) {\n",
    "    t.forward(size);\n",
    "    t.left(20);\n",
    "    tree(t, size*0.8);\n",
    "    t.right(35);\n",
    "    tree(t, size*0.7);\n",
    "    t.left(15);\n",
    "    t.backward(size);\n",
    "  }\n",
    "  else {\n",
    "    return;\n",
    "  }\n",
    "}\n",
    "```"
   ]
  },
  {
   "cell_type": "markdown",
   "id": "db63b40d",
   "metadata": {
    "slideshow": {
     "slide_type": "slide"
    }
   },
   "source": [
    "### Even turtles can get COVID\n",
    "\n",
    "```js\n",
    "class Patient extends Turtle {\n",
    "  constructor(\n",
    "    x_ = width / 2,\n",
    "    y_ = height / 2,\n",
    "    direction_ = -90,\n",
    "    penDown_ = false,\n",
    "    penColor_ = color(0),\n",
    "    id_ = 0,\n",
    "    status_ = \"unexposed\",\n",
    "    others_ = []\n",
    "  ) {\n",
    "    super(x_, y_, direction_, penDown_, penColor_);\n",
    "    this.id = id_;\n",
    "    this.status = status_;\n",
    "    this.others = others_;\n",
    "  }\n",
    "  \n",
    "  plot() {\n",
    "  ...\n",
    "  }\n",
    "  move() {\n",
    "  ...\n",
    "  }\n",
    "  contact() {\n",
    "    ...\n",
    "  }\n",
    "}\n",
    "```"
   ]
  },
  {
   "cell_type": "markdown",
   "id": "a37184bd",
   "metadata": {
    "slideshow": {
     "slide_type": "subslide"
    }
   },
   "source": [
    "### Experiment with the model. Extend the model.\n",
    "\n",
    "Online [here](https://editor.p5js.org/mberry/sketches/HdyRnDSg5).\n",
    "\n",
    "```js\n",
    "let diam = 20; //decrease to socially distance\n",
    "let directions = [-90, 0, 90, 180]; //why stop at four directions??\n",
    "let step = 10; //decrease to limit movement\n",
    "let numberOfPatients = 100; //increase this to make things more crowded\n",
    "let pTransmission = 0.2; //probability of transmission if contact occurs\n",
    "let pRecovery = 0.002; //probability of recovery of infected in each screen refresh\n",
    "let pDeath = 0.0001; //probability of death of infected in each screen refresh\n",
    "```\n",
    "```js\n",
    "function draw() {\n",
    "  background(240);\n",
    "  for (var i = 0; i < numberOfPatients; i++) {\n",
    "    patients[i].plot();\n",
    "    if (patients[i].status != \"deceased\") {\n",
    "      patients[i].move();\n",
    "      patients[i].contact();\n",
    "      if (patients[i].status == \"infected\") {\n",
    "        if (random() < pRecovery) {\n",
    "          patients[i].status = \"immune\";\n",
    "        }\n",
    "        if (random() < pDeath) {\n",
    "          patients[i].status = \"deceased\";\n",
    "        }\n",
    "      }\n",
    "    }\n",
    "  }\n",
    "}\n",
    "```\n",
    "\n"
   ]
  },
  {
   "cell_type": "markdown",
   "id": "7b23c121",
   "metadata": {
    "slideshow": {
     "slide_type": "slide"
    }
   },
   "source": [
    "## Turtles in the curriculum?"
   ]
  },
  {
   "cell_type": "markdown",
   "id": "34057221",
   "metadata": {
    "slideshow": {
     "slide_type": "slide"
    }
   },
   "source": [
    "### Programming and thinking again...\n",
    "\n",
    ">There was no evidence that attending Code Club had any effect on children's computational thinking at the end of their academic year attending Code Club over and above changes that would have occurred anyway.\n",
    "\n",
    "([NFER, 2017](https://www.raspberrypi.org/app/uploads/2017/03/Randomised-Controlled-Trial-and-Process-Evaluation-of-Code-Clubs.pdf))\n"
   ]
  },
  {
   "cell_type": "markdown",
   "id": "b786588a",
   "metadata": {
    "slideshow": {
     "slide_type": "subslide"
    }
   },
   "source": [
    "### Turns out, it wasn't the programming\n",
    "\n",
    ">It did not occur to me that anyone could possibly take my statement to mean that learning to program would in itself have consequences for how children learn and think.\n",
    "\n",
    "([Papert, 2000](http://worrydream.com/refs/Papert%20-%20Whats%20the%20Big%20Idea.pdf))\n"
   ]
  },
  {
   "cell_type": "markdown",
   "id": "edd6d8ce",
   "metadata": {
    "slideshow": {
     "slide_type": "subslide"
    }
   },
   "source": [
    "### Logo in the 1991 maths curriculum\n",
    "\n",
    "![1991 maths curriculum](images/maths1991.png)"
   ]
  },
  {
   "cell_type": "markdown",
   "id": "48b78fe6",
   "metadata": {
    "slideshow": {
     "slide_type": "slide"
    }
   },
   "source": [
    "### Be careful what you wish for\n",
    "\n",
    ">The introduction of Logo in US and UK schools was initially not a centrally organized educational reform: it was a grass-roots innovation that was employed as a way to change existing educational arrangements and orientate them towards child-centred and open-ended exploratory learning. However, soon after this initial, unofficial and semi-autonomous phase, Logo was included in the official school policies of both the USA and the UK. From an experimental tool in the classrooms of dedicated enthusiasts, Logo became 'part of the curriculum'.\n",
    "\n",
    "([Agalianos, Whitty and Noss, 2006](https://www.researchgate.net/publication/239552308_The_Social_Shaping_of_Logo))\n"
   ]
  },
  {
   "cell_type": "markdown",
   "id": "7c415e2a",
   "metadata": {
    "slideshow": {
     "slide_type": "subslide"
    }
   },
   "source": [
    "### An object of teaching?\n",
    "\n",
    ">[Logo was] stripped of programming within carefully designed sequences of exercises aimed at well-defined sets of skills. Logo has suffered the fate of incorporation into a canonical curriculum, a transformation: ‘in which what was to have been an instrument for exploration is ossified into an object of teaching’\n",
    "\n",
    "([Noss and Hoyes, 1996](https://www.google.co.uk/books/edition/Windows_on_Mathematical_Meanings/VclPmvPRbSAC?hl=en&gbpv=0))"
   ]
  },
  {
   "cell_type": "markdown",
   "id": "01be90b3",
   "metadata": {
    "slideshow": {
     "slide_type": "slide"
    }
   },
   "source": [
    "### Key Stage 1 Computing\n",
    "\n",
    "* understand what algorithms are, how they are implemented as programs on digital devices, and that programs execute by following precise and unambiguous instructions\n",
    "* create and debug simple programs\n",
    "* use logical reasoning to predict the behaviour of simple programs\n",
    "\n",
    "([DfE, 2013](https://www.gov.uk/government/publications/national-curriculum-in-england-computing-programmes-of-study/national-curriculum-in-england-computing-programmes-of-study))\n",
    "\n"
   ]
  },
  {
   "cell_type": "markdown",
   "id": "0e98c1ed",
   "metadata": {
    "slideshow": {
     "slide_type": "subslide"
    }
   },
   "source": [
    "### Key Stage 2 Computing\n",
    "\n",
    "* design, write and debug programs that accomplish specific goals, including controlling or simulating physical systems; solve problems by decomposing them into smaller parts\n",
    "* use sequence, selection, and repetition in programs; work with variables and various forms of input and output\n",
    "* use logical reasoning to explain how some simple algorithms work and to detect and correct errors in algorithms and programs\n",
    "\n",
    "([DfE, 2013](https://www.gov.uk/government/publications/national-curriculum-in-england-computing-programmes-of-study/national-curriculum-in-england-computing-programmes-of-study))"
   ]
  },
  {
   "cell_type": "markdown",
   "id": "7f8fa51f",
   "metadata": {
    "slideshow": {
     "slide_type": "subslide"
    }
   },
   "source": [
    "### Key Stage 3 Computing\n",
    "\n",
    "* design, use and evaluate computational abstractions that model the state and behaviour of real-world problems and physical systems\n",
    "* understand several key algorithms that reflect computational thinking; use logical reasoning to compare the utility of alternative algorithms for the same problem\n",
    "* use 2 or more programming languages, at least one of which is textual, to solve a variety of computational problems; make appropriate use of data structures; design and develop modular programs that use procedures or functions\n",
    "\n",
    "([DfE, 2013](https://www.gov.uk/government/publications/national-curriculum-in-england-computing-programmes-of-study/national-curriculum-in-england-computing-programmes-of-study))"
   ]
  },
  {
   "cell_type": "markdown",
   "id": "094e4df1",
   "metadata": {
    "slideshow": {
     "slide_type": "subslide"
    }
   },
   "source": [
    "### But what about mathematics?\n",
    "\n",
    "* become fluent in the fundamentals of mathematics, including through varied and frequent practice with increasingly complex problems over time, so that pupils develop conceptual understanding and the ability to recall and apply knowledge rapidly and accurately\n",
    "* reason mathematically by following a line of enquiry, conjecturing relationships and generalisations, and developing an argument, justification or proof using mathematical language\n",
    "* can solve problems by applying their mathematics to a variety of routine and non-routine problems with increasing sophistication, including breaking down problems into a series of simpler steps and persevering in seeking solutions\n",
    "\n",
    "([DfE, 2013](https://www.gov.uk/government/publications/national-curriculum-in-england-mathematics-programmes-of-study/national-curriculum-in-england-mathematics-programmes-of-study))"
   ]
  }
 ],
 "metadata": {
  "celltoolbar": "Slideshow",
  "kernelspec": {
   "display_name": "Python 3 (ipykernel)",
   "language": "python",
   "name": "python3"
  },
  "language_info": {
   "codemirror_mode": {
    "name": "ipython",
    "version": 3
   },
   "file_extension": ".py",
   "mimetype": "text/x-python",
   "name": "python",
   "nbconvert_exporter": "python",
   "pygments_lexer": "ipython3",
   "version": "3.9.7"
  },
  "rise": {
   "scroll": true
  }
 },
 "nbformat": 4,
 "nbformat_minor": 5
}
