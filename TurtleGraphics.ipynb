{
 "cells": [
  {
   "cell_type": "markdown",
   "id": "5ac98c65",
   "metadata": {
    "slideshow": {
     "slide_type": "slide"
    }
   },
   "source": [
    "# 20 things to do with a computer: lessons from Papert\n",
    "\n",
    "ATM Conference  \n",
    "12 April 2022\n",
    "\n",
    "Prof Miles Berry  \n",
    "University of Roehampton  \n",
    "m.berry@roehampton.ac.uk\n"
   ]
  },
  {
   "cell_type": "markdown",
   "id": "85b086ee",
   "metadata": {
    "slideshow": {
     "slide_type": "slide"
    }
   },
   "source": [
    "## Outline\n",
    "\n",
    "* Papert's contribution\n",
    "* Pen mode in Scratch - geometric figures\n",
    "* The Turtle module in Python - fractals\n",
    "* Making a turtle in P5.js - modelling\n",
    "* Turtles in the curriculum?\n",
    "\n"
   ]
  },
  {
   "cell_type": "markdown",
   "id": "d71a875c",
   "metadata": {
    "slideshow": {
     "slide_type": "slide"
    }
   },
   "source": [
    "### Twenty Things to do with a Computer (1971)\n",
    "\n",
    "> When people talk about computers in education they do not all have the same image in mind. Some think of using the computer to program the kid; others think of using the kid to program the computer. But most of them have at least this in common: the transaction between the computer and the kid will be some kind of 'conversation' or 'questions and answers' in words and numbers.\n",
    "\n",
    "([Papert and Solomon, 1971](http://www.stager.org/articles/twentythings.pdf))"
   ]
  },
  {
   "cell_type": "markdown",
   "id": "8d353cf4",
   "metadata": {
    "slideshow": {
     "slide_type": "subslide"
    }
   },
   "source": [
    "1. **Make a turtle**\n",
    "2. Draw a person\n",
    "3. Turtle biology\n",
    "4. Make a display turtle\n",
    "5. Play Spacewar\n",
    "6. **Differential geometry**\n",
    "7. **Draw spirals**\n",
    "8. Learn to debug\n",
    "9. **Grow flowers**\n",
    "10. Make a movie\n",
    "11. Program a tune\n",
    "12. Play with semi-random musical effects\n",
    "13. Control a crane\n",
    "14. Make a super light show\n",
    "15. Write concrete poetry\n",
    "16. Try computer aided instruction\n",
    "17. Physics in the fingertips\n",
    "18. Explain yourself\n",
    "19. Puppets\n",
    "20. Think up twenty more things to do\n",
    "\n",
    "([Papert and Solomon, 1971](http://www.stager.org/articles/twentythings.pdf))"
   ]
  },
  {
   "cell_type": "markdown",
   "id": "3090877a",
   "metadata": {
    "slideshow": {
     "slide_type": "slide"
    }
   },
   "source": [
    "### Mindstorms (1980)\n",
    "\n",
    "> In many schools today, the phrase \"computer-aided instruction\" means making the computer teach the child. One might say the computer is being used to program the child. In my vision, the child programs the computer and, in doing so, both acquires a sense of mastery over a piece of the most modern and powerful technology and establishes an intimate contact with some of the deepest ideas\n",
    "\n",
    "([Papert 1980](http://worrydream.com/refs/Papert%20-%20Mindstorms%201st%20ed.pdf))"
   ]
  },
  {
   "cell_type": "markdown",
   "id": "efd14c42",
   "metadata": {
    "slideshow": {
     "slide_type": "subslide"
    }
   },
   "source": [
    "![The turtles](images/theturtles.png)"
   ]
  },
  {
   "cell_type": "markdown",
   "id": "5036bc8f",
   "metadata": {
    "slideshow": {
     "slide_type": "subslide"
    }
   },
   "source": [
    "### Turtle as manipulative?\n",
    "\n",
    ">To make the Turtle trace a square you walk in square yourself and describe what you are doing in TURTLE TALK. And so, working with the Turtle mobilizes the child's expertise and pleasure in motion. It draws on the child's well-established knowledge of 'body geometry' as a starting point for the development of bridges into formal geometry.\n",
    "\n",
    "([Papert 1980](http://worrydream.com/refs/Papert%20-%20Mindstorms%201st%20ed.pdf))"
   ]
  },
  {
   "cell_type": "markdown",
   "id": "e1b110b4",
   "metadata": {
    "slideshow": {
     "slide_type": "subslide"
    }
   },
   "source": [
    "### Does programming develop *thinking*?\n",
    "\n",
    "> I began to see how children who had learned to program computers could use very concrete computer models to think about thinking and to learn about learning and in doing so, enhance their powers as psychologists and as epistemologists.\n",
    "\n",
    "([Papert 1980](http://worrydream.com/refs/Papert%20-%20Mindstorms%201st%20ed.pdf))"
   ]
  },
  {
   "cell_type": "markdown",
   "id": "c9401b66",
   "metadata": {
    "slideshow": {
     "slide_type": "subslide"
    }
   },
   "source": [
    "### But teach thinking too\n",
    "\n",
    ">We find that the entry level of Logo does not present conceptual problems for the school-aged child... With accompanying instruction in thinking skills, developments in planning skill may in fact be achieved.\n",
    "\n",
    "([Pea 1983](http://web.stanford.edu/~roypea/.../A39_Pea_87d_CCT_TR_MS.pdf))"
   ]
  },
  {
   "cell_type": "markdown",
   "id": "3d8eb506",
   "metadata": {
    "slideshow": {
     "slide_type": "subslide"
    }
   },
   "source": [
    "### It depends what you mean by thinking...\n",
    "\n",
    ">We found evidence for a moderate, overall transfer effect... Positive transfer to situations that required creative thinking, mathematical skills, and metacognition, followed by spatial skills and reasoning existed. School achievement and literacy, however, benefited the least from learning to program.\n",
    "\n",
    "([Scherer, Siddiq & Sánchez Viveros, 2019](https://nifu.brage.unit.no/nifu-xmlui/bitstream/handle/11250/2639856/SiddiqF_2019_The_cognitive.pdf?sequence=1))"
   ]
  },
  {
   "cell_type": "markdown",
   "id": "bd09b70f",
   "metadata": {
    "slideshow": {
     "slide_type": "subslide"
    }
   },
   "source": [
    "### Can we fix it?\n",
    "\n",
    ">Children are held back in their learning because they have a model of learning in which you have either 'got it' or 'got it wrong'... The question to ask about the program is not whether it is right or wrong, but if it is fixable… Thinking about learning by analogy with developing a program is a powerful and accessible way to get started on becoming more articulate about one's debugging strategies and more deliberate about improving them.\n",
    "\n",
    "([Papert 1980](http://worrydream.com/refs/Papert%20-%20Mindstorms%201st%20ed.pdf))\n"
   ]
  },
  {
   "cell_type": "markdown",
   "id": "6b43b41f",
   "metadata": {
    "slideshow": {
     "slide_type": "slide"
    }
   },
   "source": [
    "### Constructionism (1991)\n",
    "\n",
    "> Constructionism shares constructivism's connotation of learning as \"building knowledge structures\"... It then adds the idea that this happens especially felicitously in a context where the learner is consciously engaged in constructing a public entity\n",
    "\n",
    "([Papert and Harel, 1991](http://www.papert.org/articles/SituatingConstructionism.html))\n"
   ]
  },
  {
   "cell_type": "markdown",
   "id": "13cbe596",
   "metadata": {
    "slideshow": {
     "slide_type": "slide"
    }
   },
   "source": [
    "### The Children's Machine (1993)\n",
    "\n",
    ">Using speech, touch or gesture, she would steer the machine to the topic of interest, quickly navigating through a knowledge space much broader than the contents of any printed encyclopedia.  \n",
    "Children who grow up with the opportunity to explore the jungles and the cities and the deep oceans and ancient myths and outer space will be even less likely to sit quietly through anything even vaguely resembling the elementary school curriculum as we have known it up to now.\n",
    "\n",
    "([Papert, 1993](https://lcl.media.mit.edu/resources/readings/childrens-machine.pdf))\n"
   ]
  },
  {
   "cell_type": "markdown",
   "id": "a14aa594",
   "metadata": {
    "slideshow": {
     "slide_type": "slide"
    }
   },
   "source": [
    "### OLPC (c. 2005)\n",
    "\n",
    "![OLPC](images/olpc.jpeg)"
   ]
  },
  {
   "cell_type": "markdown",
   "id": "efca5a68",
   "metadata": {
    "slideshow": {
     "slide_type": "slide"
    }
   },
   "source": [
    "### Scratch (2007)\n",
    "\n",
    "> When you make something in the world, it becomes an external representation of ideas in your head. It enables you to play with your ideas and to gain a better understanding of the possibilities and limitations of your ideas. By giving an external form and shape to your ideas, you also provide opportunities for other people to play with your ideas and give suggestions on your ideas. There is a constant interplay between making new things in the world and making new ideas in your head.\n",
    "\n",
    "([Resnick 2013](https://web.media.mit.edu/~mres/papers/CulturesCreativityEssay.pdf))\n",
    "\n"
   ]
  },
  {
   "cell_type": "markdown",
   "id": "299d9536",
   "metadata": {
    "slideshow": {
     "slide_type": "slide"
    }
   },
   "source": [
    "## Turtle graphics in Scratch"
   ]
  },
  {
   "cell_type": "markdown",
   "id": "d83c2785",
   "metadata": {
    "slideshow": {
     "slide_type": "slide"
    }
   },
   "source": [
    "### Pros and cons\n",
    "\n",
    "#### Pros\n",
    "\n",
    "* It's Scratch!\n",
    "* No syntax to learn\n",
    "* Multilingual\n",
    "* The Scratch community\n",
    "* Integration with other tools\n",
    "\n",
    "#### Cons\n",
    "\n",
    "* It's an extension\n",
    "* No turtle sprite\n",
    "* Sprites move instantly"
   ]
  },
  {
   "cell_type": "markdown",
   "id": "2cb3eae4",
   "metadata": {
    "slideshow": {
     "slide_type": "subslide"
    }
   },
   "source": [
    "### Movement in Scratch\n",
    "\n",
    "![Scratch movement](images/scratchmove.png)"
   ]
  },
  {
   "cell_type": "markdown",
   "id": "007d6498",
   "metadata": {
    "slideshow": {
     "slide_type": "subslide"
    }
   },
   "source": [
    "### The pen in Scratch\n",
    "\n",
    "![Scratch pen](images/scratchpen.png)\n",
    "\n",
    "So let's [try this now](https://scratch.mit.edu/projects/674316470/editor/)..."
   ]
  },
  {
   "cell_type": "markdown",
   "id": "e3f5cd99",
   "metadata": {
    "slideshow": {
     "slide_type": "subslide"
    }
   },
   "source": [
    "### Some challenges...\n",
    "\n",
    "![Scratch turtle challenges](images/scratchchallenge.png)"
   ]
  },
  {
   "cell_type": "markdown",
   "id": "a75b2e18",
   "metadata": {
    "slideshow": {
     "slide_type": "slide"
    }
   },
   "source": [
    "### 'Differential geometry'\n",
    "\n",
    "The \"turtle language\" provides a very remarkable formal system for describing many geometric objects; we think vastly superior to Cartesian coordinates as an introductory path into geometry. To see this let's study a very simple procedure known in our fifth grade class as POLY. In its simplest form `POLY` has two inputs called `STEP` and `ANGLE`. In LOGO it is written:\n",
    "\n",
    "```\n",
    "TO POLY :STEP :ANGLE  \n",
    "    FORWARD : STEP  \n",
    "    LEFT :ANGLE  \n",
    "    POLY :STEP :ANGLE  \n",
    "END\n",
    "```\n",
    "\n",
    "The following pictures show the effect of invoking this procedure with different inputs: (the first input is the side size, the second is the angle)\n",
    "\n",
    "([Papert and Solomon, 1971](http://www.stager.org/articles/twentythings.pdf))\n"
   ]
  },
  {
   "cell_type": "markdown",
   "id": "f3bd11b4",
   "metadata": {
    "slideshow": {
     "slide_type": "subslide"
    }
   },
   "source": [
    "![Poly output in Logo](images/20thingspoly.png)"
   ]
  },
  {
   "cell_type": "markdown",
   "id": "b427cb54",
   "metadata": {
    "slideshow": {
     "slide_type": "subslide"
    }
   },
   "source": [
    "### Draw Spirals\n",
    "\n",
    "To change the procedure called `POLY` so as to draw spirals we make a very small addition to line 3. We also change the name but that is of course unnecessary.\n",
    "```\n",
    "TO POLYSPI :STEP :ANGLE\n",
    "    FORWARD :STEP\n",
    "    LEFT :ANGLE\n",
    "    POLYSPI :STEP+S :ANGLE\n",
    "END\n",
    "```\n",
    "\n",
    "\n"
   ]
  },
  {
   "cell_type": "markdown",
   "id": "154b43e9",
   "metadata": {
    "slideshow": {
     "slide_type": "subslide"
    }
   },
   "source": [
    "![polyspi output](images/polyspi.png)"
   ]
  },
  {
   "cell_type": "markdown",
   "id": "6051d7f6",
   "metadata": {
    "slideshow": {
     "slide_type": "subslide"
    }
   },
   "source": [
    "### So what could possibly go wrong?\n",
    "\n",
    "![polyspi in Scratch](images/scratchpolyspi.png)\n",
    "\n",
    "Try [here...](https://scratch.mit.edu/projects/674371325/editor/)"
   ]
  },
  {
   "cell_type": "markdown",
   "id": "011c66a3",
   "metadata": {
    "slideshow": {
     "slide_type": "slide"
    }
   },
   "source": [
    "## Fractals in Python"
   ]
  },
  {
   "cell_type": "markdown",
   "id": "163301c2",
   "metadata": {
    "slideshow": {
     "slide_type": "slide"
    }
   },
   "source": [
    "### Reading code comes before writing code\n",
    "\n",
    "PRIMM:\n",
    "\n",
    "* Predict\n",
    "* Run \n",
    "* Investigate\n",
    "* Modify\n",
    "* Make\n",
    "\n",
    "See, e.g. [Sentance, Waite & Kallia (2019)](https://doi.org/10.1080/08993408.2019.1608781)"
   ]
  },
  {
   "cell_type": "markdown",
   "id": "c5b5d183",
   "metadata": {
    "slideshow": {
     "slide_type": "slide"
    }
   },
   "source": [
    "We need to install a version of Python Turtle that works in Jupyter / Colab. I'm using ColabTurtlePlus. You can read [the documentation](https://larryriddle.agnesscott.org/ColabTurtlePlus/documentation2.html)."
   ]
  },
  {
   "cell_type": "code",
   "execution_count": 18,
   "id": "273e82f8",
   "metadata": {
    "slideshow": {
     "slide_type": "-"
    }
   },
   "outputs": [
    {
     "name": "stdout",
     "output_type": "stream",
     "text": [
      "Requirement already satisfied: ColabTurtlePlus in /Users/m.berry/opt/anaconda3/lib/python3.9/site-packages (2.0.1)\r\n"
     ]
    }
   ],
   "source": [
    "!pip3 install ColabTurtlePlus\n",
    "from ColabTurtlePlus.Turtle import *\n",
    "\n"
   ]
  },
  {
   "cell_type": "markdown",
   "id": "986a22b5",
   "metadata": {
    "slideshow": {
     "slide_type": "slide"
    }
   },
   "source": [
    "So what will this do?"
   ]
  },
  {
   "cell_type": "code",
   "execution_count": 21,
   "id": "cd360c37",
   "metadata": {
    "slideshow": {
     "slide_type": "-"
    }
   },
   "outputs": [
    {
     "data": {
      "text/html": [
       "\n",
       "      <svg width=\"800\" height=\"600\">  \n",
       "        <rect width=\"100%\" height=\"100%\" style=\"fill:#eee;stroke:;stroke-width:1\"/>\n",
       "        \n",
       "        \n",
       "        <line x1=\"400.0\" y1=\"300.0\" x2=\"500.0\" y2=\"300.0\" stroke-linecap=\"round\" style=\"stroke:black;stroke-width:1\" /><line x1=\"500.0\" y1=\"300.0\" x2=\"419.098\" y2=\"241.221\" stroke-linecap=\"round\" style=\"stroke:black;stroke-width:1\" /><line x1=\"419.098\" y1=\"241.221\" x2=\"450.0\" y2=\"336.327\" stroke-linecap=\"round\" style=\"stroke:black;stroke-width:1\" /><line x1=\"450.0\" y1=\"336.327\" x2=\"480.902\" y2=\"241.221\" stroke-linecap=\"round\" style=\"stroke:black;stroke-width:1\" /><line x1=\"480.902\" y1=\"241.221\" x2=\"400.0\" y2=\"300.0\" stroke-linecap=\"round\" style=\"stroke:black;stroke-width:1\" /><line x1=\"400.0\" y1=\"300.0\" x2=\"486.603\" y2=\"250.0\" stroke-linecap=\"round\" style=\"stroke:black;stroke-width:1\" /><line x1=\"486.603\" y1=\"250.0\" x2=\"387.151\" y2=\"239.547\" stroke-linecap=\"round\" style=\"stroke:black;stroke-width:1\" /><line x1=\"387.151\" y1=\"239.547\" x2=\"461.465\" y2=\"306.46\" stroke-linecap=\"round\" style=\"stroke:black;stroke-width:1\" /><line x1=\"461.465\" y1=\"306.46\" x2=\"440.674\" y2=\"208.645\" stroke-linecap=\"round\" style=\"stroke:black;stroke-width:1\" /><line x1=\"440.674\" y1=\"208.645\" x2=\"400.0\" y2=\"300.0\" stroke-linecap=\"round\" style=\"stroke:black;stroke-width:1\" /><line x1=\"400.0\" y1=\"300.0\" x2=\"450.0\" y2=\"213.397\" stroke-linecap=\"round\" style=\"stroke:black;stroke-width:1\" /><line x1=\"450.0\" y1=\"213.397\" x2=\"358.645\" y2=\"254.071\" stroke-linecap=\"round\" style=\"stroke:black;stroke-width:1\" /><line x1=\"358.645\" y1=\"254.071\" x2=\"456.46\" y2=\"274.862\" stroke-linecap=\"round\" style=\"stroke:black;stroke-width:1\" /><line x1=\"456.46\" y1=\"274.862\" x2=\"389.547\" y2=\"200.548\" stroke-linecap=\"round\" style=\"stroke:black;stroke-width:1\" /><line x1=\"389.547\" y1=\"200.548\" x2=\"400.0\" y2=\"300.0\" stroke-linecap=\"round\" style=\"stroke:black;stroke-width:1\" /><line x1=\"400.0\" y1=\"300.0\" x2=\"400.0\" y2=\"200.0\" stroke-linecap=\"round\" style=\"stroke:black;stroke-width:1\" /><line x1=\"400.0\" y1=\"200.0\" x2=\"341.221\" y2=\"280.902\" stroke-linecap=\"round\" style=\"stroke:black;stroke-width:1\" /><line x1=\"341.221\" y1=\"280.902\" x2=\"436.327\" y2=\"250.0\" stroke-linecap=\"round\" style=\"stroke:black;stroke-width:1\" /><line x1=\"436.327\" y1=\"250.0\" x2=\"341.221\" y2=\"219.098\" stroke-linecap=\"round\" style=\"stroke:black;stroke-width:1\" /><line x1=\"341.221\" y1=\"219.098\" x2=\"400.0\" y2=\"300.0\" stroke-linecap=\"round\" style=\"stroke:black;stroke-width:1\" /><line x1=\"400.0\" y1=\"300.0\" x2=\"350.0\" y2=\"213.397\" stroke-linecap=\"round\" style=\"stroke:black;stroke-width:1\" /><line x1=\"350.0\" y1=\"213.397\" x2=\"339.547\" y2=\"312.849\" stroke-linecap=\"round\" style=\"stroke:black;stroke-width:1\" /><line x1=\"339.547\" y1=\"312.849\" x2=\"406.46\" y2=\"238.535\" stroke-linecap=\"round\" style=\"stroke:black;stroke-width:1\" /><line x1=\"406.46\" y1=\"238.535\" x2=\"308.645\" y2=\"259.326\" stroke-linecap=\"round\" style=\"stroke:black;stroke-width:1\" /><line x1=\"308.645\" y1=\"259.326\" x2=\"400.0\" y2=\"300.0\" stroke-linecap=\"round\" style=\"stroke:black;stroke-width:1\" /><line x1=\"400.0\" y1=\"300.0\" x2=\"313.397\" y2=\"250.0\" stroke-linecap=\"round\" style=\"stroke:black;stroke-width:1\" /><line x1=\"313.397\" y1=\"250.0\" x2=\"354.071\" y2=\"341.355\" stroke-linecap=\"round\" style=\"stroke:black;stroke-width:1\" /><line x1=\"354.071\" y1=\"341.355\" x2=\"374.862\" y2=\"243.54\" stroke-linecap=\"round\" style=\"stroke:black;stroke-width:1\" /><line x1=\"374.862\" y1=\"243.54\" x2=\"300.548\" y2=\"310.453\" stroke-linecap=\"round\" style=\"stroke:black;stroke-width:1\" /><line x1=\"300.548\" y1=\"310.453\" x2=\"400.0\" y2=\"300.0\" stroke-linecap=\"round\" style=\"stroke:black;stroke-width:1\" /><line x1=\"400.0\" y1=\"300.0\" x2=\"300.0\" y2=\"300.0\" stroke-linecap=\"round\" style=\"stroke:black;stroke-width:1\" /><line x1=\"300.0\" y1=\"300.0\" x2=\"380.902\" y2=\"358.779\" stroke-linecap=\"round\" style=\"stroke:black;stroke-width:1\" /><line x1=\"380.902\" y1=\"358.779\" x2=\"350.0\" y2=\"263.673\" stroke-linecap=\"round\" style=\"stroke:black;stroke-width:1\" /><line x1=\"350.0\" y1=\"263.673\" x2=\"319.098\" y2=\"358.779\" stroke-linecap=\"round\" style=\"stroke:black;stroke-width:1\" /><line x1=\"319.098\" y1=\"358.779\" x2=\"400.0\" y2=\"300.0\" stroke-linecap=\"round\" style=\"stroke:black;stroke-width:1\" /><line x1=\"400.0\" y1=\"300.0\" x2=\"313.397\" y2=\"350.0\" stroke-linecap=\"round\" style=\"stroke:black;stroke-width:1\" /><line x1=\"313.397\" y1=\"350.0\" x2=\"412.849\" y2=\"360.453\" stroke-linecap=\"round\" style=\"stroke:black;stroke-width:1\" /><line x1=\"412.849\" y1=\"360.453\" x2=\"338.535\" y2=\"293.54\" stroke-linecap=\"round\" style=\"stroke:black;stroke-width:1\" /><line x1=\"338.535\" y1=\"293.54\" x2=\"359.326\" y2=\"391.355\" stroke-linecap=\"round\" style=\"stroke:black;stroke-width:1\" /><line x1=\"359.326\" y1=\"391.355\" x2=\"400.0\" y2=\"300.0\" stroke-linecap=\"round\" style=\"stroke:black;stroke-width:1\" /><line x1=\"400.0\" y1=\"300.0\" x2=\"350.0\" y2=\"386.603\" stroke-linecap=\"round\" style=\"stroke:black;stroke-width:1\" /><line x1=\"350.0\" y1=\"386.603\" x2=\"441.355\" y2=\"345.929\" stroke-linecap=\"round\" style=\"stroke:black;stroke-width:1\" /><line x1=\"441.355\" y1=\"345.929\" x2=\"343.54\" y2=\"325.138\" stroke-linecap=\"round\" style=\"stroke:black;stroke-width:1\" /><line x1=\"343.54\" y1=\"325.138\" x2=\"410.453\" y2=\"399.452\" stroke-linecap=\"round\" style=\"stroke:black;stroke-width:1\" /><line x1=\"410.453\" y1=\"399.452\" x2=\"400.0\" y2=\"300.0\" stroke-linecap=\"round\" style=\"stroke:black;stroke-width:1\" /><line x1=\"400.0\" y1=\"300.0\" x2=\"400.0\" y2=\"400.0\" stroke-linecap=\"round\" style=\"stroke:black;stroke-width:1\" /><line x1=\"400.0\" y1=\"400.0\" x2=\"458.779\" y2=\"319.098\" stroke-linecap=\"round\" style=\"stroke:black;stroke-width:1\" /><line x1=\"458.779\" y1=\"319.098\" x2=\"363.673\" y2=\"350.0\" stroke-linecap=\"round\" style=\"stroke:black;stroke-width:1\" /><line x1=\"363.673\" y1=\"350.0\" x2=\"458.779\" y2=\"380.902\" stroke-linecap=\"round\" style=\"stroke:black;stroke-width:1\" /><line x1=\"458.779\" y1=\"380.902\" x2=\"400.0\" y2=\"300.0\" stroke-linecap=\"round\" style=\"stroke:black;stroke-width:1\" /><line x1=\"400.0\" y1=\"300.0\" x2=\"450.0\" y2=\"386.603\" stroke-linecap=\"round\" style=\"stroke:black;stroke-width:1\" /><line x1=\"450.0\" y1=\"386.603\" x2=\"460.453\" y2=\"287.151\" stroke-linecap=\"round\" style=\"stroke:black;stroke-width:1\" /><line x1=\"460.453\" y1=\"287.151\" x2=\"393.54\" y2=\"361.465\" stroke-linecap=\"round\" style=\"stroke:black;stroke-width:1\" /><line x1=\"393.54\" y1=\"361.465\" x2=\"491.355\" y2=\"340.674\" stroke-linecap=\"round\" style=\"stroke:black;stroke-width:1\" /><line x1=\"491.355\" y1=\"340.674\" x2=\"400.0\" y2=\"300.0\" stroke-linecap=\"round\" style=\"stroke:black;stroke-width:1\" /><line x1=\"400.0\" y1=\"300.0\" x2=\"486.603\" y2=\"350.0\" stroke-linecap=\"round\" style=\"stroke:black;stroke-width:1\" /><line x1=\"486.603\" y1=\"350.0\" x2=\"445.929\" y2=\"258.645\" stroke-linecap=\"round\" style=\"stroke:black;stroke-width:1\" /><line x1=\"445.929\" y1=\"258.645\" x2=\"425.138\" y2=\"356.46\" stroke-linecap=\"round\" style=\"stroke:black;stroke-width:1\" /><line x1=\"425.138\" y1=\"356.46\" x2=\"499.452\" y2=\"289.547\" stroke-linecap=\"round\" style=\"stroke:black;stroke-width:1\" /><line x1=\"499.452\" y1=\"289.547\" x2=\"400.0\" y2=\"300.0\" stroke-linecap=\"round\" style=\"stroke:black;stroke-width:1\" />\n",
       "        \n",
       "        \n",
       "        <g id=\"classic\" visibility=\"visible\" transform=\"rotate(-90,400.0,300.0) translate(400.0, 300.0)\">\n",
       "<polygon points=\"-5,-4.5 0,-2.5 5,-4.5 0,4.5\" transform=\"skewX(0) scale(1,1)\" style=\"stroke:black;fill:black;stroke-width:1\" />\n",
       "</g>\n",
       "      </svg>\n",
       "    "
      ],
      "text/plain": [
       "<IPython.core.display.HTML object>"
      ]
     },
     "metadata": {},
     "output_type": "display_data"
    }
   ],
   "source": [
    "setup(800,600)\n",
    "clearscreen()\n",
    "bgcolor(\"#eee\")\n",
    "speed(12)\n",
    "\n",
    "for j in range(12):\n",
    "    for i in range(5):\n",
    "        forward(100)\n",
    "        right(72 )\n",
    "    left(30)\n",
    "\n",
    "done()"
   ]
  },
  {
   "cell_type": "markdown",
   "id": "19e4d2b9",
   "metadata": {
    "slideshow": {
     "slide_type": "subslide"
    }
   },
   "source": [
    "But what about this?"
   ]
  },
  {
   "cell_type": "code",
   "execution_count": 88,
   "id": "d56e228f-abf7-45a1-bf31-0aa17e8ec800",
   "metadata": {
    "slideshow": {
     "slide_type": "-"
    }
   },
   "outputs": [
    {
     "data": {
      "text/html": [
       "\n",
       "      <svg width=\"800\" height=\"600\">  \n",
       "        <rect width=\"100%\" height=\"100%\" style=\"fill:white;stroke:;stroke-width:1\"/>\n",
       "        \n",
       "        \n",
       "        <line x1=\"400.0\" y1=\"500.0\" x2=\"400.0\" y2=\"400.0\" stroke-linecap=\"round\" style=\"stroke:black;stroke-width:1\" /><line x1=\"400.0\" y1=\"400.0\" x2=\"384.471\" y2=\"342.044\" stroke-linecap=\"round\" style=\"stroke:black;stroke-width:1\" /><line x1=\"384.471\" y1=\"342.044\" x2=\"366.471\" y2=\"310.867\" stroke-linecap=\"round\" style=\"stroke:black;stroke-width:1\" /><line x1=\"366.471\" y1=\"310.867\" x2=\"351.197\" y2=\"295.593\" stroke-linecap=\"round\" style=\"stroke:black;stroke-width:1\" /><line x1=\"351.197\" y1=\"295.593\" x2=\"339.973\" y2=\"289.113\" stroke-linecap=\"round\" style=\"stroke:black;stroke-width:1\" /><line x1=\"339.973\" y1=\"289.113\" x2=\"332.462\" y2=\"287.1\" stroke-linecap=\"round\" style=\"stroke:black;stroke-width:1\" /><line x1=\"332.462\" y1=\"287.1\" x2=\"327.685\" y2=\"283.755\" stroke-linecap=\"round\" style=\"stroke:black;stroke-width:1\" /><line x1=\"327.685\" y1=\"283.755\" x2=\"332.462\" y2=\"287.1\" stroke-linecap=\"round\" style=\"stroke:black;stroke-width:1\" /><line x1=\"332.462\" y1=\"287.1\" x2=\"339.973\" y2=\"289.113\" stroke-linecap=\"round\" style=\"stroke:black;stroke-width:1\" /><line x1=\"339.973\" y1=\"289.113\" x2=\"333.725\" y2=\"281.667\" stroke-linecap=\"round\" style=\"stroke:black;stroke-width:1\" /><line x1=\"333.725\" y1=\"281.667\" x2=\"328.948\" y2=\"278.322\" stroke-linecap=\"round\" style=\"stroke:black;stroke-width:1\" /><line x1=\"328.948\" y1=\"278.322\" x2=\"333.725\" y2=\"281.667\" stroke-linecap=\"round\" style=\"stroke:black;stroke-width:1\" /><line x1=\"333.725\" y1=\"281.667\" x2=\"331.232\" y2=\"274.817\" stroke-linecap=\"round\" style=\"stroke:black;stroke-width:1\" /><line x1=\"331.232\" y1=\"274.817\" x2=\"331.232\" y2=\"269.35\" stroke-linecap=\"round\" style=\"stroke:black;stroke-width:1\" /><line x1=\"331.232\" y1=\"269.35\" x2=\"331.232\" y2=\"274.817\" stroke-linecap=\"round\" style=\"stroke:black;stroke-width:1\" /><line x1=\"331.232\" y1=\"274.817\" x2=\"333.725\" y2=\"281.667\" stroke-linecap=\"round\" style=\"stroke:black;stroke-width:1\" /><line x1=\"333.725\" y1=\"281.667\" x2=\"339.973\" y2=\"289.113\" stroke-linecap=\"round\" style=\"stroke:black;stroke-width:1\" /><line x1=\"339.973\" y1=\"289.113\" x2=\"351.197\" y2=\"295.593\" stroke-linecap=\"round\" style=\"stroke:black;stroke-width:1\" /><line x1=\"351.197\" y1=\"295.593\" x2=\"344.351\" y2=\"280.911\" stroke-linecap=\"round\" style=\"stroke:black;stroke-width:1\" /><line x1=\"344.351\" y1=\"280.911\" x2=\"338.103\" y2=\"273.465\" stroke-linecap=\"round\" style=\"stroke:black;stroke-width:1\" /><line x1=\"338.103\" y1=\"273.465\" x2=\"333.326\" y2=\"270.12\" stroke-linecap=\"round\" style=\"stroke:black;stroke-width:1\" /><line x1=\"333.326\" y1=\"270.12\" x2=\"338.103\" y2=\"273.465\" stroke-linecap=\"round\" style=\"stroke:black;stroke-width:1\" /><line x1=\"338.103\" y1=\"273.465\" x2=\"335.61\" y2=\"266.615\" stroke-linecap=\"round\" style=\"stroke:black;stroke-width:1\" /><line x1=\"335.61\" y1=\"266.615\" x2=\"335.61\" y2=\"261.148\" stroke-linecap=\"round\" style=\"stroke:black;stroke-width:1\" /><line x1=\"335.61\" y1=\"261.148\" x2=\"335.61\" y2=\"266.615\" stroke-linecap=\"round\" style=\"stroke:black;stroke-width:1\" /><line x1=\"335.61\" y1=\"266.615\" x2=\"338.103\" y2=\"273.465\" stroke-linecap=\"round\" style=\"stroke:black;stroke-width:1\" /><line x1=\"338.103\" y1=\"273.465\" x2=\"344.351\" y2=\"280.911\" stroke-linecap=\"round\" style=\"stroke:black;stroke-width:1\" /><line x1=\"344.351\" y1=\"280.911\" x2=\"343.292\" y2=\"268.807\" stroke-linecap=\"round\" style=\"stroke:black;stroke-width:1\" /><line x1=\"343.292\" y1=\"268.807\" x2=\"340.799\" y2=\"261.957\" stroke-linecap=\"round\" style=\"stroke:black;stroke-width:1\" /><line x1=\"340.799\" y1=\"261.957\" x2=\"340.799\" y2=\"256.49\" stroke-linecap=\"round\" style=\"stroke:black;stroke-width:1\" /><line x1=\"340.799\" y1=\"256.49\" x2=\"340.799\" y2=\"261.957\" stroke-linecap=\"round\" style=\"stroke:black;stroke-width:1\" /><line x1=\"340.799\" y1=\"261.957\" x2=\"343.292\" y2=\"268.807\" stroke-linecap=\"round\" style=\"stroke:black;stroke-width:1\" /><line x1=\"343.292\" y1=\"268.807\" x2=\"345.65\" y2=\"260.005\" stroke-linecap=\"round\" style=\"stroke:black;stroke-width:1\" /><line x1=\"345.65\" y1=\"260.005\" x2=\"345.65\" y2=\"254.537\" stroke-linecap=\"round\" style=\"stroke:black;stroke-width:1\" /><line x1=\"345.65\" y1=\"254.537\" x2=\"345.65\" y2=\"260.005\" stroke-linecap=\"round\" style=\"stroke:black;stroke-width:1\" /><line x1=\"345.65\" y1=\"260.005\" x2=\"349.57\" y2=\"254.407\" stroke-linecap=\"round\" style=\"stroke:black;stroke-width:1\" /><line x1=\"349.57\" y1=\"254.407\" x2=\"353.769\" y2=\"251.467\" stroke-linecap=\"round\" style=\"stroke:black;stroke-width:1\" /><line x1=\"353.769\" y1=\"251.467\" x2=\"349.57\" y2=\"254.407\" stroke-linecap=\"round\" style=\"stroke:black;stroke-width:1\" /><line x1=\"349.57\" y1=\"254.407\" x2=\"345.65\" y2=\"260.005\" stroke-linecap=\"round\" style=\"stroke:black;stroke-width:1\" /><line x1=\"345.65\" y1=\"260.005\" x2=\"343.292\" y2=\"268.807\" stroke-linecap=\"round\" style=\"stroke:black;stroke-width:1\" /><line x1=\"343.292\" y1=\"268.807\" x2=\"344.351\" y2=\"280.911\" stroke-linecap=\"round\" style=\"stroke:black;stroke-width:1\" /><line x1=\"344.351\" y1=\"280.911\" x2=\"351.197\" y2=\"295.593\" stroke-linecap=\"round\" style=\"stroke:black;stroke-width:1\" /><line x1=\"351.197\" y1=\"295.593\" x2=\"366.471\" y2=\"310.867\" stroke-linecap=\"round\" style=\"stroke:black;stroke-width:1\" /><line x1=\"366.471\" y1=\"310.867\" x2=\"361.782\" y2=\"284.277\" stroke-linecap=\"round\" style=\"stroke:black;stroke-width:1\" /><line x1=\"361.782\" y1=\"284.277\" x2=\"354.936\" y2=\"269.595\" stroke-linecap=\"round\" style=\"stroke:black;stroke-width:1\" /><line x1=\"354.936\" y1=\"269.595\" x2=\"348.688\" y2=\"262.149\" stroke-linecap=\"round\" style=\"stroke:black;stroke-width:1\" /><line x1=\"348.688\" y1=\"262.149\" x2=\"343.911\" y2=\"258.804\" stroke-linecap=\"round\" style=\"stroke:black;stroke-width:1\" /><line x1=\"343.911\" y1=\"258.804\" x2=\"348.688\" y2=\"262.149\" stroke-linecap=\"round\" style=\"stroke:black;stroke-width:1\" /><line x1=\"348.688\" y1=\"262.149\" x2=\"346.195\" y2=\"255.299\" stroke-linecap=\"round\" style=\"stroke:black;stroke-width:1\" /><line x1=\"346.195\" y1=\"255.299\" x2=\"346.195\" y2=\"249.832\" stroke-linecap=\"round\" style=\"stroke:black;stroke-width:1\" /><line x1=\"346.195\" y1=\"249.832\" x2=\"346.195\" y2=\"255.299\" stroke-linecap=\"round\" style=\"stroke:black;stroke-width:1\" /><line x1=\"346.195\" y1=\"255.299\" x2=\"348.688\" y2=\"262.149\" stroke-linecap=\"round\" style=\"stroke:black;stroke-width:1\" /><line x1=\"348.688\" y1=\"262.149\" x2=\"354.936\" y2=\"269.595\" stroke-linecap=\"round\" style=\"stroke:black;stroke-width:1\" /><line x1=\"354.936\" y1=\"269.595\" x2=\"353.877\" y2=\"257.491\" stroke-linecap=\"round\" style=\"stroke:black;stroke-width:1\" /><line x1=\"353.877\" y1=\"257.491\" x2=\"351.384\" y2=\"250.641\" stroke-linecap=\"round\" style=\"stroke:black;stroke-width:1\" /><line x1=\"351.384\" y1=\"250.641\" x2=\"351.384\" y2=\"245.173\" stroke-linecap=\"round\" style=\"stroke:black;stroke-width:1\" /><line x1=\"351.384\" y1=\"245.173\" x2=\"351.384\" y2=\"250.641\" stroke-linecap=\"round\" style=\"stroke:black;stroke-width:1\" /><line x1=\"351.384\" y1=\"250.641\" x2=\"353.877\" y2=\"257.491\" stroke-linecap=\"round\" style=\"stroke:black;stroke-width:1\" /><line x1=\"353.877\" y1=\"257.491\" x2=\"356.235\" y2=\"248.689\" stroke-linecap=\"round\" style=\"stroke:black;stroke-width:1\" /><line x1=\"356.235\" y1=\"248.689\" x2=\"356.235\" y2=\"243.221\" stroke-linecap=\"round\" style=\"stroke:black;stroke-width:1\" /><line x1=\"356.235\" y1=\"243.221\" x2=\"356.235\" y2=\"248.689\" stroke-linecap=\"round\" style=\"stroke:black;stroke-width:1\" /><line x1=\"356.235\" y1=\"248.689\" x2=\"360.155\" y2=\"243.091\" stroke-linecap=\"round\" style=\"stroke:black;stroke-width:1\" /><line x1=\"360.155\" y1=\"243.091\" x2=\"364.354\" y2=\"240.151\" stroke-linecap=\"round\" style=\"stroke:black;stroke-width:1\" /><line x1=\"364.354\" y1=\"240.151\" x2=\"360.155\" y2=\"243.091\" stroke-linecap=\"round\" style=\"stroke:black;stroke-width:1\" /><line x1=\"360.155\" y1=\"243.091\" x2=\"356.235\" y2=\"248.689\" stroke-linecap=\"round\" style=\"stroke:black;stroke-width:1\" /><line x1=\"356.235\" y1=\"248.689\" x2=\"353.877\" y2=\"257.491\" stroke-linecap=\"round\" style=\"stroke:black;stroke-width:1\" /><line x1=\"353.877\" y1=\"257.491\" x2=\"354.936\" y2=\"269.595\" stroke-linecap=\"round\" style=\"stroke:black;stroke-width:1\" /><line x1=\"354.936\" y1=\"269.595\" x2=\"361.782\" y2=\"284.277\" stroke-linecap=\"round\" style=\"stroke:black;stroke-width:1\" /><line x1=\"361.782\" y1=\"284.277\" x2=\"365.298\" y2=\"264.335\" stroke-linecap=\"round\" style=\"stroke:black;stroke-width:1\" /><line x1=\"365.298\" y1=\"264.335\" x2=\"364.239\" y2=\"252.231\" stroke-linecap=\"round\" style=\"stroke:black;stroke-width:1\" /><line x1=\"364.239\" y1=\"252.231\" x2=\"361.746\" y2=\"245.381\" stroke-linecap=\"round\" style=\"stroke:black;stroke-width:1\" /><line x1=\"361.746\" y1=\"245.381\" x2=\"361.746\" y2=\"239.913\" stroke-linecap=\"round\" style=\"stroke:black;stroke-width:1\" /><line x1=\"361.746\" y1=\"239.913\" x2=\"361.746\" y2=\"245.381\" stroke-linecap=\"round\" style=\"stroke:black;stroke-width:1\" /><line x1=\"361.746\" y1=\"245.381\" x2=\"364.239\" y2=\"252.231\" stroke-linecap=\"round\" style=\"stroke:black;stroke-width:1\" /><line x1=\"364.239\" y1=\"252.231\" x2=\"366.597\" y2=\"243.429\" stroke-linecap=\"round\" style=\"stroke:black;stroke-width:1\" /><line x1=\"366.597\" y1=\"243.429\" x2=\"366.597\" y2=\"237.962\" stroke-linecap=\"round\" style=\"stroke:black;stroke-width:1\" /><line x1=\"366.597\" y1=\"237.962\" x2=\"366.597\" y2=\"243.429\" stroke-linecap=\"round\" style=\"stroke:black;stroke-width:1\" /><line x1=\"366.597\" y1=\"243.429\" x2=\"370.517\" y2=\"237.831\" stroke-linecap=\"round\" style=\"stroke:black;stroke-width:1\" /><line x1=\"370.517\" y1=\"237.831\" x2=\"374.716\" y2=\"234.891\" stroke-linecap=\"round\" style=\"stroke:black;stroke-width:1\" /><line x1=\"374.716\" y1=\"234.891\" x2=\"370.517\" y2=\"237.831\" stroke-linecap=\"round\" style=\"stroke:black;stroke-width:1\" /><line x1=\"370.517\" y1=\"237.831\" x2=\"366.597\" y2=\"243.429\" stroke-linecap=\"round\" style=\"stroke:black;stroke-width:1\" /><line x1=\"366.597\" y1=\"243.429\" x2=\"364.239\" y2=\"252.231\" stroke-linecap=\"round\" style=\"stroke:black;stroke-width:1\" /><line x1=\"364.239\" y1=\"252.231\" x2=\"365.298\" y2=\"264.335\" stroke-linecap=\"round\" style=\"stroke:black;stroke-width:1\" /><line x1=\"365.298\" y1=\"264.335\" x2=\"372.892\" y2=\"251.182\" stroke-linecap=\"round\" style=\"stroke:black;stroke-width:1\" /><line x1=\"372.892\" y1=\"251.182\" x2=\"375.25\" y2=\"242.38\" stroke-linecap=\"round\" style=\"stroke:black;stroke-width:1\" /><line x1=\"375.25\" y1=\"242.38\" x2=\"375.25\" y2=\"236.912\" stroke-linecap=\"round\" style=\"stroke:black;stroke-width:1\" /><line x1=\"375.25\" y1=\"236.912\" x2=\"375.25\" y2=\"242.38\" stroke-linecap=\"round\" style=\"stroke:black;stroke-width:1\" /><line x1=\"375.25\" y1=\"242.38\" x2=\"379.17\" y2=\"236.782\" stroke-linecap=\"round\" style=\"stroke:black;stroke-width:1\" /><line x1=\"379.17\" y1=\"236.782\" x2=\"383.369\" y2=\"233.842\" stroke-linecap=\"round\" style=\"stroke:black;stroke-width:1\" /><line x1=\"383.369\" y1=\"233.842\" x2=\"379.17\" y2=\"236.782\" stroke-linecap=\"round\" style=\"stroke:black;stroke-width:1\" /><line x1=\"379.17\" y1=\"236.782\" x2=\"375.25\" y2=\"242.38\" stroke-linecap=\"round\" style=\"stroke:black;stroke-width:1\" /><line x1=\"375.25\" y1=\"242.38\" x2=\"372.892\" y2=\"251.182\" stroke-linecap=\"round\" style=\"stroke:black;stroke-width:1\" /><line x1=\"372.892\" y1=\"251.182\" x2=\"381.618\" y2=\"243.86\" stroke-linecap=\"round\" style=\"stroke:black;stroke-width:1\" /><line x1=\"381.618\" y1=\"243.86\" x2=\"385.538\" y2=\"238.262\" stroke-linecap=\"round\" style=\"stroke:black;stroke-width:1\" /><line x1=\"385.538\" y1=\"238.262\" x2=\"389.737\" y2=\"235.322\" stroke-linecap=\"round\" style=\"stroke:black;stroke-width:1\" /><line x1=\"389.737\" y1=\"235.322\" x2=\"385.538\" y2=\"238.262\" stroke-linecap=\"round\" style=\"stroke:black;stroke-width:1\" /><line x1=\"385.538\" y1=\"238.262\" x2=\"381.618\" y2=\"243.86\" stroke-linecap=\"round\" style=\"stroke:black;stroke-width:1\" /><line x1=\"381.618\" y1=\"243.86\" x2=\"389.646\" y2=\"240.938\" stroke-linecap=\"round\" style=\"stroke:black;stroke-width:1\" /><line x1=\"389.646\" y1=\"240.938\" x2=\"393.845\" y2=\"237.998\" stroke-linecap=\"round\" style=\"stroke:black;stroke-width:1\" /><line x1=\"393.845\" y1=\"237.998\" x2=\"389.646\" y2=\"240.938\" stroke-linecap=\"round\" style=\"stroke:black;stroke-width:1\" /><line x1=\"389.646\" y1=\"240.938\" x2=\"396.053\" y2=\"240.938\" stroke-linecap=\"round\" style=\"stroke:black;stroke-width:1\" /><line x1=\"396.053\" y1=\"240.938\" x2=\"389.646\" y2=\"240.938\" stroke-linecap=\"round\" style=\"stroke:black;stroke-width:1\" /><line x1=\"389.646\" y1=\"240.938\" x2=\"381.618\" y2=\"243.86\" stroke-linecap=\"round\" style=\"stroke:black;stroke-width:1\" /><line x1=\"381.618\" y1=\"243.86\" x2=\"372.892\" y2=\"251.182\" stroke-linecap=\"round\" style=\"stroke:black;stroke-width:1\" /><line x1=\"372.892\" y1=\"251.182\" x2=\"365.298\" y2=\"264.335\" stroke-linecap=\"round\" style=\"stroke:black;stroke-width:1\" /><line x1=\"365.298\" y1=\"264.335\" x2=\"361.782\" y2=\"284.277\" stroke-linecap=\"round\" style=\"stroke:black;stroke-width:1\" /><line x1=\"361.782\" y1=\"284.277\" x2=\"366.471\" y2=\"310.867\" stroke-linecap=\"round\" style=\"stroke:black;stroke-width:1\" /><line x1=\"366.471\" y1=\"310.867\" x2=\"384.471\" y2=\"342.044\" stroke-linecap=\"round\" style=\"stroke:black;stroke-width:1\" /><line x1=\"384.471\" y1=\"342.044\" x2=\"388.393\" y2=\"297.215\" stroke-linecap=\"round\" style=\"stroke:black;stroke-width:1\" /><line x1=\"388.393\" y1=\"297.215\" x2=\"383.704\" y2=\"270.625\" stroke-linecap=\"round\" style=\"stroke:black;stroke-width:1\" /><line x1=\"383.704\" y1=\"270.625\" x2=\"376.858\" y2=\"255.943\" stroke-linecap=\"round\" style=\"stroke:black;stroke-width:1\" /><line x1=\"376.858\" y1=\"255.943\" x2=\"370.61\" y2=\"248.497\" stroke-linecap=\"round\" style=\"stroke:black;stroke-width:1\" /><line x1=\"370.61\" y1=\"248.497\" x2=\"365.833\" y2=\"245.152\" stroke-linecap=\"round\" style=\"stroke:black;stroke-width:1\" /><line x1=\"365.833\" y1=\"245.152\" x2=\"370.61\" y2=\"248.497\" stroke-linecap=\"round\" style=\"stroke:black;stroke-width:1\" /><line x1=\"370.61\" y1=\"248.497\" x2=\"368.117\" y2=\"241.647\" stroke-linecap=\"round\" style=\"stroke:black;stroke-width:1\" /><line x1=\"368.117\" y1=\"241.647\" x2=\"368.117\" y2=\"236.179\" stroke-linecap=\"round\" style=\"stroke:black;stroke-width:1\" /><line x1=\"368.117\" y1=\"236.179\" x2=\"368.117\" y2=\"241.647\" stroke-linecap=\"round\" style=\"stroke:black;stroke-width:1\" /><line x1=\"368.117\" y1=\"241.647\" x2=\"370.61\" y2=\"248.497\" stroke-linecap=\"round\" style=\"stroke:black;stroke-width:1\" /><line x1=\"370.61\" y1=\"248.497\" x2=\"376.858\" y2=\"255.943\" stroke-linecap=\"round\" style=\"stroke:black;stroke-width:1\" /><line x1=\"376.858\" y1=\"255.943\" x2=\"375.799\" y2=\"243.839\" stroke-linecap=\"round\" style=\"stroke:black;stroke-width:1\" /><line x1=\"375.799\" y1=\"243.839\" x2=\"373.306\" y2=\"236.989\" stroke-linecap=\"round\" style=\"stroke:black;stroke-width:1\" /><line x1=\"373.306\" y1=\"236.989\" x2=\"373.306\" y2=\"231.522\" stroke-linecap=\"round\" style=\"stroke:black;stroke-width:1\" /><line x1=\"373.306\" y1=\"231.522\" x2=\"373.306\" y2=\"236.989\" stroke-linecap=\"round\" style=\"stroke:black;stroke-width:1\" /><line x1=\"373.306\" y1=\"236.989\" x2=\"375.799\" y2=\"243.839\" stroke-linecap=\"round\" style=\"stroke:black;stroke-width:1\" /><line x1=\"375.799\" y1=\"243.839\" x2=\"378.157\" y2=\"235.037\" stroke-linecap=\"round\" style=\"stroke:black;stroke-width:1\" /><line x1=\"378.157\" y1=\"235.037\" x2=\"378.157\" y2=\"229.57\" stroke-linecap=\"round\" style=\"stroke:black;stroke-width:1\" /><line x1=\"378.157\" y1=\"229.57\" x2=\"378.157\" y2=\"235.037\" stroke-linecap=\"round\" style=\"stroke:black;stroke-width:1\" /><line x1=\"378.157\" y1=\"235.037\" x2=\"382.077\" y2=\"229.439\" stroke-linecap=\"round\" style=\"stroke:black;stroke-width:1\" /><line x1=\"382.077\" y1=\"229.439\" x2=\"386.276\" y2=\"226.499\" stroke-linecap=\"round\" style=\"stroke:black;stroke-width:1\" /><line x1=\"386.276\" y1=\"226.499\" x2=\"382.077\" y2=\"229.439\" stroke-linecap=\"round\" style=\"stroke:black;stroke-width:1\" /><line x1=\"382.077\" y1=\"229.439\" x2=\"378.157\" y2=\"235.037\" stroke-linecap=\"round\" style=\"stroke:black;stroke-width:1\" /><line x1=\"378.157\" y1=\"235.037\" x2=\"375.799\" y2=\"243.839\" stroke-linecap=\"round\" style=\"stroke:black;stroke-width:1\" /><line x1=\"375.799\" y1=\"243.839\" x2=\"376.858\" y2=\"255.943\" stroke-linecap=\"round\" style=\"stroke:black;stroke-width:1\" /><line x1=\"376.858\" y1=\"255.943\" x2=\"383.704\" y2=\"270.625\" stroke-linecap=\"round\" style=\"stroke:black;stroke-width:1\" /><line x1=\"383.704\" y1=\"270.625\" x2=\"387.22\" y2=\"250.683\" stroke-linecap=\"round\" style=\"stroke:black;stroke-width:1\" /><line x1=\"387.22\" y1=\"250.683\" x2=\"386.161\" y2=\"238.579\" stroke-linecap=\"round\" style=\"stroke:black;stroke-width:1\" /><line x1=\"386.161\" y1=\"238.579\" x2=\"383.668\" y2=\"231.729\" stroke-linecap=\"round\" style=\"stroke:black;stroke-width:1\" /><line x1=\"383.668\" y1=\"231.729\" x2=\"383.668\" y2=\"226.262\" stroke-linecap=\"round\" style=\"stroke:black;stroke-width:1\" /><line x1=\"383.668\" y1=\"226.262\" x2=\"383.668\" y2=\"231.73\" stroke-linecap=\"round\" style=\"stroke:black;stroke-width:1\" /><line x1=\"383.668\" y1=\"231.73\" x2=\"386.161\" y2=\"238.58\" stroke-linecap=\"round\" style=\"stroke:black;stroke-width:1\" /><line x1=\"386.161\" y1=\"238.58\" x2=\"388.519\" y2=\"229.778\" stroke-linecap=\"round\" style=\"stroke:black;stroke-width:1\" /><line x1=\"388.519\" y1=\"229.778\" x2=\"388.519\" y2=\"224.31\" stroke-linecap=\"round\" style=\"stroke:black;stroke-width:1\" /><line x1=\"388.519\" y1=\"224.31\" x2=\"388.519\" y2=\"229.778\" stroke-linecap=\"round\" style=\"stroke:black;stroke-width:1\" /><line x1=\"388.519\" y1=\"229.778\" x2=\"392.439\" y2=\"224.18\" stroke-linecap=\"round\" style=\"stroke:black;stroke-width:1\" /><line x1=\"392.439\" y1=\"224.18\" x2=\"396.638\" y2=\"221.24\" stroke-linecap=\"round\" style=\"stroke:black;stroke-width:1\" /><line x1=\"396.638\" y1=\"221.24\" x2=\"392.439\" y2=\"224.18\" stroke-linecap=\"round\" style=\"stroke:black;stroke-width:1\" /><line x1=\"392.439\" y1=\"224.18\" x2=\"388.519\" y2=\"229.778\" stroke-linecap=\"round\" style=\"stroke:black;stroke-width:1\" /><line x1=\"388.519\" y1=\"229.778\" x2=\"386.161\" y2=\"238.58\" stroke-linecap=\"round\" style=\"stroke:black;stroke-width:1\" /><line x1=\"386.161\" y1=\"238.58\" x2=\"387.22\" y2=\"250.684\" stroke-linecap=\"round\" style=\"stroke:black;stroke-width:1\" /><line x1=\"387.22\" y1=\"250.684\" x2=\"394.814\" y2=\"237.531\" stroke-linecap=\"round\" style=\"stroke:black;stroke-width:1\" /><line x1=\"394.814\" y1=\"237.531\" x2=\"397.172\" y2=\"228.729\" stroke-linecap=\"round\" style=\"stroke:black;stroke-width:1\" /><line x1=\"397.172\" y1=\"228.729\" x2=\"397.172\" y2=\"223.262\" stroke-linecap=\"round\" style=\"stroke:black;stroke-width:1\" /><line x1=\"397.172\" y1=\"223.262\" x2=\"397.172\" y2=\"228.73\" stroke-linecap=\"round\" style=\"stroke:black;stroke-width:1\" /><line x1=\"397.172\" y1=\"228.73\" x2=\"401.092\" y2=\"223.132\" stroke-linecap=\"round\" style=\"stroke:black;stroke-width:1\" /><line x1=\"401.092\" y1=\"223.132\" x2=\"405.291\" y2=\"220.192\" stroke-linecap=\"round\" style=\"stroke:black;stroke-width:1\" /><line x1=\"405.291\" y1=\"220.192\" x2=\"401.092\" y2=\"223.132\" stroke-linecap=\"round\" style=\"stroke:black;stroke-width:1\" /><line x1=\"401.092\" y1=\"223.132\" x2=\"397.172\" y2=\"228.73\" stroke-linecap=\"round\" style=\"stroke:black;stroke-width:1\" /><line x1=\"397.172\" y1=\"228.73\" x2=\"394.814\" y2=\"237.532\" stroke-linecap=\"round\" style=\"stroke:black;stroke-width:1\" /><line x1=\"394.814\" y1=\"237.532\" x2=\"403.54\" y2=\"230.21\" stroke-linecap=\"round\" style=\"stroke:black;stroke-width:1\" /><line x1=\"403.54\" y1=\"230.21\" x2=\"407.46\" y2=\"224.612\" stroke-linecap=\"round\" style=\"stroke:black;stroke-width:1\" /><line x1=\"407.46\" y1=\"224.612\" x2=\"411.659\" y2=\"221.672\" stroke-linecap=\"round\" style=\"stroke:black;stroke-width:1\" /><line x1=\"411.659\" y1=\"221.672\" x2=\"407.46\" y2=\"224.612\" stroke-linecap=\"round\" style=\"stroke:black;stroke-width:1\" /><line x1=\"407.46\" y1=\"224.612\" x2=\"403.54\" y2=\"230.21\" stroke-linecap=\"round\" style=\"stroke:black;stroke-width:1\" /><line x1=\"403.54\" y1=\"230.21\" x2=\"411.568\" y2=\"227.288\" stroke-linecap=\"round\" style=\"stroke:black;stroke-width:1\" /><line x1=\"411.568\" y1=\"227.288\" x2=\"415.767\" y2=\"224.348\" stroke-linecap=\"round\" style=\"stroke:black;stroke-width:1\" /><line x1=\"415.767\" y1=\"224.348\" x2=\"411.568\" y2=\"227.288\" stroke-linecap=\"round\" style=\"stroke:black;stroke-width:1\" /><line x1=\"411.568\" y1=\"227.288\" x2=\"417.975\" y2=\"227.288\" stroke-linecap=\"round\" style=\"stroke:black;stroke-width:1\" /><line x1=\"417.975\" y1=\"227.288\" x2=\"411.568\" y2=\"227.288\" stroke-linecap=\"round\" style=\"stroke:black;stroke-width:1\" /><line x1=\"411.568\" y1=\"227.288\" x2=\"403.54\" y2=\"230.21\" stroke-linecap=\"round\" style=\"stroke:black;stroke-width:1\" /><line x1=\"403.54\" y1=\"230.21\" x2=\"394.814\" y2=\"237.532\" stroke-linecap=\"round\" style=\"stroke:black;stroke-width:1\" /><line x1=\"394.814\" y1=\"237.532\" x2=\"387.22\" y2=\"250.685\" stroke-linecap=\"round\" style=\"stroke:black;stroke-width:1\" /><line x1=\"387.22\" y1=\"250.685\" x2=\"383.704\" y2=\"270.627\" stroke-linecap=\"round\" style=\"stroke:black;stroke-width:1\" /><line x1=\"383.704\" y1=\"270.627\" x2=\"388.393\" y2=\"297.217\" stroke-linecap=\"round\" style=\"stroke:black;stroke-width:1\" /><line x1=\"388.393\" y1=\"297.217\" x2=\"402.656\" y2=\"266.629\" stroke-linecap=\"round\" style=\"stroke:black;stroke-width:1\" /><line x1=\"402.656\" y1=\"266.629\" x2=\"406.172\" y2=\"246.687\" stroke-linecap=\"round\" style=\"stroke:black;stroke-width:1\" /><line x1=\"406.172\" y1=\"246.687\" x2=\"405.113\" y2=\"234.583\" stroke-linecap=\"round\" style=\"stroke:black;stroke-width:1\" /><line x1=\"405.113\" y1=\"234.583\" x2=\"402.62\" y2=\"227.733\" stroke-linecap=\"round\" style=\"stroke:black;stroke-width:1\" /><line x1=\"402.62\" y1=\"227.733\" x2=\"402.62\" y2=\"222.266\" stroke-linecap=\"round\" style=\"stroke:black;stroke-width:1\" /><line x1=\"402.62\" y1=\"222.266\" x2=\"402.62\" y2=\"227.733\" stroke-linecap=\"round\" style=\"stroke:black;stroke-width:1\" /><line x1=\"402.62\" y1=\"227.733\" x2=\"405.113\" y2=\"234.583\" stroke-linecap=\"round\" style=\"stroke:black;stroke-width:1\" /><line x1=\"405.113\" y1=\"234.583\" x2=\"407.471\" y2=\"225.781\" stroke-linecap=\"round\" style=\"stroke:black;stroke-width:1\" /><line x1=\"407.471\" y1=\"225.781\" x2=\"407.471\" y2=\"220.314\" stroke-linecap=\"round\" style=\"stroke:black;stroke-width:1\" /><line x1=\"407.471\" y1=\"220.314\" x2=\"407.471\" y2=\"225.781\" stroke-linecap=\"round\" style=\"stroke:black;stroke-width:1\" /><line x1=\"407.471\" y1=\"225.781\" x2=\"411.391\" y2=\"220.183\" stroke-linecap=\"round\" style=\"stroke:black;stroke-width:1\" /><line x1=\"411.391\" y1=\"220.183\" x2=\"415.59\" y2=\"217.243\" stroke-linecap=\"round\" style=\"stroke:black;stroke-width:1\" /><line x1=\"415.59\" y1=\"217.243\" x2=\"411.391\" y2=\"220.183\" stroke-linecap=\"round\" style=\"stroke:black;stroke-width:1\" /><line x1=\"411.391\" y1=\"220.183\" x2=\"407.471\" y2=\"225.781\" stroke-linecap=\"round\" style=\"stroke:black;stroke-width:1\" /><line x1=\"407.471\" y1=\"225.781\" x2=\"405.113\" y2=\"234.583\" stroke-linecap=\"round\" style=\"stroke:black;stroke-width:1\" /><line x1=\"405.113\" y1=\"234.583\" x2=\"406.172\" y2=\"246.687\" stroke-linecap=\"round\" style=\"stroke:black;stroke-width:1\" /><line x1=\"406.172\" y1=\"246.687\" x2=\"413.766\" y2=\"233.534\" stroke-linecap=\"round\" style=\"stroke:black;stroke-width:1\" /><line x1=\"413.766\" y1=\"233.534\" x2=\"416.124\" y2=\"224.732\" stroke-linecap=\"round\" style=\"stroke:black;stroke-width:1\" /><line x1=\"416.124\" y1=\"224.732\" x2=\"416.124\" y2=\"219.264\" stroke-linecap=\"round\" style=\"stroke:black;stroke-width:1\" /><line x1=\"416.124\" y1=\"219.264\" x2=\"416.124\" y2=\"224.732\" stroke-linecap=\"round\" style=\"stroke:black;stroke-width:1\" /><line x1=\"416.124\" y1=\"224.732\" x2=\"420.044\" y2=\"219.134\" stroke-linecap=\"round\" style=\"stroke:black;stroke-width:1\" /><line x1=\"420.044\" y1=\"219.134\" x2=\"424.243\" y2=\"216.194\" stroke-linecap=\"round\" style=\"stroke:black;stroke-width:1\" /><line x1=\"424.243\" y1=\"216.194\" x2=\"420.044\" y2=\"219.134\" stroke-linecap=\"round\" style=\"stroke:black;stroke-width:1\" /><line x1=\"420.044\" y1=\"219.134\" x2=\"416.124\" y2=\"224.732\" stroke-linecap=\"round\" style=\"stroke:black;stroke-width:1\" /><line x1=\"416.124\" y1=\"224.732\" x2=\"413.766\" y2=\"233.534\" stroke-linecap=\"round\" style=\"stroke:black;stroke-width:1\" /><line x1=\"413.766\" y1=\"233.534\" x2=\"422.492\" y2=\"226.212\" stroke-linecap=\"round\" style=\"stroke:black;stroke-width:1\" /><line x1=\"422.492\" y1=\"226.212\" x2=\"426.412\" y2=\"220.614\" stroke-linecap=\"round\" style=\"stroke:black;stroke-width:1\" /><line x1=\"426.412\" y1=\"220.614\" x2=\"430.611\" y2=\"217.674\" stroke-linecap=\"round\" style=\"stroke:black;stroke-width:1\" /><line x1=\"430.611\" y1=\"217.674\" x2=\"426.412\" y2=\"220.614\" stroke-linecap=\"round\" style=\"stroke:black;stroke-width:1\" /><line x1=\"426.412\" y1=\"220.614\" x2=\"422.492\" y2=\"226.212\" stroke-linecap=\"round\" style=\"stroke:black;stroke-width:1\" /><line x1=\"422.492\" y1=\"226.212\" x2=\"430.52\" y2=\"223.29\" stroke-linecap=\"round\" style=\"stroke:black;stroke-width:1\" /><line x1=\"430.52\" y1=\"223.29\" x2=\"434.719\" y2=\"220.35\" stroke-linecap=\"round\" style=\"stroke:black;stroke-width:1\" /><line x1=\"434.719\" y1=\"220.35\" x2=\"430.52\" y2=\"223.29\" stroke-linecap=\"round\" style=\"stroke:black;stroke-width:1\" /><line x1=\"430.52\" y1=\"223.29\" x2=\"436.927\" y2=\"223.29\" stroke-linecap=\"round\" style=\"stroke:black;stroke-width:1\" /><line x1=\"436.927\" y1=\"223.29\" x2=\"430.52\" y2=\"223.29\" stroke-linecap=\"round\" style=\"stroke:black;stroke-width:1\" /><line x1=\"430.52\" y1=\"223.29\" x2=\"422.492\" y2=\"226.212\" stroke-linecap=\"round\" style=\"stroke:black;stroke-width:1\" /><line x1=\"422.492\" y1=\"226.212\" x2=\"413.766\" y2=\"233.534\" stroke-linecap=\"round\" style=\"stroke:black;stroke-width:1\" /><line x1=\"413.766\" y1=\"233.534\" x2=\"406.172\" y2=\"246.687\" stroke-linecap=\"round\" style=\"stroke:black;stroke-width:1\" /><line x1=\"406.172\" y1=\"246.687\" x2=\"402.656\" y2=\"266.629\" stroke-linecap=\"round\" style=\"stroke:black;stroke-width:1\" /><line x1=\"402.656\" y1=\"266.629\" x2=\"420.555\" y2=\"248.73\" stroke-linecap=\"round\" style=\"stroke:black;stroke-width:1\" /><line x1=\"420.555\" y1=\"248.73\" x2=\"428.149\" y2=\"235.577\" stroke-linecap=\"round\" style=\"stroke:black;stroke-width:1\" /><line x1=\"428.149\" y1=\"235.577\" x2=\"430.507\" y2=\"226.775\" stroke-linecap=\"round\" style=\"stroke:black;stroke-width:1\" /><line x1=\"430.507\" y1=\"226.775\" x2=\"430.507\" y2=\"221.308\" stroke-linecap=\"round\" style=\"stroke:black;stroke-width:1\" /><line x1=\"430.507\" y1=\"221.308\" x2=\"430.507\" y2=\"226.775\" stroke-linecap=\"round\" style=\"stroke:black;stroke-width:1\" /><line x1=\"430.507\" y1=\"226.775\" x2=\"434.427\" y2=\"221.177\" stroke-linecap=\"round\" style=\"stroke:black;stroke-width:1\" /><line x1=\"434.427\" y1=\"221.177\" x2=\"438.626\" y2=\"218.237\" stroke-linecap=\"round\" style=\"stroke:black;stroke-width:1\" /><line x1=\"438.626\" y1=\"218.237\" x2=\"434.427\" y2=\"221.177\" stroke-linecap=\"round\" style=\"stroke:black;stroke-width:1\" /><line x1=\"434.427\" y1=\"221.177\" x2=\"430.507\" y2=\"226.775\" stroke-linecap=\"round\" style=\"stroke:black;stroke-width:1\" /><line x1=\"430.507\" y1=\"226.775\" x2=\"428.149\" y2=\"235.577\" stroke-linecap=\"round\" style=\"stroke:black;stroke-width:1\" /><line x1=\"428.149\" y1=\"235.577\" x2=\"436.875\" y2=\"228.255\" stroke-linecap=\"round\" style=\"stroke:black;stroke-width:1\" /><line x1=\"436.875\" y1=\"228.255\" x2=\"440.795\" y2=\"222.657\" stroke-linecap=\"round\" style=\"stroke:black;stroke-width:1\" /><line x1=\"440.795\" y1=\"222.657\" x2=\"444.994\" y2=\"219.717\" stroke-linecap=\"round\" style=\"stroke:black;stroke-width:1\" /><line x1=\"444.994\" y1=\"219.717\" x2=\"440.795\" y2=\"222.657\" stroke-linecap=\"round\" style=\"stroke:black;stroke-width:1\" /><line x1=\"440.795\" y1=\"222.657\" x2=\"436.875\" y2=\"228.255\" stroke-linecap=\"round\" style=\"stroke:black;stroke-width:1\" /><line x1=\"436.875\" y1=\"228.255\" x2=\"444.903\" y2=\"225.333\" stroke-linecap=\"round\" style=\"stroke:black;stroke-width:1\" /><line x1=\"444.903\" y1=\"225.333\" x2=\"449.102\" y2=\"222.393\" stroke-linecap=\"round\" style=\"stroke:black;stroke-width:1\" /><line x1=\"449.102\" y1=\"222.393\" x2=\"444.903\" y2=\"225.333\" stroke-linecap=\"round\" style=\"stroke:black;stroke-width:1\" /><line x1=\"444.903\" y1=\"225.333\" x2=\"451.31\" y2=\"225.333\" stroke-linecap=\"round\" style=\"stroke:black;stroke-width:1\" /><line x1=\"451.31\" y1=\"225.333\" x2=\"444.903\" y2=\"225.333\" stroke-linecap=\"round\" style=\"stroke:black;stroke-width:1\" /><line x1=\"444.903\" y1=\"225.333\" x2=\"436.875\" y2=\"228.255\" stroke-linecap=\"round\" style=\"stroke:black;stroke-width:1\" /><line x1=\"436.875\" y1=\"228.255\" x2=\"428.149\" y2=\"235.577\" stroke-linecap=\"round\" style=\"stroke:black;stroke-width:1\" /><line x1=\"428.149\" y1=\"235.577\" x2=\"420.555\" y2=\"248.73\" stroke-linecap=\"round\" style=\"stroke:black;stroke-width:1\" /><line x1=\"420.555\" y1=\"248.73\" x2=\"437.761\" y2=\"240.707\" stroke-linecap=\"round\" style=\"stroke:black;stroke-width:1\" /><line x1=\"437.761\" y1=\"240.707\" x2=\"446.487\" y2=\"233.385\" stroke-linecap=\"round\" style=\"stroke:black;stroke-width:1\" /><line x1=\"446.487\" y1=\"233.385\" x2=\"450.407\" y2=\"227.787\" stroke-linecap=\"round\" style=\"stroke:black;stroke-width:1\" /><line x1=\"450.407\" y1=\"227.787\" x2=\"454.606\" y2=\"224.847\" stroke-linecap=\"round\" style=\"stroke:black;stroke-width:1\" /><line x1=\"454.606\" y1=\"224.847\" x2=\"450.407\" y2=\"227.787\" stroke-linecap=\"round\" style=\"stroke:black;stroke-width:1\" /><line x1=\"450.407\" y1=\"227.787\" x2=\"446.487\" y2=\"233.385\" stroke-linecap=\"round\" style=\"stroke:black;stroke-width:1\" /><line x1=\"446.487\" y1=\"233.385\" x2=\"454.515\" y2=\"230.463\" stroke-linecap=\"round\" style=\"stroke:black;stroke-width:1\" /><line x1=\"454.515\" y1=\"230.463\" x2=\"458.714\" y2=\"227.523\" stroke-linecap=\"round\" style=\"stroke:black;stroke-width:1\" /><line x1=\"458.714\" y1=\"227.523\" x2=\"454.515\" y2=\"230.463\" stroke-linecap=\"round\" style=\"stroke:black;stroke-width:1\" /><line x1=\"454.515\" y1=\"230.463\" x2=\"460.922\" y2=\"230.463\" stroke-linecap=\"round\" style=\"stroke:black;stroke-width:1\" /><line x1=\"460.922\" y1=\"230.463\" x2=\"454.515\" y2=\"230.463\" stroke-linecap=\"round\" style=\"stroke:black;stroke-width:1\" /><line x1=\"454.515\" y1=\"230.463\" x2=\"446.487\" y2=\"233.385\" stroke-linecap=\"round\" style=\"stroke:black;stroke-width:1\" /><line x1=\"446.487\" y1=\"233.385\" x2=\"437.761\" y2=\"240.707\" stroke-linecap=\"round\" style=\"stroke:black;stroke-width:1\" /><line x1=\"437.761\" y1=\"240.707\" x2=\"451.945\" y2=\"239.466\" stroke-linecap=\"round\" style=\"stroke:black;stroke-width:1\" /><line x1=\"451.945\" y1=\"239.466\" x2=\"459.973\" y2=\"236.544\" stroke-linecap=\"round\" style=\"stroke:black;stroke-width:1\" /><line x1=\"459.973\" y1=\"236.544\" x2=\"464.172\" y2=\"233.604\" stroke-linecap=\"round\" style=\"stroke:black;stroke-width:1\" /><line x1=\"464.172\" y1=\"233.604\" x2=\"459.973\" y2=\"236.544\" stroke-linecap=\"round\" style=\"stroke:black;stroke-width:1\" /><line x1=\"459.973\" y1=\"236.544\" x2=\"466.38\" y2=\"236.544\" stroke-linecap=\"round\" style=\"stroke:black;stroke-width:1\" /><line x1=\"466.38\" y1=\"236.544\" x2=\"459.973\" y2=\"236.544\" stroke-linecap=\"round\" style=\"stroke:black;stroke-width:1\" /><line x1=\"459.973\" y1=\"236.544\" x2=\"451.945\" y2=\"239.466\" stroke-linecap=\"round\" style=\"stroke:black;stroke-width:1\" /><line x1=\"451.945\" y1=\"239.466\" x2=\"462.26\" y2=\"242.23\" stroke-linecap=\"round\" style=\"stroke:black;stroke-width:1\" /><line x1=\"462.26\" y1=\"242.23\" x2=\"468.667\" y2=\"242.23\" stroke-linecap=\"round\" style=\"stroke:black;stroke-width:1\" /><line x1=\"468.667\" y1=\"242.23\" x2=\"462.26\" y2=\"242.23\" stroke-linecap=\"round\" style=\"stroke:black;stroke-width:1\" /><line x1=\"462.26\" y1=\"242.23\" x2=\"468.821\" y2=\"246.824\" stroke-linecap=\"round\" style=\"stroke:black;stroke-width:1\" /><line x1=\"468.821\" y1=\"246.824\" x2=\"472.266\" y2=\"251.744\" stroke-linecap=\"round\" style=\"stroke:black;stroke-width:1\" /><line x1=\"472.266\" y1=\"251.744\" x2=\"468.821\" y2=\"246.824\" stroke-linecap=\"round\" style=\"stroke:black;stroke-width:1\" /><line x1=\"468.821\" y1=\"246.824\" x2=\"462.26\" y2=\"242.23\" stroke-linecap=\"round\" style=\"stroke:black;stroke-width:1\" /><line x1=\"462.26\" y1=\"242.23\" x2=\"451.945\" y2=\"239.466\" stroke-linecap=\"round\" style=\"stroke:black;stroke-width:1\" /><line x1=\"451.945\" y1=\"239.466\" x2=\"437.761\" y2=\"240.707\" stroke-linecap=\"round\" style=\"stroke:black;stroke-width:1\" /><line x1=\"437.761\" y1=\"240.707\" x2=\"420.555\" y2=\"248.73\" stroke-linecap=\"round\" style=\"stroke:black;stroke-width:1\" /><line x1=\"420.555\" y1=\"248.73\" x2=\"402.656\" y2=\"266.629\" stroke-linecap=\"round\" style=\"stroke:black;stroke-width:1\" /><line x1=\"402.656\" y1=\"266.629\" x2=\"388.393\" y2=\"297.217\" stroke-linecap=\"round\" style=\"stroke:black;stroke-width:1\" /><line x1=\"388.393\" y1=\"297.217\" x2=\"384.471\" y2=\"342.046\" stroke-linecap=\"round\" style=\"stroke:black;stroke-width:1\" /><line x1=\"384.471\" y1=\"342.046\" x2=\"400.0\" y2=\"400.002\" stroke-linecap=\"round\" style=\"stroke:black;stroke-width:1\" /><line x1=\"400.0\" y1=\"400.002\" x2=\"425.652\" y2=\"329.525\" stroke-linecap=\"round\" style=\"stroke:black;stroke-width:1\" /><line x1=\"425.652\" y1=\"329.525\" x2=\"429.574\" y2=\"284.696\" stroke-linecap=\"round\" style=\"stroke:black;stroke-width:1\" /><line x1=\"429.574\" y1=\"284.696\" x2=\"424.885\" y2=\"258.106\" stroke-linecap=\"round\" style=\"stroke:black;stroke-width:1\" /><line x1=\"424.885\" y1=\"258.106\" x2=\"418.039\" y2=\"243.424\" stroke-linecap=\"round\" style=\"stroke:black;stroke-width:1\" /><line x1=\"418.039\" y1=\"243.424\" x2=\"411.791\" y2=\"235.978\" stroke-linecap=\"round\" style=\"stroke:black;stroke-width:1\" /><line x1=\"411.791\" y1=\"235.978\" x2=\"407.014\" y2=\"232.633\" stroke-linecap=\"round\" style=\"stroke:black;stroke-width:1\" /><line x1=\"407.014\" y1=\"232.633\" x2=\"411.791\" y2=\"235.978\" stroke-linecap=\"round\" style=\"stroke:black;stroke-width:1\" /><line x1=\"411.791\" y1=\"235.978\" x2=\"409.298\" y2=\"229.128\" stroke-linecap=\"round\" style=\"stroke:black;stroke-width:1\" /><line x1=\"409.298\" y1=\"229.128\" x2=\"409.298\" y2=\"223.66\" stroke-linecap=\"round\" style=\"stroke:black;stroke-width:1\" /><line x1=\"409.298\" y1=\"223.66\" x2=\"409.298\" y2=\"229.127\" stroke-linecap=\"round\" style=\"stroke:black;stroke-width:1\" /><line x1=\"409.298\" y1=\"229.127\" x2=\"411.791\" y2=\"235.977\" stroke-linecap=\"round\" style=\"stroke:black;stroke-width:1\" /><line x1=\"411.791\" y1=\"235.977\" x2=\"418.039\" y2=\"243.423\" stroke-linecap=\"round\" style=\"stroke:black;stroke-width:1\" /><line x1=\"418.039\" y1=\"243.423\" x2=\"416.98\" y2=\"231.319\" stroke-linecap=\"round\" style=\"stroke:black;stroke-width:1\" /><line x1=\"416.98\" y1=\"231.319\" x2=\"414.487\" y2=\"224.469\" stroke-linecap=\"round\" style=\"stroke:black;stroke-width:1\" /><line x1=\"414.487\" y1=\"224.469\" x2=\"414.487\" y2=\"219.001\" stroke-linecap=\"round\" style=\"stroke:black;stroke-width:1\" /><line x1=\"414.487\" y1=\"219.001\" x2=\"414.487\" y2=\"224.469\" stroke-linecap=\"round\" style=\"stroke:black;stroke-width:1\" /><line x1=\"414.487\" y1=\"224.469\" x2=\"416.98\" y2=\"231.319\" stroke-linecap=\"round\" style=\"stroke:black;stroke-width:1\" /><line x1=\"416.98\" y1=\"231.319\" x2=\"419.338\" y2=\"222.517\" stroke-linecap=\"round\" style=\"stroke:black;stroke-width:1\" /><line x1=\"419.338\" y1=\"222.517\" x2=\"419.338\" y2=\"217.049\" stroke-linecap=\"round\" style=\"stroke:black;stroke-width:1\" /><line x1=\"419.338\" y1=\"217.049\" x2=\"419.338\" y2=\"222.517\" stroke-linecap=\"round\" style=\"stroke:black;stroke-width:1\" /><line x1=\"419.338\" y1=\"222.517\" x2=\"423.258\" y2=\"216.919\" stroke-linecap=\"round\" style=\"stroke:black;stroke-width:1\" /><line x1=\"423.258\" y1=\"216.919\" x2=\"427.457\" y2=\"213.979\" stroke-linecap=\"round\" style=\"stroke:black;stroke-width:1\" /><line x1=\"427.457\" y1=\"213.979\" x2=\"423.258\" y2=\"216.919\" stroke-linecap=\"round\" style=\"stroke:black;stroke-width:1\" /><line x1=\"423.258\" y1=\"216.919\" x2=\"419.338\" y2=\"222.517\" stroke-linecap=\"round\" style=\"stroke:black;stroke-width:1\" /><line x1=\"419.338\" y1=\"222.517\" x2=\"416.98\" y2=\"231.319\" stroke-linecap=\"round\" style=\"stroke:black;stroke-width:1\" /><line x1=\"416.98\" y1=\"231.319\" x2=\"418.039\" y2=\"243.423\" stroke-linecap=\"round\" style=\"stroke:black;stroke-width:1\" /><line x1=\"418.039\" y1=\"243.423\" x2=\"424.885\" y2=\"258.105\" stroke-linecap=\"round\" style=\"stroke:black;stroke-width:1\" /><line x1=\"424.885\" y1=\"258.105\" x2=\"428.401\" y2=\"238.163\" stroke-linecap=\"round\" style=\"stroke:black;stroke-width:1\" /><line x1=\"428.401\" y1=\"238.163\" x2=\"427.342\" y2=\"226.059\" stroke-linecap=\"round\" style=\"stroke:black;stroke-width:1\" /><line x1=\"427.342\" y1=\"226.059\" x2=\"424.849\" y2=\"219.209\" stroke-linecap=\"round\" style=\"stroke:black;stroke-width:1\" /><line x1=\"424.849\" y1=\"219.209\" x2=\"424.849\" y2=\"213.742\" stroke-linecap=\"round\" style=\"stroke:black;stroke-width:1\" /><line x1=\"424.849\" y1=\"213.742\" x2=\"424.849\" y2=\"219.209\" stroke-linecap=\"round\" style=\"stroke:black;stroke-width:1\" /><line x1=\"424.849\" y1=\"219.209\" x2=\"427.342\" y2=\"226.059\" stroke-linecap=\"round\" style=\"stroke:black;stroke-width:1\" /><line x1=\"427.342\" y1=\"226.059\" x2=\"429.7\" y2=\"217.257\" stroke-linecap=\"round\" style=\"stroke:black;stroke-width:1\" /><line x1=\"429.7\" y1=\"217.257\" x2=\"429.7\" y2=\"211.79\" stroke-linecap=\"round\" style=\"stroke:black;stroke-width:1\" /><line x1=\"429.7\" y1=\"211.79\" x2=\"429.7\" y2=\"217.257\" stroke-linecap=\"round\" style=\"stroke:black;stroke-width:1\" /><line x1=\"429.7\" y1=\"217.257\" x2=\"433.62\" y2=\"211.659\" stroke-linecap=\"round\" style=\"stroke:black;stroke-width:1\" /><line x1=\"433.62\" y1=\"211.659\" x2=\"437.819\" y2=\"208.719\" stroke-linecap=\"round\" style=\"stroke:black;stroke-width:1\" /><line x1=\"437.819\" y1=\"208.719\" x2=\"433.62\" y2=\"211.659\" stroke-linecap=\"round\" style=\"stroke:black;stroke-width:1\" /><line x1=\"433.62\" y1=\"211.659\" x2=\"429.7\" y2=\"217.257\" stroke-linecap=\"round\" style=\"stroke:black;stroke-width:1\" /><line x1=\"429.7\" y1=\"217.257\" x2=\"427.342\" y2=\"226.059\" stroke-linecap=\"round\" style=\"stroke:black;stroke-width:1\" /><line x1=\"427.342\" y1=\"226.059\" x2=\"428.401\" y2=\"238.163\" stroke-linecap=\"round\" style=\"stroke:black;stroke-width:1\" /><line x1=\"428.401\" y1=\"238.163\" x2=\"435.995\" y2=\"225.01\" stroke-linecap=\"round\" style=\"stroke:black;stroke-width:1\" /><line x1=\"435.995\" y1=\"225.01\" x2=\"438.353\" y2=\"216.208\" stroke-linecap=\"round\" style=\"stroke:black;stroke-width:1\" /><line x1=\"438.353\" y1=\"216.208\" x2=\"438.353\" y2=\"210.74\" stroke-linecap=\"round\" style=\"stroke:black;stroke-width:1\" /><line x1=\"438.353\" y1=\"210.74\" x2=\"438.353\" y2=\"216.208\" stroke-linecap=\"round\" style=\"stroke:black;stroke-width:1\" /><line x1=\"438.353\" y1=\"216.208\" x2=\"442.273\" y2=\"210.61\" stroke-linecap=\"round\" style=\"stroke:black;stroke-width:1\" /><line x1=\"442.273\" y1=\"210.61\" x2=\"446.472\" y2=\"207.67\" stroke-linecap=\"round\" style=\"stroke:black;stroke-width:1\" /><line x1=\"446.472\" y1=\"207.67\" x2=\"442.273\" y2=\"210.61\" stroke-linecap=\"round\" style=\"stroke:black;stroke-width:1\" /><line x1=\"442.273\" y1=\"210.61\" x2=\"438.353\" y2=\"216.208\" stroke-linecap=\"round\" style=\"stroke:black;stroke-width:1\" /><line x1=\"438.353\" y1=\"216.208\" x2=\"435.995\" y2=\"225.01\" stroke-linecap=\"round\" style=\"stroke:black;stroke-width:1\" /><line x1=\"435.995\" y1=\"225.01\" x2=\"444.721\" y2=\"217.688\" stroke-linecap=\"round\" style=\"stroke:black;stroke-width:1\" /><line x1=\"444.721\" y1=\"217.688\" x2=\"448.641\" y2=\"212.09\" stroke-linecap=\"round\" style=\"stroke:black;stroke-width:1\" /><line x1=\"448.641\" y1=\"212.09\" x2=\"452.84\" y2=\"209.15\" stroke-linecap=\"round\" style=\"stroke:black;stroke-width:1\" /><line x1=\"452.84\" y1=\"209.15\" x2=\"448.641\" y2=\"212.09\" stroke-linecap=\"round\" style=\"stroke:black;stroke-width:1\" /><line x1=\"448.641\" y1=\"212.09\" x2=\"444.721\" y2=\"217.688\" stroke-linecap=\"round\" style=\"stroke:black;stroke-width:1\" /><line x1=\"444.721\" y1=\"217.688\" x2=\"452.749\" y2=\"214.766\" stroke-linecap=\"round\" style=\"stroke:black;stroke-width:1\" /><line x1=\"452.749\" y1=\"214.766\" x2=\"456.948\" y2=\"211.826\" stroke-linecap=\"round\" style=\"stroke:black;stroke-width:1\" /><line x1=\"456.948\" y1=\"211.826\" x2=\"452.749\" y2=\"214.766\" stroke-linecap=\"round\" style=\"stroke:black;stroke-width:1\" /><line x1=\"452.749\" y1=\"214.766\" x2=\"459.156\" y2=\"214.766\" stroke-linecap=\"round\" style=\"stroke:black;stroke-width:1\" /><line x1=\"459.156\" y1=\"214.766\" x2=\"452.749\" y2=\"214.766\" stroke-linecap=\"round\" style=\"stroke:black;stroke-width:1\" /><line x1=\"452.749\" y1=\"214.766\" x2=\"444.721\" y2=\"217.688\" stroke-linecap=\"round\" style=\"stroke:black;stroke-width:1\" /><line x1=\"444.721\" y1=\"217.688\" x2=\"435.995\" y2=\"225.01\" stroke-linecap=\"round\" style=\"stroke:black;stroke-width:1\" /><line x1=\"435.995\" y1=\"225.01\" x2=\"428.401\" y2=\"238.163\" stroke-linecap=\"round\" style=\"stroke:black;stroke-width:1\" /><line x1=\"428.401\" y1=\"238.163\" x2=\"424.885\" y2=\"258.105\" stroke-linecap=\"round\" style=\"stroke:black;stroke-width:1\" /><line x1=\"424.885\" y1=\"258.105\" x2=\"429.574\" y2=\"284.695\" stroke-linecap=\"round\" style=\"stroke:black;stroke-width:1\" /><line x1=\"429.574\" y1=\"284.695\" x2=\"443.837\" y2=\"254.107\" stroke-linecap=\"round\" style=\"stroke:black;stroke-width:1\" /><line x1=\"443.837\" y1=\"254.107\" x2=\"447.353\" y2=\"234.165\" stroke-linecap=\"round\" style=\"stroke:black;stroke-width:1\" /><line x1=\"447.353\" y1=\"234.165\" x2=\"446.294\" y2=\"222.061\" stroke-linecap=\"round\" style=\"stroke:black;stroke-width:1\" /><line x1=\"446.294\" y1=\"222.061\" x2=\"443.801\" y2=\"215.211\" stroke-linecap=\"round\" style=\"stroke:black;stroke-width:1\" /><line x1=\"443.801\" y1=\"215.211\" x2=\"443.801\" y2=\"209.744\" stroke-linecap=\"round\" style=\"stroke:black;stroke-width:1\" /><line x1=\"443.801\" y1=\"209.744\" x2=\"443.801\" y2=\"215.212\" stroke-linecap=\"round\" style=\"stroke:black;stroke-width:1\" /><line x1=\"443.801\" y1=\"215.212\" x2=\"446.294\" y2=\"222.062\" stroke-linecap=\"round\" style=\"stroke:black;stroke-width:1\" /><line x1=\"446.294\" y1=\"222.062\" x2=\"448.652\" y2=\"213.26\" stroke-linecap=\"round\" style=\"stroke:black;stroke-width:1\" /><line x1=\"448.652\" y1=\"213.26\" x2=\"448.652\" y2=\"207.792\" stroke-linecap=\"round\" style=\"stroke:black;stroke-width:1\" /><line x1=\"448.652\" y1=\"207.792\" x2=\"448.652\" y2=\"213.26\" stroke-linecap=\"round\" style=\"stroke:black;stroke-width:1\" /><line x1=\"448.652\" y1=\"213.26\" x2=\"452.572\" y2=\"207.662\" stroke-linecap=\"round\" style=\"stroke:black;stroke-width:1\" /><line x1=\"452.572\" y1=\"207.662\" x2=\"456.771\" y2=\"204.722\" stroke-linecap=\"round\" style=\"stroke:black;stroke-width:1\" /><line x1=\"456.771\" y1=\"204.722\" x2=\"452.572\" y2=\"207.662\" stroke-linecap=\"round\" style=\"stroke:black;stroke-width:1\" /><line x1=\"452.572\" y1=\"207.662\" x2=\"448.652\" y2=\"213.26\" stroke-linecap=\"round\" style=\"stroke:black;stroke-width:1\" /><line x1=\"448.652\" y1=\"213.26\" x2=\"446.294\" y2=\"222.062\" stroke-linecap=\"round\" style=\"stroke:black;stroke-width:1\" /><line x1=\"446.294\" y1=\"222.062\" x2=\"447.353\" y2=\"234.166\" stroke-linecap=\"round\" style=\"stroke:black;stroke-width:1\" /><line x1=\"447.353\" y1=\"234.166\" x2=\"454.947\" y2=\"221.013\" stroke-linecap=\"round\" style=\"stroke:black;stroke-width:1\" /><line x1=\"454.947\" y1=\"221.013\" x2=\"457.305\" y2=\"212.211\" stroke-linecap=\"round\" style=\"stroke:black;stroke-width:1\" /><line x1=\"457.305\" y1=\"212.211\" x2=\"457.305\" y2=\"206.744\" stroke-linecap=\"round\" style=\"stroke:black;stroke-width:1\" /><line x1=\"457.305\" y1=\"206.744\" x2=\"457.305\" y2=\"212.212\" stroke-linecap=\"round\" style=\"stroke:black;stroke-width:1\" /><line x1=\"457.305\" y1=\"212.212\" x2=\"461.225\" y2=\"206.614\" stroke-linecap=\"round\" style=\"stroke:black;stroke-width:1\" /><line x1=\"461.225\" y1=\"206.614\" x2=\"465.424\" y2=\"203.674\" stroke-linecap=\"round\" style=\"stroke:black;stroke-width:1\" /><line x1=\"465.424\" y1=\"203.674\" x2=\"461.225\" y2=\"206.614\" stroke-linecap=\"round\" style=\"stroke:black;stroke-width:1\" /><line x1=\"461.225\" y1=\"206.614\" x2=\"457.305\" y2=\"212.212\" stroke-linecap=\"round\" style=\"stroke:black;stroke-width:1\" /><line x1=\"457.305\" y1=\"212.212\" x2=\"454.947\" y2=\"221.014\" stroke-linecap=\"round\" style=\"stroke:black;stroke-width:1\" /><line x1=\"454.947\" y1=\"221.014\" x2=\"463.673\" y2=\"213.692\" stroke-linecap=\"round\" style=\"stroke:black;stroke-width:1\" /><line x1=\"463.673\" y1=\"213.692\" x2=\"467.593\" y2=\"208.094\" stroke-linecap=\"round\" style=\"stroke:black;stroke-width:1\" /><line x1=\"467.593\" y1=\"208.094\" x2=\"471.792\" y2=\"205.154\" stroke-linecap=\"round\" style=\"stroke:black;stroke-width:1\" /><line x1=\"471.792\" y1=\"205.154\" x2=\"467.593\" y2=\"208.094\" stroke-linecap=\"round\" style=\"stroke:black;stroke-width:1\" /><line x1=\"467.593\" y1=\"208.094\" x2=\"463.673\" y2=\"213.692\" stroke-linecap=\"round\" style=\"stroke:black;stroke-width:1\" /><line x1=\"463.673\" y1=\"213.692\" x2=\"471.701\" y2=\"210.77\" stroke-linecap=\"round\" style=\"stroke:black;stroke-width:1\" /><line x1=\"471.701\" y1=\"210.77\" x2=\"475.9\" y2=\"207.83\" stroke-linecap=\"round\" style=\"stroke:black;stroke-width:1\" /><line x1=\"475.9\" y1=\"207.83\" x2=\"471.701\" y2=\"210.77\" stroke-linecap=\"round\" style=\"stroke:black;stroke-width:1\" /><line x1=\"471.701\" y1=\"210.77\" x2=\"478.108\" y2=\"210.77\" stroke-linecap=\"round\" style=\"stroke:black;stroke-width:1\" /><line x1=\"478.108\" y1=\"210.77\" x2=\"471.701\" y2=\"210.77\" stroke-linecap=\"round\" style=\"stroke:black;stroke-width:1\" /><line x1=\"471.701\" y1=\"210.77\" x2=\"463.673\" y2=\"213.692\" stroke-linecap=\"round\" style=\"stroke:black;stroke-width:1\" /><line x1=\"463.673\" y1=\"213.692\" x2=\"454.947\" y2=\"221.014\" stroke-linecap=\"round\" style=\"stroke:black;stroke-width:1\" /><line x1=\"454.947\" y1=\"221.014\" x2=\"447.353\" y2=\"234.167\" stroke-linecap=\"round\" style=\"stroke:black;stroke-width:1\" /><line x1=\"447.353\" y1=\"234.167\" x2=\"443.837\" y2=\"254.109\" stroke-linecap=\"round\" style=\"stroke:black;stroke-width:1\" /><line x1=\"443.837\" y1=\"254.109\" x2=\"461.736\" y2=\"236.21\" stroke-linecap=\"round\" style=\"stroke:black;stroke-width:1\" /><line x1=\"461.736\" y1=\"236.21\" x2=\"469.33\" y2=\"223.057\" stroke-linecap=\"round\" style=\"stroke:black;stroke-width:1\" /><line x1=\"469.33\" y1=\"223.057\" x2=\"471.688\" y2=\"214.255\" stroke-linecap=\"round\" style=\"stroke:black;stroke-width:1\" /><line x1=\"471.688\" y1=\"214.255\" x2=\"471.688\" y2=\"208.787\" stroke-linecap=\"round\" style=\"stroke:black;stroke-width:1\" /><line x1=\"471.688\" y1=\"208.787\" x2=\"471.688\" y2=\"214.255\" stroke-linecap=\"round\" style=\"stroke:black;stroke-width:1\" /><line x1=\"471.688\" y1=\"214.255\" x2=\"475.608\" y2=\"208.657\" stroke-linecap=\"round\" style=\"stroke:black;stroke-width:1\" /><line x1=\"475.608\" y1=\"208.657\" x2=\"479.807\" y2=\"205.717\" stroke-linecap=\"round\" style=\"stroke:black;stroke-width:1\" /><line x1=\"479.807\" y1=\"205.717\" x2=\"475.608\" y2=\"208.657\" stroke-linecap=\"round\" style=\"stroke:black;stroke-width:1\" /><line x1=\"475.608\" y1=\"208.657\" x2=\"471.688\" y2=\"214.255\" stroke-linecap=\"round\" style=\"stroke:black;stroke-width:1\" /><line x1=\"471.688\" y1=\"214.255\" x2=\"469.33\" y2=\"223.057\" stroke-linecap=\"round\" style=\"stroke:black;stroke-width:1\" /><line x1=\"469.33\" y1=\"223.057\" x2=\"478.056\" y2=\"215.735\" stroke-linecap=\"round\" style=\"stroke:black;stroke-width:1\" /><line x1=\"478.056\" y1=\"215.735\" x2=\"481.976\" y2=\"210.137\" stroke-linecap=\"round\" style=\"stroke:black;stroke-width:1\" /><line x1=\"481.976\" y1=\"210.137\" x2=\"486.175\" y2=\"207.197\" stroke-linecap=\"round\" style=\"stroke:black;stroke-width:1\" /><line x1=\"486.175\" y1=\"207.197\" x2=\"481.976\" y2=\"210.137\" stroke-linecap=\"round\" style=\"stroke:black;stroke-width:1\" /><line x1=\"481.976\" y1=\"210.137\" x2=\"478.056\" y2=\"215.735\" stroke-linecap=\"round\" style=\"stroke:black;stroke-width:1\" /><line x1=\"478.056\" y1=\"215.735\" x2=\"486.084\" y2=\"212.813\" stroke-linecap=\"round\" style=\"stroke:black;stroke-width:1\" /><line x1=\"486.084\" y1=\"212.813\" x2=\"490.283\" y2=\"209.873\" stroke-linecap=\"round\" style=\"stroke:black;stroke-width:1\" /><line x1=\"490.283\" y1=\"209.873\" x2=\"486.084\" y2=\"212.813\" stroke-linecap=\"round\" style=\"stroke:black;stroke-width:1\" /><line x1=\"486.084\" y1=\"212.813\" x2=\"492.491\" y2=\"212.813\" stroke-linecap=\"round\" style=\"stroke:black;stroke-width:1\" /><line x1=\"492.491\" y1=\"212.813\" x2=\"486.084\" y2=\"212.813\" stroke-linecap=\"round\" style=\"stroke:black;stroke-width:1\" /><line x1=\"486.084\" y1=\"212.813\" x2=\"478.056\" y2=\"215.735\" stroke-linecap=\"round\" style=\"stroke:black;stroke-width:1\" /><line x1=\"478.056\" y1=\"215.735\" x2=\"469.33\" y2=\"223.057\" stroke-linecap=\"round\" style=\"stroke:black;stroke-width:1\" /><line x1=\"469.33\" y1=\"223.057\" x2=\"461.736\" y2=\"236.21\" stroke-linecap=\"round\" style=\"stroke:black;stroke-width:1\" /><line x1=\"461.736\" y1=\"236.21\" x2=\"478.942\" y2=\"228.187\" stroke-linecap=\"round\" style=\"stroke:black;stroke-width:1\" /><line x1=\"478.942\" y1=\"228.187\" x2=\"487.668\" y2=\"220.865\" stroke-linecap=\"round\" style=\"stroke:black;stroke-width:1\" /><line x1=\"487.668\" y1=\"220.865\" x2=\"491.588\" y2=\"215.267\" stroke-linecap=\"round\" style=\"stroke:black;stroke-width:1\" /><line x1=\"491.588\" y1=\"215.267\" x2=\"495.787\" y2=\"212.327\" stroke-linecap=\"round\" style=\"stroke:black;stroke-width:1\" /><line x1=\"495.787\" y1=\"212.327\" x2=\"491.588\" y2=\"215.267\" stroke-linecap=\"round\" style=\"stroke:black;stroke-width:1\" /><line x1=\"491.588\" y1=\"215.267\" x2=\"487.668\" y2=\"220.865\" stroke-linecap=\"round\" style=\"stroke:black;stroke-width:1\" /><line x1=\"487.668\" y1=\"220.865\" x2=\"495.696\" y2=\"217.943\" stroke-linecap=\"round\" style=\"stroke:black;stroke-width:1\" /><line x1=\"495.696\" y1=\"217.943\" x2=\"499.895\" y2=\"215.003\" stroke-linecap=\"round\" style=\"stroke:black;stroke-width:1\" /><line x1=\"499.895\" y1=\"215.003\" x2=\"495.696\" y2=\"217.943\" stroke-linecap=\"round\" style=\"stroke:black;stroke-width:1\" /><line x1=\"495.696\" y1=\"217.943\" x2=\"502.103\" y2=\"217.943\" stroke-linecap=\"round\" style=\"stroke:black;stroke-width:1\" /><line x1=\"502.103\" y1=\"217.943\" x2=\"495.696\" y2=\"217.943\" stroke-linecap=\"round\" style=\"stroke:black;stroke-width:1\" /><line x1=\"495.696\" y1=\"217.943\" x2=\"487.668\" y2=\"220.865\" stroke-linecap=\"round\" style=\"stroke:black;stroke-width:1\" /><line x1=\"487.668\" y1=\"220.865\" x2=\"478.942\" y2=\"228.187\" stroke-linecap=\"round\" style=\"stroke:black;stroke-width:1\" /><line x1=\"478.942\" y1=\"228.187\" x2=\"493.126\" y2=\"226.946\" stroke-linecap=\"round\" style=\"stroke:black;stroke-width:1\" /><line x1=\"493.126\" y1=\"226.946\" x2=\"501.154\" y2=\"224.024\" stroke-linecap=\"round\" style=\"stroke:black;stroke-width:1\" /><line x1=\"501.154\" y1=\"224.024\" x2=\"505.353\" y2=\"221.084\" stroke-linecap=\"round\" style=\"stroke:black;stroke-width:1\" /><line x1=\"505.353\" y1=\"221.084\" x2=\"501.154\" y2=\"224.024\" stroke-linecap=\"round\" style=\"stroke:black;stroke-width:1\" /><line x1=\"501.154\" y1=\"224.024\" x2=\"507.561\" y2=\"224.024\" stroke-linecap=\"round\" style=\"stroke:black;stroke-width:1\" /><line x1=\"507.561\" y1=\"224.024\" x2=\"501.154\" y2=\"224.024\" stroke-linecap=\"round\" style=\"stroke:black;stroke-width:1\" /><line x1=\"501.154\" y1=\"224.024\" x2=\"493.126\" y2=\"226.946\" stroke-linecap=\"round\" style=\"stroke:black;stroke-width:1\" /><line x1=\"493.126\" y1=\"226.946\" x2=\"503.441\" y2=\"229.71\" stroke-linecap=\"round\" style=\"stroke:black;stroke-width:1\" /><line x1=\"503.441\" y1=\"229.71\" x2=\"509.848\" y2=\"229.71\" stroke-linecap=\"round\" style=\"stroke:black;stroke-width:1\" /><line x1=\"509.848\" y1=\"229.71\" x2=\"503.441\" y2=\"229.71\" stroke-linecap=\"round\" style=\"stroke:black;stroke-width:1\" /><line x1=\"503.441\" y1=\"229.71\" x2=\"510.002\" y2=\"234.304\" stroke-linecap=\"round\" style=\"stroke:black;stroke-width:1\" /><line x1=\"510.002\" y1=\"234.304\" x2=\"513.447\" y2=\"239.224\" stroke-linecap=\"round\" style=\"stroke:black;stroke-width:1\" /><line x1=\"513.447\" y1=\"239.224\" x2=\"510.002\" y2=\"234.304\" stroke-linecap=\"round\" style=\"stroke:black;stroke-width:1\" /><line x1=\"510.002\" y1=\"234.304\" x2=\"503.441\" y2=\"229.71\" stroke-linecap=\"round\" style=\"stroke:black;stroke-width:1\" /><line x1=\"503.441\" y1=\"229.71\" x2=\"493.126\" y2=\"226.946\" stroke-linecap=\"round\" style=\"stroke:black;stroke-width:1\" /><line x1=\"493.126\" y1=\"226.946\" x2=\"478.942\" y2=\"228.187\" stroke-linecap=\"round\" style=\"stroke:black;stroke-width:1\" /><line x1=\"478.942\" y1=\"228.187\" x2=\"461.736\" y2=\"236.21\" stroke-linecap=\"round\" style=\"stroke:black;stroke-width:1\" /><line x1=\"461.736\" y1=\"236.21\" x2=\"443.837\" y2=\"254.109\" stroke-linecap=\"round\" style=\"stroke:black;stroke-width:1\" /><line x1=\"443.837\" y1=\"254.109\" x2=\"429.574\" y2=\"284.697\" stroke-linecap=\"round\" style=\"stroke:black;stroke-width:1\" /><line x1=\"429.574\" y1=\"284.697\" x2=\"425.652\" y2=\"329.526\" stroke-linecap=\"round\" style=\"stroke:black;stroke-width:1\" /><line x1=\"425.652\" y1=\"329.526\" x2=\"461.809\" y2=\"286.436\" stroke-linecap=\"round\" style=\"stroke:black;stroke-width:1\" /><line x1=\"461.809\" y1=\"286.436\" x2=\"476.072\" y2=\"255.848\" stroke-linecap=\"round\" style=\"stroke:black;stroke-width:1\" /><line x1=\"476.072\" y1=\"255.848\" x2=\"479.588\" y2=\"235.906\" stroke-linecap=\"round\" style=\"stroke:black;stroke-width:1\" /><line x1=\"479.588\" y1=\"235.906\" x2=\"478.529\" y2=\"223.802\" stroke-linecap=\"round\" style=\"stroke:black;stroke-width:1\" /><line x1=\"478.529\" y1=\"223.802\" x2=\"476.036\" y2=\"216.952\" stroke-linecap=\"round\" style=\"stroke:black;stroke-width:1\" /><line x1=\"476.036\" y1=\"216.952\" x2=\"476.036\" y2=\"211.484\" stroke-linecap=\"round\" style=\"stroke:black;stroke-width:1\" /><line x1=\"476.036\" y1=\"211.484\" x2=\"476.036\" y2=\"216.952\" stroke-linecap=\"round\" style=\"stroke:black;stroke-width:1\" /><line x1=\"476.036\" y1=\"216.952\" x2=\"478.529\" y2=\"223.802\" stroke-linecap=\"round\" style=\"stroke:black;stroke-width:1\" /><line x1=\"478.529\" y1=\"223.802\" x2=\"480.887\" y2=\"215.0\" stroke-linecap=\"round\" style=\"stroke:black;stroke-width:1\" /><line x1=\"480.887\" y1=\"215.0\" x2=\"480.887\" y2=\"209.532\" stroke-linecap=\"round\" style=\"stroke:black;stroke-width:1\" /><line x1=\"480.887\" y1=\"209.532\" x2=\"480.887\" y2=\"215.0\" stroke-linecap=\"round\" style=\"stroke:black;stroke-width:1\" /><line x1=\"480.887\" y1=\"215.0\" x2=\"484.807\" y2=\"209.402\" stroke-linecap=\"round\" style=\"stroke:black;stroke-width:1\" /><line x1=\"484.807\" y1=\"209.402\" x2=\"489.006\" y2=\"206.462\" stroke-linecap=\"round\" style=\"stroke:black;stroke-width:1\" /><line x1=\"489.006\" y1=\"206.462\" x2=\"484.807\" y2=\"209.402\" stroke-linecap=\"round\" style=\"stroke:black;stroke-width:1\" /><line x1=\"484.807\" y1=\"209.402\" x2=\"480.887\" y2=\"215.0\" stroke-linecap=\"round\" style=\"stroke:black;stroke-width:1\" /><line x1=\"480.887\" y1=\"215.0\" x2=\"478.529\" y2=\"223.802\" stroke-linecap=\"round\" style=\"stroke:black;stroke-width:1\" /><line x1=\"478.529\" y1=\"223.802\" x2=\"479.588\" y2=\"235.906\" stroke-linecap=\"round\" style=\"stroke:black;stroke-width:1\" /><line x1=\"479.588\" y1=\"235.906\" x2=\"487.182\" y2=\"222.753\" stroke-linecap=\"round\" style=\"stroke:black;stroke-width:1\" /><line x1=\"487.182\" y1=\"222.753\" x2=\"489.54\" y2=\"213.951\" stroke-linecap=\"round\" style=\"stroke:black;stroke-width:1\" /><line x1=\"489.54\" y1=\"213.951\" x2=\"489.54\" y2=\"208.483\" stroke-linecap=\"round\" style=\"stroke:black;stroke-width:1\" /><line x1=\"489.54\" y1=\"208.483\" x2=\"489.54\" y2=\"213.951\" stroke-linecap=\"round\" style=\"stroke:black;stroke-width:1\" /><line x1=\"489.54\" y1=\"213.951\" x2=\"493.46\" y2=\"208.353\" stroke-linecap=\"round\" style=\"stroke:black;stroke-width:1\" /><line x1=\"493.46\" y1=\"208.353\" x2=\"497.659\" y2=\"205.413\" stroke-linecap=\"round\" style=\"stroke:black;stroke-width:1\" /><line x1=\"497.659\" y1=\"205.413\" x2=\"493.46\" y2=\"208.353\" stroke-linecap=\"round\" style=\"stroke:black;stroke-width:1\" /><line x1=\"493.46\" y1=\"208.353\" x2=\"489.54\" y2=\"213.951\" stroke-linecap=\"round\" style=\"stroke:black;stroke-width:1\" /><line x1=\"489.54\" y1=\"213.951\" x2=\"487.182\" y2=\"222.753\" stroke-linecap=\"round\" style=\"stroke:black;stroke-width:1\" /><line x1=\"487.182\" y1=\"222.753\" x2=\"495.908\" y2=\"215.431\" stroke-linecap=\"round\" style=\"stroke:black;stroke-width:1\" /><line x1=\"495.908\" y1=\"215.431\" x2=\"499.828\" y2=\"209.833\" stroke-linecap=\"round\" style=\"stroke:black;stroke-width:1\" /><line x1=\"499.828\" y1=\"209.833\" x2=\"504.027\" y2=\"206.893\" stroke-linecap=\"round\" style=\"stroke:black;stroke-width:1\" /><line x1=\"504.027\" y1=\"206.893\" x2=\"499.828\" y2=\"209.833\" stroke-linecap=\"round\" style=\"stroke:black;stroke-width:1\" /><line x1=\"499.828\" y1=\"209.833\" x2=\"495.908\" y2=\"215.431\" stroke-linecap=\"round\" style=\"stroke:black;stroke-width:1\" /><line x1=\"495.908\" y1=\"215.431\" x2=\"503.936\" y2=\"212.509\" stroke-linecap=\"round\" style=\"stroke:black;stroke-width:1\" /><line x1=\"503.936\" y1=\"212.509\" x2=\"508.135\" y2=\"209.569\" stroke-linecap=\"round\" style=\"stroke:black;stroke-width:1\" /><line x1=\"508.135\" y1=\"209.569\" x2=\"503.936\" y2=\"212.509\" stroke-linecap=\"round\" style=\"stroke:black;stroke-width:1\" /><line x1=\"503.936\" y1=\"212.509\" x2=\"510.343\" y2=\"212.509\" stroke-linecap=\"round\" style=\"stroke:black;stroke-width:1\" /><line x1=\"510.343\" y1=\"212.509\" x2=\"503.936\" y2=\"212.509\" stroke-linecap=\"round\" style=\"stroke:black;stroke-width:1\" /><line x1=\"503.936\" y1=\"212.509\" x2=\"495.908\" y2=\"215.431\" stroke-linecap=\"round\" style=\"stroke:black;stroke-width:1\" /><line x1=\"495.908\" y1=\"215.431\" x2=\"487.182\" y2=\"222.753\" stroke-linecap=\"round\" style=\"stroke:black;stroke-width:1\" /><line x1=\"487.182\" y1=\"222.753\" x2=\"479.588\" y2=\"235.906\" stroke-linecap=\"round\" style=\"stroke:black;stroke-width:1\" /><line x1=\"479.588\" y1=\"235.906\" x2=\"476.072\" y2=\"255.848\" stroke-linecap=\"round\" style=\"stroke:black;stroke-width:1\" /><line x1=\"476.072\" y1=\"255.848\" x2=\"493.971\" y2=\"237.949\" stroke-linecap=\"round\" style=\"stroke:black;stroke-width:1\" /><line x1=\"493.971\" y1=\"237.949\" x2=\"501.565\" y2=\"224.796\" stroke-linecap=\"round\" style=\"stroke:black;stroke-width:1\" /><line x1=\"501.565\" y1=\"224.796\" x2=\"503.923\" y2=\"215.994\" stroke-linecap=\"round\" style=\"stroke:black;stroke-width:1\" /><line x1=\"503.923\" y1=\"215.994\" x2=\"503.923\" y2=\"210.526\" stroke-linecap=\"round\" style=\"stroke:black;stroke-width:1\" /><line x1=\"503.923\" y1=\"210.526\" x2=\"503.923\" y2=\"215.994\" stroke-linecap=\"round\" style=\"stroke:black;stroke-width:1\" /><line x1=\"503.923\" y1=\"215.994\" x2=\"507.843\" y2=\"210.396\" stroke-linecap=\"round\" style=\"stroke:black;stroke-width:1\" /><line x1=\"507.843\" y1=\"210.396\" x2=\"512.042\" y2=\"207.456\" stroke-linecap=\"round\" style=\"stroke:black;stroke-width:1\" /><line x1=\"512.042\" y1=\"207.456\" x2=\"507.843\" y2=\"210.396\" stroke-linecap=\"round\" style=\"stroke:black;stroke-width:1\" /><line x1=\"507.843\" y1=\"210.396\" x2=\"503.923\" y2=\"215.994\" stroke-linecap=\"round\" style=\"stroke:black;stroke-width:1\" /><line x1=\"503.923\" y1=\"215.994\" x2=\"501.565\" y2=\"224.796\" stroke-linecap=\"round\" style=\"stroke:black;stroke-width:1\" /><line x1=\"501.565\" y1=\"224.796\" x2=\"510.291\" y2=\"217.474\" stroke-linecap=\"round\" style=\"stroke:black;stroke-width:1\" /><line x1=\"510.291\" y1=\"217.474\" x2=\"514.211\" y2=\"211.876\" stroke-linecap=\"round\" style=\"stroke:black;stroke-width:1\" /><line x1=\"514.211\" y1=\"211.876\" x2=\"518.41\" y2=\"208.936\" stroke-linecap=\"round\" style=\"stroke:black;stroke-width:1\" /><line x1=\"518.41\" y1=\"208.936\" x2=\"514.211\" y2=\"211.876\" stroke-linecap=\"round\" style=\"stroke:black;stroke-width:1\" /><line x1=\"514.211\" y1=\"211.876\" x2=\"510.291\" y2=\"217.474\" stroke-linecap=\"round\" style=\"stroke:black;stroke-width:1\" /><line x1=\"510.291\" y1=\"217.474\" x2=\"518.319\" y2=\"214.552\" stroke-linecap=\"round\" style=\"stroke:black;stroke-width:1\" /><line x1=\"518.319\" y1=\"214.552\" x2=\"522.518\" y2=\"211.612\" stroke-linecap=\"round\" style=\"stroke:black;stroke-width:1\" /><line x1=\"522.518\" y1=\"211.612\" x2=\"518.319\" y2=\"214.552\" stroke-linecap=\"round\" style=\"stroke:black;stroke-width:1\" /><line x1=\"518.319\" y1=\"214.552\" x2=\"524.726\" y2=\"214.552\" stroke-linecap=\"round\" style=\"stroke:black;stroke-width:1\" /><line x1=\"524.726\" y1=\"214.552\" x2=\"518.319\" y2=\"214.552\" stroke-linecap=\"round\" style=\"stroke:black;stroke-width:1\" /><line x1=\"518.319\" y1=\"214.552\" x2=\"510.291\" y2=\"217.474\" stroke-linecap=\"round\" style=\"stroke:black;stroke-width:1\" /><line x1=\"510.291\" y1=\"217.474\" x2=\"501.565\" y2=\"224.796\" stroke-linecap=\"round\" style=\"stroke:black;stroke-width:1\" /><line x1=\"501.565\" y1=\"224.796\" x2=\"493.971\" y2=\"237.949\" stroke-linecap=\"round\" style=\"stroke:black;stroke-width:1\" /><line x1=\"493.971\" y1=\"237.949\" x2=\"511.177\" y2=\"229.926\" stroke-linecap=\"round\" style=\"stroke:black;stroke-width:1\" /><line x1=\"511.177\" y1=\"229.926\" x2=\"519.903\" y2=\"222.604\" stroke-linecap=\"round\" style=\"stroke:black;stroke-width:1\" /><line x1=\"519.903\" y1=\"222.604\" x2=\"523.823\" y2=\"217.006\" stroke-linecap=\"round\" style=\"stroke:black;stroke-width:1\" /><line x1=\"523.823\" y1=\"217.006\" x2=\"528.022\" y2=\"214.066\" stroke-linecap=\"round\" style=\"stroke:black;stroke-width:1\" /><line x1=\"528.022\" y1=\"214.066\" x2=\"523.823\" y2=\"217.006\" stroke-linecap=\"round\" style=\"stroke:black;stroke-width:1\" /><line x1=\"523.823\" y1=\"217.006\" x2=\"519.903\" y2=\"222.604\" stroke-linecap=\"round\" style=\"stroke:black;stroke-width:1\" /><line x1=\"519.903\" y1=\"222.604\" x2=\"527.931\" y2=\"219.682\" stroke-linecap=\"round\" style=\"stroke:black;stroke-width:1\" /><line x1=\"527.931\" y1=\"219.682\" x2=\"532.13\" y2=\"216.742\" stroke-linecap=\"round\" style=\"stroke:black;stroke-width:1\" /><line x1=\"532.13\" y1=\"216.742\" x2=\"527.931\" y2=\"219.682\" stroke-linecap=\"round\" style=\"stroke:black;stroke-width:1\" /><line x1=\"527.931\" y1=\"219.682\" x2=\"534.338\" y2=\"219.682\" stroke-linecap=\"round\" style=\"stroke:black;stroke-width:1\" /><line x1=\"534.338\" y1=\"219.682\" x2=\"527.931\" y2=\"219.682\" stroke-linecap=\"round\" style=\"stroke:black;stroke-width:1\" /><line x1=\"527.931\" y1=\"219.682\" x2=\"519.903\" y2=\"222.604\" stroke-linecap=\"round\" style=\"stroke:black;stroke-width:1\" /><line x1=\"519.903\" y1=\"222.604\" x2=\"511.177\" y2=\"229.926\" stroke-linecap=\"round\" style=\"stroke:black;stroke-width:1\" /><line x1=\"511.177\" y1=\"229.926\" x2=\"525.361\" y2=\"228.685\" stroke-linecap=\"round\" style=\"stroke:black;stroke-width:1\" /><line x1=\"525.361\" y1=\"228.685\" x2=\"533.389\" y2=\"225.763\" stroke-linecap=\"round\" style=\"stroke:black;stroke-width:1\" /><line x1=\"533.389\" y1=\"225.763\" x2=\"537.588\" y2=\"222.823\" stroke-linecap=\"round\" style=\"stroke:black;stroke-width:1\" /><line x1=\"537.588\" y1=\"222.823\" x2=\"533.389\" y2=\"225.763\" stroke-linecap=\"round\" style=\"stroke:black;stroke-width:1\" /><line x1=\"533.389\" y1=\"225.763\" x2=\"539.796\" y2=\"225.763\" stroke-linecap=\"round\" style=\"stroke:black;stroke-width:1\" /><line x1=\"539.796\" y1=\"225.763\" x2=\"533.389\" y2=\"225.763\" stroke-linecap=\"round\" style=\"stroke:black;stroke-width:1\" /><line x1=\"533.389\" y1=\"225.763\" x2=\"525.361\" y2=\"228.685\" stroke-linecap=\"round\" style=\"stroke:black;stroke-width:1\" /><line x1=\"525.361\" y1=\"228.685\" x2=\"535.676\" y2=\"231.449\" stroke-linecap=\"round\" style=\"stroke:black;stroke-width:1\" /><line x1=\"535.676\" y1=\"231.449\" x2=\"542.083\" y2=\"231.449\" stroke-linecap=\"round\" style=\"stroke:black;stroke-width:1\" /><line x1=\"542.083\" y1=\"231.449\" x2=\"535.676\" y2=\"231.449\" stroke-linecap=\"round\" style=\"stroke:black;stroke-width:1\" /><line x1=\"535.676\" y1=\"231.449\" x2=\"542.237\" y2=\"236.043\" stroke-linecap=\"round\" style=\"stroke:black;stroke-width:1\" /><line x1=\"542.237\" y1=\"236.043\" x2=\"545.682\" y2=\"240.963\" stroke-linecap=\"round\" style=\"stroke:black;stroke-width:1\" /><line x1=\"545.682\" y1=\"240.963\" x2=\"542.237\" y2=\"236.043\" stroke-linecap=\"round\" style=\"stroke:black;stroke-width:1\" /><line x1=\"542.237\" y1=\"236.043\" x2=\"535.676\" y2=\"231.449\" stroke-linecap=\"round\" style=\"stroke:black;stroke-width:1\" /><line x1=\"535.676\" y1=\"231.449\" x2=\"525.361\" y2=\"228.685\" stroke-linecap=\"round\" style=\"stroke:black;stroke-width:1\" /><line x1=\"525.361\" y1=\"228.685\" x2=\"511.177\" y2=\"229.926\" stroke-linecap=\"round\" style=\"stroke:black;stroke-width:1\" /><line x1=\"511.177\" y1=\"229.926\" x2=\"493.971\" y2=\"237.949\" stroke-linecap=\"round\" style=\"stroke:black;stroke-width:1\" /><line x1=\"493.971\" y1=\"237.949\" x2=\"476.072\" y2=\"255.848\" stroke-linecap=\"round\" style=\"stroke:black;stroke-width:1\" /><line x1=\"476.072\" y1=\"255.848\" x2=\"461.809\" y2=\"286.436\" stroke-linecap=\"round\" style=\"stroke:black;stroke-width:1\" /><line x1=\"461.809\" y1=\"286.436\" x2=\"498.344\" y2=\"265.342\" stroke-linecap=\"round\" style=\"stroke:black;stroke-width:1\" /><line x1=\"498.344\" y1=\"265.342\" x2=\"516.243\" y2=\"247.443\" stroke-linecap=\"round\" style=\"stroke:black;stroke-width:1\" /><line x1=\"516.243\" y1=\"247.443\" x2=\"523.837\" y2=\"234.29\" stroke-linecap=\"round\" style=\"stroke:black;stroke-width:1\" /><line x1=\"523.837\" y1=\"234.29\" x2=\"526.195\" y2=\"225.488\" stroke-linecap=\"round\" style=\"stroke:black;stroke-width:1\" /><line x1=\"526.195\" y1=\"225.488\" x2=\"526.195\" y2=\"220.02\" stroke-linecap=\"round\" style=\"stroke:black;stroke-width:1\" /><line x1=\"526.195\" y1=\"220.02\" x2=\"526.195\" y2=\"225.488\" stroke-linecap=\"round\" style=\"stroke:black;stroke-width:1\" /><line x1=\"526.195\" y1=\"225.488\" x2=\"530.115\" y2=\"219.89\" stroke-linecap=\"round\" style=\"stroke:black;stroke-width:1\" /><line x1=\"530.115\" y1=\"219.89\" x2=\"534.314\" y2=\"216.95\" stroke-linecap=\"round\" style=\"stroke:black;stroke-width:1\" /><line x1=\"534.314\" y1=\"216.95\" x2=\"530.115\" y2=\"219.89\" stroke-linecap=\"round\" style=\"stroke:black;stroke-width:1\" /><line x1=\"530.115\" y1=\"219.89\" x2=\"526.195\" y2=\"225.488\" stroke-linecap=\"round\" style=\"stroke:black;stroke-width:1\" /><line x1=\"526.195\" y1=\"225.488\" x2=\"523.837\" y2=\"234.29\" stroke-linecap=\"round\" style=\"stroke:black;stroke-width:1\" /><line x1=\"523.837\" y1=\"234.29\" x2=\"532.563\" y2=\"226.968\" stroke-linecap=\"round\" style=\"stroke:black;stroke-width:1\" /><line x1=\"532.563\" y1=\"226.968\" x2=\"536.483\" y2=\"221.37\" stroke-linecap=\"round\" style=\"stroke:black;stroke-width:1\" /><line x1=\"536.483\" y1=\"221.37\" x2=\"540.682\" y2=\"218.43\" stroke-linecap=\"round\" style=\"stroke:black;stroke-width:1\" /><line x1=\"540.682\" y1=\"218.43\" x2=\"536.483\" y2=\"221.37\" stroke-linecap=\"round\" style=\"stroke:black;stroke-width:1\" /><line x1=\"536.483\" y1=\"221.37\" x2=\"532.563\" y2=\"226.968\" stroke-linecap=\"round\" style=\"stroke:black;stroke-width:1\" /><line x1=\"532.563\" y1=\"226.968\" x2=\"540.591\" y2=\"224.046\" stroke-linecap=\"round\" style=\"stroke:black;stroke-width:1\" /><line x1=\"540.591\" y1=\"224.046\" x2=\"544.79\" y2=\"221.106\" stroke-linecap=\"round\" style=\"stroke:black;stroke-width:1\" /><line x1=\"544.79\" y1=\"221.106\" x2=\"540.591\" y2=\"224.046\" stroke-linecap=\"round\" style=\"stroke:black;stroke-width:1\" /><line x1=\"540.591\" y1=\"224.046\" x2=\"546.998\" y2=\"224.046\" stroke-linecap=\"round\" style=\"stroke:black;stroke-width:1\" /><line x1=\"546.998\" y1=\"224.046\" x2=\"540.591\" y2=\"224.046\" stroke-linecap=\"round\" style=\"stroke:black;stroke-width:1\" /><line x1=\"540.591\" y1=\"224.046\" x2=\"532.563\" y2=\"226.968\" stroke-linecap=\"round\" style=\"stroke:black;stroke-width:1\" /><line x1=\"532.563\" y1=\"226.968\" x2=\"523.837\" y2=\"234.29\" stroke-linecap=\"round\" style=\"stroke:black;stroke-width:1\" /><line x1=\"523.837\" y1=\"234.29\" x2=\"516.243\" y2=\"247.443\" stroke-linecap=\"round\" style=\"stroke:black;stroke-width:1\" /><line x1=\"516.243\" y1=\"247.443\" x2=\"533.449\" y2=\"239.42\" stroke-linecap=\"round\" style=\"stroke:black;stroke-width:1\" /><line x1=\"533.449\" y1=\"239.42\" x2=\"542.175\" y2=\"232.098\" stroke-linecap=\"round\" style=\"stroke:black;stroke-width:1\" /><line x1=\"542.175\" y1=\"232.098\" x2=\"546.095\" y2=\"226.5\" stroke-linecap=\"round\" style=\"stroke:black;stroke-width:1\" /><line x1=\"546.095\" y1=\"226.5\" x2=\"550.294\" y2=\"223.56\" stroke-linecap=\"round\" style=\"stroke:black;stroke-width:1\" /><line x1=\"550.294\" y1=\"223.56\" x2=\"546.095\" y2=\"226.5\" stroke-linecap=\"round\" style=\"stroke:black;stroke-width:1\" /><line x1=\"546.095\" y1=\"226.5\" x2=\"542.175\" y2=\"232.098\" stroke-linecap=\"round\" style=\"stroke:black;stroke-width:1\" /><line x1=\"542.175\" y1=\"232.098\" x2=\"550.203\" y2=\"229.176\" stroke-linecap=\"round\" style=\"stroke:black;stroke-width:1\" /><line x1=\"550.203\" y1=\"229.176\" x2=\"554.402\" y2=\"226.236\" stroke-linecap=\"round\" style=\"stroke:black;stroke-width:1\" /><line x1=\"554.402\" y1=\"226.236\" x2=\"550.203\" y2=\"229.176\" stroke-linecap=\"round\" style=\"stroke:black;stroke-width:1\" /><line x1=\"550.203\" y1=\"229.176\" x2=\"556.61\" y2=\"229.176\" stroke-linecap=\"round\" style=\"stroke:black;stroke-width:1\" /><line x1=\"556.61\" y1=\"229.176\" x2=\"550.203\" y2=\"229.176\" stroke-linecap=\"round\" style=\"stroke:black;stroke-width:1\" /><line x1=\"550.203\" y1=\"229.176\" x2=\"542.175\" y2=\"232.098\" stroke-linecap=\"round\" style=\"stroke:black;stroke-width:1\" /><line x1=\"542.175\" y1=\"232.098\" x2=\"533.449\" y2=\"239.42\" stroke-linecap=\"round\" style=\"stroke:black;stroke-width:1\" /><line x1=\"533.449\" y1=\"239.42\" x2=\"547.633\" y2=\"238.179\" stroke-linecap=\"round\" style=\"stroke:black;stroke-width:1\" /><line x1=\"547.633\" y1=\"238.179\" x2=\"555.661\" y2=\"235.257\" stroke-linecap=\"round\" style=\"stroke:black;stroke-width:1\" /><line x1=\"555.661\" y1=\"235.257\" x2=\"559.86\" y2=\"232.317\" stroke-linecap=\"round\" style=\"stroke:black;stroke-width:1\" /><line x1=\"559.86\" y1=\"232.317\" x2=\"555.661\" y2=\"235.257\" stroke-linecap=\"round\" style=\"stroke:black;stroke-width:1\" /><line x1=\"555.661\" y1=\"235.257\" x2=\"562.068\" y2=\"235.257\" stroke-linecap=\"round\" style=\"stroke:black;stroke-width:1\" /><line x1=\"562.068\" y1=\"235.257\" x2=\"555.661\" y2=\"235.257\" stroke-linecap=\"round\" style=\"stroke:black;stroke-width:1\" /><line x1=\"555.661\" y1=\"235.257\" x2=\"547.633\" y2=\"238.179\" stroke-linecap=\"round\" style=\"stroke:black;stroke-width:1\" /><line x1=\"547.633\" y1=\"238.179\" x2=\"557.948\" y2=\"240.943\" stroke-linecap=\"round\" style=\"stroke:black;stroke-width:1\" /><line x1=\"557.948\" y1=\"240.943\" x2=\"564.355\" y2=\"240.943\" stroke-linecap=\"round\" style=\"stroke:black;stroke-width:1\" /><line x1=\"564.355\" y1=\"240.943\" x2=\"557.948\" y2=\"240.943\" stroke-linecap=\"round\" style=\"stroke:black;stroke-width:1\" /><line x1=\"557.948\" y1=\"240.943\" x2=\"564.509\" y2=\"245.537\" stroke-linecap=\"round\" style=\"stroke:black;stroke-width:1\" /><line x1=\"564.509\" y1=\"245.537\" x2=\"567.954\" y2=\"250.457\" stroke-linecap=\"round\" style=\"stroke:black;stroke-width:1\" /><line x1=\"567.954\" y1=\"250.457\" x2=\"564.509\" y2=\"245.537\" stroke-linecap=\"round\" style=\"stroke:black;stroke-width:1\" /><line x1=\"564.509\" y1=\"245.537\" x2=\"557.948\" y2=\"240.943\" stroke-linecap=\"round\" style=\"stroke:black;stroke-width:1\" /><line x1=\"557.948\" y1=\"240.943\" x2=\"547.633\" y2=\"238.179\" stroke-linecap=\"round\" style=\"stroke:black;stroke-width:1\" /><line x1=\"547.633\" y1=\"238.179\" x2=\"533.449\" y2=\"239.42\" stroke-linecap=\"round\" style=\"stroke:black;stroke-width:1\" /><line x1=\"533.449\" y1=\"239.42\" x2=\"516.243\" y2=\"247.443\" stroke-linecap=\"round\" style=\"stroke:black;stroke-width:1\" /><line x1=\"516.243\" y1=\"247.443\" x2=\"498.344\" y2=\"265.342\" stroke-linecap=\"round\" style=\"stroke:black;stroke-width:1\" /><line x1=\"498.344\" y1=\"265.342\" x2=\"529.504\" y2=\"259.848\" stroke-linecap=\"round\" style=\"stroke:black;stroke-width:1\" /><line x1=\"529.504\" y1=\"259.848\" x2=\"546.71\" y2=\"251.825\" stroke-linecap=\"round\" style=\"stroke:black;stroke-width:1\" /><line x1=\"546.71\" y1=\"251.825\" x2=\"555.436\" y2=\"244.503\" stroke-linecap=\"round\" style=\"stroke:black;stroke-width:1\" /><line x1=\"555.436\" y1=\"244.503\" x2=\"559.356\" y2=\"238.905\" stroke-linecap=\"round\" style=\"stroke:black;stroke-width:1\" /><line x1=\"559.356\" y1=\"238.905\" x2=\"563.555\" y2=\"235.965\" stroke-linecap=\"round\" style=\"stroke:black;stroke-width:1\" /><line x1=\"563.555\" y1=\"235.965\" x2=\"559.356\" y2=\"238.905\" stroke-linecap=\"round\" style=\"stroke:black;stroke-width:1\" /><line x1=\"559.356\" y1=\"238.905\" x2=\"555.436\" y2=\"244.503\" stroke-linecap=\"round\" style=\"stroke:black;stroke-width:1\" /><line x1=\"555.436\" y1=\"244.503\" x2=\"563.464\" y2=\"241.581\" stroke-linecap=\"round\" style=\"stroke:black;stroke-width:1\" /><line x1=\"563.464\" y1=\"241.581\" x2=\"567.663\" y2=\"238.641\" stroke-linecap=\"round\" style=\"stroke:black;stroke-width:1\" /><line x1=\"567.663\" y1=\"238.641\" x2=\"563.464\" y2=\"241.581\" stroke-linecap=\"round\" style=\"stroke:black;stroke-width:1\" /><line x1=\"563.464\" y1=\"241.581\" x2=\"569.871\" y2=\"241.581\" stroke-linecap=\"round\" style=\"stroke:black;stroke-width:1\" /><line x1=\"569.871\" y1=\"241.581\" x2=\"563.464\" y2=\"241.581\" stroke-linecap=\"round\" style=\"stroke:black;stroke-width:1\" /><line x1=\"563.464\" y1=\"241.581\" x2=\"555.436\" y2=\"244.503\" stroke-linecap=\"round\" style=\"stroke:black;stroke-width:1\" /><line x1=\"555.436\" y1=\"244.503\" x2=\"546.71\" y2=\"251.825\" stroke-linecap=\"round\" style=\"stroke:black;stroke-width:1\" /><line x1=\"546.71\" y1=\"251.825\" x2=\"560.894\" y2=\"250.584\" stroke-linecap=\"round\" style=\"stroke:black;stroke-width:1\" /><line x1=\"560.894\" y1=\"250.584\" x2=\"568.922\" y2=\"247.662\" stroke-linecap=\"round\" style=\"stroke:black;stroke-width:1\" /><line x1=\"568.922\" y1=\"247.662\" x2=\"573.121\" y2=\"244.722\" stroke-linecap=\"round\" style=\"stroke:black;stroke-width:1\" /><line x1=\"573.121\" y1=\"244.722\" x2=\"568.922\" y2=\"247.662\" stroke-linecap=\"round\" style=\"stroke:black;stroke-width:1\" /><line x1=\"568.922\" y1=\"247.662\" x2=\"575.329\" y2=\"247.662\" stroke-linecap=\"round\" style=\"stroke:black;stroke-width:1\" /><line x1=\"575.329\" y1=\"247.662\" x2=\"568.922\" y2=\"247.662\" stroke-linecap=\"round\" style=\"stroke:black;stroke-width:1\" /><line x1=\"568.922\" y1=\"247.662\" x2=\"560.894\" y2=\"250.584\" stroke-linecap=\"round\" style=\"stroke:black;stroke-width:1\" /><line x1=\"560.894\" y1=\"250.584\" x2=\"571.209\" y2=\"253.348\" stroke-linecap=\"round\" style=\"stroke:black;stroke-width:1\" /><line x1=\"571.209\" y1=\"253.348\" x2=\"577.616\" y2=\"253.348\" stroke-linecap=\"round\" style=\"stroke:black;stroke-width:1\" /><line x1=\"577.616\" y1=\"253.348\" x2=\"571.209\" y2=\"253.348\" stroke-linecap=\"round\" style=\"stroke:black;stroke-width:1\" /><line x1=\"571.209\" y1=\"253.348\" x2=\"577.77\" y2=\"257.942\" stroke-linecap=\"round\" style=\"stroke:black;stroke-width:1\" /><line x1=\"577.77\" y1=\"257.942\" x2=\"581.215\" y2=\"262.862\" stroke-linecap=\"round\" style=\"stroke:black;stroke-width:1\" /><line x1=\"581.215\" y1=\"262.862\" x2=\"577.77\" y2=\"257.942\" stroke-linecap=\"round\" style=\"stroke:black;stroke-width:1\" /><line x1=\"577.77\" y1=\"257.942\" x2=\"571.209\" y2=\"253.348\" stroke-linecap=\"round\" style=\"stroke:black;stroke-width:1\" /><line x1=\"571.209\" y1=\"253.348\" x2=\"560.894\" y2=\"250.584\" stroke-linecap=\"round\" style=\"stroke:black;stroke-width:1\" /><line x1=\"560.894\" y1=\"250.584\" x2=\"546.71\" y2=\"251.825\" stroke-linecap=\"round\" style=\"stroke:black;stroke-width:1\" /><line x1=\"546.71\" y1=\"251.825\" x2=\"529.504\" y2=\"259.848\" stroke-linecap=\"round\" style=\"stroke:black;stroke-width:1\" /><line x1=\"529.504\" y1=\"259.848\" x2=\"552.874\" y2=\"263.969\" stroke-linecap=\"round\" style=\"stroke:black;stroke-width:1\" /><line x1=\"552.874\" y1=\"263.969\" x2=\"567.058\" y2=\"262.728\" stroke-linecap=\"round\" style=\"stroke:black;stroke-width:1\" /><line x1=\"567.058\" y1=\"262.728\" x2=\"575.086\" y2=\"259.806\" stroke-linecap=\"round\" style=\"stroke:black;stroke-width:1\" /><line x1=\"575.086\" y1=\"259.806\" x2=\"579.285\" y2=\"256.866\" stroke-linecap=\"round\" style=\"stroke:black;stroke-width:1\" /><line x1=\"579.285\" y1=\"256.866\" x2=\"575.086\" y2=\"259.806\" stroke-linecap=\"round\" style=\"stroke:black;stroke-width:1\" /><line x1=\"575.086\" y1=\"259.806\" x2=\"581.493\" y2=\"259.806\" stroke-linecap=\"round\" style=\"stroke:black;stroke-width:1\" /><line x1=\"581.493\" y1=\"259.806\" x2=\"575.086\" y2=\"259.806\" stroke-linecap=\"round\" style=\"stroke:black;stroke-width:1\" /><line x1=\"575.086\" y1=\"259.806\" x2=\"567.058\" y2=\"262.728\" stroke-linecap=\"round\" style=\"stroke:black;stroke-width:1\" /><line x1=\"567.058\" y1=\"262.728\" x2=\"577.373\" y2=\"265.492\" stroke-linecap=\"round\" style=\"stroke:black;stroke-width:1\" /><line x1=\"577.373\" y1=\"265.492\" x2=\"583.78\" y2=\"265.492\" stroke-linecap=\"round\" style=\"stroke:black;stroke-width:1\" /><line x1=\"583.78\" y1=\"265.492\" x2=\"577.373\" y2=\"265.492\" stroke-linecap=\"round\" style=\"stroke:black;stroke-width:1\" /><line x1=\"577.373\" y1=\"265.492\" x2=\"583.934\" y2=\"270.086\" stroke-linecap=\"round\" style=\"stroke:black;stroke-width:1\" /><line x1=\"583.934\" y1=\"270.086\" x2=\"587.379\" y2=\"275.006\" stroke-linecap=\"round\" style=\"stroke:black;stroke-width:1\" /><line x1=\"587.379\" y1=\"275.006\" x2=\"583.934\" y2=\"270.086\" stroke-linecap=\"round\" style=\"stroke:black;stroke-width:1\" /><line x1=\"583.934\" y1=\"270.086\" x2=\"577.373\" y2=\"265.492\" stroke-linecap=\"round\" style=\"stroke:black;stroke-width:1\" /><line x1=\"577.373\" y1=\"265.492\" x2=\"567.058\" y2=\"262.728\" stroke-linecap=\"round\" style=\"stroke:black;stroke-width:1\" /><line x1=\"567.058\" y1=\"262.728\" x2=\"552.874\" y2=\"263.969\" stroke-linecap=\"round\" style=\"stroke:black;stroke-width:1\" /><line x1=\"552.874\" y1=\"263.969\" x2=\"568.287\" y2=\"272.868\" stroke-linecap=\"round\" style=\"stroke:black;stroke-width:1\" /><line x1=\"568.287\" y1=\"272.868\" x2=\"578.602\" y2=\"275.632\" stroke-linecap=\"round\" style=\"stroke:black;stroke-width:1\" /><line x1=\"578.602\" y1=\"275.632\" x2=\"585.009\" y2=\"275.632\" stroke-linecap=\"round\" style=\"stroke:black;stroke-width:1\" /><line x1=\"585.009\" y1=\"275.632\" x2=\"578.602\" y2=\"275.632\" stroke-linecap=\"round\" style=\"stroke:black;stroke-width:1\" /><line x1=\"578.602\" y1=\"275.632\" x2=\"585.163\" y2=\"280.226\" stroke-linecap=\"round\" style=\"stroke:black;stroke-width:1\" /><line x1=\"585.163\" y1=\"280.226\" x2=\"588.608\" y2=\"285.146\" stroke-linecap=\"round\" style=\"stroke:black;stroke-width:1\" /><line x1=\"588.608\" y1=\"285.146\" x2=\"585.163\" y2=\"280.226\" stroke-linecap=\"round\" style=\"stroke:black;stroke-width:1\" /><line x1=\"585.163\" y1=\"280.226\" x2=\"578.602\" y2=\"275.632\" stroke-linecap=\"round\" style=\"stroke:black;stroke-width:1\" /><line x1=\"578.602\" y1=\"275.632\" x2=\"568.287\" y2=\"272.868\" stroke-linecap=\"round\" style=\"stroke:black;stroke-width:1\" /><line x1=\"568.287\" y1=\"272.868\" x2=\"576.867\" y2=\"283.093\" stroke-linecap=\"round\" style=\"stroke:black;stroke-width:1\" /><line x1=\"576.867\" y1=\"283.093\" x2=\"583.428\" y2=\"287.687\" stroke-linecap=\"round\" style=\"stroke:black;stroke-width:1\" /><line x1=\"583.428\" y1=\"287.687\" x2=\"586.873\" y2=\"292.607\" stroke-linecap=\"round\" style=\"stroke:black;stroke-width:1\" /><line x1=\"586.873\" y1=\"292.607\" x2=\"583.428\" y2=\"287.687\" stroke-linecap=\"round\" style=\"stroke:black;stroke-width:1\" /><line x1=\"583.428\" y1=\"287.687\" x2=\"576.867\" y2=\"283.093\" stroke-linecap=\"round\" style=\"stroke:black;stroke-width:1\" /><line x1=\"576.867\" y1=\"283.093\" x2=\"580.291\" y2=\"292.501\" stroke-linecap=\"round\" style=\"stroke:black;stroke-width:1\" /><line x1=\"580.291\" y1=\"292.501\" x2=\"583.736\" y2=\"297.421\" stroke-linecap=\"round\" style=\"stroke:black;stroke-width:1\" /><line x1=\"583.736\" y1=\"297.421\" x2=\"580.291\" y2=\"292.501\" stroke-linecap=\"round\" style=\"stroke:black;stroke-width:1\" /><line x1=\"580.291\" y1=\"292.501\" x2=\"580.291\" y2=\"300.009\" stroke-linecap=\"round\" style=\"stroke:black;stroke-width:1\" /><line x1=\"580.291\" y1=\"300.009\" x2=\"578.365\" y2=\"305.301\" stroke-linecap=\"round\" style=\"stroke:black;stroke-width:1\" /><line x1=\"578.365\" y1=\"305.301\" x2=\"580.291\" y2=\"300.009\" stroke-linecap=\"round\" style=\"stroke:black;stroke-width:1\" /><line x1=\"580.291\" y1=\"300.009\" x2=\"580.291\" y2=\"292.501\" stroke-linecap=\"round\" style=\"stroke:black;stroke-width:1\" /><line x1=\"580.291\" y1=\"292.501\" x2=\"576.867\" y2=\"283.093\" stroke-linecap=\"round\" style=\"stroke:black;stroke-width:1\" /><line x1=\"576.867\" y1=\"283.093\" x2=\"568.287\" y2=\"272.868\" stroke-linecap=\"round\" style=\"stroke:black;stroke-width:1\" /><line x1=\"568.287\" y1=\"272.868\" x2=\"552.874\" y2=\"263.969\" stroke-linecap=\"round\" style=\"stroke:black;stroke-width:1\" /><line x1=\"552.874\" y1=\"263.969\" x2=\"529.504\" y2=\"259.848\" stroke-linecap=\"round\" style=\"stroke:black;stroke-width:1\" /><line x1=\"529.504\" y1=\"259.848\" x2=\"498.344\" y2=\"265.342\" stroke-linecap=\"round\" style=\"stroke:black;stroke-width:1\" /><line x1=\"498.344\" y1=\"265.342\" x2=\"461.809\" y2=\"286.436\" stroke-linecap=\"round\" style=\"stroke:black;stroke-width:1\" /><line x1=\"461.809\" y1=\"286.436\" x2=\"425.652\" y2=\"329.526\" stroke-linecap=\"round\" style=\"stroke:black;stroke-width:1\" /><line x1=\"425.652\" y1=\"329.526\" x2=\"400.0\" y2=\"400.003\" stroke-linecap=\"round\" style=\"stroke:black;stroke-width:1\" /><line x1=\"400.0\" y1=\"400.003\" x2=\"400.0\" y2=\"500.003\" stroke-linecap=\"round\" style=\"stroke:black;stroke-width:1\" />\n",
       "        \n",
       "        \n",
       "        <g id=\"classic\" visibility=\"visible\" transform=\"rotate(180,400.0,500.003) translate(400.0, 500.003)\">\n",
       "<polygon points=\"-5,-4.5 0,-2.5 5,-4.5 0,4.5\" transform=\"skewX(0) scale(1,1)\" style=\"stroke:black;fill:black;stroke-width:1\" />\n",
       "</g>\n",
       "      </svg>\n",
       "    "
      ],
      "text/plain": [
       "<IPython.core.display.HTML object>"
      ]
     },
     "metadata": {},
     "output_type": "display_data"
    }
   ],
   "source": [
    "def tree(size):\n",
    "    if size>5:\n",
    "        forward(size)\n",
    "        left(15)\n",
    "        tree(size * 0.6)\n",
    "        right(35)\n",
    "        tree(size * 0.75)\n",
    "        left(20)\n",
    "        backward(size)\n",
    "    else:\n",
    "        return\n",
    "\n",
    "clearscreen()\n",
    "goto(0,-200)\n",
    "clear()\n",
    "face(90)\n",
    "speed(13)\n",
    "\n",
    "tree(100)\n",
    "done()"
   ]
  },
  {
   "cell_type": "markdown",
   "id": "7560abc3",
   "metadata": {
    "slideshow": {
     "slide_type": "slide"
    }
   },
   "source": [
    "### Now investigate and modify my code. Make something beautiful. Make something interesting."
   ]
  },
  {
   "cell_type": "markdown",
   "id": "da40b62a",
   "metadata": {
    "slideshow": {
     "slide_type": "slide"
    }
   },
   "source": [
    "### OK, so try *making* some fractals. Here are two that you could try...\n",
    "\n",
    "![two fractals](images/fractals.png)"
   ]
  },
  {
   "cell_type": "markdown",
   "id": "49194164",
   "metadata": {
    "slideshow": {
     "slide_type": "slide"
    }
   },
   "source": [
    "### One more - random fractals"
   ]
  },
  {
   "cell_type": "code",
   "execution_count": 37,
   "id": "5ae4a1a9",
   "metadata": {
    "slideshow": {
     "slide_type": "-"
    }
   },
   "outputs": [
    {
     "data": {
      "text/html": [
       "\n",
       "      <svg width=\"800\" height=\"600\">  \n",
       "        <rect width=\"100%\" height=\"100%\" style=\"fill:white;stroke:;stroke-width:1\"/>\n",
       "        \n",
       "        \n",
       "        <line x1=\"400.0\" y1=\"300.0\" x2=\"391.449\" y2=\"276.508\" stroke-linecap=\"round\" style=\"stroke:black;stroke-width:1\" /><line x1=\"391.449\" y1=\"276.508\" x2=\"375.379\" y2=\"257.357\" stroke-linecap=\"round\" style=\"stroke:black;stroke-width:1\" /><line x1=\"375.379\" y1=\"257.357\" x2=\"353.728\" y2=\"244.857\" stroke-linecap=\"round\" style=\"stroke:black;stroke-width:1\" /><line x1=\"353.728\" y1=\"244.857\" x2=\"340.738\" y2=\"237.357\" stroke-linecap=\"round\" style=\"stroke:black;stroke-width:1\" /><line x1=\"340.738\" y1=\"237.357\" x2=\"353.728\" y2=\"229.857\" stroke-linecap=\"round\" style=\"stroke:black;stroke-width:1\" /><line x1=\"353.728\" y1=\"229.857\" x2=\"353.728\" y2=\"244.857\" stroke-linecap=\"round\" style=\"stroke:black;stroke-width:1\" /><line x1=\"353.728\" y1=\"244.857\" x2=\"375.379\" y2=\"257.357\" stroke-linecap=\"round\" style=\"stroke:black;stroke-width:1\" /><line x1=\"375.379\" y1=\"257.357\" x2=\"366.828\" y2=\"233.865\" stroke-linecap=\"round\" style=\"stroke:black;stroke-width:1\" /><line x1=\"366.828\" y1=\"233.865\" x2=\"350.758\" y2=\"214.714\" stroke-linecap=\"round\" style=\"stroke:black;stroke-width:1\" /><line x1=\"350.758\" y1=\"214.714\" x2=\"341.116\" y2=\"203.223\" stroke-linecap=\"round\" style=\"stroke:black;stroke-width:1\" /><line x1=\"341.116\" y1=\"203.223\" x2=\"349.065\" y2=\"190.502\" stroke-linecap=\"round\" style=\"stroke:black;stroke-width:1\" /><line x1=\"349.065\" y1=\"190.502\" x2=\"363.619\" y2=\"194.131\" stroke-linecap=\"round\" style=\"stroke:black;stroke-width:1\" /><line x1=\"363.619\" y1=\"194.131\" x2=\"364.665\" y2=\"209.094\" stroke-linecap=\"round\" style=\"stroke:black;stroke-width:1\" /><line x1=\"364.665\" y1=\"209.094\" x2=\"350.757\" y2=\"214.713\" stroke-linecap=\"round\" style=\"stroke:black;stroke-width:1\" /><line x1=\"350.757\" y1=\"214.713\" x2=\"366.827\" y2=\"233.864\" stroke-linecap=\"round\" style=\"stroke:black;stroke-width:1\" /><line x1=\"366.827\" y1=\"233.864\" x2=\"366.827\" y2=\"208.864\" stroke-linecap=\"round\" style=\"stroke:black;stroke-width:1\" /><line x1=\"366.827\" y1=\"208.864\" x2=\"358.276\" y2=\"185.372\" stroke-linecap=\"round\" style=\"stroke:black;stroke-width:1\" /><line x1=\"358.276\" y1=\"185.372\" x2=\"353.146\" y2=\"171.277\" stroke-linecap=\"round\" style=\"stroke:black;stroke-width:1\" /><line x1=\"353.146\" y1=\"171.277\" x2=\"364.966\" y2=\"162.042\" stroke-linecap=\"round\" style=\"stroke:black;stroke-width:1\" /><line x1=\"364.966\" y1=\"162.042\" x2=\"377.402\" y2=\"170.43\" stroke-linecap=\"round\" style=\"stroke:black;stroke-width:1\" /><line x1=\"377.402\" y1=\"170.43\" x2=\"373.267\" y2=\"184.849\" stroke-linecap=\"round\" style=\"stroke:black;stroke-width:1\" /><line x1=\"373.267\" y1=\"184.849\" x2=\"358.276\" y2=\"185.372\" stroke-linecap=\"round\" style=\"stroke:black;stroke-width:1\" /><line x1=\"358.276\" y1=\"185.372\" x2=\"366.827\" y2=\"208.864\" stroke-linecap=\"round\" style=\"stroke:black;stroke-width:1\" /><line x1=\"366.827\" y1=\"208.864\" x2=\"375.378\" y2=\"185.372\" stroke-linecap=\"round\" style=\"stroke:black;stroke-width:1\" /><line x1=\"375.378\" y1=\"185.372\" x2=\"375.378\" y2=\"160.372\" stroke-linecap=\"round\" style=\"stroke:black;stroke-width:1\" /><line x1=\"375.378\" y1=\"160.372\" x2=\"366.827\" y2=\"136.88\" stroke-linecap=\"round\" style=\"stroke:black;stroke-width:1\" /><line x1=\"366.827\" y1=\"136.88\" x2=\"361.697\" y2=\"122.785\" stroke-linecap=\"round\" style=\"stroke:black;stroke-width:1\" /><line x1=\"361.697\" y1=\"122.785\" x2=\"375.792\" y2=\"117.655\" stroke-linecap=\"round\" style=\"stroke:black;stroke-width:1\" /><line x1=\"375.792\" y1=\"117.655\" x2=\"380.922\" y2=\"131.75\" stroke-linecap=\"round\" style=\"stroke:black;stroke-width:1\" /><line x1=\"380.922\" y1=\"131.75\" x2=\"366.827\" y2=\"136.88\" stroke-linecap=\"round\" style=\"stroke:black;stroke-width:1\" /><line x1=\"366.827\" y1=\"136.88\" x2=\"375.378\" y2=\"160.372\" stroke-linecap=\"round\" style=\"stroke:black;stroke-width:1\" /><line x1=\"375.378\" y1=\"160.372\" x2=\"383.929\" y2=\"136.88\" stroke-linecap=\"round\" style=\"stroke:black;stroke-width:1\" /><line x1=\"383.929\" y1=\"136.88\" x2=\"383.929\" y2=\"111.88\" stroke-linecap=\"round\" style=\"stroke:black;stroke-width:1\" /><line x1=\"383.929\" y1=\"111.88\" x2=\"383.929\" y2=\"96.88\" stroke-linecap=\"round\" style=\"stroke:black;stroke-width:1\" /><line x1=\"383.929\" y1=\"96.88\" x2=\"396.919\" y2=\"104.38\" stroke-linecap=\"round\" style=\"stroke:black;stroke-width:1\" /><line x1=\"396.919\" y1=\"104.38\" x2=\"383.929\" y2=\"111.88\" stroke-linecap=\"round\" style=\"stroke:black;stroke-width:1\" /><line x1=\"383.929\" y1=\"111.88\" x2=\"383.929\" y2=\"136.88\" stroke-linecap=\"round\" style=\"stroke:black;stroke-width:1\" /><line x1=\"383.929\" y1=\"136.88\" x2=\"399.999\" y2=\"117.729\" stroke-linecap=\"round\" style=\"stroke:black;stroke-width:1\" /><line x1=\"399.999\" y1=\"117.729\" x2=\"409.641\" y2=\"106.238\" stroke-linecap=\"round\" style=\"stroke:black;stroke-width:1\" /><line x1=\"409.641\" y1=\"106.238\" x2=\"421.132\" y2=\"115.88\" stroke-linecap=\"round\" style=\"stroke:black;stroke-width:1\" /><line x1=\"421.132\" y1=\"115.88\" x2=\"411.49\" y2=\"127.371\" stroke-linecap=\"round\" style=\"stroke:black;stroke-width:1\" /><line x1=\"411.49\" y1=\"127.371\" x2=\"399.999\" y2=\"117.729\" stroke-linecap=\"round\" style=\"stroke:black;stroke-width:1\" /><line x1=\"399.999\" y1=\"117.729\" x2=\"383.929\" y2=\"136.88\" stroke-linecap=\"round\" style=\"stroke:black;stroke-width:1\" /><line x1=\"383.929\" y1=\"136.88\" x2=\"375.378\" y2=\"160.372\" stroke-linecap=\"round\" style=\"stroke:black;stroke-width:1\" /><line x1=\"375.378\" y1=\"160.372\" x2=\"375.378\" y2=\"185.372\" stroke-linecap=\"round\" style=\"stroke:black;stroke-width:1\" /><line x1=\"375.378\" y1=\"185.372\" x2=\"391.448\" y2=\"166.221\" stroke-linecap=\"round\" style=\"stroke:black;stroke-width:1\" /><line x1=\"391.448\" y1=\"166.221\" x2=\"401.09\" y2=\"154.73\" stroke-linecap=\"round\" style=\"stroke:black;stroke-width:1\" /><line x1=\"401.09\" y1=\"154.73\" x2=\"412.581\" y2=\"164.372\" stroke-linecap=\"round\" style=\"stroke:black;stroke-width:1\" /><line x1=\"412.581\" y1=\"164.372\" x2=\"402.939\" y2=\"175.863\" stroke-linecap=\"round\" style=\"stroke:black;stroke-width:1\" /><line x1=\"402.939\" y1=\"175.863\" x2=\"391.448\" y2=\"166.221\" stroke-linecap=\"round\" style=\"stroke:black;stroke-width:1\" /><line x1=\"391.448\" y1=\"166.221\" x2=\"375.378\" y2=\"185.372\" stroke-linecap=\"round\" style=\"stroke:black;stroke-width:1\" /><line x1=\"375.378\" y1=\"185.372\" x2=\"366.827\" y2=\"208.864\" stroke-linecap=\"round\" style=\"stroke:black;stroke-width:1\" /><line x1=\"366.827\" y1=\"208.864\" x2=\"366.827\" y2=\"233.864\" stroke-linecap=\"round\" style=\"stroke:black;stroke-width:1\" /><line x1=\"366.827\" y1=\"233.864\" x2=\"375.378\" y2=\"257.356\" stroke-linecap=\"round\" style=\"stroke:black;stroke-width:1\" /><line x1=\"375.378\" y1=\"257.356\" x2=\"391.448\" y2=\"276.507\" stroke-linecap=\"round\" style=\"stroke:black;stroke-width:1\" /><line x1=\"391.448\" y1=\"276.507\" x2=\"391.448\" y2=\"251.507\" stroke-linecap=\"round\" style=\"stroke:black;stroke-width:1\" /><line x1=\"391.448\" y1=\"251.507\" x2=\"382.897\" y2=\"228.015\" stroke-linecap=\"round\" style=\"stroke:black;stroke-width:1\" /><line x1=\"382.897\" y1=\"228.015\" x2=\"366.827\" y2=\"208.864\" stroke-linecap=\"round\" style=\"stroke:black;stroke-width:1\" /><line x1=\"366.827\" y1=\"208.864\" x2=\"357.185\" y2=\"197.373\" stroke-linecap=\"round\" style=\"stroke:black;stroke-width:1\" /><line x1=\"357.185\" y1=\"197.373\" x2=\"365.134\" y2=\"184.652\" stroke-linecap=\"round\" style=\"stroke:black;stroke-width:1\" /><line x1=\"365.134\" y1=\"184.652\" x2=\"379.688\" y2=\"188.281\" stroke-linecap=\"round\" style=\"stroke:black;stroke-width:1\" /><line x1=\"379.688\" y1=\"188.281\" x2=\"380.734\" y2=\"203.244\" stroke-linecap=\"round\" style=\"stroke:black;stroke-width:1\" /><line x1=\"380.734\" y1=\"203.244\" x2=\"366.826\" y2=\"208.863\" stroke-linecap=\"round\" style=\"stroke:black;stroke-width:1\" /><line x1=\"366.826\" y1=\"208.863\" x2=\"382.896\" y2=\"228.014\" stroke-linecap=\"round\" style=\"stroke:black;stroke-width:1\" /><line x1=\"382.896\" y1=\"228.014\" x2=\"382.896\" y2=\"203.014\" stroke-linecap=\"round\" style=\"stroke:black;stroke-width:1\" /><line x1=\"382.896\" y1=\"203.014\" x2=\"382.896\" y2=\"188.014\" stroke-linecap=\"round\" style=\"stroke:black;stroke-width:1\" /><line x1=\"382.896\" y1=\"188.014\" x2=\"397.162\" y2=\"183.379\" stroke-linecap=\"round\" style=\"stroke:black;stroke-width:1\" /><line x1=\"397.162\" y1=\"183.379\" x2=\"405.979\" y2=\"195.514\" stroke-linecap=\"round\" style=\"stroke:black;stroke-width:1\" /><line x1=\"405.979\" y1=\"195.514\" x2=\"397.162\" y2=\"207.649\" stroke-linecap=\"round\" style=\"stroke:black;stroke-width:1\" /><line x1=\"397.162\" y1=\"207.649\" x2=\"382.896\" y2=\"203.014\" stroke-linecap=\"round\" style=\"stroke:black;stroke-width:1\" /><line x1=\"382.896\" y1=\"203.014\" x2=\"382.896\" y2=\"228.014\" stroke-linecap=\"round\" style=\"stroke:black;stroke-width:1\" /><line x1=\"382.896\" y1=\"228.014\" x2=\"391.447\" y2=\"251.506\" stroke-linecap=\"round\" style=\"stroke:black;stroke-width:1\" /><line x1=\"391.447\" y1=\"251.506\" x2=\"399.998\" y2=\"228.014\" stroke-linecap=\"round\" style=\"stroke:black;stroke-width:1\" /><line x1=\"399.998\" y1=\"228.014\" x2=\"399.998\" y2=\"203.014\" stroke-linecap=\"round\" style=\"stroke:black;stroke-width:1\" /><line x1=\"399.998\" y1=\"203.014\" x2=\"391.447\" y2=\"179.522\" stroke-linecap=\"round\" style=\"stroke:black;stroke-width:1\" /><line x1=\"391.447\" y1=\"179.522\" x2=\"375.377\" y2=\"160.371\" stroke-linecap=\"round\" style=\"stroke:black;stroke-width:1\" /><line x1=\"375.377\" y1=\"160.371\" x2=\"353.726\" y2=\"147.871\" stroke-linecap=\"round\" style=\"stroke:black;stroke-width:1\" /><line x1=\"353.726\" y1=\"147.871\" x2=\"340.736\" y2=\"140.371\" stroke-linecap=\"round\" style=\"stroke:black;stroke-width:1\" /><line x1=\"340.736\" y1=\"140.371\" x2=\"353.726\" y2=\"132.871\" stroke-linecap=\"round\" style=\"stroke:black;stroke-width:1\" /><line x1=\"353.726\" y1=\"132.871\" x2=\"353.726\" y2=\"147.871\" stroke-linecap=\"round\" style=\"stroke:black;stroke-width:1\" /><line x1=\"353.726\" y1=\"147.871\" x2=\"375.377\" y2=\"160.371\" stroke-linecap=\"round\" style=\"stroke:black;stroke-width:1\" /><line x1=\"375.377\" y1=\"160.371\" x2=\"366.826\" y2=\"136.879\" stroke-linecap=\"round\" style=\"stroke:black;stroke-width:1\" /><line x1=\"366.826\" y1=\"136.879\" x2=\"361.696\" y2=\"122.784\" stroke-linecap=\"round\" style=\"stroke:black;stroke-width:1\" /><line x1=\"361.696\" y1=\"122.784\" x2=\"373.516\" y2=\"113.549\" stroke-linecap=\"round\" style=\"stroke:black;stroke-width:1\" /><line x1=\"373.516\" y1=\"113.549\" x2=\"385.952\" y2=\"121.937\" stroke-linecap=\"round\" style=\"stroke:black;stroke-width:1\" /><line x1=\"385.952\" y1=\"121.937\" x2=\"381.817\" y2=\"136.356\" stroke-linecap=\"round\" style=\"stroke:black;stroke-width:1\" /><line x1=\"381.817\" y1=\"136.356\" x2=\"366.826\" y2=\"136.879\" stroke-linecap=\"round\" style=\"stroke:black;stroke-width:1\" /><line x1=\"366.826\" y1=\"136.879\" x2=\"375.377\" y2=\"160.371\" stroke-linecap=\"round\" style=\"stroke:black;stroke-width:1\" /><line x1=\"375.377\" y1=\"160.371\" x2=\"391.447\" y2=\"179.522\" stroke-linecap=\"round\" style=\"stroke:black;stroke-width:1\" /><line x1=\"391.447\" y1=\"179.522\" x2=\"391.447\" y2=\"154.522\" stroke-linecap=\"round\" style=\"stroke:black;stroke-width:1\" /><line x1=\"391.447\" y1=\"154.522\" x2=\"382.896\" y2=\"131.03\" stroke-linecap=\"round\" style=\"stroke:black;stroke-width:1\" /><line x1=\"382.896\" y1=\"131.03\" x2=\"366.826\" y2=\"111.879\" stroke-linecap=\"round\" style=\"stroke:black;stroke-width:1\" /><line x1=\"366.826\" y1=\"111.879\" x2=\"357.184\" y2=\"100.388\" stroke-linecap=\"round\" style=\"stroke:black;stroke-width:1\" /><line x1=\"357.184\" y1=\"100.388\" x2=\"371.956\" y2=\"97.783\" stroke-linecap=\"round\" style=\"stroke:black;stroke-width:1\" /><line x1=\"371.956\" y1=\"97.783\" x2=\"366.826\" y2=\"111.878\" stroke-linecap=\"round\" style=\"stroke:black;stroke-width:1\" /><line x1=\"366.826\" y1=\"111.878\" x2=\"382.896\" y2=\"131.029\" stroke-linecap=\"round\" style=\"stroke:black;stroke-width:1\" /><line x1=\"382.896\" y1=\"131.029\" x2=\"382.896\" y2=\"106.029\" stroke-linecap=\"round\" style=\"stroke:black;stroke-width:1\" /><line x1=\"382.896\" y1=\"106.029\" x2=\"382.896\" y2=\"91.029\" stroke-linecap=\"round\" style=\"stroke:black;stroke-width:1\" /><line x1=\"382.896\" y1=\"91.029\" x2=\"397.896\" y2=\"91.029\" stroke-linecap=\"round\" style=\"stroke:black;stroke-width:1\" /><line x1=\"397.896\" y1=\"91.029\" x2=\"397.896\" y2=\"106.029\" stroke-linecap=\"round\" style=\"stroke:black;stroke-width:1\" /><line x1=\"397.896\" y1=\"106.029\" x2=\"382.896\" y2=\"106.029\" stroke-linecap=\"round\" style=\"stroke:black;stroke-width:1\" /><line x1=\"382.896\" y1=\"106.029\" x2=\"382.896\" y2=\"131.029\" stroke-linecap=\"round\" style=\"stroke:black;stroke-width:1\" /><line x1=\"382.896\" y1=\"131.029\" x2=\"391.447\" y2=\"154.521\" stroke-linecap=\"round\" style=\"stroke:black;stroke-width:1\" /><line x1=\"391.447\" y1=\"154.521\" x2=\"399.998\" y2=\"131.029\" stroke-linecap=\"round\" style=\"stroke:black;stroke-width:1\" /><line x1=\"399.998\" y1=\"131.029\" x2=\"405.128\" y2=\"116.934\" stroke-linecap=\"round\" style=\"stroke:black;stroke-width:1\" /><line x1=\"405.128\" y1=\"116.934\" x2=\"420.119\" y2=\"117.457\" stroke-linecap=\"round\" style=\"stroke:black;stroke-width:1\" /><line x1=\"420.119\" y1=\"117.457\" x2=\"424.254\" y2=\"131.876\" stroke-linecap=\"round\" style=\"stroke:black;stroke-width:1\" /><line x1=\"424.254\" y1=\"131.876\" x2=\"411.818\" y2=\"140.264\" stroke-linecap=\"round\" style=\"stroke:black;stroke-width:1\" /><line x1=\"411.818\" y1=\"140.264\" x2=\"399.998\" y2=\"131.029\" stroke-linecap=\"round\" style=\"stroke:black;stroke-width:1\" /><line x1=\"399.998\" y1=\"131.029\" x2=\"391.447\" y2=\"154.521\" stroke-linecap=\"round\" style=\"stroke:black;stroke-width:1\" /><line x1=\"391.447\" y1=\"154.521\" x2=\"391.447\" y2=\"179.521\" stroke-linecap=\"round\" style=\"stroke:black;stroke-width:1\" /><line x1=\"391.447\" y1=\"179.521\" x2=\"399.998\" y2=\"203.013\" stroke-linecap=\"round\" style=\"stroke:black;stroke-width:1\" /><line x1=\"399.998\" y1=\"203.013\" x2=\"408.549\" y2=\"179.521\" stroke-linecap=\"round\" style=\"stroke:black;stroke-width:1\" /><line x1=\"408.549\" y1=\"179.521\" x2=\"408.549\" y2=\"154.521\" stroke-linecap=\"round\" style=\"stroke:black;stroke-width:1\" /><line x1=\"408.549\" y1=\"154.521\" x2=\"408.549\" y2=\"139.521\" stroke-linecap=\"round\" style=\"stroke:black;stroke-width:1\" /><line x1=\"408.549\" y1=\"139.521\" x2=\"421.539\" y2=\"147.021\" stroke-linecap=\"round\" style=\"stroke:black;stroke-width:1\" /><line x1=\"421.539\" y1=\"147.021\" x2=\"408.549\" y2=\"154.521\" stroke-linecap=\"round\" style=\"stroke:black;stroke-width:1\" /><line x1=\"408.549\" y1=\"154.521\" x2=\"408.549\" y2=\"179.521\" stroke-linecap=\"round\" style=\"stroke:black;stroke-width:1\" /><line x1=\"408.549\" y1=\"179.521\" x2=\"424.619\" y2=\"160.37\" stroke-linecap=\"round\" style=\"stroke:black;stroke-width:1\" /><line x1=\"424.619\" y1=\"160.37\" x2=\"433.17\" y2=\"136.878\" stroke-linecap=\"round\" style=\"stroke:black;stroke-width:1\" /><line x1=\"433.17\" y1=\"136.878\" x2=\"438.3\" y2=\"122.783\" stroke-linecap=\"round\" style=\"stroke:black;stroke-width:1\" /><line x1=\"438.3\" y1=\"122.783\" x2=\"453.291\" y2=\"123.306\" stroke-linecap=\"round\" style=\"stroke:black;stroke-width:1\" /><line x1=\"453.291\" y1=\"123.306\" x2=\"457.426\" y2=\"137.725\" stroke-linecap=\"round\" style=\"stroke:black;stroke-width:1\" /><line x1=\"457.426\" y1=\"137.725\" x2=\"444.99\" y2=\"146.113\" stroke-linecap=\"round\" style=\"stroke:black;stroke-width:1\" /><line x1=\"444.99\" y1=\"146.113\" x2=\"433.17\" y2=\"136.878\" stroke-linecap=\"round\" style=\"stroke:black;stroke-width:1\" /><line x1=\"433.17\" y1=\"136.878\" x2=\"424.619\" y2=\"160.37\" stroke-linecap=\"round\" style=\"stroke:black;stroke-width:1\" /><line x1=\"424.619\" y1=\"160.37\" x2=\"446.27\" y2=\"147.87\" stroke-linecap=\"round\" style=\"stroke:black;stroke-width:1\" /><line x1=\"446.27\" y1=\"147.87\" x2=\"462.34\" y2=\"128.719\" stroke-linecap=\"round\" style=\"stroke:black;stroke-width:1\" /><line x1=\"462.34\" y1=\"128.719\" x2=\"471.982\" y2=\"117.228\" stroke-linecap=\"round\" style=\"stroke:black;stroke-width:1\" /><line x1=\"471.982\" y1=\"117.228\" x2=\"477.112\" y2=\"131.323\" stroke-linecap=\"round\" style=\"stroke:black;stroke-width:1\" /><line x1=\"477.112\" y1=\"131.323\" x2=\"462.34\" y2=\"128.718\" stroke-linecap=\"round\" style=\"stroke:black;stroke-width:1\" /><line x1=\"462.34\" y1=\"128.718\" x2=\"446.27\" y2=\"147.869\" stroke-linecap=\"round\" style=\"stroke:black;stroke-width:1\" /><line x1=\"446.27\" y1=\"147.869\" x2=\"470.89\" y2=\"143.528\" stroke-linecap=\"round\" style=\"stroke:black;stroke-width:1\" /><line x1=\"470.89\" y1=\"143.528\" x2=\"492.541\" y2=\"131.028\" stroke-linecap=\"round\" style=\"stroke:black;stroke-width:1\" /><line x1=\"492.541\" y1=\"131.028\" x2=\"505.531\" y2=\"123.528\" stroke-linecap=\"round\" style=\"stroke:black;stroke-width:1\" /><line x1=\"505.531\" y1=\"123.528\" x2=\"513.031\" y2=\"136.518\" stroke-linecap=\"round\" style=\"stroke:black;stroke-width:1\" /><line x1=\"513.031\" y1=\"136.518\" x2=\"500.041\" y2=\"144.018\" stroke-linecap=\"round\" style=\"stroke:black;stroke-width:1\" /><line x1=\"500.041\" y1=\"144.018\" x2=\"492.541\" y2=\"131.028\" stroke-linecap=\"round\" style=\"stroke:black;stroke-width:1\" /><line x1=\"492.541\" y1=\"131.028\" x2=\"470.89\" y2=\"143.528\" stroke-linecap=\"round\" style=\"stroke:black;stroke-width:1\" /><line x1=\"470.89\" y1=\"143.528\" x2=\"495.51\" y2=\"147.869\" stroke-linecap=\"round\" style=\"stroke:black;stroke-width:1\" /><line x1=\"495.51\" y1=\"147.869\" x2=\"510.282\" y2=\"150.474\" stroke-linecap=\"round\" style=\"stroke:black;stroke-width:1\" /><line x1=\"510.282\" y1=\"150.474\" x2=\"512.37\" y2=\"165.328\" stroke-linecap=\"round\" style=\"stroke:black;stroke-width:1\" /><line x1=\"512.37\" y1=\"165.328\" x2=\"498.888\" y2=\"171.904\" stroke-linecap=\"round\" style=\"stroke:black;stroke-width:1\" /><line x1=\"498.888\" y1=\"171.904\" x2=\"488.468\" y2=\"161.114\" stroke-linecap=\"round\" style=\"stroke:black;stroke-width:1\" /><line x1=\"488.468\" y1=\"161.114\" x2=\"495.51\" y2=\"147.87\" stroke-linecap=\"round\" style=\"stroke:black;stroke-width:1\" /><line x1=\"495.51\" y1=\"147.87\" x2=\"470.89\" y2=\"143.529\" stroke-linecap=\"round\" style=\"stroke:black;stroke-width:1\" /><line x1=\"470.89\" y1=\"143.529\" x2=\"446.27\" y2=\"147.87\" stroke-linecap=\"round\" style=\"stroke:black;stroke-width:1\" /><line x1=\"446.27\" y1=\"147.87\" x2=\"424.619\" y2=\"160.37\" stroke-linecap=\"round\" style=\"stroke:black;stroke-width:1\" /><line x1=\"424.619\" y1=\"160.37\" x2=\"408.549\" y2=\"179.521\" stroke-linecap=\"round\" style=\"stroke:black;stroke-width:1\" /><line x1=\"408.549\" y1=\"179.521\" x2=\"399.998\" y2=\"203.013\" stroke-linecap=\"round\" style=\"stroke:black;stroke-width:1\" /><line x1=\"399.998\" y1=\"203.013\" x2=\"399.998\" y2=\"228.013\" stroke-linecap=\"round\" style=\"stroke:black;stroke-width:1\" /><line x1=\"399.998\" y1=\"228.013\" x2=\"416.068\" y2=\"208.862\" stroke-linecap=\"round\" style=\"stroke:black;stroke-width:1\" /><line x1=\"416.068\" y1=\"208.862\" x2=\"425.71\" y2=\"197.371\" stroke-linecap=\"round\" style=\"stroke:black;stroke-width:1\" /><line x1=\"425.71\" y1=\"197.371\" x2=\"439.618\" y2=\"202.99\" stroke-linecap=\"round\" style=\"stroke:black;stroke-width:1\" /><line x1=\"439.618\" y1=\"202.99\" x2=\"438.572\" y2=\"217.953\" stroke-linecap=\"round\" style=\"stroke:black;stroke-width:1\" /><line x1=\"438.572\" y1=\"217.953\" x2=\"424.018\" y2=\"221.582\" stroke-linecap=\"round\" style=\"stroke:black;stroke-width:1\" /><line x1=\"424.018\" y1=\"221.582\" x2=\"416.069\" y2=\"208.861\" stroke-linecap=\"round\" style=\"stroke:black;stroke-width:1\" /><line x1=\"416.069\" y1=\"208.861\" x2=\"399.999\" y2=\"228.012\" stroke-linecap=\"round\" style=\"stroke:black;stroke-width:1\" /><line x1=\"399.999\" y1=\"228.012\" x2=\"391.448\" y2=\"251.504\" stroke-linecap=\"round\" style=\"stroke:black;stroke-width:1\" /><line x1=\"391.448\" y1=\"251.504\" x2=\"391.448\" y2=\"276.504\" stroke-linecap=\"round\" style=\"stroke:black;stroke-width:1\" /><line x1=\"391.448\" y1=\"276.504\" x2=\"399.999\" y2=\"299.996\" stroke-linecap=\"round\" style=\"stroke:black;stroke-width:1\" /><line x1=\"399.999\" y1=\"299.996\" x2=\"408.55\" y2=\"276.504\" stroke-linecap=\"round\" style=\"stroke:black;stroke-width:1\" /><line x1=\"408.55\" y1=\"276.504\" x2=\"408.55\" y2=\"251.504\" stroke-linecap=\"round\" style=\"stroke:black;stroke-width:1\" /><line x1=\"408.55\" y1=\"251.504\" x2=\"408.55\" y2=\"236.504\" stroke-linecap=\"round\" style=\"stroke:black;stroke-width:1\" /><line x1=\"408.55\" y1=\"236.504\" x2=\"422.816\" y2=\"231.869\" stroke-linecap=\"round\" style=\"stroke:black;stroke-width:1\" /><line x1=\"422.816\" y1=\"231.869\" x2=\"431.633\" y2=\"244.004\" stroke-linecap=\"round\" style=\"stroke:black;stroke-width:1\" /><line x1=\"431.633\" y1=\"244.004\" x2=\"422.816\" y2=\"256.139\" stroke-linecap=\"round\" style=\"stroke:black;stroke-width:1\" /><line x1=\"422.816\" y1=\"256.139\" x2=\"408.55\" y2=\"251.504\" stroke-linecap=\"round\" style=\"stroke:black;stroke-width:1\" /><line x1=\"408.55\" y1=\"251.504\" x2=\"408.55\" y2=\"276.504\" stroke-linecap=\"round\" style=\"stroke:black;stroke-width:1\" /><line x1=\"408.55\" y1=\"276.504\" x2=\"424.62\" y2=\"257.353\" stroke-linecap=\"round\" style=\"stroke:black;stroke-width:1\" /><line x1=\"424.62\" y1=\"257.353\" x2=\"433.171\" y2=\"233.861\" stroke-linecap=\"round\" style=\"stroke:black;stroke-width:1\" /><line x1=\"433.171\" y1=\"233.861\" x2=\"433.171\" y2=\"208.861\" stroke-linecap=\"round\" style=\"stroke:black;stroke-width:1\" /><line x1=\"433.171\" y1=\"208.861\" x2=\"433.171\" y2=\"193.861\" stroke-linecap=\"round\" style=\"stroke:black;stroke-width:1\" /><line x1=\"433.171\" y1=\"193.861\" x2=\"446.161\" y2=\"201.361\" stroke-linecap=\"round\" style=\"stroke:black;stroke-width:1\" /><line x1=\"446.161\" y1=\"201.361\" x2=\"433.171\" y2=\"208.861\" stroke-linecap=\"round\" style=\"stroke:black;stroke-width:1\" /><line x1=\"433.171\" y1=\"208.861\" x2=\"433.171\" y2=\"233.861\" stroke-linecap=\"round\" style=\"stroke:black;stroke-width:1\" /><line x1=\"433.171\" y1=\"233.861\" x2=\"449.241\" y2=\"214.71\" stroke-linecap=\"round\" style=\"stroke:black;stroke-width:1\" /><line x1=\"449.241\" y1=\"214.71\" x2=\"458.883\" y2=\"203.219\" stroke-linecap=\"round\" style=\"stroke:black;stroke-width:1\" /><line x1=\"458.883\" y1=\"203.219\" x2=\"464.013\" y2=\"217.314\" stroke-linecap=\"round\" style=\"stroke:black;stroke-width:1\" /><line x1=\"464.013\" y1=\"217.314\" x2=\"449.241\" y2=\"214.709\" stroke-linecap=\"round\" style=\"stroke:black;stroke-width:1\" /><line x1=\"449.241\" y1=\"214.709\" x2=\"433.171\" y2=\"233.86\" stroke-linecap=\"round\" style=\"stroke:black;stroke-width:1\" /><line x1=\"433.171\" y1=\"233.86\" x2=\"424.62\" y2=\"257.352\" stroke-linecap=\"round\" style=\"stroke:black;stroke-width:1\" /><line x1=\"424.62\" y1=\"257.352\" x2=\"446.271\" y2=\"244.852\" stroke-linecap=\"round\" style=\"stroke:black;stroke-width:1\" /><line x1=\"446.271\" y1=\"244.852\" x2=\"462.341\" y2=\"225.701\" stroke-linecap=\"round\" style=\"stroke:black;stroke-width:1\" /><line x1=\"462.341\" y1=\"225.701\" x2=\"471.983\" y2=\"214.21\" stroke-linecap=\"round\" style=\"stroke:black;stroke-width:1\" /><line x1=\"471.983\" y1=\"214.21\" x2=\"485.891\" y2=\"219.829\" stroke-linecap=\"round\" style=\"stroke:black;stroke-width:1\" /><line x1=\"485.891\" y1=\"219.829\" x2=\"484.845\" y2=\"234.792\" stroke-linecap=\"round\" style=\"stroke:black;stroke-width:1\" /><line x1=\"484.845\" y1=\"234.792\" x2=\"470.291\" y2=\"238.421\" stroke-linecap=\"round\" style=\"stroke:black;stroke-width:1\" /><line x1=\"470.291\" y1=\"238.421\" x2=\"462.342\" y2=\"225.7\" stroke-linecap=\"round\" style=\"stroke:black;stroke-width:1\" /><line x1=\"462.342\" y1=\"225.7\" x2=\"446.272\" y2=\"244.851\" stroke-linecap=\"round\" style=\"stroke:black;stroke-width:1\" /><line x1=\"446.272\" y1=\"244.851\" x2=\"470.892\" y2=\"240.51\" stroke-linecap=\"round\" style=\"stroke:black;stroke-width:1\" /><line x1=\"470.892\" y1=\"240.51\" x2=\"485.664\" y2=\"237.905\" stroke-linecap=\"round\" style=\"stroke:black;stroke-width:1\" /><line x1=\"485.664\" y1=\"237.905\" x2=\"492.706\" y2=\"251.149\" stroke-linecap=\"round\" style=\"stroke:black;stroke-width:1\" /><line x1=\"492.706\" y1=\"251.149\" x2=\"482.286\" y2=\"261.939\" stroke-linecap=\"round\" style=\"stroke:black;stroke-width:1\" /><line x1=\"482.286\" y1=\"261.939\" x2=\"468.804\" y2=\"255.363\" stroke-linecap=\"round\" style=\"stroke:black;stroke-width:1\" /><line x1=\"468.804\" y1=\"255.363\" x2=\"470.892\" y2=\"240.509\" stroke-linecap=\"round\" style=\"stroke:black;stroke-width:1\" /><line x1=\"470.892\" y1=\"240.509\" x2=\"446.272\" y2=\"244.85\" stroke-linecap=\"round\" style=\"stroke:black;stroke-width:1\" /><line x1=\"446.272\" y1=\"244.85\" x2=\"424.621\" y2=\"257.35\" stroke-linecap=\"round\" style=\"stroke:black;stroke-width:1\" /><line x1=\"424.621\" y1=\"257.35\" x2=\"408.551\" y2=\"276.501\" stroke-linecap=\"round\" style=\"stroke:black;stroke-width:1\" /><line x1=\"408.551\" y1=\"276.501\" x2=\"400.0\" y2=\"299.993\" stroke-linecap=\"round\" style=\"stroke:black;stroke-width:1\" />\n",
       "        \n",
       "        \n",
       "        <g id=\"classic\" visibility=\"visible\" transform=\"rotate(180,400.0,299.993) translate(400.0, 299.993)\">\n",
       "<polygon points=\"-5,-4.5 0,-2.5 5,-4.5 0,4.5\" transform=\"skewX(0) scale(1,1)\" style=\"stroke:black;fill:black;stroke-width:1\" />\n",
       "</g>\n",
       "      </svg>\n",
       "    "
      ],
      "text/plain": [
       "<IPython.core.display.HTML object>"
      ]
     },
     "metadata": {},
     "output_type": "display_data"
    }
   ],
   "source": [
    "from random import choice\n",
    "\n",
    "def tri():\n",
    "    for i in range(3):\n",
    "        forward(15)\n",
    "        right(120)\n",
    "def quad():\n",
    "    for i in range(4):\n",
    "        forward(15)\n",
    "        right(90)\n",
    "def pent():\n",
    "    for i in range(5):\n",
    "        forward(15)\n",
    "        right(72) \n",
    "\n",
    "def vee():\n",
    "    shapes = [tri,quad,pent,vee,vee]\n",
    "    left(20)\n",
    "    forward(25)\n",
    "    choice(shapes)()\n",
    "    backward(25)\n",
    "    right(40)\n",
    "    forward(25)\n",
    "    choice(shapes)()\n",
    "    backward(25)\n",
    "    left(20)\n",
    "    return()\n",
    "\n",
    "clearscreen()\n",
    "clear()\n",
    "face(90)\n",
    "speed(13)\n",
    "\n",
    "vee()\n",
    "done()\n"
   ]
  },
  {
   "cell_type": "markdown",
   "id": "f2a8b57c",
   "metadata": {
    "slideshow": {
     "slide_type": "slide"
    }
   },
   "source": [
    "### Cultural literacy / SMSC\n",
    "\n",
    "What fractals are in nature?\n",
    "\n",
    "Why is so much of the natural world fractal?"
   ]
  },
  {
   "cell_type": "markdown",
   "id": "3c97cf4c",
   "metadata": {
    "slideshow": {
     "slide_type": "slide"
    }
   },
   "source": [
    "## Making turtles"
   ]
  },
  {
   "cell_type": "markdown",
   "id": "36d5cb55",
   "metadata": {
    "slideshow": {
     "slide_type": "subslide"
    }
   },
   "source": [
    "![4tronix micro:bit turtle](images/4tronix.png)"
   ]
  },
  {
   "cell_type": "markdown",
   "id": "1a6cc855",
   "metadata": {
    "slideshow": {
     "slide_type": "subslide"
    }
   },
   "source": [
    "![Arduino turtle kit](images/arduino.png)"
   ]
  },
  {
   "cell_type": "markdown",
   "id": "73716509",
   "metadata": {
    "slideshow": {
     "slide_type": "subslide"
    }
   },
   "source": [
    "![Completed arduino turtle](images/arduinocomplete.png)"
   ]
  },
  {
   "cell_type": "markdown",
   "id": "92f3b9ce",
   "metadata": {
    "slideshow": {
     "slide_type": "slide"
    }
   },
   "source": [
    "### p5.js\n",
    "\n",
    ">p5.js is a JavaScript library for creative coding, with a focus on making coding accessible and inclusive for artists, designers, educators, beginners, and anyone else! p5.js is free and open-source because we believe software, and the tools to learn it, should be accessible to everyone. Using the metaphor of a sketch, p5.js has a full set of drawing functionality.\n",
    "\n",
    "[Introduction](https://p5js.org/get-started/), [documentation](https://p5js.org/reference/) and [web-based editor](https://editor.p5js.org/)..."
   ]
  },
  {
   "cell_type": "markdown",
   "id": "75acd4f3",
   "metadata": {
    "slideshow": {
     "slide_type": "subslide"
    }
   },
   "source": [
    "### But it has no turtle...\n",
    "\n",
    "So you have to make one! Here's [one I made earlier](https://editor.p5js.org/mberry/sketches/ljDOtmbzD)."
   ]
  },
  {
   "cell_type": "markdown",
   "id": "04e1bdf6",
   "metadata": {
    "slideshow": {
     "slide_type": "-"
    }
   },
   "source": [
    "```js\n",
    "class Turtle {\n",
    "  constructor(\n",
    "    x_ = width / 2,\n",
    "    y_ = height / 2,\n",
    "    direction_ = -90,\n",
    "    penDown_ = true,\n",
    "    penColor_ = color(0)\n",
    "  ) {\n",
    "    this.x = x_;\n",
    "    this.y = y_;\n",
    "    this.direction = direction_;\n",
    "    this.penDown = penDown_;\n",
    "    this.penColor = penColor_;\n",
    "  }\n",
    "\n",
    "  forward(d) {\n",
    "    let oldX = this.x;\n",
    "    let oldY = this.y;\n",
    "    this.x += d * cos(this.direction);\n",
    "    this.y += d * sin(this.direction);\n",
    "    if (this.penDown) {\n",
    "      stroke(this.penColor);\n",
    "      line(oldX, oldY, this.x, this.y);\n",
    "    }\n",
    "  }\n",
    "\n",
    "  backward(d) {\n",
    "    this.forward(-d);\n",
    "  }\n",
    "\n",
    "  right(a) {\n",
    "    this.direction += a;\n",
    "  }\n",
    "\n",
    "  left(a) {\n",
    "    this.direction -= a;\n",
    "  }\n",
    "\n",
    "  setpos(newx, newy) {\n",
    "    let oldX = this.x;\n",
    "    let oldY = this.y;\n",
    "    this.x = newx;\n",
    "    this.y = newy;\n",
    "    if (this.penDown) {\n",
    "      stroke(this.penColor);\n",
    "      line(oldX, oldY, this.x, this.y);\n",
    "    }\n",
    "  }\n",
    "\n",
    "  home() {\n",
    "    this.x = width / 2;\n",
    "    this.y = height / 2;\n",
    "    this.direction = -90;\n",
    "  }\n",
    "\n",
    "  setheading(a) {\n",
    "    this.direction = a;\n",
    "  }\n",
    "\n",
    "  pendown() {\n",
    "    this.penDown = true;\n",
    "  }\n",
    "\n",
    "  penup() {\n",
    "    this.penDown = false;\n",
    "  }\n",
    "\n",
    "  pencolor(c) {\n",
    "    this.penColor = c;\n",
    "  }\n",
    "\n",
    "  clean() {\n",
    "    background(240);\n",
    "  }\n",
    "\n",
    "  clearscreen() {\n",
    "    this.home();\n",
    "    this.clean();\n",
    "  }\n",
    "}\n",
    "```"
   ]
  },
  {
   "cell_type": "markdown",
   "id": "f238aee1",
   "metadata": {
    "slideshow": {
     "slide_type": "slide"
    }
   },
   "source": [
    "### A couple of p5.js turtle programs.\n",
    "\n",
    "```js\n",
    "function polyspi(t, step, angle) {\n",
    "  if (t.x > 0 && t.x < width && t.y > 0 && t.y < height) {\n",
    "    t.forward(step);\n",
    "    t.left(angle);\n",
    "    polyspi(t, step + 5, angle);\n",
    "  } else {\n",
    "    return;\n",
    "  }\n",
    "}\n",
    "```\n",
    "\n",
    "```js\n",
    "function tree(t, size) {\n",
    "  if (size>5) {\n",
    "    t.forward(size);\n",
    "    t.left(20);\n",
    "    tree(t, size*0.8);\n",
    "    t.right(35);\n",
    "    tree(t, size*0.7);\n",
    "    t.left(15);\n",
    "    t.backward(size);\n",
    "  }\n",
    "  else {\n",
    "    return;\n",
    "  }\n",
    "}\n",
    "```"
   ]
  },
  {
   "cell_type": "markdown",
   "id": "db63b40d",
   "metadata": {
    "slideshow": {
     "slide_type": "slide"
    }
   },
   "source": [
    "### Even turtles can get COVID\n",
    "\n",
    "```js\n",
    "class Patient extends Turtle {\n",
    "  constructor(\n",
    "    x_ = width / 2,\n",
    "    y_ = height / 2,\n",
    "    direction_ = -90,\n",
    "    penDown_ = false,\n",
    "    penColor_ = color(0),\n",
    "    id_ = 0,\n",
    "    status_ = \"unexposed\",\n",
    "    others_ = []\n",
    "  ) {\n",
    "    super(x_, y_, direction_, penDown_, penColor_);\n",
    "    this.id = id_;\n",
    "    this.status = status_;\n",
    "    this.others = others_;\n",
    "  }\n",
    "  \n",
    "  plot() {\n",
    "  ...\n",
    "  }\n",
    "  move() {\n",
    "  ...\n",
    "  }\n",
    "  contact() {\n",
    "    ...\n",
    "  }\n",
    "}\n",
    "```"
   ]
  },
  {
   "cell_type": "markdown",
   "id": "a37184bd",
   "metadata": {
    "slideshow": {
     "slide_type": "subslide"
    }
   },
   "source": [
    "### Experiment with the model. Extend the model.\n",
    "\n",
    "Online [here](https://editor.p5js.org/mberry/sketches/HdyRnDSg5).\n",
    "\n",
    "```js\n",
    "let diam = 20; //decrease to socially distance\n",
    "let directions = [-90, 0, 90, 180]; //why stop at four directions??\n",
    "let step = 10; //decrease to limit movement\n",
    "let numberOfPatients = 100; //increase this to make things more crowded\n",
    "let pTransmission = 0.2; //probability of transmission if contact occurs\n",
    "let pRecovery = 0.002; //probability of recovery of infected in each screen refresh\n",
    "let pDeath = 0.0001; //probability of death of infected in each screen refresh\n",
    "```\n",
    "```js\n",
    "function draw() {\n",
    "  background(240);\n",
    "  for (var i = 0; i < numberOfPatients; i++) {\n",
    "    patients[i].plot();\n",
    "    if (patients[i].status != \"deceased\") {\n",
    "      patients[i].move();\n",
    "      patients[i].contact();\n",
    "      if (patients[i].status == \"infected\") {\n",
    "        if (random() < pRecovery) {\n",
    "          patients[i].status = \"immune\";\n",
    "        }\n",
    "        if (random() < pDeath) {\n",
    "          patients[i].status = \"deceased\";\n",
    "        }\n",
    "      }\n",
    "    }\n",
    "  }\n",
    "}\n",
    "```\n",
    "\n"
   ]
  },
  {
   "cell_type": "markdown",
   "id": "7b23c121",
   "metadata": {
    "slideshow": {
     "slide_type": "slide"
    }
   },
   "source": [
    "## Turtles in the curriculum?"
   ]
  },
  {
   "cell_type": "markdown",
   "id": "34057221",
   "metadata": {
    "slideshow": {
     "slide_type": "slide"
    }
   },
   "source": [
    "### Programming and thinking again...\n",
    "\n",
    ">There was no evidence that attending Code Club had any effect on children's computational thinking at the end of their academic year attending Code Club over and above changes that would have occurred anyway.\n",
    "\n",
    "([NFER, 2017](https://www.raspberrypi.org/app/uploads/2017/03/Randomised-Controlled-Trial-and-Process-Evaluation-of-Code-Clubs.pdf))\n"
   ]
  },
  {
   "cell_type": "markdown",
   "id": "b786588a",
   "metadata": {
    "slideshow": {
     "slide_type": "subslide"
    }
   },
   "source": [
    "### Turns out, it wasn't the programming\n",
    "\n",
    ">It did not occur to me that anyone could possibly take my statement to mean that learning to program would in itself have consequences for how children learn and think.\n",
    "\n",
    "([Papert, 2000](http://worrydream.com/refs/Papert%20-%20Whats%20the%20Big%20Idea.pdf))\n"
   ]
  },
  {
   "cell_type": "markdown",
   "id": "edd6d8ce",
   "metadata": {
    "slideshow": {
     "slide_type": "subslide"
    }
   },
   "source": [
    "### Logo in the 1991 maths curriculum\n",
    "\n",
    "![1991 maths curriculum](images/maths1991.png)"
   ]
  },
  {
   "cell_type": "markdown",
   "id": "48b78fe6",
   "metadata": {
    "slideshow": {
     "slide_type": "slide"
    }
   },
   "source": [
    "### Be careful what you wish for\n",
    "\n",
    ">The introduction of Logo in US and UK schools was initially not a centrally organized educational reform: it was a grass-roots innovation that was employed as a way to change existing educational arrangements and orientate them towards child-centred and open-ended exploratory learning. However, soon after this initial, unofficial and semi-autonomous phase, Logo was included in the official school policies of both the USA and the UK. From an experimental tool in the classrooms of dedicated enthusiasts, Logo became 'part of the curriculum'.\n",
    "\n",
    "([Agalianos, Whitty and Noss, 2006](https://www.researchgate.net/publication/239552308_The_Social_Shaping_of_Logo))\n"
   ]
  },
  {
   "cell_type": "markdown",
   "id": "7c415e2a",
   "metadata": {
    "slideshow": {
     "slide_type": "subslide"
    }
   },
   "source": [
    "### An object of teaching?\n",
    "\n",
    ">[Logo was] stripped of programming within carefully designed sequences of exercises aimed at well-defined sets of skills. Logo has suffered the fate of incorporation into a canonical curriculum, a transformation: ‘in which what was to have been an instrument for exploration is ossified into an object of teaching’\n",
    "\n",
    "([Noss and Hoyes, 1996](https://www.google.co.uk/books/edition/Windows_on_Mathematical_Meanings/VclPmvPRbSAC?hl=en&gbpv=0))"
   ]
  },
  {
   "cell_type": "markdown",
   "id": "01be90b3",
   "metadata": {
    "slideshow": {
     "slide_type": "slide"
    }
   },
   "source": [
    "### Key Stage 1 Computing\n",
    "\n",
    "* understand what algorithms are, how they are implemented as programs on digital devices, and that programs execute by following precise and unambiguous instructions\n",
    "* create and debug simple programs\n",
    "* use logical reasoning to predict the behaviour of simple programs\n",
    "\n",
    "([DfE, 2013](https://www.gov.uk/government/publications/national-curriculum-in-england-computing-programmes-of-study/national-curriculum-in-england-computing-programmes-of-study))\n",
    "\n"
   ]
  },
  {
   "cell_type": "markdown",
   "id": "0e98c1ed",
   "metadata": {
    "slideshow": {
     "slide_type": "subslide"
    }
   },
   "source": [
    "### Key Stage 2 Computing\n",
    "\n",
    "* design, write and debug programs that accomplish specific goals, including controlling or simulating physical systems; solve problems by decomposing them into smaller parts\n",
    "* use sequence, selection, and repetition in programs; work with variables and various forms of input and output\n",
    "* use logical reasoning to explain how some simple algorithms work and to detect and correct errors in algorithms and programs\n",
    "\n",
    "([DfE, 2013](https://www.gov.uk/government/publications/national-curriculum-in-england-computing-programmes-of-study/national-curriculum-in-england-computing-programmes-of-study))"
   ]
  },
  {
   "cell_type": "markdown",
   "id": "7f8fa51f",
   "metadata": {
    "slideshow": {
     "slide_type": "subslide"
    }
   },
   "source": [
    "### Key Stage 3 Computing\n",
    "\n",
    "* design, use and evaluate computational abstractions that model the state and behaviour of real-world problems and physical systems\n",
    "* understand several key algorithms that reflect computational thinking; use logical reasoning to compare the utility of alternative algorithms for the same problem\n",
    "* use 2 or more programming languages, at least one of which is textual, to solve a variety of computational problems; make appropriate use of data structures; design and develop modular programs that use procedures or functions\n",
    "\n",
    "([DfE, 2013](https://www.gov.uk/government/publications/national-curriculum-in-england-computing-programmes-of-study/national-curriculum-in-england-computing-programmes-of-study))"
   ]
  },
  {
   "cell_type": "markdown",
   "id": "094e4df1",
   "metadata": {
    "slideshow": {
     "slide_type": "subslide"
    }
   },
   "source": [
    "### But what about mathematics?\n",
    "\n",
    "* become fluent in the fundamentals of mathematics, including through varied and frequent practice with increasingly complex problems over time, so that pupils develop conceptual understanding and the ability to recall and apply knowledge rapidly and accurately\n",
    "* reason mathematically by following a line of enquiry, conjecturing relationships and generalisations, and developing an argument, justification or proof using mathematical language\n",
    "* can solve problems by applying their mathematics to a variety of routine and non-routine problems with increasing sophistication, including breaking down problems into a series of simpler steps and persevering in seeking solutions\n",
    "\n",
    "([DfE, 2013](https://www.gov.uk/government/publications/national-curriculum-in-england-mathematics-programmes-of-study/national-curriculum-in-england-mathematics-programmes-of-study))"
   ]
  }
 ],
 "metadata": {
  "celltoolbar": "Slideshow",
  "kernelspec": {
   "display_name": "Python 3 (ipykernel)",
   "language": "python",
   "name": "python3"
  },
  "language_info": {
   "codemirror_mode": {
    "name": "ipython",
    "version": 3
   },
   "file_extension": ".py",
   "mimetype": "text/x-python",
   "name": "python",
   "nbconvert_exporter": "python",
   "pygments_lexer": "ipython3",
   "version": "3.9.7"
  },
  "rise": {
   "scroll": true
  }
 },
 "nbformat": 4,
 "nbformat_minor": 5
}
